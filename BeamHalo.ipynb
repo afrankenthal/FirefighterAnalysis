{
 "cells": [
  {
   "cell_type": "markdown",
   "metadata": {},
   "source": [
    "# Import libraries and init"
   ]
  },
  {
   "cell_type": "code",
   "execution_count": 1,
   "metadata": {
    "collapsed": true
   },
   "outputs": [],
   "source": [
    "# import ROOT -- don't need this for now\n",
    "import numpy as np\n",
    "import pandas as pd\n",
    "from collections import OrderedDict\n",
    "import math\n",
    "\n",
    "%matplotlib inline\n",
    "import matplotlib.pyplot as plt\n",
    "from mpl_toolkits.axes_grid1.inset_locator import inset_axes\n",
    "plt.style.use('default')\n",
    "plt.rcParams['grid.linestyle'] = ':'\n",
    "plt.rcParams.update({'font.size': 9})\n",
    "\n",
    "import uproot # uproot needs to be last for some reason"
   ]
  },
  {
   "cell_type": "code",
   "execution_count": 2,
   "metadata": {
    "collapsed": false
   },
   "outputs": [
    {
     "data": {
      "text/plain": [
       "sys.version_info(major=3, minor=6, micro=4, releaselevel='final', serial=0)"
      ]
     },
     "execution_count": 2,
     "metadata": {},
     "output_type": "execute_result"
    }
   ],
   "source": [
    "import sys\n",
    "sys.version\n",
    "sys.version_info"
   ]
  },
  {
   "cell_type": "code",
   "execution_count": 3,
   "metadata": {
    "collapsed": true
   },
   "outputs": [],
   "source": [
    "from functools import reduce\n",
    "import operator"
   ]
  },
  {
   "cell_type": "markdown",
   "metadata": {},
   "source": [
    "# Load ntuples from analyzer"
   ]
  },
  {
   "cell_type": "markdown",
   "metadata": {},
   "source": [
    "Define parameters in separate block so can change them without loading files all over again"
   ]
  },
  {
   "cell_type": "code",
   "execution_count": 18,
   "metadata": {
    "collapsed": true
   },
   "outputs": [],
   "source": [
    "#masses = [('60p0','20p0'),('6p0','2p0'),('52p5','5p0'),('5p25','0p5')]\n",
    "masses = [('60p0','20p0')]\n",
    "printMasses = lambda mass: f'({float(mass[0].replace(\"p\",\".\"))-float(mass[1].replace(\"p\",\".\"))/2}, ' + \\\n",
    "                                f'{float(mass[0].replace(\"p\",\".\"))+float(mass[1].replace(\"p\",\".\"))/2}) GeV'\n",
    "mchis = dict([(mass[0], printMasses(mass)) for mass in masses])\n",
    "ctaus = [1,10, 100]#, 1000]\n",
    "\n",
    "numCuts = np.arange(0,6)\n",
    "labels = [ f'cut{cut}' for cut in numCuts ]\n",
    "cutDescriptions = ['cut1: MET/MHT trigger fired (120 GeV)', \\\n",
    "                   'cut2: j1 pT > 120 GeV, <= 2j w/ pT > 30 GeV', \\\n",
    "                   'cut3: mu1 pT > 5 GeV, 0.1 < |dxy| < 700 cm', \\\n",
    "                   'cut4: mu2 pT > 5 GeV, 0.1 < |dxy| < 700 cm', \\\n",
    "                   r'cut5: $|\\Delta\\Phi$(MET, mu pair)| < 0.4'\n",
    "                  ]\n",
    "\n",
    "branchPath = 'SREffi_dsa'\n",
    "baseDir = '/uscms/home/mreid/nobackup/signal_region/2018/pileup/'\n",
    "#baseDir = '../iDM_analysis_skimming/washAOD/'\n",
    "#baseDir = '/uscms/home/mreid/../../a/as2872/nobackup/iDM/AndreAnalysis/CMSSW_10_4_0_pre2/src/Firefighter/washAOD/SROptimization/'\n",
    "#baseDir = '/uscms/home/mreid/nobackup/signal_region/2018/GenFilter_1or2Jets_longname/'\n",
    "fileName = lambda Mchi, dMchi, ctau: baseDir + f'pileup_trackquality_Mchi-{Mchi}_dMchi-{dMchi}_ctau-{ctau}.root'"
   ]
  },
  {
   "cell_type": "markdown",
   "metadata": {},
   "source": [
    "Load signal files"
   ]
  },
  {
   "cell_type": "code",
   "execution_count": 19,
   "metadata": {
    "collapsed": false,
    "scrolled": false
   },
   "outputs": [
    {
     "name": "stdout",
     "output_type": "stream",
     "text": [
      "1 of 3: /uscms/home/mreid/nobackup/signal_region/2018/pileup/pileup_trackquality_Mchi-60p0_dMchi-20p0_ctau-1.root\n",
      "2 of 3: /uscms/home/mreid/nobackup/signal_region/2018/pileup/pileup_trackquality_Mchi-60p0_dMchi-20p0_ctau-10.root\n",
      "3 of 3: /uscms/home/mreid/nobackup/signal_region/2018/pileup/pileup_trackquality_Mchi-60p0_dMchi-20p0_ctau-100.root\n"
     ]
    }
   ],
   "source": [
    "numParams = len(masses)*len(ctaus)\n",
    "countParam = 1\n",
    "\n",
    "trees = OrderedDict({})\n",
    "treesglobal = OrderedDict({})\n",
    "genInfo = OrderedDict({})\n",
    "numEvents = OrderedDict({})\n",
    "for (Mchi, dMchi) in masses:\n",
    "    countCtaus = 1\n",
    "    trees[Mchi] = OrderedDict({})\n",
    "    treesglobal[Mchi] = OrderedDict({})\n",
    "    numEvents[Mchi] = OrderedDict({})\n",
    "    genInfo[Mchi] = OrderedDict({})\n",
    "    for ctau in ctaus:\n",
    "        genInfo[Mchi][ctau] = uproot.open(fileName(Mchi, dMchi, ctau))['GEN/gen']#.pandas.df(flatten=False)\n",
    "        trees[Mchi][ctau] = uproot.open(fileName(Mchi, dMchi, ctau))[branchPath + f'/cutsTree']#.pandas.df(flatten=False)\n",
    "        treesglobal[Mchi][ctau] = uproot.open(fileName(Mchi, dMchi, ctau))['SREffi_gbm' + f'/cutsTree']#.pandas.df(flatten=False)\n",
    "        print(f'{countParam} of {numParams}: ' + fileName(Mchi, dMchi, ctau))\n",
    "        countParam += 1"
   ]
  },
  {
   "cell_type": "markdown",
   "metadata": {},
   "source": [
    "Create pandas dataframes for different physics objects now that uproot won't flatten them anymore\n",
    "(does make code faster)"
   ]
  },
  {
   "cell_type": "code",
   "execution_count": 21,
   "metadata": {
    "collapsed": true
   },
   "outputs": [],
   "source": [
    "leadingJet = OrderedDict({}); MET = OrderedDict({});\n",
    "muons = OrderedDict({}); vertex = OrderedDict({});\n",
    "cuts = OrderedDict({}); cutsCrit = OrderedDict({});\n",
    "checkmuons = OrderedDict({}); gen = OrderedDict({})\n",
    "checkgmuons = OrderedDict({}); beamhalo = OrderedDict({});\n",
    "for mchi in mchis:\n",
    "    leadingJet[mchi] = OrderedDict({}); MET[mchi] = OrderedDict({});\n",
    "    muons[mchi] = OrderedDict({}); vertex[mchi] = OrderedDict({});\n",
    "    cuts[mchi] = OrderedDict({}); cutsCrit[mchi] = OrderedDict({});\n",
    "    checkmuons[mchi] = OrderedDict({}); gen[mchi] = OrderedDict({})\n",
    "    checkgmuons[mchi] = OrderedDict({}); beamhalo[mchi] = OrderedDict({});\n",
    "    for ctau in ctaus:\n",
    "        leadingJet[mchi][ctau] = trees[mchi][ctau].pandas.df(['recoPFJetPt','recoPFJetEta','recoPFJetPhi']).loc[(slice(None),0),slice(None)].reset_index(level=1)\n",
    "        MET[mchi][ctau] = trees[mchi][ctau].pandas.df(['recoPFMetPt', 'recoPFMetPhi'])#.reset_index(level=1)\n",
    "        muons[mchi][ctau] = trees[mchi][ctau].pandas.df(['recoPt','recoEta','recoPhi','recoDxy','recoDz']).reset_index(level=1)\n",
    "        vertex[mchi][ctau] = trees[mchi][ctau].pandas.df(['recoDr','recoVxy','recoVz']).reset_index(level=1)\n",
    "        cuts[mchi][ctau] = trees[mchi][ctau].pandas.df('cutsVec*')\n",
    "        cutsCrit[mchi][ctau] = [ cuts[mchi][ctau][f'cutsVec[{cut}]'] == 1 for cut in numCuts ]\n",
    "        checkmuons[mchi][ctau] = trees[mchi][ctau].pandas.df(['recoPt','recoEta','recoPhi','recoDxy','recoDz','trackHits','trackPlanes','trackChi2','qualityTrack','isGenMatched','GenDR']).reset_index(level=1)\n",
    "        checkgmuons[mchi][ctau] = treesglobal[mchi][ctau].pandas.df(['recoPt','recoEta','recoPhi','recoDxy','recoDz','trackHits','trackPlanes','trackChi2','qualityTrack','isGenMatched','GenDR']).reset_index(level=1)\n",
    "        beamhalo[mchi][ctau] = treesglobal[mchi][ctau].pandas.df(['fired','beamHaloHcal','beamHaloEcal','beamHaloCSC','beamHaloGlobal','beamHaloGlobalsuper','beamHaloCSCtight','trackHits','trackPlanes','trackChi2','qualityTrack']).reset_index(level=1)"
   ]
  },
  {
   "cell_type": "markdown",
   "metadata": {},
   "source": [
    "Separately calculate the phi average angle between the two muons -- for use in DeltaPhi(MET, muon pair) -- since it takes a while"
   ]
  },
  {
   "cell_type": "code",
   "execution_count": null,
   "metadata": {
    "collapsed": true
   },
   "outputs": [],
   "source": []
  },
  {
   "cell_type": "code",
   "execution_count": null,
   "metadata": {
    "collapsed": true
   },
   "outputs": [],
   "source": [
    "beamhalo['60p0']"
   ]
  },
  {
   "cell_type": "code",
   "execution_count": 22,
   "metadata": {
    "collapsed": false
   },
   "outputs": [
    {
     "name": "stdout",
     "output_type": "stream",
     "text": [
      "        csc      hcal  ecal      glob  globsuper  csctight\n",
      "0  0.127457  0.150663   0.0  0.003359   0.000087  0.034665\n",
      "1  0.128267  0.201387   0.0  0.003254   0.000081  0.035946\n",
      "2  0.113894  0.150520   0.0  0.003221   0.000094  0.031468\n",
      "3  0.115477  0.202228   0.0  0.003090   0.000075  0.032554\n",
      "        csc      hcal  ecal      glob  globsuper  csctight\n",
      "0  0.127602  0.144926   0.0  0.003513   0.000083  0.035375\n",
      "1  0.124218  0.196726   0.0  0.003334   0.000090  0.035790\n",
      "2  0.114676  0.144527   0.0  0.003299   0.000065  0.032090\n",
      "3  0.111923  0.196457   0.0  0.003171   0.000073  0.032592\n",
      "        csc      hcal  ecal      glob  globsuper  csctight\n",
      "0  0.129457  0.146686   0.0  0.003557   0.000030  0.035332\n",
      "1  0.129860  0.199315   0.0  0.003346   0.000011  0.035805\n",
      "2  0.115114  0.145936   0.0  0.003339   0.000031  0.031604\n",
      "3  0.115560  0.198648   0.0  0.003141   0.000015  0.032098\n"
     ]
    }
   ],
   "source": [
    "for mass in mchis:\n",
    "    for ctau in ctaus:\n",
    "        csc = beamhalo[mass][ctau]['beamHaloCSC'].mean()\n",
    "        hcal = beamhalo[mass][ctau]['beamHaloHcal'].mean()\n",
    "        ecal = beamhalo[mass][ctau]['beamHaloEcal'].mean()\n",
    "        glob = beamhalo[mass][ctau]['beamHaloGlobal'].mean()\n",
    "        globsuper = beamhalo[mass][ctau]['beamHaloGlobalsuper'].mean()\n",
    "        csctight = beamhalo[mass][ctau]['beamHaloCSCtight'].mean()\n",
    "        #print(csc,hcal,ecal,glob,globsuper,csctight)\n",
    "        csc_trig = beamhalo[mass][ctau][beamhalo[mass][ctau]['fired']==1]['beamHaloCSC'].mean()\n",
    "        hcal_trig = beamhalo[mass][ctau][beamhalo[mass][ctau]['fired']==1]['beamHaloHcal'].mean()\n",
    "        ecal_trig = beamhalo[mass][ctau][beamhalo[mass][ctau]['fired']==1]['beamHaloEcal'].mean()\n",
    "        glob_trig = beamhalo[mass][ctau][beamhalo[mass][ctau]['fired']==1]['beamHaloGlobal'].mean()\n",
    "        globsuper_trig = beamhalo[mass][ctau][beamhalo[mass][ctau]['fired']==1]['beamHaloGlobalsuper'].mean()\n",
    "        csctight_trig = beamhalo[mass][ctau][beamhalo[mass][ctau]['fired']==1]['beamHaloCSCtight'].mean()\n",
    "    \n",
    "        csc_qual = beamhalo[mass][ctau][beamhalo[mass][ctau]['qualityTrack']==1]['beamHaloCSC'].mean()\n",
    "        hcal_qual = beamhalo[mass][ctau][beamhalo[mass][ctau]['qualityTrack']==1]['beamHaloHcal'].mean()\n",
    "        ecal_qual = beamhalo[mass][ctau][beamhalo[mass][ctau]['qualityTrack']==1]['beamHaloEcal'].mean()\n",
    "        glob_qual = beamhalo[mass][ctau][beamhalo[mass][ctau]['qualityTrack']==1]['beamHaloGlobal'].mean()\n",
    "        globsuper_qual = beamhalo[mass][ctau][beamhalo[mass][ctau]['qualityTrack']==1]['beamHaloGlobalsuper'].mean()\n",
    "        csctight_qual = beamhalo[mass][ctau][beamhalo[mass][ctau]['qualityTrack']==1]['beamHaloCSCtight'].mean()\n",
    "\n",
    "        csc_qual_trig = beamhalo[mass][ctau][(beamhalo[mass][ctau]['qualityTrack']==1) & (beamhalo[mass][ctau]['fired']==1)]['beamHaloCSC'].mean()\n",
    "        hcal_qual_trig = beamhalo[mass][ctau][(beamhalo[mass][ctau]['qualityTrack']==1) & (beamhalo[mass][ctau]['fired']==1)]['beamHaloHcal'].mean()\n",
    "        ecal_qual_trig = beamhalo[mass][ctau][(beamhalo[mass][ctau]['qualityTrack']==1) & (beamhalo[mass][ctau]['fired']==1)]['beamHaloEcal'].mean()\n",
    "        glob_qual_trig = beamhalo[mass][ctau][(beamhalo[mass][ctau]['qualityTrack']==1) & (beamhalo[mass][ctau]['fired']==1)]['beamHaloGlobal'].mean()\n",
    "        globsuper_qual_trig = beamhalo[mass][ctau][(beamhalo[mass][ctau]['qualityTrack']==1) & (beamhalo[mass][ctau]['fired']==1)]['beamHaloGlobalsuper'].mean()\n",
    "        csctight_qual_trig = beamhalo[mass][ctau][(beamhalo[mass][ctau]['qualityTrack']==1) & (beamhalo[mass][ctau]['fired']==1)]['beamHaloCSCtight'].mean()\n",
    "        #print(csc_trig,hcal_trig,ecal_trig,glob_trig,globsuper_trig,csctight_trig)\n",
    "        table= [[csc,hcal,ecal,glob,globsuper,csctight],\n",
    "            [csc_trig,hcal_trig,ecal_trig,glob_trig,globsuper_trig,csctight_trig],\n",
    "            [csc_qual,hcal_qual,ecal_qual,glob_qual,globsuper_qual,csctight_qual],\n",
    "            [csc_qual_trig,hcal_qual_trig,ecal_qual_trig,glob_qual_trig,globsuper_qual_trig,csctight_qual_trig]]\n",
    "        beam= pd.DataFrame(table, columns=['csc','hcal','ecal','glob','globsuper','csctight'])\n",
    "        print(beam)"
   ]
  },
  {
   "cell_type": "code",
   "execution_count": null,
   "metadata": {
    "collapsed": true
   },
   "outputs": [],
   "source": []
  },
  {
   "cell_type": "code",
   "execution_count": null,
   "metadata": {
    "collapsed": true
   },
   "outputs": [],
   "source": [
    "# Helper function to calculate average angles\n",
    "# This takes a few seconds to run, since we \n",
    "# are using the apply method\n",
    "def calcAvgAngle(group):\n",
    "    x = np.cos(group['recoPhi'].iloc[0]) + np.cos(group['recoPhi'].iloc[-1])\n",
    "    y = np.sin(group['recoPhi'].iloc[0]) + np.sin(group['recoPhi'].iloc[-1])\n",
    "    return math.atan2(y/2, x/2)\n",
    "avgMuonAngle = OrderedDict({})\n",
    "for mchi in mchis:\n",
    "    avgMuonAngle[mchi] = muons[mchi].groupby('entry').apply(calcAvgAngle)"
   ]
  },
  {
   "cell_type": "markdown",
   "metadata": {},
   "source": [
    "# Plot everything together"
   ]
  },
  {
   "cell_type": "markdown",
   "metadata": {},
   "source": [
    "To plot individual plots separately, copy relevant block of code and replace \"axes[i,j]\" with \"plt\", and take note that some of the functions change name, e.g. axes[i,j].set_xlabel() --> plt.xlabel() and axes[i,j].set_ylim() --> plt.ylim().\n",
    "\n",
    "The other option is to copy the block and add \"fig, ax = plt.subplots(1,1)\" at the top, and then do the replacement axes[i,j] --> ax elsewhere."
   ]
  },
  {
   "cell_type": "markdown",
   "metadata": {},
   "source": [
    "## Helper functions"
   ]
  },
  {
   "cell_type": "code",
   "execution_count": null,
   "metadata": {
    "collapsed": true
   },
   "outputs": [],
   "source": [
    "insets = True\n",
    "log = False\n",
    "histtype ='step'\n",
    "iheight=\"45%\"\n",
    "iwidth=\"35%\"\n",
    "\n",
    "def plot_inset(data, axis, kwargs={}):\n",
    "    #if 'bins' not in kwargs: kwargs['bins'] = 10\n",
    "    if 'histtype' not in kwargs: kwargs['histtype'] = histtype#build\n",
    "    if insets:\n",
    "        axins = inset_axes(axis, width=iwidth, height=iheight)\n",
    "        for (cut,datum) in enumerate(data):\n",
    "            ret = axins.hist(datum, **kwargs)\n",
    "            if cut == 1:\n",
    "                axins.set_ylim(100,1.1*max(ret[0]))\n",
    "        return axins\n",
    "\n",
    "def plot_full(data, axis, kwargs={}, labels = []):\n",
    "    if 'bins' not in kwargs: kwargs['bins'] = 50\n",
    "    if 'histtype' not in kwargs: kwargs['histtype'] = histtype\n",
    "    if 'log' not in kwargs: kwargs['log'] = log\n",
    "    for (cut,datum) in enumerate(data):\n",
    "        ret = axis.hist(datum, label=(labels[cut] if len(labels) > 0 else ''), **kwargs)\n",
    "        if cut == 0:\n",
    "            axis.set_ylim(1, 1.5*max(ret[0]))\n",
    "            \n",
    "# Helper function to normalize angle differences to [-Pi, Pi]\n",
    "# cond: if abs(phidiff) > Pi => phidiff = phidiff - 2*Pi*sign(phidiff)\n",
    "def reducephi(row):\n",
    "    if abs(row) > math.pi:\n",
    "        return row - 2*math.pi*(row/abs(row))\n",
    "    return row"
   ]
  },
  {
   "cell_type": "code",
   "execution_count": null,
   "metadata": {
    "collapsed": true
   },
   "outputs": [],
   "source": [
    "mchi = '6p0'\n",
    "\n",
    "### Make subplot axes\n",
    "fig, axes = plt.subplots(2,2, figsize=(14,8))\n",
    "plt.tight_layout(h_pad=4.0, w_pad=16.0)\n",
    "for row in axes:\n",
    "    for col in row:\n",
    "        col.set_ylabel('Events')\n",
    "        \n",
    "fig.suptitle(f'Quality and gen matching check for {mchis[mchi]} dsa muons')\n",
    "fig.subplots_adjust(top=0.92)\n",
    "\n",
    "genlabels1 = ['all muons','Gen','!Gen']#, 'is gen and quality']   \n",
    "genlabels2 = ['all muons','quality','!quality']#\n",
    "genlabels3 = ['all muons','Gen','quality']#\n",
    "### reco MET pT\n",
    "axes[0,0].set_xlabel('reco Mu pT [GeV]')\n",
    "data = []\n",
    "#for cut in numCuts:\n",
    "#    cutsToApply = reduce(operator.and_, cutsCrit[mchi][0:cut+1])\n",
    "data.append(checkmuons[mchi]['recoPt'])\n",
    "data.append(checkmuons[mchi][checkmuons[mchi]['isGenMatched']==True]['recoPt'])\n",
    "data.append(checkmuons[mchi][checkmuons[mchi]['isGenMatched']==False]['recoPt'])\n",
    "#data.append(checkmuons[mchi][checkmuons[mchi]['qualityTrack']==True]['recoPt'])\n",
    "#data.append(checkmuons[mchi][checkmuons[mchi][checkmuons[mchi]['qualityTrack']==True]['qualityTrack']==True]['recoPt'])\n",
    "plot_full(data, axes[0,0], dict({'range':(0,20)}), labels=genlabels1)\n",
    "\n",
    "\n",
    "axes[0,1].set_xlabel('reco Mu pT [GeV]')\n",
    "data = []\n",
    "#for cut in numCuts:\n",
    "#    cutsToApply = reduce(operator.and_, cutsCrit[mchi][0:cut+1])\n",
    "data.append(checkmuons[mchi]['recoPt'])\n",
    "data.append(checkmuons[mchi][checkmuons[mchi]['qualityTrack']==True]['recoPt'])\n",
    "data.append(checkmuons[mchi][checkmuons[mchi]['qualityTrack']==False]['recoPt'])\n",
    "#data.append(checkmuons[mchi][checkmuons[mchi][checkmuons[mchi]['qualityTrack']==True]['qualityTrack']==True]['recoPt'])\n",
    "plot_full(data, axes[0,1], dict({'range':(0,20)}), labels=genlabels2)\n",
    "\n",
    "axes[1,0].set_xlabel('reco Mu pT [GeV]')\n",
    "data = []\n",
    "#for cut in numCuts:\n",
    "#    cutsToApply = reduce(operator.and_, cutsCrit[mchi][0:cut+1])\n",
    "data.append(checkmuons[mchi]['recoPt'])\n",
    "data.append(checkmuons[mchi][checkmuons[mchi]['qualityTrack']==True]['recoPt'])\n",
    "data.append(checkmuons[mchi][checkmuons[mchi]['isGenMatched']==True]['recoPt'])\n",
    "#data.append(checkmuons[mchi][checkmuons[mchi][checkmuons[mchi]['qualityTrack']==True]['qualityTrack']==True]['recoPt'])\n",
    "plot_full(data, axes[1,0], dict({'range':(0,20)}), labels=genlabels3)\n",
    "\n",
    "genlabels4 = ['all muons','chi2','hits','planes']#\n",
    "axes[1,1].set_xlabel('reco Mu pT [GeV]')\n",
    "data = []\n",
    "#for cut in numCuts:\n",
    "#    cutsToApply = reduce(operator.and_, cutsCrit[mchi][0:cut+1])\n",
    "data.append(checkmuons[mchi]['recoPt'])\n",
    "data.append(checkmuons[mchi][checkmuons[mchi]['trackChi2'] <10]['recoPt'])\n",
    "data.append(checkmuons[mchi][checkmuons[mchi]['trackHits']> 12]['recoPt'])\n",
    "data.append(checkmuons[mchi][checkmuons[mchi]['trackPlanes']> 2]['recoPt'])\n",
    "#data.append(checkmuons[mchi][checkmuons[mchi][checkmuons[mchi]['qualityTrack']==True]['qualityTrack']==True]['recoPt'])\n",
    "plot_full(data, axes[1,1], dict({'range':(0,20)}), labels=genlabels4)\n",
    "\n",
    "axes[0,0].legend(loc=(1.05,.3), title='Cuts');\n",
    "axes[0,1].legend(loc=(1.05,.3), title='Cuts');\n",
    "axes[1,0].legend(loc=(1.05,.3), title='Cuts');\n",
    "axes[1,1].legend(loc=(1.05,.3), title='Cuts');"
   ]
  },
  {
   "cell_type": "code",
   "execution_count": null,
   "metadata": {
    "collapsed": true
   },
   "outputs": [],
   "source": [
    "checkmuons[mchi].groupby('entry').nth(0).corr()"
   ]
  },
  {
   "cell_type": "code",
   "execution_count": null,
   "metadata": {
    "collapsed": true
   },
   "outputs": [],
   "source": [
    "#checkmuons[mchi]['isGenMatched'].corr(checkmuons[mchi]['qualityTrack'])\n",
    "#checkmuons[mchi][checkmuons[mchi]['recoPt'] > 4].groupby('entry').nth(0).corr()\n",
    "checkmuons[mchi][checkmuons[mchi]['isGenMatched']==True].corr()"
   ]
  },
  {
   "cell_type": "code",
   "execution_count": null,
   "metadata": {
    "collapsed": true
   },
   "outputs": [],
   "source": [
    "mchi = '6p0'\n",
    "\n",
    "### Make subplot axes\n",
    "fig, axes = plt.subplots(2,2, figsize=(14,8))\n",
    "plt.tight_layout(h_pad=4.0, w_pad=16.0)\n",
    "for row in axes:\n",
    "    for col in row:\n",
    "        col.set_ylabel('Events')\n",
    "        \n",
    "fig.suptitle(f'Quality and gen matching check for {mchis[mchi]} global muons')\n",
    "fig.subplots_adjust(top=0.92)\n",
    "\n",
    "genlabels1 = ['all muons','Gen','!Gen']#, 'is gen and quality']   \n",
    "genlabels2 = ['all muons','quality','!quality']#\n",
    "genlabels3 = ['all muons','Gen','quality']#\n",
    "### reco MET pT\n",
    "axes[0,0].set_xlabel('reco Mu pT [GeV]')\n",
    "data = []\n",
    "#for cut in numCuts:\n",
    "#    cutsToApply = reduce(operator.and_, cutsCrit[mchi][0:cut+1])\n",
    "data.append(checkgmuons[mchi]['recoPt'])\n",
    "data.append(checkgmuons[mchi][checkgmuons[mchi]['isGenMatched']==True]['recoPt'])\n",
    "data.append(checkgmuons[mchi][checkgmuons[mchi]['isGenMatched']==False]['recoPt'])\n",
    "#data.append(checkmuons[mchi][checkmuons[mchi]['qualityTrack']==True]['recoPt'])\n",
    "#data.append(checkmuons[mchi][checkmuons[mchi][checkmuons[mchi]['qualityTrack']==True]['qualityTrack']==True]['recoPt'])\n",
    "plot_full(data, axes[0,0], dict({'range':(0,20)}), labels=genlabels1)\n",
    "\n",
    "\n",
    "axes[0,1].set_xlabel('reco Mu pT [GeV]')\n",
    "data = []\n",
    "#for cut in numCuts:\n",
    "#    cutsToApply = reduce(operator.and_, cutsCrit[mchi][0:cut+1])\n",
    "data.append(checkgmuons[mchi]['recoPt'])\n",
    "data.append(checkgmuons[mchi][checkgmuons[mchi]['qualityTrack']==True]['recoPt'])\n",
    "data.append(checkgmuons[mchi][checkgmuons[mchi]['qualityTrack']==False]['recoPt'])\n",
    "#data.append(checkmuons[mchi][checkmuons[mchi][checkmuons[mchi]['qualityTrack']==True]['qualityTrack']==True]['recoPt'])\n",
    "plot_full(data, axes[0,1], dict({'range':(0,20)}), labels=genlabels2)\n",
    "\n",
    "axes[1,0].set_xlabel('reco Mu pT [GeV]')\n",
    "data = []\n",
    "#for cut in numCuts:\n",
    "#    cutsToApply = reduce(operator.and_, cutsCrit[mchi][0:cut+1])\n",
    "data.append(checkgmuons[mchi]['recoPt'])\n",
    "data.append(checkgmuons[mchi][checkgmuons[mchi]['qualityTrack']==True]['recoPt'])\n",
    "data.append(checkgmuons[mchi][checkgmuons[mchi]['isGenMatched']==True]['recoPt'])\n",
    "#data.append(checkmuons[mchi][checkmuons[mchi][checkmuons[mchi]['qualityTrack']==True]['qualityTrack']==True]['recoPt'])\n",
    "plot_full(data, axes[1,0], dict({'range':(0,20)}), labels=genlabels3)\n",
    "\n",
    "axes[0,0].legend(loc=(1.05,.3), title='Cuts');\n",
    "axes[0,1].legend(loc=(1.05,.3), title='Cuts');\n",
    "axes[1,0].legend(loc=(1.05,.3), title='Cuts');"
   ]
  },
  {
   "cell_type": "code",
   "execution_count": null,
   "metadata": {
    "collapsed": true
   },
   "outputs": [],
   "source": [
    "checkgmuons[mchi].groupby('entry').nth(0).corr()"
   ]
  },
  {
   "cell_type": "markdown",
   "metadata": {},
   "source": [
    "## Plot MET and jet variables"
   ]
  },
  {
   "cell_type": "markdown",
   "metadata": {
    "collapsed": true
   },
   "source": [
    "# Scratch tests and comparisons"
   ]
  },
  {
   "cell_type": "markdown",
   "metadata": {},
   "source": [
    "Comparing results before and after fixing Dxy acceptance (i.e. Dxy is a signed distance and can be < 0)"
   ]
  },
  {
   "cell_type": "code",
   "execution_count": null,
   "metadata": {
    "collapsed": true
   },
   "outputs": [],
   "source": [
    "fig, axes = plt.subplots(1,1, figsize=(14,8))\n",
    "chilabels = ['all','<20','<12','<10','<8','<4','<2','<1']#\n",
    "axes.set_xlabel('reco Mu pT [GeV]')\n",
    "data = []\n",
    "#for cut in numCuts:\n",
    "#    cutsToApply = reduce(operator.and_, cutsCrit[mchi][0:cut+1])\n",
    "data.append(checkmuons[mchi]['recoPt'])\n",
    "data.append(checkmuons[mchi][checkmuons[mchi]['trackChi2'] <20]['recoPt'])\n",
    "data.append(checkmuons[mchi][checkmuons[mchi]['trackChi2'] <10]['recoPt'])\n",
    "data.append(checkmuons[mchi][checkmuons[mchi]['trackChi2'] <12]['recoPt'])\n",
    "data.append(checkmuons[mchi][checkmuons[mchi]['trackChi2'] <8]['recoPt'])\n",
    "data.append(checkmuons[mchi][checkmuons[mchi]['trackChi2'] <4]['recoPt'])\n",
    "data.append(checkmuons[mchi][checkmuons[mchi]['trackChi2'] <2]['recoPt'])\n",
    "data.append(checkmuons[mchi][checkmuons[mchi]['trackChi2'] <1]['recoPt'])\n",
    "\n",
    "#data.append(checkmuons[mchi][checkmuons[mchi]['trackHits']> 12]['recoPt'])\n",
    "#data.append(checkmuons[mchi][checkmuons[mchi]['trackPlanes']> 2]['recoPt'])\n",
    "#data.append(checkmuons[mchi][checkmuons[mchi][checkmuons[mchi]['qualityTrack']==True]['qualityTrack']==True]['recoPt'])\n",
    "plot_full(data, axes, dict({'range':(0,20)}),labels=chilabels)\n",
    "plot_inset(data, axes, dict({'range':(9,15)}))\n",
    "axes.legend(loc=(1.05,.3), title='Chi');"
   ]
  },
  {
   "cell_type": "code",
   "execution_count": null,
   "metadata": {
    "collapsed": true
   },
   "outputs": [],
   "source": [
    "fig, axes = plt.subplots(1,1, figsize=(14,8))\n",
    "hitlabels = ['all','>15','>12','>10','>8']#\n",
    "axes.set_xlabel('reco Mu pT [GeV]')\n",
    "data = []\n",
    "#for cut in numCuts:\n",
    "#    cutsToApply = reduce(operator.and_, cutsCrit[mchi][0:cut+1])\n",
    "data.append(checkmuons[mchi]['recoPt'])\n",
    "data.append(checkmuons[mchi][checkmuons[mchi]['trackHits'] >15]['recoPt'])\n",
    "data.append(checkmuons[mchi][checkmuons[mchi]['trackHits'] >12]['recoPt'])\n",
    "data.append(checkmuons[mchi][checkmuons[mchi]['trackHits'] >10]['recoPt'])\n",
    "data.append(checkmuons[mchi][checkmuons[mchi]['trackHits'] >8]['recoPt'])\n",
    "\n",
    "\n",
    "\n",
    "\n",
    "#data.append(checkmuons[mchi][checkmuons[mchi]['trackHits']> 12]['recoPt'])\n",
    "#data.append(checkmuons[mchi][checkmuons[mchi]['trackPlanes']> 2]['recoPt'])\n",
    "#data.append(checkmuons[mchi][checkmuons[mchi][checkmuons[mchi]['qualityTrack']==True]['qualityTrack']==True]['recoPt'])\n",
    "plot_full(data, axes, dict({'range':(0,20)}),labels=hitlabels)\n",
    "plot_inset(data, axes, dict({'range':(9,15)}))\n",
    "\n",
    "axes.legend(loc=(1.05,.3), title='Hits');"
   ]
  },
  {
   "cell_type": "code",
   "execution_count": null,
   "metadata": {
    "collapsed": true
   },
   "outputs": [],
   "source": [
    "fig, axes = plt.subplots(1,1, figsize=(14,8))\n",
    "planelabels = ['all','>1','>2','>3','>4']#\n",
    "axes.set_xlabel('reco Mu pT [GeV]')\n",
    "data = []\n",
    "#for cut in numCuts:\n",
    "#    cutsToApply = reduce(operator.and_, cutsCrit[mchi][0:cut+1])\n",
    "data.append(checkmuons[mchi]['recoPt'])\n",
    "data.append(checkmuons[mchi][checkmuons[mchi]['trackPlanes'] >1]['recoPt'])\n",
    "data.append(checkmuons[mchi][checkmuons[mchi]['trackPlanes'] >2]['recoPt'])\n",
    "data.append(checkmuons[mchi][checkmuons[mchi]['trackPlanes'] >3]['recoPt'])\n",
    "data.append(checkmuons[mchi][checkmuons[mchi]['trackPlanes'] >4]['recoPt'])\n",
    "\n",
    "\n",
    "\n",
    "\n",
    "#data.append(checkmuons[mchi][checkmuons[mchi]['trackHits']> 12]['recoPt'])\n",
    "#data.append(checkmuons[mchi][checkmuons[mchi]['trackPlanes']> 2]['recoPt'])\n",
    "#data.append(checkmuons[mchi][checkmuons[mchi][checkmuons[mchi]['qualityTrack']==True]['qualityTrack']==True]['recoPt'])\n",
    "plot_full(data, axes, dict({'range':(0,20)}),labels=planelabels)\n",
    "plot_inset(data, axes, dict({'range':(9,15)}))\n",
    "\n",
    "axes.legend(loc=(1.05,.3), title='planes');"
   ]
  },
  {
   "cell_type": "code",
   "execution_count": null,
   "metadata": {
    "collapsed": true
   },
   "outputs": [],
   "source": [
    "fig, axes = plt.subplots(1,1, figsize=(14,8))\n",
    "alllabels = ['all','10,8,1','15,8,1','15,6,1','15,4,1','x,x,1','x,x,2']#\n",
    "axes.set_xlabel('reco Mu pT [GeV]')\n",
    "data = []\n",
    "#for cut in numCuts:\n",
    "#    cutsToApply = reduce(operator.and_, cutsCrit[mchi][0:cut+1])\n",
    "data.append(checkmuons[mchi]['recoPt'])\n",
    "data.append(checkmuons[mchi][(checkmuons[mchi]['trackChi2'] <10) & (checkmuons[mchi]['trackHits'] >8) & (checkmuons[mchi]['trackPlanes'] >1)]['recoPt'])\n",
    "data.append(checkmuons[mchi][(checkmuons[mchi]['trackChi2'] <15) & (checkmuons[mchi]['trackHits'] >8) & (checkmuons[mchi]['trackPlanes'] >1)]['recoPt'])\n",
    "data.append(checkmuons[mchi][(checkmuons[mchi]['trackChi2'] <15) & (checkmuons[mchi]['trackHits'] >6) & (checkmuons[mchi]['trackPlanes'] >1)]['recoPt'])\n",
    "data.append(checkmuons[mchi][(checkmuons[mchi]['trackChi2'] <15) & (checkmuons[mchi]['trackHits'] >4) & (checkmuons[mchi]['trackPlanes'] >1)]['recoPt'])\n",
    "data.append(checkmuons[mchi][checkmuons[mchi]['trackPlanes'] >1]['recoPt'])\n",
    "data.append(checkmuons[mchi][checkmuons[mchi]['trackPlanes'] >2]['recoPt'])\n",
    "\n",
    "\n",
    "\n",
    "\n",
    "\n",
    "\n",
    "#data.append(checkmuons[mchi][checkmuons[mchi]['trackHits']> 12]['recoPt'])\n",
    "#data.append(checkmuons[mchi][checkmuons[mchi]['trackPlanes']> 2]['recoPt'])\n",
    "#data.append(checkmuons[mchi][checkmuons[mchi][checkmuons[mchi]['qualityTrack']==True]['qualityTrack']==True]['recoPt'])\n",
    "plot_full(data, axes, dict({'range':(0,20)}),labels=alllabels)\n",
    "plot_inset(data, axes, dict({'range':(9,15)}))\n",
    "\n",
    "axes.legend(loc=(1.05,.3), title='chi,hits,planes');"
   ]
  },
  {
   "cell_type": "code",
   "execution_count": null,
   "metadata": {
    "collapsed": true
   },
   "outputs": [],
   "source": [
    "fig, axes = plt.subplots(1,1, figsize=(14,8))\n",
    "#planelabels = ['all','>1','>2','>3','>4']#\n",
    "axes.set_xlabel('GenDR')\n",
    "data = []\n",
    "variable = 'GenDR'\n",
    "#for cut in numCuts:\n",
    "#    cutsToApply = reduce(operator.and_, cutsCrit[mchi][0:cut+1])\n",
    "data.append(checkmuons[mchi][variable])\n",
    "data.append(checkmuons[mchi][checkmuons[mchi]['trackPlanes'] >=1][variable])\n",
    "data.append(checkmuons[mchi][checkmuons[mchi]['trackPlanes'] >1][variable])\n",
    "data.append(checkmuons[mchi][checkmuons[mchi]['trackPlanes'] >2][variable])\n",
    "data.append(checkmuons[mchi][checkmuons[mchi]['trackPlanes'] >3][variable])\n",
    "data.append(checkmuons[mchi][checkmuons[mchi]['trackPlanes'] >4][variable])\n",
    "\n",
    "#data.append(checkmuons[mchi][checkmuons[mchi]['trackHits'] >15][variable])\n",
    "#data.append(checkmuons[mchi][checkmuons[mchi]['trackHits'] >12][variable])\n",
    "#data.append(checkmuons[mchi][checkmuons[mchi]['trackHits'] >10][variable])\n",
    "#data.append(checkmuons[mchi][checkmuons[mchi]['trackHits'] >8][variable])\n",
    "\n",
    "#data.append(checkmuons[mchi][checkmuons[mchi]['trackChi2'] <20][variable])\n",
    "#data.append(checkmuons[mchi][checkmuons[mchi]['trackChi2'] <10][variable])\n",
    "#data.append(checkmuons[mchi][checkmuons[mchi]['trackChi2'] <12][variable])\n",
    "#data.append(checkmuons[mchi][checkmuons[mchi]['trackChi2'] <8][variable])\n",
    "#data.append(checkmuons[mchi][checkmuons[mchi]['trackChi2'] <4][variable])\n",
    "#data.append(checkmuons[mchi][checkmuons[mchi]['trackChi2'] <2][variable])\n",
    "#data.append(checkmuons[mchi][checkmuons[mchi]['trackChi2'] <1][variable])\n",
    "\n",
    "#data.append(checkmuons[mchi][checkmuons[mchi]['trackHits']> 12]['recoPt'])\n",
    "#data.append(checkmuons[mchi][checkmuons[mchi]['trackPlanes']> 2]['recoPt'])\n",
    "#data.append(checkmuons[mchi][checkmuons[mchi][checkmuons[mchi]['qualityTrack']==True]['qualityTrack']==True]['recoPt'])\n",
    "plot_full(data, axes, dict({'range':(0,6),'log':True}),labels=planelabels)\n",
    "plot_inset(data, axes, dict({'range':(0,1.),'log':True}))\n",
    "\n",
    "axes.legend(loc=(1.05,.3), title='planes');"
   ]
  },
  {
   "cell_type": "code",
   "execution_count": null,
   "metadata": {
    "collapsed": true
   },
   "outputs": [],
   "source": [
    "fig, axes = plt.subplots(1,1, figsize=(14,8))\n",
    "#planelabels = ['all','>1','>2','>3','>4']#\n",
    "axes.set_xlabel('eta')\n",
    "data = []\n",
    "variable = 'recoEta'\n",
    "#for cut in numCuts:\n",
    "#    cutsToApply = reduce(operator.and_, cutsCrit[mchi][0:cut+1])\n",
    "data.append(checkmuons[mchi][variable])\n",
    "data.append(checkmuons[mchi][checkmuons[mchi]['isGenMatched']==True][variable])\n",
    "data.append(checkmuons[mchi][checkmuons[mchi]['trackPlanes']> 1][variable])\n",
    "\n",
    "plot_full(data, axes, dict({'range':(-4,4),'log':False}),labels=['all','gen Matched','planes>1'])\n",
    "#plot_inset(data, axes, dict({'range':(0,1),'log':True}))\n",
    "\n",
    "axes.legend(loc=(1.05,.3), title='planes');"
   ]
  },
  {
   "cell_type": "code",
   "execution_count": null,
   "metadata": {
    "collapsed": true
   },
   "outputs": [],
   "source": []
  }
 ],
 "metadata": {
  "kernelspec": {
   "display_name": "Python 3",
   "language": "python",
   "name": "python3"
  },
  "language_info": {
   "codemirror_mode": {
    "name": "ipython",
    "version": 3
   },
   "file_extension": ".py",
   "mimetype": "text/x-python",
   "name": "python",
   "nbconvert_exporter": "python",
   "pygments_lexer": "ipython3",
   "version": "3.6.4"
  }
 },
 "nbformat": 4,
 "nbformat_minor": 1
}
