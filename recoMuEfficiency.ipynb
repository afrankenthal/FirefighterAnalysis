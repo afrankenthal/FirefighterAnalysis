{
 "cells": [
  {
   "cell_type": "code",
   "execution_count": null,
   "metadata": {},
   "outputs": [],
   "source": [
    "import uproot\n",
    "import ROOT\n",
    "\n",
    "%matplotlib inline\n",
    "import matplotlib.pyplot as plt\n",
    "plt.style.use('bmh')"
   ]
  },
  {
   "cell_type": "code",
   "execution_count": null,
   "metadata": {},
   "outputs": [],
   "source": [
    "# tree = uproot.open('../Firefighter/washAOD/test/SIDMmumu_Mps-200_MZp-1p2_ctau-1p2_100k.root')['RECO_muTrackEffi/recoEffiForMuTrack']\n",
    "# df = tree.pandas.df()\n",
    "\n",
    "from collections import OrderedDict\n",
    "\n",
    "dfs = OrderedDict({\n",
    "    0.1 : uproot.open('../Firefighter/washAOD/test/SIDMmumu_Mps-200_MZp-1p2_ctau-1p20e-03_100k.root')['RECO_muTrackEffi/recoEffiForMuTrack'].pandas.df(),\n",
    "      1 : uproot.open('../Firefighter/washAOD/test/SIDMmumu_Mps-200_MZp-1p2_ctau-0p012_100k.root')['RECO_muTrackEffi/recoEffiForMuTrack']   .pandas.df(),\n",
    "     10 : uproot.open('../Firefighter/washAOD/test/SIDMmumu_Mps-200_MZp-1p2_ctau-0p12_100k.root')['RECO_muTrackEffi/recoEffiForMuTrack']    .pandas.df(),\n",
    "     50 : uproot.open('../Firefighter/washAOD/test/SIDMmumu_Mps-200_MZp-1p2_ctau-0p6_100k.root')['RECO_muTrackEffi/recoEffiForMuTrack']     .pandas.df(),\n",
    "    100 : uproot.open('../Firefighter/washAOD/test/SIDMmumu_Mps-200_MZp-1p2_ctau-1p2_100k.root')['RECO_muTrackEffi/recoEffiForMuTrack']     .pandas.df(),\n",
    "    300 : uproot.open('../Firefighter/washAOD/test/SIDMmumu_Mps-200_MZp-1p2_ctau-3p6_100k.root')['RECO_muTrackEffi/recoEffiForMuTrack']     .pandas.df()\n",
    "})"
   ]
  },
  {
   "cell_type": "code",
   "execution_count": null,
   "metadata": {},
   "outputs": [],
   "source": [
    "for k, df in dfs.items():\n",
    "    df.columns = [x.decode() for x in df.columns]"
   ]
  },
  {
   "cell_type": "code",
   "execution_count": null,
   "metadata": {},
   "outputs": [],
   "source": [
    "fig, ax = plt.subplots()\n",
    "plt.rcParams['patch.linewidth'] = 1.2\n",
    "\n",
    "for k, df in dfs.items():\n",
    "    df['nMatched'].plot.hist(bins=5, range=(0,5), ax=ax, label='%.2fcm'%k, histtype='step', density=True)\n",
    "    print('%.2fcm #events: %i' % (k, len(df['nMatched'].dropna())))\n",
    "ax.set_xlabel('#muons')\n",
    "plt.title('reconstructed offline muon(dSA) per event')\n",
    "plt.legend(loc='upper left', title='decay length')"
   ]
  },
  {
   "cell_type": "code",
   "execution_count": null,
   "metadata": {},
   "outputs": [],
   "source": [
    "fig, ax = plt.subplots(1,3, figsize=(15,4))\n",
    "\n",
    "df = dfs[100]\n",
    "\n",
    "recoDf = df[['genPt','genEta','genPhi', 'recoPt']].dropna()\n",
    "\n",
    "df['genPt']    .plot.hist(bins=50, range=(0,140), ax=ax[0], label='all')\n",
    "recoDf['genPt'].plot.hist(bins=50, range=(0,140), ax=ax[0], label='recoed')\n",
    "ax[0].set_xlabel('pT [GeV]')\n",
    "\n",
    "df['genEta']    .plot.hist(bins=50, range=(-2.4,2.4), ax=ax[1], label='all')\n",
    "recoDf['genEta'].plot.hist(bins=50, range=(-2.4,2.4), ax=ax[1], label='recoed')\n",
    "ax[1].set_xlabel('eta')\n",
    "\n",
    "df['genPhi']    .plot.hist(bins=50, ax=ax[2], label='all')\n",
    "recoDf['genPhi'].plot.hist(bins=50, ax=ax[2], label='recoed')\n",
    "ax[2].set_xlabel('phi')\n",
    "\n",
    "for a in ax: a.legend(loc='best')"
   ]
  },
  {
   "cell_type": "code",
   "execution_count": null,
   "metadata": {},
   "outputs": [],
   "source": [
    "\n",
    "_c = ROOT.TCanvas()\n",
    "\n",
    "h0s = OrderedDict()\n",
    "h1s = OrderedDict()\n",
    "effs = OrderedDict()\n",
    "effgs = OrderedDict()\n",
    "\n",
    "for k, df in dfs.items():\n",
    "    h0s[k] = ROOT.TH1F('h0_%.2f'%k, '',50,0,140)\n",
    "    for x in df['genPt']: h0s[k].Fill(x)\n",
    "    h1s[k] = ROOT.TH1F('h1_%.2f'%k, '',50,0,140)\n",
    "    for x in recoDf['genPt']: h1s[k].Fill(x)\n",
    "\n",
    "    effs[k] = ROOT.TEfficiency(h1s[k], h0s[k])\n",
    "    effs[k].SetTitle('muon reconstruction efficiency;p_{T} [GeV];Efficiency')\n",
    "\n",
    "    effs[k].Draw()\n",
    "    ROOT.gPad.Update()\n",
    "    effgs[k] = effs[k].GetPaintedGraph()\n",
    "\n",
    "c = ROOT.TCanvas()\n",
    "c.SetGrid(1)\n",
    "colors = [ROOT.kRed, ROOT.kGreen, ROOT.kBlue, ROOT.kYellow, ROOT.kMagenta, ROOT.kCyan]\n",
    "leg = ROOT.TLegend(0.55,0.1,0.75,0.5)\n",
    "\n",
    "for i, k in enumerate(effgs):\n",
    "    effgs[k].GetYaxis().SetRangeUser(0,1)\n",
    "    effgs[k].SetMarkerStyle(ROOT.kCircle)\n",
    "    effgs[k].SetMarkerSize(0.5)\n",
    "    effgs[k].SetMarkerColor(colors[i])\n",
    "    effgs[k].SetLineColor(colors[i])\n",
    "    effgs[k].Draw('AP' if i==0 else 'P')\n",
    "    leg.AddEntry(effgs[k], '%.2fcm'%k, 'lep')\n",
    "\n",
    "leg.Draw()\n",
    "c.Draw()"
   ]
  },
  {
   "cell_type": "code",
   "execution_count": null,
   "metadata": {},
   "outputs": [],
   "source": [
    "_c = ROOT.TCanvas()\n",
    "\n",
    "h0s = OrderedDict()\n",
    "h1s = OrderedDict()\n",
    "effs = OrderedDict()\n",
    "effgs = OrderedDict()\n",
    "\n",
    "for k, df in dfs.items():\n",
    "    h0s[k] = ROOT.TH1F('h0_%.2f'%k, '',50,-2.4,2.4)\n",
    "    for x in df['genEta']: h0s[k].Fill(x)\n",
    "    h1s[k] = ROOT.TH1F('h1_%.2f'%k, '',50,-2.4,2.4)\n",
    "    for x in recoDf['genEta']: h1s[k].Fill(x)\n",
    "\n",
    "    effs[k] = ROOT.TEfficiency(h1s[k], h0s[k])\n",
    "    effs[k].SetTitle('muon reconstruction efficiency;#eta;Efficiency')\n",
    "\n",
    "    effs[k].Draw()\n",
    "    ROOT.gPad.Update()\n",
    "    effgs[k] = effs[k].GetPaintedGraph()\n",
    "\n",
    "c = ROOT.TCanvas()\n",
    "c.SetGrid(1)\n",
    "colors = [ROOT.kRed, ROOT.kGreen, ROOT.kBlue, ROOT.kYellow, ROOT.kMagenta, ROOT.kCyan]\n",
    "leg = ROOT.TLegend(0.55,0.1,0.75,0.5)\n",
    "\n",
    "for i, k in enumerate(effgs):\n",
    "    effgs[k].GetYaxis().SetRangeUser(0,1)\n",
    "    effgs[k].SetMarkerStyle(ROOT.kCircle)\n",
    "    effgs[k].SetMarkerSize(0.5)\n",
    "    effgs[k].SetMarkerColor(colors[i])\n",
    "    effgs[k].SetLineColor(colors[i])\n",
    "    effgs[k].Draw('AP' if i==0 else 'P')\n",
    "    leg.AddEntry(effgs[k], '%.2fcm'%k, 'lep')\n",
    "\n",
    "leg.Draw()\n",
    "c.Draw()"
   ]
  }
 ],
 "metadata": {
  "kernelspec": {
   "display_name": "Python 3",
   "language": "python",
   "name": "python3"
  },
  "language_info": {
   "codemirror_mode": {
    "name": "ipython",
    "version": 3
   },
   "file_extension": ".py",
   "mimetype": "text/x-python",
   "name": "python",
   "nbconvert_exporter": "python",
   "pygments_lexer": "ipython3",
   "version": "3.7.0"
  }
 },
 "nbformat": 4,
 "nbformat_minor": 2
}
