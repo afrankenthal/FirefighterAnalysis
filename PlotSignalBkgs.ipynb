{
 "cells": [
  {
   "cell_type": "code",
   "execution_count": 1,
   "metadata": {
    "collapsed": true
   },
   "outputs": [],
   "source": [
    "# import math\n",
    "# import operator\n",
    "import sys\n",
    "import time\n",
    "# from collections import OrderedDict\n",
    "# from functools import reduce\n",
    "import pickle\n",
    "import json\n",
    "\n",
    "%matplotlib inline\n",
    "import matplotlib.pyplot as plt\n",
    "import numpy as np\n",
    "import pandas as pd\n",
    "import uproot\n",
    "# from mpl_toolkits.axes_grid1.inset_locator import inset_axes\n",
    "# from skhep.visual import MplPlotter as skh_plt\n",
    "\n",
    "# import multiprocessing\n",
    "import concurrent.futures\n",
    "\n",
    "from XRootD import client\n",
    "from XRootD.client.flags import DirListFlags, StatInfoFlags, OpenFlags, MkDirFlags, QueryCode\n",
    "# import xrdfs_find"
   ]
  },
  {
   "cell_type": "code",
   "execution_count": 2,
   "metadata": {
    "collapsed": true
   },
   "outputs": [],
   "source": [
    "%load_ext autoreload\n",
    "%autoreload 1\n",
    "%aimport utils.ObjectExtractor\n",
    "%aimport utils.PlotMaker\n",
    "%aimport utils.HistogramContainer\n",
    "%aimport utils.HistogramCalculator\n",
    "OE = utils.ObjectExtractor\n",
    "PM = utils.PlotMaker\n",
    "HCont = utils.HistogramContainer\n",
    "HCalc = utils.HistogramCalculator"
   ]
  },
  {
   "cell_type": "code",
   "execution_count": 3,
   "metadata": {
    "collapsed": false
   },
   "outputs": [
    {
     "name": "stdout",
     "output_type": "stream",
     "text": [
      "sys.version_info(major=3, minor=6, micro=4, releaselevel='final', serial=0)\n",
      "0.24.2\n"
     ]
    }
   ],
   "source": [
    "print(sys.version_info)\n",
    "print(pd.__version__)\n",
    "# num_cores = multiprocessing.cpu_count()\n",
    "# print(num_cores)\n",
    "\n",
    "plt.style.use('default')\n",
    "plt.rcParams['grid.linestyle'] = ':'\n",
    "plt.rcParams.update({'font.size': 10})\n",
    "\n",
    "numCuts = np.arange(0,6)"
   ]
  },
  {
   "cell_type": "code",
   "execution_count": 4,
   "metadata": {
    "collapsed": true
   },
   "outputs": [],
   "source": [
    "all_plot_vars = ['metpt', 'jetpt','metjetphi', 'metmuphi', 'leadingmupt', 'subleadingmupt', 'recodr', 'recovertex']\n",
    "metjet_plot_vars = all_plot_vars[0:4] # ['metpt', 'jetpt', 'metjetphi', 'metmuphi']\n",
    "muons_plot_vars = all_plot_vars[4:8] # ['leadingmupt', 'subleadingmupt', 'recodr', 'recovertex']\n",
    "cutflow_vars = ['cutflow_incl', 'cutflow_excl']\n",
    "all_plot_xlabels = [\n",
    "    'MET [GeV]', 'Leading jet pT [GeV]', '$\\Delta\\Phi$(MET, jet)', '$\\Delta\\Phi$(MET, di-muon)',\n",
    "    'Leading muon pT [GeV]', 'Subleading muon pT [GeV]', 'dR(muons)', 'Di-muon vertex [cm]'\n",
    "]"
   ]
  },
  {
   "cell_type": "code",
   "execution_count": 5,
   "metadata": {
    "collapsed": true
   },
   "outputs": [],
   "source": [
    "with open('config/bkgs3.json') as bkgs_json_file:\n",
    "    bkgs = json.load(bkgs_json_file)"
   ]
  },
  {
   "cell_type": "markdown",
   "metadata": {},
   "source": [
    "# Global muons"
   ]
  },
  {
   "cell_type": "code",
   "execution_count": 6,
   "metadata": {
    "collapsed": true
   },
   "outputs": [],
   "source": [
    "with open('data/histos_signal_objects_gbm.dat', 'rb') as file:\n",
    "    histos_signal_from_file_gbm = pickle.load(file)"
   ]
  },
  {
   "cell_type": "code",
   "execution_count": 12,
   "metadata": {
    "collapsed": true
   },
   "outputs": [],
   "source": [
    "#with open('data/histos_bkgs_objects_gbm.dat', 'rb') as file:\n",
    "with open('histos_bkgs_objects_gbm.dat', 'rb') as file:\n",
    "    histos_bkgs_from_file_gbm = pickle.load(file)"
   ]
  },
  {
   "cell_type": "code",
   "execution_count": 13,
   "metadata": {
    "collapsed": true
   },
   "outputs": [],
   "source": [
    "luminosity = 59.97 * 1000 # 1/pb\n",
    "for bkg, properties in bkgs.items():\n",
    "    try:\n",
    "        properties['weight'] = luminosity * properties['xsec'] / histos_bkgs_from_file_gbm['sumgenwgt'][bkg]\n",
    "    except KeyError:\n",
    "        properties['weight'] = 1"
   ]
  },
  {
   "cell_type": "code",
   "execution_count": 14,
   "metadata": {
    "collapsed": true
   },
   "outputs": [],
   "source": [
    "histos = {}\n",
    "for plot_var in histos_bkgs_from_file_gbm:\n",
    "    try:\n",
    "        histos[plot_var] = {**histos_bkgs_from_file_gbm[plot_var], **histos_signal_from_file_gbm[plot_var]}\n",
    "    except KeyError:\n",
    "        histos[plot_var] = histos_bkgs_from_file_gbm[plot_var]"
   ]
  },
  {
   "cell_type": "code",
   "execution_count": 15,
   "metadata": {
    "collapsed": true
   },
   "outputs": [],
   "source": [
    "# Conversion from dict file into objects\n",
    "# Shouldn't need this unless recovering from a broken Jupyter session\n",
    "# histos_gbm = {}\n",
    "# for var in histos_from_file_gbm:\n",
    "#     histos_gbm[var] = {}\n",
    "#     if 'cutflow' in var or 'genwgt' in var:\n",
    "#         for bkg in histos_from_file_gbm[var]:\n",
    "#             histos_gbm[var][bkg] = histos_from_file_gbm[var][bkg]\n",
    "#     else:\n",
    "#         for bkg in histos_from_file_gbm[var]:\n",
    "#             histos_gbm[var][bkg] = HCont.HistogramContainer(bins=len(histos_from_file_gbm[var][bkg]['counts'][0]))\n",
    "#             histos_gbm[var][bkg] += list(zip(histos_from_file_gbm[var][bkg]['counts'].values(),\n",
    "#                                       {cut:histos_from_file_gbm[var][bkg]['edges'] for cut in numCuts}.values(),\n",
    "#                                       histos_from_file_gbm[var][bkg]['wgt_sqrd'].values()))"
   ]
  },
  {
   "cell_type": "markdown",
   "metadata": {},
   "source": [
    "### Cutflow table"
   ]
  },
  {
   "cell_type": "code",
   "execution_count": 16,
   "metadata": {
    "collapsed": false
   },
   "outputs": [
    {
     "data": {
      "text/html": [
       "<div>\n",
       "<style scoped>\n",
       "    .dataframe tbody tr th:only-of-type {\n",
       "        vertical-align: middle;\n",
       "    }\n",
       "\n",
       "    .dataframe tbody tr th {\n",
       "        vertical-align: top;\n",
       "    }\n",
       "\n",
       "    .dataframe thead th {\n",
       "        text-align: right;\n",
       "    }\n",
       "</style>\n",
       "<table border=\"1\" class=\"dataframe\">\n",
       "  <thead>\n",
       "    <tr style=\"text-align: right;\">\n",
       "      <th></th>\n",
       "      <th>Cosmics</th>\n",
       "    </tr>\n",
       "  </thead>\n",
       "  <tbody>\n",
       "    <tr>\n",
       "      <th>0</th>\n",
       "      <td>59970</td>\n",
       "    </tr>\n",
       "    <tr>\n",
       "      <th>1</th>\n",
       "      <td>61</td>\n",
       "    </tr>\n",
       "    <tr>\n",
       "      <th>2</th>\n",
       "      <td>39</td>\n",
       "    </tr>\n",
       "    <tr>\n",
       "      <th>3</th>\n",
       "      <td>4</td>\n",
       "    </tr>\n",
       "    <tr>\n",
       "      <th>4</th>\n",
       "      <td>0</td>\n",
       "    </tr>\n",
       "    <tr>\n",
       "      <th>5</th>\n",
       "      <td>0</td>\n",
       "    </tr>\n",
       "  </tbody>\n",
       "</table>\n",
       "</div>"
      ],
      "text/plain": [
       "   Cosmics\n",
       "0    59970\n",
       "1       61\n",
       "2       39\n",
       "3        4\n",
       "4        0\n",
       "5        0"
      ]
     },
     "execution_count": 16,
     "metadata": {},
     "output_type": "execute_result"
    }
   ],
   "source": [
    "cutflow_incl_grps = {}\n",
    "for bkg, properties in bkgs.items():\n",
    "    grp = properties['group']\n",
    "    if grp not in cutflow_incl_grps:\n",
    "        cutflow_incl_grps[grp] = (histos_bkgs_from_file_gbm['cutflow_incl'][bkg]*properties['weight']).astype(int)\n",
    "    else:\n",
    "        cutflow_incl_grps[grp] += (histos_bkgs_from_file_gbm['cutflow_incl'][bkg]*properties['weight']).astype(int)\n",
    "        \n",
    "# for mchi in ['5p25', '6p0', '52p5', '60p0']:\n",
    "#     cutflow_incl_grps[mchi] = histos_signal_from_file_gbm['cutflow_incl'][mchi].astype(int)\n",
    "        \n",
    "pd.DataFrame.from_dict(cutflow_incl_grps)"
   ]
  },
  {
   "cell_type": "code",
   "execution_count": 18,
   "metadata": {
    "collapsed": false
   },
   "outputs": [
    {
     "data": {
      "text/html": [
       "<div>\n",
       "<style scoped>\n",
       "    .dataframe tbody tr th:only-of-type {\n",
       "        vertical-align: middle;\n",
       "    }\n",
       "\n",
       "    .dataframe tbody tr th {\n",
       "        vertical-align: top;\n",
       "    }\n",
       "\n",
       "    .dataframe thead th {\n",
       "        text-align: right;\n",
       "    }\n",
       "</style>\n",
       "<table border=\"1\" class=\"dataframe\">\n",
       "  <thead>\n",
       "    <tr style=\"text-align: right;\">\n",
       "      <th></th>\n",
       "      <th>52p5</th>\n",
       "      <th>5p25</th>\n",
       "      <th>60p0</th>\n",
       "      <th>6p0</th>\n",
       "      <th>NoBPTX</th>\n",
       "    </tr>\n",
       "  </thead>\n",
       "  <tbody>\n",
       "    <tr>\n",
       "      <th>0</th>\n",
       "      <td>85517.0</td>\n",
       "      <td>30655.0</td>\n",
       "      <td>73968.0</td>\n",
       "      <td>23622.0</td>\n",
       "      <td>18456762.0</td>\n",
       "    </tr>\n",
       "    <tr>\n",
       "      <th>1</th>\n",
       "      <td>27116.0</td>\n",
       "      <td>5806.0</td>\n",
       "      <td>21571.0</td>\n",
       "      <td>4681.0</td>\n",
       "      <td>18882.0</td>\n",
       "    </tr>\n",
       "    <tr>\n",
       "      <th>2</th>\n",
       "      <td>19142.0</td>\n",
       "      <td>3984.0</td>\n",
       "      <td>13698.0</td>\n",
       "      <td>2844.0</td>\n",
       "      <td>12281.0</td>\n",
       "    </tr>\n",
       "    <tr>\n",
       "      <th>3</th>\n",
       "      <td>5912.0</td>\n",
       "      <td>674.0</td>\n",
       "      <td>7824.0</td>\n",
       "      <td>1308.0</td>\n",
       "      <td>1490.0</td>\n",
       "    </tr>\n",
       "    <tr>\n",
       "      <th>4</th>\n",
       "      <td>1187.0</td>\n",
       "      <td>89.0</td>\n",
       "      <td>3150.0</td>\n",
       "      <td>421.0</td>\n",
       "      <td>2.0</td>\n",
       "    </tr>\n",
       "    <tr>\n",
       "      <th>5</th>\n",
       "      <td>919.0</td>\n",
       "      <td>87.0</td>\n",
       "      <td>1499.0</td>\n",
       "      <td>420.0</td>\n",
       "      <td>0.0</td>\n",
       "    </tr>\n",
       "  </tbody>\n",
       "</table>\n",
       "</div>"
      ],
      "text/plain": [
       "      52p5     5p25     60p0      6p0      NoBPTX\n",
       "0  85517.0  30655.0  73968.0  23622.0  18456762.0\n",
       "1  27116.0   5806.0  21571.0   4681.0     18882.0\n",
       "2  19142.0   3984.0  13698.0   2844.0     12281.0\n",
       "3   5912.0    674.0   7824.0   1308.0      1490.0\n",
       "4   1187.0     89.0   3150.0    421.0         2.0\n",
       "5    919.0     87.0   1499.0    420.0         0.0"
      ]
     },
     "execution_count": 18,
     "metadata": {},
     "output_type": "execute_result"
    }
   ],
   "source": [
    "pd.DataFrame.from_dict(dict(sorted(histos['cutflow_incl'].items())))"
   ]
  },
  {
   "cell_type": "markdown",
   "metadata": {},
   "source": [
    "### Plots"
   ]
  },
  {
   "cell_type": "code",
   "execution_count": 19,
   "metadata": {
    "collapsed": true
   },
   "outputs": [],
   "source": [
    "def plot_binned_data_error(axis, bin_edges, data, wgt_sqrd, *args, **kwargs):\n",
    "#     errors = []\n",
    "    weights = np.empty(len(data))\n",
    "#     errors = np.sqrt(np.sum(wgt_sqrd, axis=0))\n",
    "    errors = wgt_sqrd[0]\n",
    "    for i in np.arange(1, len(wgt_sqrd)):\n",
    "        errors = errors.add(wgt_sqrd[i], fill_value=0)\n",
    "    errors = errors.reindex(np.arange(1, len(bin_edges)), fill_value=0)\n",
    "    errors = np.sqrt(errors)\n",
    "    binwidth = bin_edges[1] - bin_edges[0]\n",
    "#         if 'density' in kwargs and kwargs['density'] == True:\n",
    "#             errors = errors/np.sum(data)/binwidth\n",
    "        #The dataset values are the bin centres\n",
    "    x = (bin_edges[1:] + bin_edges[:-1]) / 2.0\n",
    "        #The weights are the y-values of the input binned data\n",
    "#         weights[i] = data[i]\n",
    "    return skh_plt.hist(x, ax=axis, bins=bin_edges, weights=np.sum(data, axis=0), errorbars=errors, *args, **kwargs)"
   ]
  },
  {
   "cell_type": "code",
   "execution_count": 20,
   "metadata": {
    "collapsed": true
   },
   "outputs": [],
   "source": [
    "def plot_stacked_binned_data(axis, bin_edges, data, wgt_sqrd, *args, **kwargs):\n",
    "    errors = wgt_sqrd[0]\n",
    "    for i in np.arange(1, len(wgt_sqrd)):\n",
    "        errors = errors.add(wgt_sqrd[i], fill_value=0)\n",
    "    errors = np.sqrt(errors)\n",
    "    errors = np.array(errors.reindex(np.arange(1, len(bin_edges)), fill_value=0))\n",
    "    #The dataset values are the bin centres\n",
    "    x = (bin_edges[1:] + bin_edges[:-1]) / 2.0\n",
    "    x = np.array([x]).repeat(len(data), axis=0)\n",
    "    x = np.transpose(x)\n",
    "    #The weights are the y-values of the input binned data\n",
    "    weights = np.transpose(data)\n",
    "    return skh_plt.hist(x, ax=axis, bins=bin_edges, weights=weights, errorbars=errors, stacked=True, *args, **kwargs)"
   ]
  },
  {
   "cell_type": "code",
   "execution_count": 21,
   "metadata": {
    "collapsed": true
   },
   "outputs": [],
   "source": [
    "from skhep.visual import MplPlotter as skh_plt"
   ]
  },
  {
   "cell_type": "code",
   "execution_count": 22,
   "metadata": {
    "collapsed": true
   },
   "outputs": [],
   "source": [
    "from collections import OrderedDict"
   ]
  },
  {
   "cell_type": "code",
   "execution_count": 26,
   "metadata": {
    "collapsed": false,
    "scrolled": false
   },
   "outputs": [
    {
     "ename": "TypeError",
     "evalue": "'Polygon' object does not support indexing",
     "output_type": "error",
     "traceback": [
      "\u001b[0;31m---------------------------------------------------------------------------\u001b[0m",
      "\u001b[0;31mTypeError\u001b[0m                                 Traceback (most recent call last)",
      "\u001b[0;32m<ipython-input-26-a5f97afb490b>\u001b[0m in \u001b[0;36m<module>\u001b[0;34m()\u001b[0m\n\u001b[1;32m     24\u001b[0m plot_stacked_binned_data(axis, histos['metjetphi']['NoBPTX'].edges,\n\u001b[1;32m     25\u001b[0m                        \u001b[0mnp\u001b[0m\u001b[0;34m.\u001b[0m\u001b[0marray\u001b[0m\u001b[0;34m(\u001b[0m\u001b[0;34m[\u001b[0m\u001b[0msorted_grp_histos\u001b[0m\u001b[0;34m[\u001b[0m\u001b[0mgrp\u001b[0m\u001b[0;34m]\u001b[0m\u001b[0;34m.\u001b[0m\u001b[0mcounts\u001b[0m\u001b[0;34m[\u001b[0m\u001b[0;36m0\u001b[0m\u001b[0;34m]\u001b[0m \u001b[0;32mfor\u001b[0m \u001b[0mgrp\u001b[0m \u001b[0;32min\u001b[0m \u001b[0msorted_grp_histos\u001b[0m\u001b[0;34m]\u001b[0m\u001b[0;34m)\u001b[0m\u001b[0;34m,\u001b[0m\u001b[0;34m\u001b[0m\u001b[0m\n\u001b[0;32m---> 26\u001b[0;31m                       [sorted_grp_histos[grp].wgt_sqrd[0] for grp in sorted_grp_histos], label=labels);\n\u001b[0m\u001b[1;32m     27\u001b[0m \u001b[0;34m\u001b[0m\u001b[0m\n\u001b[1;32m     28\u001b[0m \u001b[0maxis\u001b[0m\u001b[0;34m.\u001b[0m\u001b[0mset_yscale\u001b[0m\u001b[0;34m(\u001b[0m\u001b[0;34m'log'\u001b[0m\u001b[0;34m,\u001b[0m \u001b[0mnonposy\u001b[0m\u001b[0;34m=\u001b[0m\u001b[0;34m'clip'\u001b[0m\u001b[0;34m)\u001b[0m\u001b[0;34m\u001b[0m\u001b[0m\n",
      "\u001b[0;32m<ipython-input-20-9ff3206590a3>\u001b[0m in \u001b[0;36mplot_stacked_binned_data\u001b[0;34m(axis, bin_edges, data, wgt_sqrd, *args, **kwargs)\u001b[0m\n\u001b[1;32m     11\u001b[0m     \u001b[0;31m#The weights are the y-values of the input binned data\u001b[0m\u001b[0;34m\u001b[0m\u001b[0;34m\u001b[0m\u001b[0m\n\u001b[1;32m     12\u001b[0m     \u001b[0mweights\u001b[0m \u001b[0;34m=\u001b[0m \u001b[0mnp\u001b[0m\u001b[0;34m.\u001b[0m\u001b[0mtranspose\u001b[0m\u001b[0;34m(\u001b[0m\u001b[0mdata\u001b[0m\u001b[0;34m)\u001b[0m\u001b[0;34m\u001b[0m\u001b[0m\n\u001b[0;32m---> 13\u001b[0;31m     \u001b[0;32mreturn\u001b[0m \u001b[0mskh_plt\u001b[0m\u001b[0;34m.\u001b[0m\u001b[0mhist\u001b[0m\u001b[0;34m(\u001b[0m\u001b[0mx\u001b[0m\u001b[0;34m,\u001b[0m \u001b[0max\u001b[0m\u001b[0;34m=\u001b[0m\u001b[0maxis\u001b[0m\u001b[0;34m,\u001b[0m \u001b[0mbins\u001b[0m\u001b[0;34m=\u001b[0m\u001b[0mbin_edges\u001b[0m\u001b[0;34m,\u001b[0m \u001b[0mweights\u001b[0m\u001b[0;34m=\u001b[0m\u001b[0mweights\u001b[0m\u001b[0;34m,\u001b[0m \u001b[0merrorbars\u001b[0m\u001b[0;34m=\u001b[0m\u001b[0merrors\u001b[0m\u001b[0;34m,\u001b[0m \u001b[0mstacked\u001b[0m\u001b[0;34m=\u001b[0m\u001b[0;32mTrue\u001b[0m\u001b[0;34m,\u001b[0m \u001b[0;34m*\u001b[0m\u001b[0margs\u001b[0m\u001b[0;34m,\u001b[0m \u001b[0;34m**\u001b[0m\u001b[0mkwargs\u001b[0m\u001b[0;34m)\u001b[0m\u001b[0;34m\u001b[0m\u001b[0m\n\u001b[0m",
      "\u001b[0;32m/uscms/home/mreid/.local/lib/python3.6/site-packages/skhep/visual/mpl_plotter.py\u001b[0m in \u001b[0;36mhist\u001b[0;34m(x, bins, range, weights, errorbars, normed, scale, stacked, histtype, **kwargs)\u001b[0m\n\u001b[1;32m    180\u001b[0m \u001b[0;34m\u001b[0m\u001b[0m\n\u001b[1;32m    181\u001b[0m         hist_con = HistContainer(x, bins, range, weights, errorbars, normed, scale, stacked,\n\u001b[0;32m--> 182\u001b[0;31m                                  histtype, **kwargs)\n\u001b[0m\u001b[1;32m    183\u001b[0m \u001b[0;34m\u001b[0m\u001b[0m\n\u001b[1;32m    184\u001b[0m         \u001b[0;32mif\u001b[0m \u001b[0mhist_con\u001b[0m\u001b[0;34m.\u001b[0m\u001b[0merr_return\u001b[0m\u001b[0;34m:\u001b[0m\u001b[0;34m\u001b[0m\u001b[0m\n",
      "\u001b[0;32m/uscms/home/mreid/.local/lib/python3.6/site-packages/skhep/visual/mpl_plotter.py\u001b[0m in \u001b[0;36m__init__\u001b[0;34m(***failed resolving arguments***)\u001b[0m\n\u001b[1;32m    344\u001b[0m \u001b[0;34m\u001b[0m\u001b[0m\n\u001b[1;32m    345\u001b[0m         \u001b[0;32mif\u001b[0m \u001b[0mself\u001b[0m\u001b[0;34m.\u001b[0m\u001b[0merrorbars\u001b[0m\u001b[0;34m:\u001b[0m\u001b[0;34m\u001b[0m\u001b[0m\n\u001b[0;32m--> 346\u001b[0;31m             \u001b[0mself\u001b[0m\u001b[0;34m.\u001b[0m\u001b[0mdraw_errorbars\u001b[0m\u001b[0;34m(\u001b[0m\u001b[0;34m)\u001b[0m\u001b[0;34m\u001b[0m\u001b[0m\n\u001b[0m\u001b[1;32m    347\u001b[0m         \u001b[0;32mif\u001b[0m \u001b[0mself\u001b[0m\u001b[0;34m.\u001b[0m\u001b[0mlogy\u001b[0m\u001b[0;34m:\u001b[0m\u001b[0;34m\u001b[0m\u001b[0m\n\u001b[1;32m    348\u001b[0m             \u001b[0mself\u001b[0m\u001b[0;34m.\u001b[0m\u001b[0mset_log_vals\u001b[0m\u001b[0;34m(\u001b[0m\u001b[0;34m)\u001b[0m\u001b[0;34m\u001b[0m\u001b[0m\n",
      "\u001b[0;32m/uscms/home/mreid/.local/lib/python3.6/site-packages/skhep/visual/mpl_plotter.py\u001b[0m in \u001b[0;36mdraw_errorbars\u001b[0;34m(self)\u001b[0m\n\u001b[1;32m    748\u001b[0m \u001b[0;34m\u001b[0m\u001b[0m\n\u001b[1;32m    749\u001b[0m                     \u001b[0;32mif\u001b[0m \u001b[0mself\u001b[0m\u001b[0;34m.\u001b[0m\u001b[0mstacked\u001b[0m\u001b[0;34m:\u001b[0m\u001b[0;34m\u001b[0m\u001b[0m\n\u001b[0;32m--> 750\u001b[0;31m                         \u001b[0mpoly_patch\u001b[0m \u001b[0;34m=\u001b[0m \u001b[0mself\u001b[0m\u001b[0;34m.\u001b[0m\u001b[0mvis_object\u001b[0m\u001b[0;34m[\u001b[0m\u001b[0;34m-\u001b[0m\u001b[0;36m1\u001b[0m\u001b[0;34m]\u001b[0m\u001b[0;34m[\u001b[0m\u001b[0;36m0\u001b[0m\u001b[0;34m]\u001b[0m\u001b[0;34m.\u001b[0m\u001b[0mget_xy\u001b[0m\u001b[0;34m(\u001b[0m\u001b[0;34m)\u001b[0m\u001b[0;34m\u001b[0m\u001b[0m\n\u001b[0m\u001b[1;32m    751\u001b[0m                         self.ax.add_patch(Polygon(poly_patch[:(len(poly_patch)+1)//2], closed=False,\n\u001b[1;32m    752\u001b[0m                                           \u001b[0mfacecolor\u001b[0m\u001b[0;34m=\u001b[0m\u001b[0;34m'none'\u001b[0m\u001b[0;34m,\u001b[0m \u001b[0medgecolor\u001b[0m\u001b[0;34m=\u001b[0m\u001b[0;34m'k'\u001b[0m\u001b[0;34m,\u001b[0m \u001b[0mlinewidth\u001b[0m\u001b[0;34m=\u001b[0m\u001b[0;36m1\u001b[0m\u001b[0;34m,\u001b[0m \u001b[0malpha\u001b[0m\u001b[0;34m=\u001b[0m\u001b[0;36m0.5\u001b[0m\u001b[0;34m,\u001b[0m\u001b[0;34m\u001b[0m\u001b[0m\n",
      "\u001b[0;31mTypeError\u001b[0m: 'Polygon' object does not support indexing"
     ]
    },
    {
     "data": {
      "image/png": "[encoded data removed]",
      "text/plain": [
       "<matplotlib.figure.Figure at 0x7fcbba1f5080>"
      ]
     },
     "metadata": {},
     "output_type": "display_data"
    }
   ],
   "source": [
    "plot_var = 'metjetphi'\n",
    "cut=0\n",
    "labels = []\n",
    "grp_histos = {}\n",
    "for bkg, properties in bkgs.items():\n",
    "    grp = properties['group']\n",
    "    if grp not in grp_histos:\n",
    "        grp_histos[grp] = HCont.HistogramContainer()\n",
    "    # self.histos[plot_var][bkg].set_weight(properties['weight'])\n",
    "    # FIXME placeholder while H.C. doesn't have set_weight\n",
    "    grp_histos[grp].counts[cut] += histos[plot_var][bkg].counts[cut] * properties['weight']\n",
    "    grp_histos[grp].edges = histos[plot_var][bkg].edges\n",
    "    grp_histos[grp].wgt_sqrd[cut] = grp_histos[grp].wgt_sqrd[cut].add(\n",
    "        histos[plot_var][bkg].wgt_sqrd[cut] * properties['weight']**2, fill_value=0)\n",
    "    \n",
    "sorted_keys = sorted(grp_histos, key=lambda obj: max(grp_histos[obj].counts[0]))\n",
    "sorted_grp_histos = OrderedDict()\n",
    "for key in sorted_keys:\n",
    "#     if 'DY' not in key: continue\n",
    "    sorted_grp_histos[key] = grp_histos[key]\n",
    "    labels.append(key)\n",
    "\n",
    "fig, axis = plt.subplots()\n",
    "plot_stacked_binned_data(axis, histos['metjetphi']['NoBPTX'].edges,\n",
    "                       np.array([sorted_grp_histos[grp].counts[0] for grp in sorted_grp_histos]),\n",
    "                      [sorted_grp_histos[grp].wgt_sqrd[0] for grp in sorted_grp_histos], label=labels);\n",
    "\n",
    "axis.set_yscale('log', nonposy='clip')\n",
    "# axis.set_ylim(bottom = 1)\n",
    "\n",
    "axis.legend()"
   ]
  },
  {
   "cell_type": "code",
   "execution_count": 24,
   "metadata": {
    "collapsed": false
   },
   "outputs": [
    {
     "ename": "TypeError",
     "evalue": "'Polygon' object does not support indexing",
     "output_type": "error",
     "traceback": [
      "\u001b[0;31m---------------------------------------------------------------------------\u001b[0m",
      "\u001b[0;31mTypeError\u001b[0m                                 Traceback (most recent call last)",
      "\u001b[0;32m<ipython-input-24-4998ebe5f9ae>\u001b[0m in \u001b[0;36m<module>\u001b[0;34m()\u001b[0m\n\u001b[1;32m      5\u001b[0m \u001b[0;34m\u001b[0m\u001b[0m\n\u001b[1;32m      6\u001b[0m \u001b[0;32mfor\u001b[0m \u001b[0midx\u001b[0m\u001b[0;34m,\u001b[0m \u001b[0mvar\u001b[0m \u001b[0;32min\u001b[0m \u001b[0menumerate\u001b[0m\u001b[0;34m(\u001b[0m\u001b[0mmetjet_plot_vars\u001b[0m\u001b[0;34m)\u001b[0m\u001b[0;34m:\u001b[0m\u001b[0;34m\u001b[0m\u001b[0m\n\u001b[0;32m----> 7\u001b[0;31m     \u001b[0mplt_maker\u001b[0m\u001b[0;34m.\u001b[0m\u001b[0mmake_group_stacked_plot\u001b[0m\u001b[0;34m(\u001b[0m\u001b[0maxes1\u001b[0m\u001b[0;34m.\u001b[0m\u001b[0mflatten\u001b[0m\u001b[0;34m(\u001b[0m\u001b[0;34m)\u001b[0m\u001b[0;34m[\u001b[0m\u001b[0midx\u001b[0m\u001b[0;34m]\u001b[0m\u001b[0;34m,\u001b[0m \u001b[0mvar\u001b[0m\u001b[0;34m,\u001b[0m \u001b[0;36m0\u001b[0m\u001b[0;34m,\u001b[0m \u001b[0mlog\u001b[0m\u001b[0;34m=\u001b[0m\u001b[0;32mTrue\u001b[0m\u001b[0;34m)\u001b[0m\u001b[0;34m\u001b[0m\u001b[0m\n\u001b[0m\u001b[1;32m      8\u001b[0m     \u001b[0mxlabel\u001b[0m \u001b[0;34m=\u001b[0m \u001b[0mall_plot_xlabels\u001b[0m\u001b[0;34m[\u001b[0m\u001b[0mall_plot_vars\u001b[0m\u001b[0;34m.\u001b[0m\u001b[0mindex\u001b[0m\u001b[0;34m(\u001b[0m\u001b[0mvar\u001b[0m\u001b[0;34m)\u001b[0m\u001b[0;34m]\u001b[0m\u001b[0;34m\u001b[0m\u001b[0m\n\u001b[1;32m      9\u001b[0m     \u001b[0maxes1\u001b[0m\u001b[0;34m.\u001b[0m\u001b[0mflatten\u001b[0m\u001b[0;34m(\u001b[0m\u001b[0;34m)\u001b[0m\u001b[0;34m[\u001b[0m\u001b[0midx\u001b[0m\u001b[0;34m]\u001b[0m\u001b[0;34m.\u001b[0m\u001b[0mset_xlabel\u001b[0m\u001b[0;34m(\u001b[0m\u001b[0mxlabel\u001b[0m\u001b[0;34m)\u001b[0m\u001b[0;34m\u001b[0m\u001b[0m\n",
      "\u001b[0;32m/uscms/homes/m/mreid/CRAB/signal_region_analysis/CMSSW_10_2_1/src/iDM_analysis_plotting/utils/PlotMaker.py\u001b[0m in \u001b[0;36mmake_group_stacked_plot\u001b[0;34m(self, axis, plot_var, cut, *args, **kwargs)\u001b[0m\n\u001b[1;32m    122\u001b[0m                 \u001b[0maxis\u001b[0m\u001b[0;34m,\u001b[0m \u001b[0mnext\u001b[0m\u001b[0;34m(\u001b[0m\u001b[0miter\u001b[0m\u001b[0;34m(\u001b[0m\u001b[0mself\u001b[0m\u001b[0;34m.\u001b[0m\u001b[0mhistos\u001b[0m\u001b[0;34m[\u001b[0m\u001b[0mplot_var\u001b[0m\u001b[0;34m]\u001b[0m\u001b[0;34m.\u001b[0m\u001b[0mvalues\u001b[0m\u001b[0;34m(\u001b[0m\u001b[0;34m)\u001b[0m\u001b[0;34m)\u001b[0m\u001b[0;34m)\u001b[0m\u001b[0;34m.\u001b[0m\u001b[0medges\u001b[0m\u001b[0;34m,\u001b[0m\u001b[0;34m\u001b[0m\u001b[0m\n\u001b[1;32m    123\u001b[0m                 \u001b[0mnp\u001b[0m\u001b[0;34m.\u001b[0m\u001b[0marray\u001b[0m\u001b[0;34m(\u001b[0m\u001b[0;34m[\u001b[0m\u001b[0msorted_grp_histos\u001b[0m\u001b[0;34m[\u001b[0m\u001b[0mgrp\u001b[0m\u001b[0;34m]\u001b[0m\u001b[0;34m.\u001b[0m\u001b[0mcounts\u001b[0m\u001b[0;34m[\u001b[0m\u001b[0mcut\u001b[0m\u001b[0;34m]\u001b[0m \u001b[0;32mfor\u001b[0m \u001b[0mgrp\u001b[0m \u001b[0;32min\u001b[0m \u001b[0msorted_grp_histos\u001b[0m\u001b[0;34m]\u001b[0m\u001b[0;34m)\u001b[0m\u001b[0;34m,\u001b[0m\u001b[0;34m\u001b[0m\u001b[0m\n\u001b[0;32m--> 124\u001b[0;31m                 \u001b[0;34m[\u001b[0m\u001b[0msorted_grp_histos\u001b[0m\u001b[0;34m[\u001b[0m\u001b[0mgrp\u001b[0m\u001b[0;34m]\u001b[0m\u001b[0;34m.\u001b[0m\u001b[0mwgt_sqrd\u001b[0m\u001b[0;34m[\u001b[0m\u001b[0mcut\u001b[0m\u001b[0;34m]\u001b[0m \u001b[0;32mfor\u001b[0m \u001b[0mgrp\u001b[0m \u001b[0;32min\u001b[0m \u001b[0msorted_grp_histos\u001b[0m\u001b[0;34m]\u001b[0m\u001b[0;34m,\u001b[0m \u001b[0mlabel\u001b[0m\u001b[0;34m=\u001b[0m\u001b[0mlabels\u001b[0m\u001b[0;34m,\u001b[0m \u001b[0;34m*\u001b[0m\u001b[0margs\u001b[0m\u001b[0;34m,\u001b[0m \u001b[0;34m**\u001b[0m\u001b[0mkwargs\u001b[0m\u001b[0;34m\u001b[0m\u001b[0m\n\u001b[0m\u001b[1;32m    125\u001b[0m                 )\n\u001b[1;32m    126\u001b[0m \u001b[0;34m\u001b[0m\u001b[0m\n",
      "\u001b[0;32m/uscms/homes/m/mreid/CRAB/signal_region_analysis/CMSSW_10_2_1/src/iDM_analysis_plotting/utils/PlotMaker.py\u001b[0m in \u001b[0;36mplot_stacked_binned_data_error\u001b[0;34m(self, axis, bin_edges, data, wgt_sqrd, *args, **kwargs)\u001b[0m\n\u001b[1;32m     79\u001b[0m         \u001b[0;31m#The weights are the y-values of the input binned data\u001b[0m\u001b[0;34m\u001b[0m\u001b[0;34m\u001b[0m\u001b[0m\n\u001b[1;32m     80\u001b[0m         \u001b[0mweights\u001b[0m \u001b[0;34m=\u001b[0m \u001b[0mnp\u001b[0m\u001b[0;34m.\u001b[0m\u001b[0mtranspose\u001b[0m\u001b[0;34m(\u001b[0m\u001b[0mdata\u001b[0m\u001b[0;34m)\u001b[0m\u001b[0;34m\u001b[0m\u001b[0m\n\u001b[0;32m---> 81\u001b[0;31m         \u001b[0;32mreturn\u001b[0m \u001b[0mskh_plt\u001b[0m\u001b[0;34m.\u001b[0m\u001b[0mhist\u001b[0m\u001b[0;34m(\u001b[0m\u001b[0mx\u001b[0m\u001b[0;34m,\u001b[0m \u001b[0max\u001b[0m\u001b[0;34m=\u001b[0m\u001b[0maxis\u001b[0m\u001b[0;34m,\u001b[0m \u001b[0mbins\u001b[0m\u001b[0;34m=\u001b[0m\u001b[0mbin_edges\u001b[0m\u001b[0;34m,\u001b[0m \u001b[0mweights\u001b[0m\u001b[0;34m=\u001b[0m\u001b[0mweights\u001b[0m\u001b[0;34m,\u001b[0m \u001b[0merrorbars\u001b[0m\u001b[0;34m=\u001b[0m\u001b[0merrors\u001b[0m\u001b[0;34m,\u001b[0m \u001b[0mstacked\u001b[0m\u001b[0;34m=\u001b[0m\u001b[0;32mTrue\u001b[0m\u001b[0;34m,\u001b[0m \u001b[0;34m*\u001b[0m\u001b[0margs\u001b[0m\u001b[0;34m,\u001b[0m \u001b[0;34m**\u001b[0m\u001b[0mkwargs\u001b[0m\u001b[0;34m)\u001b[0m\u001b[0;34m\u001b[0m\u001b[0m\n\u001b[0m\u001b[1;32m     82\u001b[0m \u001b[0;34m\u001b[0m\u001b[0m\n\u001b[1;32m     83\u001b[0m     \u001b[0;32mdef\u001b[0m \u001b[0mmake_group_stacked_plot\u001b[0m\u001b[0;34m(\u001b[0m\u001b[0mself\u001b[0m\u001b[0;34m,\u001b[0m \u001b[0maxis\u001b[0m\u001b[0;34m,\u001b[0m \u001b[0mplot_var\u001b[0m\u001b[0;34m,\u001b[0m \u001b[0mcut\u001b[0m\u001b[0;34m,\u001b[0m \u001b[0;34m*\u001b[0m\u001b[0margs\u001b[0m\u001b[0;34m,\u001b[0m \u001b[0;34m**\u001b[0m\u001b[0mkwargs\u001b[0m\u001b[0;34m)\u001b[0m\u001b[0;34m:\u001b[0m\u001b[0;34m\u001b[0m\u001b[0m\n",
      "\u001b[0;32m/uscms/home/mreid/.local/lib/python3.6/site-packages/skhep/visual/mpl_plotter.py\u001b[0m in \u001b[0;36mhist\u001b[0;34m(x, bins, range, weights, errorbars, normed, scale, stacked, histtype, **kwargs)\u001b[0m\n\u001b[1;32m    180\u001b[0m \u001b[0;34m\u001b[0m\u001b[0m\n\u001b[1;32m    181\u001b[0m         hist_con = HistContainer(x, bins, range, weights, errorbars, normed, scale, stacked,\n\u001b[0;32m--> 182\u001b[0;31m                                  histtype, **kwargs)\n\u001b[0m\u001b[1;32m    183\u001b[0m \u001b[0;34m\u001b[0m\u001b[0m\n\u001b[1;32m    184\u001b[0m         \u001b[0;32mif\u001b[0m \u001b[0mhist_con\u001b[0m\u001b[0;34m.\u001b[0m\u001b[0merr_return\u001b[0m\u001b[0;34m:\u001b[0m\u001b[0;34m\u001b[0m\u001b[0m\n",
      "\u001b[0;32m/uscms/home/mreid/.local/lib/python3.6/site-packages/skhep/visual/mpl_plotter.py\u001b[0m in \u001b[0;36m__init__\u001b[0;34m(***failed resolving arguments***)\u001b[0m\n\u001b[1;32m    344\u001b[0m \u001b[0;34m\u001b[0m\u001b[0m\n\u001b[1;32m    345\u001b[0m         \u001b[0;32mif\u001b[0m \u001b[0mself\u001b[0m\u001b[0;34m.\u001b[0m\u001b[0merrorbars\u001b[0m\u001b[0;34m:\u001b[0m\u001b[0;34m\u001b[0m\u001b[0m\n\u001b[0;32m--> 346\u001b[0;31m             \u001b[0mself\u001b[0m\u001b[0;34m.\u001b[0m\u001b[0mdraw_errorbars\u001b[0m\u001b[0;34m(\u001b[0m\u001b[0;34m)\u001b[0m\u001b[0;34m\u001b[0m\u001b[0m\n\u001b[0m\u001b[1;32m    347\u001b[0m         \u001b[0;32mif\u001b[0m \u001b[0mself\u001b[0m\u001b[0;34m.\u001b[0m\u001b[0mlogy\u001b[0m\u001b[0;34m:\u001b[0m\u001b[0;34m\u001b[0m\u001b[0m\n\u001b[1;32m    348\u001b[0m             \u001b[0mself\u001b[0m\u001b[0;34m.\u001b[0m\u001b[0mset_log_vals\u001b[0m\u001b[0;34m(\u001b[0m\u001b[0;34m)\u001b[0m\u001b[0;34m\u001b[0m\u001b[0m\n",
      "\u001b[0;32m/uscms/home/mreid/.local/lib/python3.6/site-packages/skhep/visual/mpl_plotter.py\u001b[0m in \u001b[0;36mdraw_errorbars\u001b[0;34m(self)\u001b[0m\n\u001b[1;32m    748\u001b[0m \u001b[0;34m\u001b[0m\u001b[0m\n\u001b[1;32m    749\u001b[0m                     \u001b[0;32mif\u001b[0m \u001b[0mself\u001b[0m\u001b[0;34m.\u001b[0m\u001b[0mstacked\u001b[0m\u001b[0;34m:\u001b[0m\u001b[0;34m\u001b[0m\u001b[0m\n\u001b[0;32m--> 750\u001b[0;31m                         \u001b[0mpoly_patch\u001b[0m \u001b[0;34m=\u001b[0m \u001b[0mself\u001b[0m\u001b[0;34m.\u001b[0m\u001b[0mvis_object\u001b[0m\u001b[0;34m[\u001b[0m\u001b[0;34m-\u001b[0m\u001b[0;36m1\u001b[0m\u001b[0;34m]\u001b[0m\u001b[0;34m[\u001b[0m\u001b[0;36m0\u001b[0m\u001b[0;34m]\u001b[0m\u001b[0;34m.\u001b[0m\u001b[0mget_xy\u001b[0m\u001b[0;34m(\u001b[0m\u001b[0;34m)\u001b[0m\u001b[0;34m\u001b[0m\u001b[0m\n\u001b[0m\u001b[1;32m    751\u001b[0m                         self.ax.add_patch(Polygon(poly_patch[:(len(poly_patch)+1)//2], closed=False,\n\u001b[1;32m    752\u001b[0m                                           \u001b[0mfacecolor\u001b[0m\u001b[0;34m=\u001b[0m\u001b[0;34m'none'\u001b[0m\u001b[0;34m,\u001b[0m \u001b[0medgecolor\u001b[0m\u001b[0;34m=\u001b[0m\u001b[0;34m'k'\u001b[0m\u001b[0;34m,\u001b[0m \u001b[0mlinewidth\u001b[0m\u001b[0;34m=\u001b[0m\u001b[0;36m1\u001b[0m\u001b[0;34m,\u001b[0m \u001b[0malpha\u001b[0m\u001b[0;34m=\u001b[0m\u001b[0;36m0.5\u001b[0m\u001b[0;34m,\u001b[0m\u001b[0;34m\u001b[0m\u001b[0m\n",
      "\u001b[0;31mTypeError\u001b[0m: 'Polygon' object does not support indexing"
     ]
    },
    {
     "data": {
      "image/png": "[encoded data removed]",
      "text/plain": [
       "<matplotlib.figure.Figure at 0x7fcbb9ffaf28>"
      ]
     },
     "metadata": {},
     "output_type": "display_data"
    }
   ],
   "source": [
    "plt_maker = PM.PlotMaker(histos, bkgs)\n",
    "\n",
    "fig1, axes1 = plt.subplots(2, 2, figsize=(8,5))\n",
    "fig1.tight_layout(h_pad=4.0, w_pad=3.0)\n",
    "\n",
    "for idx, var in enumerate(metjet_plot_vars):\n",
    "    plt_maker.make_group_stacked_plot(axes1.flatten()[idx], var, 0, log=True)\n",
    "    xlabel = all_plot_xlabels[all_plot_vars.index(var)]\n",
    "    axes1.flatten()[idx].set_xlabel(xlabel)\n",
    "    \n",
    "axes1[0,1].legend(loc=(1.1,-0.55));"
   ]
  },
  {
   "cell_type": "code",
   "execution_count": null,
   "metadata": {
    "collapsed": true
   },
   "outputs": [],
   "source": [
    "plt_maker = PM.PlotMaker(histos, bkgs, ['5p25', '60p0'])\n",
    "\n",
    "fig1, axes1 = plt.subplots(2, 2, figsize=(8,5))\n",
    "fig1.tight_layout(h_pad=4.0, w_pad=3.0)\n",
    "\n",
    "for idx, var in enumerate(metjet_plot_vars):\n",
    "    plt_maker.make_group_plot(axes1.flatten()[idx], var, 0, density=True)\n",
    "    xlabel = all_plot_xlabels[all_plot_vars.index(var)]\n",
    "    axes1.flatten()[idx].set_xlabel(xlabel)\n",
    "    \n",
    "axes1[0,1].legend(loc=(1.1,-0.55));"
   ]
  },
  {
   "cell_type": "code",
   "execution_count": null,
   "metadata": {
    "collapsed": true
   },
   "outputs": [],
   "source": [
    "fig2, axes2 = plt.subplots(2,2, figsize=(8,5))\n",
    "fig2.tight_layout(h_pad=4.0, w_pad=3.0)\n",
    "for idx, var in enumerate(muons_plot_vars):\n",
    "    plt_maker.make_group_stacked_plot(axes2.flatten()[idx], var, 4, log=True)\n",
    "    xlabel = all_plot_xlabels[all_plot_vars.index(var)]\n",
    "    axes2.flatten()[idx].set_xlabel(xlabel)\n",
    "    \n",
    "axes2[0,1].legend(loc=(1.1,-0.55));"
   ]
  },
  {
   "cell_type": "code",
   "execution_count": null,
   "metadata": {
    "collapsed": true
   },
   "outputs": [],
   "source": [
    "fig2, axes2 = plt.subplots(2,2, figsize=(8,5))\n",
    "fig2.tight_layout(h_pad=4.0, w_pad=3.0)\n",
    "for idx, var in enumerate(muons_plot_vars):\n",
    "    plt_maker.make_group_plot(axes2.flatten()[idx], var, 0, density=True)\n",
    "    xlabel = all_plot_xlabels[all_plot_vars.index(var)]\n",
    "    axes2.flatten()[idx].set_xlabel(xlabel)\n",
    "    \n",
    "axes2[0,1].legend(loc=(1.1,-0.55));"
   ]
  },
  {
   "cell_type": "code",
   "execution_count": null,
   "metadata": {
    "collapsed": true
   },
   "outputs": [],
   "source": [
    "fig2, axes2 = plt.subplots(2,2, figsize=(8,5))\n",
    "fig2.tight_layout(h_pad=4.0, w_pad=3.0)\n",
    "for idx, var in enumerate(plot_vars_muons):\n",
    "    plt_maker.make_group_plot(axes2.flatten()[idx], var, bkg_grps, 0, density=True)\n",
    "    xlabel = all_plot_xlabels[all_plot_vars.index(var)]\n",
    "    axes2.flatten()[idx].set_xlabel(xlabel)\n",
    "axes2[0,1].legend(loc=(1.1,-0.55));"
   ]
  },
  {
   "cell_type": "markdown",
   "metadata": {},
   "source": [
    "# Displaced standalone muons"
   ]
  },
  {
   "cell_type": "code",
   "execution_count": null,
   "metadata": {
    "collapsed": true
   },
   "outputs": [],
   "source": [
    "with open('data/histos_objects_dsa.dat', 'rb') as histos_file:\n",
    "    histos_from_file_dsa = pickle.load(histos_file)"
   ]
  },
  {
   "cell_type": "code",
   "execution_count": null,
   "metadata": {
    "collapsed": true
   },
   "outputs": [],
   "source": [
    "plt_maker = PM.PlotMaker(histos_from_file_dsa)\n",
    "\n",
    "fig1, axes1 = plt.subplots(2, 2, figsize=(8,5))\n",
    "fig1.tight_layout(h_pad=4.0, w_pad=3.0)\n",
    "for idx, var in enumerate(plot_vars_metjet):\n",
    "    plt_maker.make_group_plot(axes1.flatten()[idx], var, bkg_grps, 0, density=True)\n",
    "    xlabel = all_plot_xlabels[all_plot_vars.index(var)]\n",
    "    axes1.flatten()[idx].set_xlabel(xlabel)\n",
    "axes1[0,1].legend(loc=(1.1,-0.55));"
   ]
  },
  {
   "cell_type": "code",
   "execution_count": null,
   "metadata": {
    "collapsed": true
   },
   "outputs": [],
   "source": [
    "fig2, axes2 = plt.subplots(2,2, figsize=(8,5))\n",
    "fig2.tight_layout(h_pad=4.0, w_pad=3.0)\n",
    "for idx, var in enumerate(plot_vars_muons):\n",
    "    plt_maker.make_group_plot(axes2.flatten()[idx], var, bkg_grps, 0, density=True)\n",
    "    xlabel = all_plot_xlabels[all_plot_vars.index(var)]\n",
    "    axes2.flatten()[idx].set_xlabel(xlabel)\n",
    "axes2[0,1].legend(loc=(1.1,-0.55));"
   ]
  },
  {
   "cell_type": "code",
   "execution_count": null,
   "metadata": {
    "collapsed": true
   },
   "outputs": [],
   "source": []
  }
 ],
 "metadata": {
  "kernelspec": {
   "display_name": "Python 3",
   "language": "python",
   "name": "python3"
  },
  "language_info": {
   "codemirror_mode": {
    "name": "ipython",
    "version": 3
   },
   "file_extension": ".py",
   "mimetype": "text/x-python",
   "name": "python",
   "nbconvert_exporter": "python",
   "pygments_lexer": "ipython3",
   "version": "3.6.4"
  }
 },
 "nbformat": 4,
 "nbformat_minor": 2
}
