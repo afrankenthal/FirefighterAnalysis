{
 "cells": [
  {
   "cell_type": "markdown",
   "metadata": {},
   "source": [
    "## Import libraries and init"
   ]
  },
  {
   "cell_type": "code",
   "execution_count": 1,
   "metadata": {
    "collapsed": false
   },
   "outputs": [
    {
     "name": "stdout",
     "output_type": "stream",
     "text": [
      "Welcome to JupyROOT 6.12/04\n"
     ]
    }
   ],
   "source": [
    "import uproot\n",
    "import ROOT\n",
    "import numpy as np\n",
    "import pandas as pd\n",
    "from collections import OrderedDict\n",
    "\n",
    "%matplotlib inline\n",
    "import matplotlib.pyplot as plt\n",
    "from mpl_toolkits.axes_grid1.inset_locator import inset_axes\n",
    "plt.style.use('default')\n",
    "plt.rcParams['grid.linestyle'] = ':'"
   ]
  },
  {
   "cell_type": "code",
   "execution_count": 2,
   "metadata": {
    "collapsed": false
   },
   "outputs": [
    {
     "data": {
      "text/plain": [
       "sys.version_info(major=3, minor=6, micro=3, releaselevel='final', serial=0)"
      ]
     },
     "execution_count": 2,
     "metadata": {},
     "output_type": "execute_result"
    }
   ],
   "source": [
    "import sys\n",
    "sys.version\n",
    "sys.version_info"
   ]
  },
  {
   "cell_type": "markdown",
   "metadata": {},
   "source": [
    "## Load ntuples from analyzer"
   ]
  },
  {
   "cell_type": "code",
   "execution_count": 3,
   "metadata": {
    "collapsed": false,
    "scrolled": false
   },
   "outputs": [
    {
     "name": "stdout",
     "output_type": "stream",
     "text": [
      "1 of 1: ~/nobackup/signal_region/2018/backgrounds/WWTo2L2Nu/output_1-5.root\n"
     ]
    }
   ],
   "source": [
    "#masses = [('60','20'),('6p0','2p0'),('52p5','5p0'),('5p25','0p5')]\n",
    "masses = [('60','20')]\n",
    "ctaus = [10]#, 10, 100, 1000]\n",
    "cuts = np.arange(0,6)\n",
    "# triggerPath = 'TRIG_dsa_HLT_DoubleMu3_DCA_PFMET50_PFMHT60'\n",
    "branchPath = 'SREffi_dsa'\n",
    "#baseDir = '../Firefighter/washAOD/'\n",
    "#fileName = lambda Mchi, dMchi, ctau: baseDir + f'Mchi-{Mchi}_dMchi-{dMchi}_ctau-{ctau}.root'\n",
    "\n",
    "#tres input\n",
    "#fileName = 'root://cmsxrootd.fnal.gov//store/group/lpcmetx/iDM/Ntuples/2018/backgrounds/WWJJToLNuLNu/WWJJToLNuLNu_EWK_13TeV-madgraph-pythia8/WWJJToLNuLNu/190309_053107/0000/output_1.root'\n",
    "#fileName = '/uscms/home/mreid/nobackup/signal_region/2018/GenFilter/trig/Mchi-60_dMchi-20_ctau-100.root'\n",
    "#fileName = '~/nobackup/signal_region/2018/backgrounds/WWJJToLNuLNu/WWJJToLNuLNu.root'\n",
    "fileName = '~/nobackup/signal_region/2018/backgrounds/WWTo2L2Nu/output_1-5.root'\n",
    "numParams = len(masses)*len(ctaus)\n",
    "countMasses = 0\n",
    "\n",
    "dfs = OrderedDict({})\n",
    "genInfo = OrderedDict({})\n",
    "numEvents = OrderedDict({})\n",
    "for (Mchi, dMchi) in masses:\n",
    "    countCtaus = 1\n",
    "    dfs[Mchi] = OrderedDict({})\n",
    "    numEvents[Mchi] = OrderedDict({})\n",
    "    genInfo[Mchi] = OrderedDict({})\n",
    "    for ctau in ctaus:\n",
    "        dfs[Mchi][ctau] = OrderedDict({})\n",
    "        genInfo[Mchi][ctau] = uproot.open(fileName)['GEN/gen'].pandas.df()\n",
    "        for cut in cuts:\n",
    "            dfs[Mchi][ctau][cut] = uproot.open(fileName)[branchPath + f'/cut0'].pandas.df()\n",
    "        print(f'{countMasses*len(ctaus)+countCtaus} of {numParams}: ' + fileName)\n",
    "        countCtaus += 1\n",
    "    countMasses += 1"
   ]
  },
  {
   "cell_type": "markdown",
   "metadata": {},
   "source": [
    "## Inspect data"
   ]
  },
  {
   "cell_type": "code",
   "execution_count": 4,
   "metadata": {
    "collapsed": false,
    "scrolled": false
   },
   "outputs": [
    {
     "data": {
      "image/png": "[encoded data removed]",
      "text/plain": [
       "<matplotlib.figure.Figure at 0x7f8e3d0417b8>"
      ]
     },
     "metadata": {},
     "output_type": "display_data"
    }
   ],
   "source": [
    "plt.hist(dfs['60'][10][0]['recoVxy'].dropna(), bins=50, log=True, histtype='step', density=False);\n",
    "plt.hist(dfs['60'][10][0]['recoDxy'].dropna(), bins=50, log=True, histtype='step', density=False);"
   ]
  },
  {
   "cell_type": "code",
   "execution_count": 5,
   "metadata": {
    "collapsed": true
   },
   "outputs": [],
   "source": [
    "from functools import reduce\n",
    "import operator"
   ]
  },
  {
   "cell_type": "markdown",
   "metadata": {},
   "source": [
    "## Inclusive cuts"
   ]
  },
  {
   "cell_type": "code",
   "execution_count": 6,
   "metadata": {
    "collapsed": false
   },
   "outputs": [
    {
     "data": {
      "text/html": [
       "<div>\n",
       "<style scoped>\n",
       "    .dataframe tbody tr th:only-of-type {\n",
       "        vertical-align: middle;\n",
       "    }\n",
       "\n",
       "    .dataframe tbody tr th {\n",
       "        vertical-align: top;\n",
       "    }\n",
       "\n",
       "    .dataframe thead th {\n",
       "        text-align: right;\n",
       "    }\n",
       "</style>\n",
       "<table border=\"1\" class=\"dataframe\">\n",
       "  <thead>\n",
       "    <tr style=\"text-align: right;\">\n",
       "      <th></th>\n",
       "      <th>60</th>\n",
       "    </tr>\n",
       "  </thead>\n",
       "  <tbody>\n",
       "    <tr>\n",
       "      <th>0</th>\n",
       "      <td>5629685</td>\n",
       "    </tr>\n",
       "    <tr>\n",
       "      <th>1</th>\n",
       "      <td>207627</td>\n",
       "    </tr>\n",
       "    <tr>\n",
       "      <th>2</th>\n",
       "      <td>33391</td>\n",
       "    </tr>\n",
       "    <tr>\n",
       "      <th>3</th>\n",
       "      <td>5845</td>\n",
       "    </tr>\n",
       "    <tr>\n",
       "      <th>4</th>\n",
       "      <td>309</td>\n",
       "    </tr>\n",
       "    <tr>\n",
       "      <th>5</th>\n",
       "      <td>105</td>\n",
       "    </tr>\n",
       "  </tbody>\n",
       "</table>\n",
       "</div>"
      ],
      "text/plain": [
       "        60\n",
       "0  5629685\n",
       "1   207627\n",
       "2    33391\n",
       "3     5845\n",
       "4      309\n",
       "5      105"
      ]
     },
     "execution_count": 6,
     "metadata": {},
     "output_type": "execute_result"
    }
   ],
   "source": [
    "mchi='5p25'\n",
    "cutFlowDict = OrderedDict()\n",
    "for mchi in ['60']:\n",
    "    cutFlowDict[mchi] = []\n",
    "    cutsCrit = [ dfs[mchi][10][0][f'cutsVec[{cut}]']==1 for cut in np.arange(0,6) ]\n",
    "    for cut in np.arange(0,6):\n",
    "        cutsToApply = reduce(operator.and_, cutsCrit[0:cut+1])\n",
    "        cutFlowDict[mchi].append(len(dfs[mchi][10][0][cutsToApply]))\n",
    "        \n",
    "cutFlowDf = pd.DataFrame.from_dict(cutFlowDict)\n",
    "cutFlowDf"
   ]
  },
  {
   "cell_type": "markdown",
   "metadata": {},
   "source": [
    "## Exclusive cuts"
   ]
  },
  {
   "cell_type": "code",
   "execution_count": 7,
   "metadata": {
    "collapsed": false
   },
   "outputs": [
    {
     "data": {
      "text/html": [
       "<div>\n",
       "<style scoped>\n",
       "    .dataframe tbody tr th:only-of-type {\n",
       "        vertical-align: middle;\n",
       "    }\n",
       "\n",
       "    .dataframe tbody tr th {\n",
       "        vertical-align: top;\n",
       "    }\n",
       "\n",
       "    .dataframe thead th {\n",
       "        text-align: right;\n",
       "    }\n",
       "</style>\n",
       "<table border=\"1\" class=\"dataframe\">\n",
       "  <thead>\n",
       "    <tr style=\"text-align: right;\">\n",
       "      <th></th>\n",
       "      <th>60</th>\n",
       "    </tr>\n",
       "  </thead>\n",
       "  <tbody>\n",
       "    <tr>\n",
       "      <th>0</th>\n",
       "      <td>5629685</td>\n",
       "    </tr>\n",
       "    <tr>\n",
       "      <th>1</th>\n",
       "      <td>207627</td>\n",
       "    </tr>\n",
       "    <tr>\n",
       "      <th>2</th>\n",
       "      <td>118828</td>\n",
       "    </tr>\n",
       "    <tr>\n",
       "      <th>3</th>\n",
       "      <td>1306342</td>\n",
       "    </tr>\n",
       "    <tr>\n",
       "      <th>4</th>\n",
       "      <td>253486</td>\n",
       "    </tr>\n",
       "    <tr>\n",
       "      <th>5</th>\n",
       "      <td>157425</td>\n",
       "    </tr>\n",
       "  </tbody>\n",
       "</table>\n",
       "</div>"
      ],
      "text/plain": [
       "        60\n",
       "0  5629685\n",
       "1   207627\n",
       "2   118828\n",
       "3  1306342\n",
       "4   253486\n",
       "5   157425"
      ]
     },
     "execution_count": 7,
     "metadata": {},
     "output_type": "execute_result"
    }
   ],
   "source": [
    "cutFlowDict = OrderedDict()\n",
    "for mchi in ['60']:\n",
    "    cutFlowDict[mchi] = []\n",
    "    cutsCrit = [ dfs[mchi][10][0][f'cutsVec[{cut}]']==1 for cut in np.arange(0,6) ]\n",
    "    for cut in np.arange(0,6):\n",
    "        cutsToApply = cutsCrit[cut]\n",
    "        cutFlowDict[mchi].append(len(dfs[mchi][10][0][cutsToApply]))\n",
    "        \n",
    "cutFlowDf = pd.DataFrame.from_dict(cutFlowDict)\n",
    "cutFlowDf"
   ]
  },
  {
   "cell_type": "code",
   "execution_count": 8,
   "metadata": {
    "collapsed": false
   },
   "outputs": [
    {
     "data": {
      "text/plain": [
       "(array([   18.,    73.,   102.,   171.,   209.,   263.,   286.,   358.,\n",
       "          409.,   441.,   507.,   550.,   673.,   741.,   746.,   770.,\n",
       "          802.,   918.,   909.,   979.,  1023.,   969.,   987.,  1045.,\n",
       "          999.,  1025.,  1058.,   993.,  1007.,   981.,   934.,   920.,\n",
       "          900.,   812.,   862.,   725.,   788.,   705.,   708.,   617.,\n",
       "          596.,   585.,   553.,   509.,   490.,   437.,   432.,   434.,\n",
       "          406.,   370.]),\n",
       " array([  0. ,   1.2,   2.4,   3.6,   4.8,   6. ,   7.2,   8.4,   9.6,\n",
       "         10.8,  12. ,  13.2,  14.4,  15.6,  16.8,  18. ,  19.2,  20.4,\n",
       "         21.6,  22.8,  24. ,  25.2,  26.4,  27.6,  28.8,  30. ,  31.2,\n",
       "         32.4,  33.6,  34.8,  36. ,  37.2,  38.4,  39.6,  40.8,  42. ,\n",
       "         43.2,  44.4,  45.6,  46.8,  48. ,  49.2,  50.4,  51.6,  52.8,\n",
       "         54. ,  55.2,  56.4,  57.6,  58.8,  60. ]),\n",
       " <a list of 1 Patch objects>)"
      ]
     },
     "execution_count": 8,
     "metadata": {},
     "output_type": "execute_result"
    },
    {
     "data": {
      "image/png": "[encoded data removed]",
      "text/plain": [
       "<matplotlib.figure.Figure at 0x7f8dfa46d208>"
      ]
     },
     "metadata": {},
     "output_type": "display_data"
    }
   ],
   "source": [
    "# plt.hist(genInfo['60'][10].query('subentry==5 | subentry==6')['pt'].groupby(level=0).max(),bins=50,range=(0,60),histtype='step')\n",
    "# plt.hist(genInfo['60'][10].query('subentry==5 | subentry==6')['pt'].groupby(level=0).min(),bins=50,range=(0,60),histtype='step')\n",
    "plt.hist(genInfo['60'][10].query('pid==13|pid==-13')['pt'].groupby(level=0).max(),bins=50,range=(0,60),histtype='step')\n",
    "plt.hist(genInfo['60'][10].query('pid==13|pid==-13')['pt'].groupby(level=0).min(),bins=50,range=(0,60),histtype='step')"
   ]
  },
  {
   "cell_type": "code",
   "execution_count": 9,
   "metadata": {
    "collapsed": false,
    "scrolled": true
   },
   "outputs": [
    {
     "data": {
      "text/html": [
       "<div>\n",
       "<style scoped>\n",
       "    .dataframe tbody tr th:only-of-type {\n",
       "        vertical-align: middle;\n",
       "    }\n",
       "\n",
       "    .dataframe tbody tr th {\n",
       "        vertical-align: top;\n",
       "    }\n",
       "\n",
       "    .dataframe thead th {\n",
       "        text-align: right;\n",
       "    }\n",
       "</style>\n",
       "<table border=\"1\" class=\"dataframe\">\n",
       "  <thead>\n",
       "    <tr style=\"text-align: right;\">\n",
       "      <th></th>\n",
       "      <th></th>\n",
       "      <th>pt</th>\n",
       "      <th>eta</th>\n",
       "    </tr>\n",
       "    <tr>\n",
       "      <th>entry</th>\n",
       "      <th>subentry</th>\n",
       "      <th></th>\n",
       "      <th></th>\n",
       "    </tr>\n",
       "  </thead>\n",
       "  <tbody>\n",
       "    <tr>\n",
       "      <th>2</th>\n",
       "      <th>4</th>\n",
       "      <td>37.848003</td>\n",
       "      <td>3.850603</td>\n",
       "    </tr>\n",
       "    <tr>\n",
       "      <th>6</th>\n",
       "      <th>5</th>\n",
       "      <td>27.036366</td>\n",
       "      <td>1.769359</td>\n",
       "    </tr>\n",
       "    <tr>\n",
       "      <th>10</th>\n",
       "      <th>4</th>\n",
       "      <td>46.254471</td>\n",
       "      <td>1.264866</td>\n",
       "    </tr>\n",
       "    <tr>\n",
       "      <th>16</th>\n",
       "      <th>5</th>\n",
       "      <td>11.262203</td>\n",
       "      <td>2.982728</td>\n",
       "    </tr>\n",
       "    <tr>\n",
       "      <th>18</th>\n",
       "      <th>5</th>\n",
       "      <td>30.780807</td>\n",
       "      <td>4.092708</td>\n",
       "    </tr>\n",
       "    <tr>\n",
       "      <th rowspan=\"2\" valign=\"top\">21</th>\n",
       "      <th>4</th>\n",
       "      <td>51.891670</td>\n",
       "      <td>1.576324</td>\n",
       "    </tr>\n",
       "    <tr>\n",
       "      <th>5</th>\n",
       "      <td>66.071510</td>\n",
       "      <td>0.779542</td>\n",
       "    </tr>\n",
       "    <tr>\n",
       "      <th rowspan=\"2\" valign=\"top\">22</th>\n",
       "      <th>4</th>\n",
       "      <td>26.776142</td>\n",
       "      <td>-0.752701</td>\n",
       "    </tr>\n",
       "    <tr>\n",
       "      <th>5</th>\n",
       "      <td>4.741927</td>\n",
       "      <td>2.744579</td>\n",
       "    </tr>\n",
       "    <tr>\n",
       "      <th>23</th>\n",
       "      <th>5</th>\n",
       "      <td>29.580214</td>\n",
       "      <td>2.058624</td>\n",
       "    </tr>\n",
       "    <tr>\n",
       "      <th>28</th>\n",
       "      <th>4</th>\n",
       "      <td>26.108618</td>\n",
       "      <td>-2.520487</td>\n",
       "    </tr>\n",
       "    <tr>\n",
       "      <th rowspan=\"2\" valign=\"top\">29</th>\n",
       "      <th>4</th>\n",
       "      <td>31.941139</td>\n",
       "      <td>3.637410</td>\n",
       "    </tr>\n",
       "    <tr>\n",
       "      <th>5</th>\n",
       "      <td>18.479868</td>\n",
       "      <td>2.426592</td>\n",
       "    </tr>\n",
       "    <tr>\n",
       "      <th>31</th>\n",
       "      <th>5</th>\n",
       "      <td>26.043800</td>\n",
       "      <td>0.382252</td>\n",
       "    </tr>\n",
       "    <tr>\n",
       "      <th>32</th>\n",
       "      <th>5</th>\n",
       "      <td>22.777195</td>\n",
       "      <td>0.207157</td>\n",
       "    </tr>\n",
       "    <tr>\n",
       "      <th>36</th>\n",
       "      <th>5</th>\n",
       "      <td>27.158884</td>\n",
       "      <td>-0.672802</td>\n",
       "    </tr>\n",
       "    <tr>\n",
       "      <th>37</th>\n",
       "      <th>4</th>\n",
       "      <td>21.968533</td>\n",
       "      <td>-3.571131</td>\n",
       "    </tr>\n",
       "    <tr>\n",
       "      <th>38</th>\n",
       "      <th>4</th>\n",
       "      <td>42.537258</td>\n",
       "      <td>-1.611456</td>\n",
       "    </tr>\n",
       "    <tr>\n",
       "      <th>39</th>\n",
       "      <th>5</th>\n",
       "      <td>52.041656</td>\n",
       "      <td>-1.631747</td>\n",
       "    </tr>\n",
       "    <tr>\n",
       "      <th>40</th>\n",
       "      <th>4</th>\n",
       "      <td>69.379616</td>\n",
       "      <td>-2.541196</td>\n",
       "    </tr>\n",
       "    <tr>\n",
       "      <th>41</th>\n",
       "      <th>4</th>\n",
       "      <td>35.459118</td>\n",
       "      <td>-1.913728</td>\n",
       "    </tr>\n",
       "    <tr>\n",
       "      <th>42</th>\n",
       "      <th>5</th>\n",
       "      <td>28.816572</td>\n",
       "      <td>-1.433538</td>\n",
       "    </tr>\n",
       "    <tr>\n",
       "      <th>44</th>\n",
       "      <th>5</th>\n",
       "      <td>83.421814</td>\n",
       "      <td>-1.251768</td>\n",
       "    </tr>\n",
       "    <tr>\n",
       "      <th rowspan=\"2\" valign=\"top\">45</th>\n",
       "      <th>4</th>\n",
       "      <td>13.346972</td>\n",
       "      <td>2.181069</td>\n",
       "    </tr>\n",
       "    <tr>\n",
       "      <th>5</th>\n",
       "      <td>22.164330</td>\n",
       "      <td>1.837352</td>\n",
       "    </tr>\n",
       "    <tr>\n",
       "      <th>48</th>\n",
       "      <th>4</th>\n",
       "      <td>44.418434</td>\n",
       "      <td>0.460712</td>\n",
       "    </tr>\n",
       "    <tr>\n",
       "      <th>50</th>\n",
       "      <th>4</th>\n",
       "      <td>43.289658</td>\n",
       "      <td>-1.326422</td>\n",
       "    </tr>\n",
       "    <tr>\n",
       "      <th>51</th>\n",
       "      <th>5</th>\n",
       "      <td>29.724977</td>\n",
       "      <td>2.553601</td>\n",
       "    </tr>\n",
       "    <tr>\n",
       "      <th>52</th>\n",
       "      <th>4</th>\n",
       "      <td>41.869350</td>\n",
       "      <td>-1.779899</td>\n",
       "    </tr>\n",
       "    <tr>\n",
       "      <th>53</th>\n",
       "      <th>4</th>\n",
       "      <td>41.455513</td>\n",
       "      <td>-1.274169</td>\n",
       "    </tr>\n",
       "    <tr>\n",
       "      <th>...</th>\n",
       "      <th>...</th>\n",
       "      <td>...</td>\n",
       "      <td>...</td>\n",
       "    </tr>\n",
       "    <tr>\n",
       "      <th>71754</th>\n",
       "      <th>4</th>\n",
       "      <td>81.789154</td>\n",
       "      <td>2.511581</td>\n",
       "    </tr>\n",
       "    <tr>\n",
       "      <th>71756</th>\n",
       "      <th>4</th>\n",
       "      <td>25.482063</td>\n",
       "      <td>4.341616</td>\n",
       "    </tr>\n",
       "    <tr>\n",
       "      <th>71760</th>\n",
       "      <th>5</th>\n",
       "      <td>47.680935</td>\n",
       "      <td>-0.324044</td>\n",
       "    </tr>\n",
       "    <tr>\n",
       "      <th>71761</th>\n",
       "      <th>4</th>\n",
       "      <td>30.713625</td>\n",
       "      <td>-2.904916</td>\n",
       "    </tr>\n",
       "    <tr>\n",
       "      <th>71762</th>\n",
       "      <th>4</th>\n",
       "      <td>73.455612</td>\n",
       "      <td>-0.787997</td>\n",
       "    </tr>\n",
       "    <tr>\n",
       "      <th>71763</th>\n",
       "      <th>4</th>\n",
       "      <td>56.480198</td>\n",
       "      <td>3.514266</td>\n",
       "    </tr>\n",
       "    <tr>\n",
       "      <th>71765</th>\n",
       "      <th>4</th>\n",
       "      <td>33.084457</td>\n",
       "      <td>-0.484128</td>\n",
       "    </tr>\n",
       "    <tr>\n",
       "      <th>71767</th>\n",
       "      <th>4</th>\n",
       "      <td>11.996681</td>\n",
       "      <td>-1.099593</td>\n",
       "    </tr>\n",
       "    <tr>\n",
       "      <th rowspan=\"2\" valign=\"top\">71768</th>\n",
       "      <th>4</th>\n",
       "      <td>35.463058</td>\n",
       "      <td>1.307021</td>\n",
       "    </tr>\n",
       "    <tr>\n",
       "      <th>5</th>\n",
       "      <td>75.715233</td>\n",
       "      <td>-0.217941</td>\n",
       "    </tr>\n",
       "    <tr>\n",
       "      <th>71769</th>\n",
       "      <th>5</th>\n",
       "      <td>17.998135</td>\n",
       "      <td>-0.576208</td>\n",
       "    </tr>\n",
       "    <tr>\n",
       "      <th>71771</th>\n",
       "      <th>5</th>\n",
       "      <td>19.065350</td>\n",
       "      <td>-2.725976</td>\n",
       "    </tr>\n",
       "    <tr>\n",
       "      <th>71773</th>\n",
       "      <th>4</th>\n",
       "      <td>37.823578</td>\n",
       "      <td>-1.561243</td>\n",
       "    </tr>\n",
       "    <tr>\n",
       "      <th rowspan=\"2\" valign=\"top\">71776</th>\n",
       "      <th>4</th>\n",
       "      <td>12.536593</td>\n",
       "      <td>-1.605351</td>\n",
       "    </tr>\n",
       "    <tr>\n",
       "      <th>5</th>\n",
       "      <td>50.780975</td>\n",
       "      <td>-2.910543</td>\n",
       "    </tr>\n",
       "    <tr>\n",
       "      <th>71777</th>\n",
       "      <th>4</th>\n",
       "      <td>58.280369</td>\n",
       "      <td>-3.072375</td>\n",
       "    </tr>\n",
       "    <tr>\n",
       "      <th>71778</th>\n",
       "      <th>4</th>\n",
       "      <td>148.047440</td>\n",
       "      <td>0.615274</td>\n",
       "    </tr>\n",
       "    <tr>\n",
       "      <th>71782</th>\n",
       "      <th>5</th>\n",
       "      <td>27.191494</td>\n",
       "      <td>1.730474</td>\n",
       "    </tr>\n",
       "    <tr>\n",
       "      <th rowspan=\"2\" valign=\"top\">71784</th>\n",
       "      <th>4</th>\n",
       "      <td>9.964464</td>\n",
       "      <td>2.233611</td>\n",
       "    </tr>\n",
       "    <tr>\n",
       "      <th>5</th>\n",
       "      <td>31.439816</td>\n",
       "      <td>1.688154</td>\n",
       "    </tr>\n",
       "    <tr>\n",
       "      <th>71787</th>\n",
       "      <th>4</th>\n",
       "      <td>21.845474</td>\n",
       "      <td>1.781734</td>\n",
       "    </tr>\n",
       "    <tr>\n",
       "      <th rowspan=\"2\" valign=\"top\">71790</th>\n",
       "      <th>4</th>\n",
       "      <td>41.447689</td>\n",
       "      <td>-3.383083</td>\n",
       "    </tr>\n",
       "    <tr>\n",
       "      <th>5</th>\n",
       "      <td>46.588772</td>\n",
       "      <td>-2.275404</td>\n",
       "    </tr>\n",
       "    <tr>\n",
       "      <th>71791</th>\n",
       "      <th>4</th>\n",
       "      <td>58.743652</td>\n",
       "      <td>2.075934</td>\n",
       "    </tr>\n",
       "    <tr>\n",
       "      <th>71796</th>\n",
       "      <th>5</th>\n",
       "      <td>44.397194</td>\n",
       "      <td>-0.361216</td>\n",
       "    </tr>\n",
       "    <tr>\n",
       "      <th>71797</th>\n",
       "      <th>5</th>\n",
       "      <td>10.008889</td>\n",
       "      <td>-2.039890</td>\n",
       "    </tr>\n",
       "    <tr>\n",
       "      <th>71798</th>\n",
       "      <th>4</th>\n",
       "      <td>56.504940</td>\n",
       "      <td>0.408092</td>\n",
       "    </tr>\n",
       "    <tr>\n",
       "      <th rowspan=\"2\" valign=\"top\">71801</th>\n",
       "      <th>4</th>\n",
       "      <td>41.863369</td>\n",
       "      <td>-1.386165</td>\n",
       "    </tr>\n",
       "    <tr>\n",
       "      <th>5</th>\n",
       "      <td>33.650066</td>\n",
       "      <td>-3.899497</td>\n",
       "    </tr>\n",
       "    <tr>\n",
       "      <th>71805</th>\n",
       "      <th>5</th>\n",
       "      <td>93.525490</td>\n",
       "      <td>-1.937464</td>\n",
       "    </tr>\n",
       "  </tbody>\n",
       "</table>\n",
       "<p>47788 rows × 2 columns</p>\n",
       "</div>"
      ],
      "text/plain": [
       "                        pt       eta\n",
       "entry subentry                      \n",
       "2     4          37.848003  3.850603\n",
       "6     5          27.036366  1.769359\n",
       "10    4          46.254471  1.264866\n",
       "16    5          11.262203  2.982728\n",
       "18    5          30.780807  4.092708\n",
       "21    4          51.891670  1.576324\n",
       "      5          66.071510  0.779542\n",
       "22    4          26.776142 -0.752701\n",
       "      5           4.741927  2.744579\n",
       "23    5          29.580214  2.058624\n",
       "28    4          26.108618 -2.520487\n",
       "29    4          31.941139  3.637410\n",
       "      5          18.479868  2.426592\n",
       "31    5          26.043800  0.382252\n",
       "32    5          22.777195  0.207157\n",
       "36    5          27.158884 -0.672802\n",
       "37    4          21.968533 -3.571131\n",
       "38    4          42.537258 -1.611456\n",
       "39    5          52.041656 -1.631747\n",
       "40    4          69.379616 -2.541196\n",
       "41    4          35.459118 -1.913728\n",
       "42    5          28.816572 -1.433538\n",
       "44    5          83.421814 -1.251768\n",
       "45    4          13.346972  2.181069\n",
       "      5          22.164330  1.837352\n",
       "48    4          44.418434  0.460712\n",
       "50    4          43.289658 -1.326422\n",
       "51    5          29.724977  2.553601\n",
       "52    4          41.869350 -1.779899\n",
       "53    4          41.455513 -1.274169\n",
       "...                    ...       ...\n",
       "71754 4          81.789154  2.511581\n",
       "71756 4          25.482063  4.341616\n",
       "71760 5          47.680935 -0.324044\n",
       "71761 4          30.713625 -2.904916\n",
       "71762 4          73.455612 -0.787997\n",
       "71763 4          56.480198  3.514266\n",
       "71765 4          33.084457 -0.484128\n",
       "71767 4          11.996681 -1.099593\n",
       "71768 4          35.463058  1.307021\n",
       "      5          75.715233 -0.217941\n",
       "71769 5          17.998135 -0.576208\n",
       "71771 5          19.065350 -2.725976\n",
       "71773 4          37.823578 -1.561243\n",
       "71776 4          12.536593 -1.605351\n",
       "      5          50.780975 -2.910543\n",
       "71777 4          58.280369 -3.072375\n",
       "71778 4         148.047440  0.615274\n",
       "71782 5          27.191494  1.730474\n",
       "71784 4           9.964464  2.233611\n",
       "      5          31.439816  1.688154\n",
       "71787 4          21.845474  1.781734\n",
       "71790 4          41.447689 -3.383083\n",
       "      5          46.588772 -2.275404\n",
       "71791 4          58.743652  2.075934\n",
       "71796 5          44.397194 -0.361216\n",
       "71797 5          10.008889 -2.039890\n",
       "71798 4          56.504940  0.408092\n",
       "71801 4          41.863369 -1.386165\n",
       "      5          33.650066 -3.899497\n",
       "71805 5          93.525490 -1.937464\n",
       "\n",
       "[47788 rows x 2 columns]"
      ]
     },
     "execution_count": 9,
     "metadata": {},
     "output_type": "execute_result"
    }
   ],
   "source": [
    "genInfo['60'][10].query('pid==13|pid==-13')[['pt','eta']]"
   ]
  },
  {
   "cell_type": "code",
   "execution_count": null,
   "metadata": {
    "collapsed": false
   },
   "outputs": [],
   "source": []
  },
  {
   "cell_type": "markdown",
   "metadata": {},
   "source": [
    "## Plot everything together"
   ]
  },
  {
   "cell_type": "markdown",
   "metadata": {},
   "source": [
    "To plot individual plots separately, copy relevant block of code and replace \"axes[i,j]\" with \"plt\", and take note that some of the functions change name, e.g. axes[i,j].set_xlabel() --> plt.xlabel() and axes[i,j].set_ylim() --> plt.ylim().\n",
    "\n",
    "The other option is to copy the block and add \"fig, ax = plt.subplots(1,1)\" at the top, and then do the replacement axes[i,j] --> ax elsewhere."
   ]
  },
  {
   "cell_type": "markdown",
   "metadata": {},
   "source": [
    "### Some plotting helper functions"
   ]
  },
  {
   "cell_type": "code",
   "execution_count": 24,
   "metadata": {
    "collapsed": false
   },
   "outputs": [],
   "source": [
    "insets = True\n",
    "build='stepfilled'\n",
    "iheight=\"65%\"\n",
    "iwidth=\"45%\"\n",
    "\n",
    "def plot_inset(data, axis, kwargs={}):\n",
    "    if 'bins' not in kwargs: kwargs['bins'] = 10\n",
    "    if 'histtype' not in kwargs: kwargs['histtype'] = build\n",
    "    if insets:\n",
    "        axins = inset_axes(axis, width=iwidth, height=iheight)\n",
    "        for (cut,datum) in enumerate(data):\n",
    "            ret = axins.hist(datum, log=True, **kwargs)\n",
    "            if cut == 1:\n",
    "                #axins.set_ylim(0,1.1*max(ret[0]))\n",
    "                axins.set_ylim(0.1,1.1*max(ret[0]))\n",
    "        return axins\n",
    "\n",
    "def plot_full(data, axis, kwargs={}, labels = []):\n",
    "    if 'bins' not in kwargs: kwargs['bins'] = 50\n",
    "    if 'histtype' not in kwargs: kwargs['histtype'] = build \n",
    "    for (cut,datum) in enumerate(data):\n",
    "        if len(labels) > 0:\n",
    "            axis.hist(datum, label=labels[cut],log=True, **kwargs)\n",
    "        else:\n",
    "            axis.hist(datum, **kwargs)"
   ]
  },
  {
   "cell_type": "code",
   "execution_count": 15,
   "metadata": {
    "collapsed": false
   },
   "outputs": [],
   "source": [
    "#cutsCrit = [ dfs[mchi][10][0][f'cutsVec[{cut}]']==1 for cut in np.arange(0,6) ]\n",
    "#for cut in np.arange(0,6):\n",
    "#    cutsToApply = reduce(operator.and_, cutsCrit[0:cut+1])\n",
    "#    dfs[mchi][10][0][ dfs[mchi][10][0][cutsToApply]]"
   ]
  },
  {
   "cell_type": "markdown",
   "metadata": {},
   "source": [
    "### Plot MET and jet variables, and cut-flow histo"
   ]
  },
  {
   "cell_type": "code",
   "execution_count": 25,
   "metadata": {
    "collapsed": false,
    "scrolled": false
   },
   "outputs": [
    {
     "data": {
      "text/plain": [
       "<matplotlib.legend.Legend at 0x7f8de6f9a9b0>"
      ]
     },
     "execution_count": 25,
     "metadata": {},
     "output_type": "execute_result"
    },
    {
     "data": {
      "image/png": "[encoded data removed]",
      "text/plain": [
       "<matplotlib.figure.Figure at 0x7f8de6fe3eb8>"
      ]
     },
     "metadata": {},
     "output_type": "display_data"
    }
   ],
   "source": [
    "mchi = '60'\n",
    "\n",
    "### Make subplot axes\n",
    "fig, axes = plt.subplots(2,2, figsize=(8,5))\n",
    "for row in axes:\n",
    "    for col in row:\n",
    "        col.set_ylabel('Events')\n",
    "# fig.suptitle(\"Signal region efficiency for m1 = 50 GeV, m2 = 55 GeV\")\n",
    "# fig.subplots_adjust(top=0.92)\n",
    "plt.tight_layout(h_pad=4.0, w_pad=3.0)\n",
    "# axes[1, 1].axis('off')\n",
    "\n",
    "### Histogram cut-flow of passing events \n",
    "counts = []\n",
    "cutsCrit = [ dfs[mchi][10][0][f'cutsVec[{cut}]']==1 for cut in np.arange(0,6) ]\n",
    "cuttype = [reduce(operator.and_, cutsCrit[0:cut+1]) for cut in np.arange(0,6)]\n",
    "for cut in np.arange(0,6):\n",
    "    #cutsToApply = reduce(operator.and_, cutsCrit[0:cut+1])\n",
    "    #dfs[mchi][10][0][ dfs[mchi][10][0][cutsToApply]]\n",
    "        #norm = len(dfs[mchi][10][f'cutsVec[0]']['recoPFMetPt'])\n",
    "    count = len(dfs[mchi][10][0][cuttype[cut]])\n",
    "    #count = len(dfs[mchi][10][0][cutsToApply])\n",
    "    norm = len(dfs[mchi][10][0][ dfs[mchi][10][0][f'cutsVec[0]']==1])\n",
    "    #count = len(dfs[mchi][10][0]['recoPFMetPt'])\n",
    "    #norm = len(dfs[mchi][10][0]['recoPFMetPt'])\n",
    "    counts.append(100*count/norm)\n",
    "axlabels = [f'cut{cut}' for cut in cuts[1:]]\n",
    "countseries = pd.Series.from_array(counts[1:])\n",
    "\n",
    "countseries.plot(ax=axes[0,0],kind='bar',color=['C1','C2','C3','C4','C5'])\n",
    "axes[0,0].set_xlabel('Cuts (inclusive)')\n",
    "axes[0,0].set_ylabel('Events passed (%)')\n",
    "axes[0,0].set_xticklabels(axlabels)\n",
    "axes[0,0].set_xticks(np.arange(0,len(cuts)))\n",
    "axes[0,0].set_ylim(0, 1.1*max(counts[1:]))\n",
    "\n",
    "rects = axes[0,0].patches\n",
    "\n",
    "labels = [\"%.2f%%\" % counts[i] for i in np.arange(1,len(rects)+1)]\n",
    "\n",
    "for rect, label in zip(rects, labels):\n",
    "    height = rect.get_height()\n",
    "    axes[0,0].text(rect.get_x() + rect.get_width() / 2, height, label,\n",
    "            ha='center', va='bottom')\n",
    "    \n",
    "### reco MET pT\n",
    "axes[0,1].set_xlabel('reco MET pT (GeV)')\n",
    "data = [dfs[mchi][10][0][cuttype[cut]]['recoPFMetPt'].dropna() for cut in cuts]\n",
    "#data = [dfs[mchi][10][0]['recoPFMetPt'].dropna() for cut in cuts]\n",
    "labels = [f'cut{cut}' for cut in cuts]\n",
    "plot_full(data, axes[0,1], dict({'range':(0,400)}), labels=labels)\n",
    "plot_inset(data, axes[0,1], dict({'range':(0,400),'bins':20}))\n",
    "\n",
    "### reco leading jet pT\n",
    "axes[1,0].set_xlabel('reco leading jet pT (GeV)')\n",
    "data = [dfs[mchi][10][0][cuttype[cut]]['recoPFJetPt'].dropna() for cut in cuts]\n",
    "#data = [dfs[mchi][10][0]['recoPFJetPt'].dropna() for cut in cuts]\n",
    "plot_full(data, axes[1,0], dict({'range':(0,400)}))\n",
    "plot_inset(data, axes[1,0], dict({'range':(0,400), 'bins':20}))\n",
    "\n",
    "### DeltaPhi b/w MET and muon pair\n",
    "axes[1,1].set_xlabel(r'$\\Delta\\phi$(MET, muon pair)')\n",
    "data = [abs((dfs[mchi][10][0][cuttype[cut]]['recoPFMetPhi'].dropna() - \n",
    "            dfs[mchi][10][0][cuttype[cut]]['recoPhi'].groupby(level=0).mean()).dropna()) for cut in cuts]\n",
    "#data = [abs((dfs[mchi][10][0]['recoPFMetPhi'].dropna() - \n",
    "#            dfs[mchi][10][0]['recoPhi'].groupby(level=0).mean()).dropna()) for cut in cuts]\n",
    "plot_full(data, axes[1,1])\n",
    "plot_inset(data, axes[1,1], dict({'range':(0,2)}))\n",
    "    \n",
    "### Make and place legend w.r.t. axis[0,1] (upper right)\n",
    "# axes[0,1].legend(loc=(0.3,-1.5), title='Cuts')\n",
    "axes[0,1].legend(loc=(1.1,-0.55), title='Cuts')"
   ]
  },
  {
   "cell_type": "markdown",
   "metadata": {},
   "source": [
    "### Plot muon-related variables"
   ]
  },
  {
   "cell_type": "code",
   "execution_count": 28,
   "metadata": {
    "collapsed": false
   },
   "outputs": [
    {
     "data": {
      "text/plain": [
       "<matplotlib.legend.Legend at 0x7f8df49e7f28>"
      ]
     },
     "execution_count": 28,
     "metadata": {},
     "output_type": "execute_result"
    },
    {
     "data": {
      "image/png": "[encoded data removed]",
      "text/plain": [
       "<matplotlib.figure.Figure at 0x7f8df7a5c6d8>"
      ]
     },
     "metadata": {},
     "output_type": "display_data"
    }
   ],
   "source": [
    "mchi = '60'\n",
    "\n",
    "fig, axes = plt.subplots(2,2, figsize=(8,5))\n",
    "for row in axes:\n",
    "    for col in row:\n",
    "        col.set_ylabel('Events')\n",
    "plt.tight_layout(h_pad=4.0, w_pad=3.0)\n",
    "\n",
    "### reco dSA leading muon pT\n",
    "axes[0,0].set_xlabel('reco dSA leading mu pT (GeV)')\n",
    "#data = [dfs[mchi][10][cut].query('subentry==0')['recoPt'].dropna() for cut in cuts]\n",
    "data = [dfs[mchi][10][0][cuttype[cut]].query('subentry==0')['recoPt'].dropna() for cut in cuts]\n",
    "plot_full(data, axes[0,0], dict({'range':(0,60)}))\n",
    "plot_inset(data, axes[0,0], dict({'bins':10,'range':(0,25)}))\n",
    "\n",
    "### reco dSA subleading muon pT\n",
    "axes[0,1].set_xlabel('reco dSA subleading mu pT (GeV)')\n",
    "#data = [dfs[mchi][10][cut].query('subentry==1')['recoPt'].dropna() for cut in cuts]\n",
    "data = [dfs[mchi][10][0][cuttype[cut]].query('subentry==1')['recoPt'].dropna() for cut in cuts]\n",
    "labels = [f'cut{cut}' for cut in cuts]\n",
    "plot_full(data, axes[0,1], dict({'range':(0,60)}), labels=labels)\n",
    "plot_inset(data, axes[0,1], dict({'bins':10,'range':(0,25)}))\n",
    "\n",
    "#### muon deltaR\n",
    "#axes[1,0].set_xlabel('muon pair dR')\n",
    "##data = [dfs[mchi][10][cut]['deltaR'].dropna() for cut in cuts]\n",
    "#data = [dfs[mchi][10][0][cuttype[cut]]['deltaR'].dropna() for cut in cuts]\n",
    "#plot_full(data, axes[1,0], dict({'range':(0,6)}))\n",
    "#plot_inset(data, axes[1,0], dict({'bins':10,'range':(0,0.25)}))\n",
    "\n",
    "### muon d0 (leading)\n",
    "axes[1,1].set_xlabel('muons reco d0 (mm)')\n",
    "#data = [np.sqrt(dfs[mchi][10][cut].query('subentry==0')['recoDz'].dropna()**2 + \n",
    "#                dfs[mchi][10][cut].query('subentry==0')['recoDxy'].dropna()**2) for cut in cuts]\n",
    "data = [np.sqrt(dfs[mchi][10][0][cuttype[cut]].query('subentry==0')['recoDz'].dropna()**2 + \n",
    "                dfs[mchi][10][0][cuttype[cut]].query('subentry==0')['recoDxy'].dropna()**2) for cut in cuts]\n",
    "plot_full(data, axes[1,1], dict({'range':(0,300)}))\n",
    "# axes[1,1].set_ylim(0,1000)\n",
    "plot_inset(data, axes[1,1], dict({'range':(0,100)}))\n",
    "\n",
    "### Make and place legend w.r.t. axis[0,1] (upper right)\n",
    "axes[0,1].legend(loc=(1.1,-0.55), title='Cuts')"
   ]
  },
  {
   "cell_type": "markdown",
   "metadata": {},
   "source": [
    "\n",
    "## Cut-flow table (old, keep just for comparison)"
   ]
  },
  {
   "cell_type": "code",
   "execution_count": null,
   "metadata": {
    "collapsed": false
   },
   "outputs": [],
   "source": [
    "cutflow = OrderedDict({})\n",
    "for m in ['5p25','6p0','52p5','60']:\n",
    "    counts = []\n",
    "    for cut in cuts:\n",
    "        count = len(dfs[m][10][cut]['recoPFMetPt'])\n",
    "        norm = len(dfs[m][10][0]['recoPFMetPt'])\n",
    "        counts.append(count)\n",
    "        countseries = pd.Series.from_array(counts[1:])\n",
    "        cutflow[m]=counts\n",
    "\n",
    "cutflowdf = pd.DataFrame.from_dict(cutflow)\n",
    "cutflowdf"
   ]
  },
  {
   "cell_type": "code",
   "execution_count": null,
   "metadata": {
    "collapsed": true
   },
   "outputs": [],
   "source": []
  }
 ],
 "metadata": {
  "kernelspec": {
   "display_name": "Python 3",
   "language": "python",
   "name": "python3"
  },
  "language_info": {
   "codemirror_mode": {
    "name": "ipython",
    "version": 3
   },
   "file_extension": ".py",
   "mimetype": "text/x-python",
   "name": "python",
   "nbconvert_exporter": "python",
   "pygments_lexer": "ipython3",
   "version": "3.6.3"
  }
 },
 "nbformat": 4,
 "nbformat_minor": 0
}
