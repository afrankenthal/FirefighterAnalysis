{
 "cells": [
  {
   "cell_type": "markdown",
   "metadata": {},
   "source": [
    "## Import libraries and init"
   ]
  },
  {
   "cell_type": "code",
   "execution_count": 1,
   "metadata": {},
   "outputs": [],
   "source": [
    "# import math\n",
    "# import operator\n",
    "import sys\n",
    "import time\n",
    "# from collections import OrderedDict\n",
    "# from functools import reduce\n",
    "import pickle\n",
    "import json\n",
    "from collections import OrderedDict\n",
    "\n",
    "%matplotlib inline\n",
    "import matplotlib.pyplot as plt\n",
    "import numpy as np\n",
    "import pandas as pd\n",
    "import uproot\n",
    "import math\n",
    "# from mpl_toolkits.axes_grid1.inset_locator import inset_axes\n",
    "# from skhep.visual import MplPlotter as skh_plt\n",
    "\n",
    "# import multiprocessing\n",
    "import concurrent.futures\n",
    "\n",
    "from XRootD import client\n",
    "from XRootD.client.flags import DirListFlags, StatInfoFlags, OpenFlags, MkDirFlags, QueryCode\n",
    "# import xrdfs_find"
   ]
  },
  {
   "cell_type": "code",
   "execution_count": 2,
   "metadata": {},
   "outputs": [],
   "source": [
    "%load_ext autoreload\n",
    "%autoreload 1\n",
    "%aimport utils.ObjectExtractor\n",
    "%aimport utils.PlotMaker\n",
    "%aimport utils.HistogramContainer\n",
    "%aimport utils.HistogramCalculator\n",
    "OE = utils.ObjectExtractor\n",
    "PM = utils.PlotMaker\n",
    "HCont = utils.HistogramContainer\n",
    "HCalc = utils.HistogramCalculator"
   ]
  },
  {
   "cell_type": "code",
   "execution_count": 3,
   "metadata": {},
   "outputs": [
    {
     "name": "stdout",
     "output_type": "stream",
     "text": [
      "sys.version_info(major=3, minor=6, micro=4, releaselevel='final', serial=0)\n",
      "0.24.2\n"
     ]
    }
   ],
   "source": [
    "print(sys.version_info)\n",
    "print(pd.__version__)\n",
    "# num_cores = multiprocessing.cpu_count()\n",
    "# print(num_cores)\n",
    "\n",
    "plt.style.use('default')\n",
    "plt.rcParams['grid.linestyle'] = ':'\n",
    "plt.rcParams.update({'font.size': 10})\n",
    "\n",
    "numCuts = np.arange(0,6)"
   ]
  },
  {
   "cell_type": "code",
   "execution_count": null,
   "metadata": {},
   "outputs": [],
   "source": [
    "#import uproot\n",
    "#import ROOT\n",
    "#import numpy as np\n",
    "#import pandas as pd\n",
    "#from collections import OrderedDict\n",
    "#import seaborn as sns\n",
    "#import math\n",
    "#\n",
    "#%matplotlib inline\n",
    "#import matplotlib.pyplot as plt\n",
    "#from mpl_toolkits.axes_grid1.inset_locator import inset_axes\n",
    "#plt.style.use('default')\n",
    "#plt.rcParams['grid.linestyle'] = ':'"
   ]
  },
  {
   "cell_type": "code",
   "execution_count": null,
   "metadata": {},
   "outputs": [],
   "source": [
    "#import sys\n",
    "#sys.version\n",
    "#sys.version_info"
   ]
  },
  {
   "cell_type": "code",
   "execution_count": null,
   "metadata": {},
   "outputs": [],
   "source": [
    "#print(sys.version_info)\n",
    "# num_cores = multiprocessing.cpu_count()\n",
    "# print(num_cores)\n",
    "\n",
    "\n",
    "#executor = concurrent.futures.ThreadPoolExecutor(48)\n",
    "#\n",
    "#plt.style.use('default')\n",
    "#plt.rcParams['grid.linestyle'] = ':'\n",
    "#plt.rcParams.update({'font.size': 10})\n",
    "#\n",
    "#numCuts = np.arange(0,6)\n",
    "#\n",
    "#branch_path = 'SREffi_gbm'\n",
    "#\n",
    "#labels = [ f'cut{cut}' for cut in numCuts ]\n",
    "#cut_descriptions = [\n",
    "#    'cut1: MET/MHT trigger fired (120 GeV)',\n",
    "#    'cut2: j1 pT > 120 GeV, <= 2j w/ pT > 30 GeV',\n",
    "#    'cut3: mu1 pT > 5 GeV, 0.1 < |dxy| < 700 cm',\n",
    "#    'cut4: mu2 pT > 5 GeV, 0.1 < |dxy| < 700 cm',\n",
    "#    r'cut5: $|\\Delta\\Phi$(MET, mu pair)| < 0.4',\n",
    "#]"
   ]
  },
  {
   "cell_type": "code",
   "execution_count": null,
   "metadata": {},
   "outputs": [],
   "source": [
    "#all_plot_vars = ['metpt', 'jetpt','metjetphi', 'metmuphi', 'leadingmupt', 'subleadingmupt', 'recodr', 'recovertex']\n",
    "#plot_vars_metjet = all_plot_vars[0:4] #['metpt', 'jetpt', 'metjetphi', 'metmuphi']\n",
    "#plot_vars_muons = all_plot_vars[4:8] #['leadingmupt', 'subleadingmupt', 'recodr', 'recovertex']\n",
    "#cutflow_vars = ['cutflow_incl', 'cutflow_excl']\n",
    "#all_plot_xlabels = [\n",
    "#    'MET [GeV]', 'Leading jet pT [GeV]', '$\\Delta\\Phi$(MET, jet)', '$\\Delta\\Phi$(MET, di-muon)',\n",
    "#    'Leading muon pT [GeV]', 'Subleading muon pT [GeV]', 'dR(muons)', 'Di-muon vertex [cm]']"
   ]
  },
  {
   "cell_type": "code",
   "execution_count": null,
   "metadata": {},
   "outputs": [],
   "source": [
    "#histos = {}\n",
    "#all_bins = {}\n",
    "#for plot_var in all_plot_vars:\n",
    "#    histos[plot_var] = {}\n",
    "#    all_bins[plot_var] = 60\n",
    "#histos['cutflow_incl'] = {}\n",
    "#histos['cutflow_excl'] = {}\n",
    "#histos['sumgenwgt'] = {}"
   ]
  },
  {
   "cell_type": "markdown",
   "metadata": {},
   "source": [
    "## Load ntuples from analyzer"
   ]
  },
  {
   "cell_type": "code",
   "execution_count": 5,
   "metadata": {},
   "outputs": [
    {
     "name": "stdout",
     "output_type": "stream",
     "text": [
      "1\n"
     ]
    },
    {
     "data": {
      "text/plain": [
       "[('Mchi-60p0_dMchi-20p0_ctau-1', 1)]"
      ]
     },
     "execution_count": 5,
     "metadata": {},
     "output_type": "execute_result"
    }
   ],
   "source": [
    "## new signal input\n",
    "with open('config/sig.json') as sigs_json_file:\n",
    "    sigs = json.load(sigs_json_file)\n",
    "\n",
    "xrdfs = client.FileSystem(\"root://cmseos.fnal.gov/\")\n",
    "\n",
    "redirector = 'root://cmsxrootd.fnal.gov'\n",
    "sig_base_dir = '/store/group/lpcmetx/iDM/Ntuples/2018/signal/'\n",
    "files = {}\n",
    "\n",
    "for sig, properties in sigs.items():\n",
    "    files[sig] = []\n",
    "    status, listing = xrdfs.dirlist(f'{sig_base_dir}/{properties[\"dir\"]}', DirListFlags.STAT)\n",
    "    for file in listing:\n",
    "        if '.root' in file.name:\n",
    "            files[sig].append(f'{redirector}/{sig_base_dir}/{properties[\"dir\"]}/{file.name}')\n",
    "num_files_total = np.sum(np.array([len(files[i]) for i in files]))\n",
    "print(num_files_total)\n",
    "[(i, len(files[i])) for i in files]"
   ]
  },
  {
   "cell_type": "code",
   "execution_count": 6,
   "metadata": {},
   "outputs": [
    {
     "name": "stdout",
     "output_type": "stream",
     "text": [
      "Processing signal Mchi-60p0_dMchi-20p0_ctau-1 (1/1)\n",
      "Reading file 1 of 1, global 1 of 1 (0.00%)\n"
     ]
    },
    {
     "ename": "KeyError",
     "evalue": "not found: b'cutsTree'\n in file: root://cmsxrootd.fnal.gov//store/group/lpcmetx/iDM/Ntuples/2018/signal//iDMAnalysis/iDMAnalysis_Mchi-6p0_dMchi-2p0_ctau-1.root",
     "output_type": "error",
     "traceback": [
      "\u001b[0;31m---------------------------------------------------------------------------\u001b[0m",
      "\u001b[0;31mKeyError\u001b[0m                                  Traceback (most recent call last)",
      "\u001b[0;32m<timed exec>\u001b[0m in \u001b[0;36m<module>\u001b[0;34m\u001b[0m\n",
      "\u001b[0;32m~/nobackup/tresenv1/lib/python3.6/site-packages/uproot/rootio.py\u001b[0m in \u001b[0;36m__getitem__\u001b[0;34m(self, name)\u001b[0m\n\u001b[1;32m    236\u001b[0m \u001b[0;34m\u001b[0m\u001b[0m\n\u001b[1;32m    237\u001b[0m     \u001b[0;32mdef\u001b[0m \u001b[0m__getitem__\u001b[0m\u001b[0;34m(\u001b[0m\u001b[0mself\u001b[0m\u001b[0;34m,\u001b[0m \u001b[0mname\u001b[0m\u001b[0;34m)\u001b[0m\u001b[0;34m:\u001b[0m\u001b[0;34m\u001b[0m\u001b[0m\n\u001b[0;32m--> 238\u001b[0;31m         \u001b[0;32mreturn\u001b[0m \u001b[0mself\u001b[0m\u001b[0;34m.\u001b[0m\u001b[0mget\u001b[0m\u001b[0;34m(\u001b[0m\u001b[0mname\u001b[0m\u001b[0;34m)\u001b[0m\u001b[0;34m\u001b[0m\u001b[0m\n\u001b[0m\u001b[1;32m    239\u001b[0m \u001b[0;34m\u001b[0m\u001b[0m\n\u001b[1;32m    240\u001b[0m     \u001b[0;32mdef\u001b[0m \u001b[0m__len__\u001b[0m\u001b[0;34m(\u001b[0m\u001b[0mself\u001b[0m\u001b[0;34m)\u001b[0m\u001b[0;34m:\u001b[0m\u001b[0;34m\u001b[0m\u001b[0m\n",
      "\u001b[0;32m~/nobackup/tresenv1/lib/python3.6/site-packages/uproot/rootio.py\u001b[0m in \u001b[0;36mget\u001b[0;34m(self, name, cycle)\u001b[0m\n\u001b[1;32m    334\u001b[0m             \u001b[0mout\u001b[0m \u001b[0;34m=\u001b[0m \u001b[0mself\u001b[0m\u001b[0;34m\u001b[0m\u001b[0m\n\u001b[1;32m    335\u001b[0m             \u001b[0;32mfor\u001b[0m \u001b[0mn\u001b[0m \u001b[0;32min\u001b[0m \u001b[0mname\u001b[0m\u001b[0;34m.\u001b[0m\u001b[0msplit\u001b[0m\u001b[0;34m(\u001b[0m\u001b[0;34mb\"/\"\u001b[0m\u001b[0;34m)\u001b[0m\u001b[0;34m:\u001b[0m\u001b[0;34m\u001b[0m\u001b[0m\n\u001b[0;32m--> 336\u001b[0;31m                 \u001b[0mout\u001b[0m \u001b[0;34m=\u001b[0m \u001b[0mout\u001b[0m\u001b[0;34m.\u001b[0m\u001b[0mget\u001b[0m\u001b[0;34m(\u001b[0m\u001b[0mn\u001b[0m\u001b[0;34m,\u001b[0m \u001b[0mcycle\u001b[0m\u001b[0;34m)\u001b[0m\u001b[0;34m\u001b[0m\u001b[0m\n\u001b[0m\u001b[1;32m    337\u001b[0m             \u001b[0;32mreturn\u001b[0m \u001b[0mout\u001b[0m\u001b[0;34m\u001b[0m\u001b[0m\n\u001b[1;32m    338\u001b[0m \u001b[0;34m\u001b[0m\u001b[0m\n",
      "\u001b[0;32m~/nobackup/tresenv1/lib/python3.6/site-packages/uproot/rootio.py\u001b[0m in \u001b[0;36mget\u001b[0;34m(self, name, cycle)\u001b[0m\n\u001b[1;32m    356\u001b[0m                 \u001b[0;32mreturn\u001b[0m \u001b[0mlast\u001b[0m\u001b[0;34m.\u001b[0m\u001b[0mget\u001b[0m\u001b[0;34m(\u001b[0m\u001b[0;34m)\u001b[0m\u001b[0;34m\u001b[0m\u001b[0m\n\u001b[1;32m    357\u001b[0m             \u001b[0;32melif\u001b[0m \u001b[0mcycle\u001b[0m \u001b[0;32mis\u001b[0m \u001b[0;32mNone\u001b[0m\u001b[0;34m:\u001b[0m\u001b[0;34m\u001b[0m\u001b[0m\n\u001b[0;32m--> 358\u001b[0;31m                 \u001b[0;32mraise\u001b[0m \u001b[0m_KeyError\u001b[0m\u001b[0;34m(\u001b[0m\u001b[0;34m\"not found: {0}\\n in file: {1}\"\u001b[0m\u001b[0;34m.\u001b[0m\u001b[0mformat\u001b[0m\u001b[0;34m(\u001b[0m\u001b[0mrepr\u001b[0m\u001b[0;34m(\u001b[0m\u001b[0mname\u001b[0m\u001b[0;34m)\u001b[0m\u001b[0;34m,\u001b[0m \u001b[0mself\u001b[0m\u001b[0;34m.\u001b[0m\u001b[0m_context\u001b[0m\u001b[0;34m.\u001b[0m\u001b[0msourcepath\u001b[0m\u001b[0;34m)\u001b[0m\u001b[0;34m)\u001b[0m\u001b[0;34m\u001b[0m\u001b[0m\n\u001b[0m\u001b[1;32m    359\u001b[0m             \u001b[0;32melse\u001b[0m\u001b[0;34m:\u001b[0m\u001b[0;34m\u001b[0m\u001b[0m\n\u001b[1;32m    360\u001b[0m                 \u001b[0;32mraise\u001b[0m \u001b[0m_KeyError\u001b[0m\u001b[0;34m(\u001b[0m\u001b[0;34m\"not found: {0} with cycle {1}\\n in file: {2}\"\u001b[0m\u001b[0;34m.\u001b[0m\u001b[0mformat\u001b[0m\u001b[0;34m(\u001b[0m\u001b[0mrepr\u001b[0m\u001b[0;34m(\u001b[0m\u001b[0mname\u001b[0m\u001b[0;34m)\u001b[0m\u001b[0;34m,\u001b[0m \u001b[0mcycle\u001b[0m\u001b[0;34m,\u001b[0m \u001b[0mself\u001b[0m\u001b[0;34m.\u001b[0m\u001b[0m_context\u001b[0m\u001b[0;34m.\u001b[0m\u001b[0msourcepath\u001b[0m\u001b[0;34m)\u001b[0m\u001b[0;34m)\u001b[0m\u001b[0;34m\u001b[0m\u001b[0m\n",
      "\u001b[0;31mKeyError\u001b[0m: not found: b'cutsTree'\n in file: root://cmsxrootd.fnal.gov//store/group/lpcmetx/iDM/Ntuples/2018/signal//iDMAnalysis/iDMAnalysis_Mchi-6p0_dMchi-2p0_ctau-1.root"
     ]
    }
   ],
   "source": [
    "%%time\n",
    "genDfs = OrderedDict({})\n",
    "genDfsload = OrderedDict({})\n",
    "recoDfs = OrderedDict({})\n",
    "recoDfsload = OrderedDict({})\n",
    "MAX_FILES=None # To load all possible files\n",
    "#MAX_FILES=4 # For testing\n",
    "\n",
    "\n",
    "global_file_counter = 1\n",
    "\n",
    "for sig in sigs:\n",
    "    \n",
    "    print(f'Processing signal {sig} ({(list(sigs.keys())).index(sig)+1}/{len(sigs)})')\n",
    "    \n",
    "    Mchi = sig.split('_dMchi')[0].split('Mchi-')[1]\n",
    "    ctau = sig.split('ctau-')[1]\n",
    "    genDfs[Mchi] = OrderedDict({})\n",
    "    genDfsload[Mchi] = OrderedDict({})\n",
    "    genDfsload[Mchi][ctau] =[]\n",
    "    recoDfs[Mchi] = OrderedDict({})\n",
    "    recoDfsload[Mchi] = OrderedDict({})\n",
    "    recoDfsload[Mchi][ctau] =[]\n",
    "    ### Load data\n",
    "    file_counter = 1\n",
    "    for file in files[sig][slice(0,MAX_FILES)]:\n",
    "        \n",
    "        if file_counter % 10 == 1:\n",
    "            print(f'Reading file {file_counter} of {len(files[sig])},'\n",
    "                  f' global {global_file_counter} of {num_files_total}'\n",
    "                  f' ({100*(global_file_counter-1)/num_files_total:.2f}%)')\n",
    "        file_counter += 1\n",
    "        global_file_counter += 1\n",
    "        \n",
    "        ### Open ROOT file and get tree\n",
    "        genDfsload1 = uproot.open(file)['GEN/gen']\n",
    "        genDfsload[Mchi][ctau].append(genDfsload1.pandas.df(['pid','pt','eta','phi','vxy','vz']))\n",
    "        recoDfsload1 = uproot.open(file)['SREffi_dsa/cutsTree']\n",
    "        recoDfsload[Mchi][ctau].append(recoDfsload1.pandas.df(['fired']))\n",
    "\n",
    "        #recoDfs[Mchi][ctau] = uproot.open(file)['SREffi_dsa/cutsTree']\n",
    "        \n",
    "        ### Make pandas dataframes and create all objects that will be passed to histo functions\n",
    "        #obj_extractor = OE.ObjectExtractor(tree)\n",
    "        #objects = obj_extractor.get_all()\n",
    "    genDfs[Mchi][ctau]= pd.concat(genDfsload[Mchi][ctau])\n",
    "    recoDfs[Mchi][ctau]= pd.concat(recoDfsload[Mchi][ctau])\n",
    "#print(recoDfs['60p0']['1'])"
   ]
  },
  {
   "cell_type": "code",
   "execution_count": null,
   "metadata": {},
   "outputs": [],
   "source": [
    "recoDfs['60p0']['1'].join(genDfs['60p0']['1'])"
   ]
  },
  {
   "cell_type": "code",
   "execution_count": null,
   "metadata": {},
   "outputs": [],
   "source": [
    "#%%time\n",
    "#genDfs = OrderedDict({})\n",
    "#recoDfs = OrderedDict({})\n",
    "#MAX_FILES=None # To load all possible files\n",
    "# MAX_FILES=1 # For testing\n",
    "#\n",
    "#\n",
    "#global_file_counter = 1\n",
    "#\n",
    "#for sig in sigs:\n",
    "#    \n",
    "#    print(f'Processing signal {sig} ({(list(sigs.keys())).index(sig)+1}/{len(sigs)})')\n",
    "#    \n",
    "#    Mchi = sig.split('_dMchi')[0].split('Mchi-')[1]\n",
    "#    ctau = sig.split('ctau-')[1]\n",
    "#    genDfs[Mchi] = OrderedDict({})\n",
    "#    recoDfs[Mchi] = OrderedDict({})\n",
    "#    ### Load data\n",
    "#    file_counter = 1\n",
    "#    for file in files[sig][slice(0,MAX_FILES)]:\n",
    "#        \n",
    "#        if file_counter % 10 == 1:\n",
    "#            print(f'Reading file {file_counter} of {len(files[sig])},'\n",
    "#                  f' global {global_file_counter} of {num_files_total}'\n",
    "#                  f' ({100*(global_file_counter-1)/num_files_total:.2f}%)')\n",
    "#        file_counter += 1\n",
    "#        global_file_counter += 1\n",
    "#        \n",
    "#        ### Open ROOT file and get tree\n",
    "#        genDfs[Mchi][ctau] = uproot.open(file)['GEN/gen']\n",
    "#        recoDfs[Mchi][ctau] = uproot.open(file)['SREffi_dsa/cutsTree']\n",
    "#        \n",
    "#        ### Make pandas dataframes and create all objects that will be passed to histo functions\n",
    "#        #obj_extractor = OE.ObjectExtractor(tree)\n",
    "#        #objects = obj_extractor.get_all()\n",
    "#"
   ]
  },
  {
   "cell_type": "code",
   "execution_count": null,
   "metadata": {},
   "outputs": [],
   "source": [
    "#masses = [('60','20'),('52p5','5p0'),('6p0','2p0'),('5p25','0p5')]\n",
    "#mchis = ['60', '52p5', '6p0', '5p25']\n",
    "#ctaus = [1, 10, 100, 1000]\n",
    "\n",
    "#branchFolder = 'RECO_dsa'\n",
    "# baseDir = '../Firefighter/washAOD/trigger2018Studies/'\n",
    "#baseDir = '../Firefighter/washAOD/trigger2017Studies/'\n",
    "#fileName = lambda Mchi, dMchi, ctau: baseDir + f'Mchi-{Mchi}_dMchi-{dMchi}_ctau-{ctau}.root'\n",
    "\n",
    "#numParams = len(masses)*len(ctaus)\n",
    "#count = 1\n",
    "\n",
    "#recoDfs = OrderedDict({})\n",
    "#genDfs = OrderedDict({})\n",
    "#for (Mchi, dMchi) in masses:\n",
    "#    recoDfs[Mchi] = OrderedDict({})\n",
    "#    genDfs[Mchi] = OrderedDict({})\n",
    "#    for ctau in ctaus:\n",
    "#         recoDfs[Mchi][ctau] = uproot.open(fileName(Mchi, dMchi, ctau))['RECO_dsa' + '/recoEffiForMuTrack'].pandas.df()\n",
    "#        recoDfs[Mchi][ctau] = uproot.open(fileName(Mchi, dMchi, ctau))['TRIGself_dsa_HLT_PFMET120_PFMHT120' + '/trigSelfEffiForMuTrack'].pandas.df()\n",
    "#        genDfs[Mchi][ctau] = uproot.open(fileName(Mchi, dMchi, ctau))['GEN' + '/gen'].pandas.df()\n",
    "#        print(f'{count} of {numParams}: ' + fileName(Mchi, dMchi, ctau))\n",
    "#        count += 1"
   ]
  },
  {
   "cell_type": "markdown",
   "metadata": {},
   "source": [
    "## Muon pT plots"
   ]
  },
  {
   "cell_type": "code",
   "execution_count": null,
   "metadata": {},
   "outputs": [],
   "source": [
    "labels = {'60p0':'50 GeV, $\\Delta=0.4$', '52p5':'50 GeV, $\\Delta=0.1$', \\\n",
    "         '6p0':'5   GeV, $\\Delta=0.4$', '5p25':'5   GeV, $\\Delta=0.1$'}\n",
    "mchis = ['60p0']#, '52p5', '6p0', '5p25']\n",
    "ctaus = ['1']#, 10, 100, 1000]\n",
    "#ctau = '1'\n",
    "fig, ax = plt.subplots(1,2, figsize=(10,3.5))\n",
    "genNewDfs = OrderedDict({})\n",
    "recoNewDfs = OrderedDict({})\n",
    "leadingMuPt = OrderedDict({})\n",
    "subleadingMuPt = OrderedDict({})\n",
    "for mchi in mchis:\n",
    "    genNewDfs[mchi] = OrderedDict({})\n",
    "    recoNewDfs[mchi] = OrderedDict({})\n",
    "    leadingMuPt[mchi] = OrderedDict({})\n",
    "    for ctau in ctaus:\n",
    "        #genNewDfs[mchi][ctau] = genDfs[mchi][ctau].pandas.df(['pid','pt','eta','phi'])\n",
    "        #leadingMuPt[mchi][ctau] = genNewDfs[mchi][ctau].query('pid==13|pid==-13').groupby('entry')['pt'].max()\n",
    "        leadingMuPt[mchi][ctau] = genDfs[mchi][ctau].query('pid==13|pid==-13').groupby('entry')['pt'].max()\n",
    "    #print(genNewDfs[mchi][ctau])\n",
    "        ax[0].hist(leadingMuPt[mchi][ctau], bins=50, range=(0,200), histtype='step', density=True, log=True, label=labels[mchi]);\n",
    "ax[0].set_ylim([0.0001, 1])\n",
    "ax[0].set_xlabel('Leading muon pT (GeV)')\n",
    "ax[0].set_ylabel('A. U.')\n",
    "ax[0].legend();\n",
    "\n",
    "for mchi in mchis:\n",
    "    subleadingMuPt[mchi] = OrderedDict({})\n",
    "    for ctau in ctaus:\n",
    "        subleadingMuPt[mchi][ctau] = genDfs[mchi][ctau].query('pid==13|pid==-13').groupby('entry')['pt'].min()\n",
    "        ax[1].hist(subleadingMuPt[mchi][ctau], bins=50, range=(0,30), histtype='step', density=True, log=True, label=labels[mchi]);\n",
    "ax[1].set_ylim([0.0001, 1.2])\n",
    "ax[1].set_xlabel('Subleading muon pT (GeV)')\n",
    "ax[1].set_ylabel('A. U.')\n",
    "ax[1].legend();\n"
   ]
  },
  {
   "cell_type": "markdown",
   "metadata": {},
   "source": [
    "## Muon phi and dR plots"
   ]
  },
  {
   "cell_type": "code",
   "execution_count": null,
   "metadata": {},
   "outputs": [],
   "source": [
    "# Helper function to normalize angle differences to [-Pi, Pi]\n",
    "# cond: if abs(phidiff) > Pi => phidiff = phidiff - 2*Pi*sign(phidiff)\n",
    "def reducephi(row):\n",
    "    if abs(row) > math.pi:\n",
    "        return row - 2*math.pi*(row/abs(row))\n",
    "    return row"
   ]
  },
  {
   "cell_type": "code",
   "execution_count": null,
   "metadata": {
    "scrolled": false
   },
   "outputs": [],
   "source": [
    "# plt.figure(figsize=(5,3.5))\n",
    "fig, ax = plt.subplots(1,2, figsize=(10,3.5))\n",
    "\n",
    "for mchi in mchis:\n",
    "    #reducedGenDf_mu = genNewDfs[mchi][ctau].query('pid==13|pid==-13')[['eta','phi']]#.unstack(level=1)\n",
    "    reducedGenDf_mu = genDfs[mchi][ctau][genDfs[mchi][ctau]['pid']==13].reset_index(level=1)#[['eta','phi']]\n",
    "    reducedGenDf_antimu = genDfs[mchi][ctau][genDfs[mchi][ctau]['pid']==-13].reset_index(level=1)#[['eta','phi']]\n",
    "    #reducedGenDf_antimu = genNewDfs[mchi][ctau].query('pid==-13')[['eta','phi']].unstack(level=1)\n",
    "    #print('mu:',reducedGenDf_mu)\n",
    "    #print('anti',reducedGenDf_antimu['phi'] )\n",
    "    #reducedGenDf.rename({5:'mu1',6:'mu2'}, axis='columns', inplace=True)\n",
    "    #phidiff = reducedGenDf['phi']['mu1'] - reducedGenDf['phi']['mu2']\n",
    "    phidiff = reducedGenDf_mu['phi'].sub(reducedGenDf_antimu['phi'])\n",
    "    #print(phidiff)\n",
    "#     phidiff = pd.concat([abs((math.pi - abs(reducedGenDf['phi']['mu1'])) + (math.pi - abs(reducedGenDf['phi','mu2']))), \\\n",
    "#         abs(reducedGenDf['phi']['mu1'] - reducedGenDf['phi']['mu2'])], axis=1).min(axis=1)\n",
    "    reducedphidiff = phidiff.apply(reducephi)\n",
    "    ax[0].hist(reducedphidiff,bins=50, density=True, histtype='step', label=labels[mchi], log=False);\n",
    "\n",
    "ax[0].set_xlabel('Muon pair $\\Delta\\phi$')\n",
    "ax[0].set_ylabel('A. U.')\n",
    "ax[0].legend();\n",
    "\n",
    "for mchi in mchis:\n",
    "    reducedGenDf_mu = genDfs[mchi][ctau][genDfs[mchi][ctau]['pid']==13].reset_index(level=1)#[['eta','phi']]\n",
    "    reducedGenDf_antimu = genDfs[mchi][ctau][genDfs[mchi][ctau]['pid']==-13].reset_index(level=1)#[['eta','phi']]\n",
    "    phidiff = pd.concat([abs((math.pi - abs(reducedGenDf_mu['phi'])) + (math.pi - abs(reducedGenDf_antimu['phi']))), \\\n",
    "        abs(reducedGenDf_mu['phi'] - reducedGenDf_antimu['phi'])], axis=1).min(axis=1)\n",
    "    deltaR = np.sqrt((reducedGenDf_mu['eta'] - reducedGenDf_antimu['eta'])**2 + (phidiff)**2)\n",
    "    #reducedGenDf = genNewDfs[mchi][ctau].query('pid==13|pid==-13')[['eta','phi']].unstack(level=1)\n",
    "    #reducedGenDf.rename({5:'mu1',6:'mu2'}, axis='columns', inplace=True)\n",
    "    #phidiff = pd.concat([abs((math.pi - abs(reducedGenDf['phi']['mu1'])) + (math.pi - abs(reducedGenDf['phi','mu2']))), \\\n",
    "    #    abs(reducedGenDf['phi']['mu1'] - reducedGenDf['phi']['mu2'])], axis=1).min(axis=1)\n",
    "    #deltaR = np.sqrt((reducedGenDf['eta']['mu1'] - reducedGenDf['eta']['mu2'])**2 + (phidiff)**2)\n",
    "    ax[1].hist(deltaR, bins=50, range=(0,5), density=True, log=True, histtype='step', label=labels[mchi]);\n",
    "\n",
    "ax[1].set_xlabel('Muon pair $\\Delta$R')\n",
    "ax[1].set_ylabel('Events')\n",
    "ax[1].set_ylim(0.001, 5)\n",
    "ax[1].legend();"
   ]
  },
  {
   "cell_type": "code",
   "execution_count": null,
   "metadata": {},
   "outputs": [],
   "source": [
    "mchi = '60p0'\n",
    "ctau = '1'\n",
    "fig, axes = plt.subplots(1,2, figsize=(10,3.5))\n",
    "recoNewDfs[mchi][ctau] = recoDfs[mchi][ctau]['fired']\n",
    "#print(recoNewDfs[mchi][ctau2])\n",
    "chi2pTs =  pd.DataFrame.from_dict(genDfs[mchi][ctau][genDfs[mchi][ctau]['pid']==1000023 ]['pt'])#.#reset_index(level=1)\n",
    "chi2pTs['fired'] = recoDfs[mchi][ctau]['fired'].tolist()\n",
    "#print(chi2pTs)\n",
    "\n",
    "\n",
    "reducedGenDf_mu = genDfs[mchi][ctau][genDfs[mchi][ctau]['pid']==13].reset_index(level=1)#[['eta','phi']]\n",
    "reducedGenDf_antimu = genDfs[mchi][ctau][genDfs[mchi][ctau]['pid']==-13].reset_index(level=1)#[['eta','phi']]\n",
    "phidiff = reducedGenDf_mu['phi'].sub(reducedGenDf_antimu['phi'])\n",
    "reducedphidiff = phidiff.apply(reducephi)\n",
    "\n",
    "#print(pd.DataFrame.from_dict(reducedphidiff))\n",
    "chi2pTs['phi'] = reducedphidiff.tolist()\n",
    "\n",
    "\n",
    "axes[0].hist2d(chi2pTs.dropna()['pt'], chi2pTs.dropna()['phi'], bins=(50,50), range=((0,250),(-3.2,3.2)));\n",
    "axes[0].set_xlabel('Chi2 pT [GeV]')\n",
    "axes[0].set_ylabel('Muon pair dPhi');\n",
    "\n",
    "axes[1].hist2d(chi2pTs[chi2pTs['fired']==1].dropna()['pt'], chi2pTs[chi2pTs['fired']==1].dropna()['phi'], bins=(50,50), range=((0,250),(-3.2,3.2)));\n",
    "axes[1].set_xlabel('Chi2 pT [GeV]')\n",
    "axes[1].set_ylabel('Muon pair dPhi');\n",
    "fig.suptitle('5 GeV, Delta = 0.1');\n",
    "\n",
    "\n",
    "#plt.hist(reducedphidiff,bins=50,histtype='step',density=True, label='All')\n",
    "#plt.xlabel('Muon pair dPhi')\n",
    "#plt.ylabel('A. U.')\n",
    "#plt.hist(chi2pTs.dropna()['phi'],bins=50,histtype='step',density=True,label='Triggered');\n",
    "#plt.legend();\n",
    "#plt.title('5 GeV, Delta = 0.1');"
   ]
  },
  {
   "cell_type": "code",
   "execution_count": null,
   "metadata": {
    "scrolled": true
   },
   "outputs": [],
   "source": [
    "for mchi in mchis:\n",
    "    fig, ax = plt.subplots(1,2, figsize=(10,3.5))\n",
    "    fig.suptitle(' '.join(labels[mchi].split()))\n",
    "    reducedGenDf_mu = genDfs[mchi][ctau][genDfs[mchi][ctau]['pid']==13].reset_index(level=1)#[['eta','phi']]\n",
    "    reducedGenDf_antimu = genDfs[mchi][ctau][genDfs[mchi][ctau]['pid']==-13].reset_index(level=1)#[['eta','phi']]\n",
    "    phidiff = reducedGenDf_mu['phi'].sub(reducedGenDf_antimu['phi'])\n",
    "    reducedphidiff = phidiff.apply(reducephi)\n",
    "    #reducedGenDf = genDfs[mchi][ctau].query('pid==13|pid==-13')[['eta','phi']].unstack(level=1)\n",
    "    #reducedGenDf.rename({5:'mu1',6:'mu2'}, axis='columns', inplace=True)\n",
    "    #phidiff = reducedGenDf['phi']['mu1'] - reducedGenDf['phi']['mu2']\n",
    "    #     phidiff = pd.concat([abs((math.pi - abs(reducedGenDf['phi']['mu1'])) + (math.pi - abs(reducedGenDf['phi','mu2']))), \\\n",
    "    #         abs(reducedGenDf['phi']['mu1'] - reducedGenDf['phi']['mu2'])], axis=1).min(axis=1)\n",
    "    #reducedphidiff = phidiff.apply(reducephi)\n",
    "    \n",
    "    ax[0].hist2d(genDfs[mchi][ctau].loc[(slice(None), 2), :]['pt'], reducedphidiff, bins=(50,50), range=((0,150),(-3.2,3.2)));\n",
    "    ax[0].set_ylabel('Muon pair $\\Delta\\phi$')\n",
    "    ax[0].set_xlabel('Chi2 pT (GeV)')\n",
    "\n",
    "    #reducedGenDf = genDfs[mchi][ctau].query('pid==13|pid==-13')[['eta','phi']].unstack(level=1)\n",
    "    #reducedGenDf.rename({5:'mu1',6:'mu2'}, axis='columns', inplace=True)\n",
    "    phidiff = pd.concat([abs((math.pi - abs(reducedGenDf_mu['phi'])) + (math.pi - abs(reducedGenDf_antimu['phi']))), \\\n",
    "        abs(reducedGenDf_mu['phi'] - reducedGenDf_antimu['phi'])], axis=1).min(axis=1)\n",
    "    deltaR = np.sqrt((reducedGenDf_mu['eta'] - reducedGenDf_antimu['eta'])**2 + (phidiff)**2)\n",
    "    \n",
    "    ax[1].hist2d(deltaR, reducedGenDf_mu['eta'], label=labels[mchi], alpha=1.0, bins=(50,50), range=((0,5),(-6,6)))    \n",
    "    ax[1].set_xlabel('Muon pair $\\Delta$R')\n",
    "    ax[1].set_ylabel('Mu1 eta')"
   ]
  },
  {
   "cell_type": "markdown",
   "metadata": {},
   "source": [
    "## Muon eta distributions"
   ]
  },
  {
   "cell_type": "code",
   "execution_count": null,
   "metadata": {},
   "outputs": [],
   "source": [
    "fig, ax = plt.subplots(1,3, figsize=(10,3.5))\n",
    "\n",
    "for mchi in mchis:\n",
    "    ax[0].hist(genDfs[mchi][ctau].loc[(slice(None), [5,6]), :]['eta'], bins=50, density=True, label=labels[mchi], histtype='step');\n",
    "\n",
    "ax[0].set_xlabel('All muons eta (leading+subleading)')\n",
    "ax[0].set_ylabel('A. U.')\n",
    "ax[0].set_ylim(0, 0.3)\n",
    "ax[0].legend();\n",
    "\n",
    "for mchi in mchis:\n",
    "    idx = genDfs[mchi][ctau].query('pid==13|pid==-13').groupby('entry')['pt'].transform(max) ==  genDfs[mchi][ctau].query('pid==13|pid==-13')['pt']\n",
    "    leadingMu = genDfs[mchi][ctau].query('pid==13|pid==-13').loc[idx]\n",
    "    subleadingMu = genDfs[mchi][ctau].query('pid==13|pid==-13').loc[~idx]\n",
    "    ax[1].hist(leadingMu['eta'], bins=50, histtype='step', density=True, label=labels[mchi])\n",
    "    ax[2].hist(subleadingMu['eta'], bins=50, histtype='step', density=True, label=labels[mchi])\n",
    "\n",
    "\n",
    "ax[1].set_xlabel('Leading muon eta')\n",
    "ax[1].set_ylabel('A. U.')\n",
    "ax[1].set_ylim(0, 0.3)\n",
    "ax[1].legend();\n",
    "\n",
    "ax[2].set_xlabel('Subleading muon eta')\n",
    "ax[2].set_ylabel('A. U.')\n",
    "ax[2].set_ylim(0, 0.3)\n",
    "ax[2].legend();\n",
    "\n",
    "plt.tight_layout(pad=1.0)"
   ]
  },
  {
   "cell_type": "code",
   "execution_count": null,
   "metadata": {},
   "outputs": [],
   "source": [
    "fig, ax = plt.subplots(1,2, figsize=(10,3.5))\n",
    "\n",
    "mchi = '60p0'\n",
    "\n",
    "ax[0].hist(genDfs[mchi][ctau].loc[(slice(None), [5,6]), :]['eta'], bins=50, density=True, label='all mu', histtype='step');\n",
    "idx = genDfs[mchi][ctau].query('pid==13|pid==-13').groupby('entry')['pt'].transform(max) ==  genDfs[mchi][ctau].query('pid==13|pid==-13')['pt']\n",
    "leadingMu = genDfs[mchi][ctau].query('pid==13|pid==-13').loc[idx]\n",
    "subleadingMu = genDfs[mchi][ctau].query('pid==13|pid==-13').loc[~idx]\n",
    "ax[0].hist(leadingMu['eta'], bins=50, histtype='step', density=True, label='leading mu');\n",
    "ax[0].hist(subleadingMu['eta'], bins=50, histtype='step', density=True, label='subleading mu');\n",
    "\n",
    "ax[0].set_xlabel(labels[mchi])\n",
    "ax[0].set_ylabel('A. U.')\n",
    "ax[0].set_ylim(0, 0.24)\n",
    "ax[0].legend();\n",
    "\n",
    "#mchi = '5p25'\n",
    "#ctau2 = 1000\n",
    "#ax[1].hist(genNewDfs[mchi][ctau2].loc[(slice(None), [5,6]), :]['eta'], bins=50, density=True, label='all mu', histtype='step');\n",
    "#idx = genNewDfs[mchi][ctau2].query('pid==13|pid==-13').groupby('entry')['pt'].transform(max) ==  genNewDfs[mchi][ctau2].query('pid==13|pid==-13')['pt']\n",
    "#leadingMu = genNewDfs[mchi][ctau2].query('pid==13|pid==-13').loc[idx]\n",
    "#subleadingMu = genNewDfs[mchi][ctau2].query('pid==13|pid==-13').loc[~idx]\n",
    "#ax[1].hist(leadingMu['eta'], bins=50, histtype='step', density=True, label='leading mu');\n",
    "#ax[1].hist(subleadingMu['eta'], bins=50, histtype='step', density=True, label='subleading mu');\n",
    "\n",
    "#ax[1].set_xlabel(labels[mchi])\n",
    "#ax[1].set_ylabel('A. U.')\n",
    "#ax[1].set_ylim(0, 0.24)\n",
    "#ax[1].legend();"
   ]
  },
  {
   "cell_type": "markdown",
   "metadata": {},
   "source": [
    "## Muons eta vs pT"
   ]
  },
  {
   "cell_type": "code",
   "execution_count": null,
   "metadata": {},
   "outputs": [],
   "source": [
    "for mchi in mchis:\n",
    "#     plt.hist(genNewDfs[mchi][10].loc[(slice(None), [5,6]), :]['eta'], bins=50, density=True, label=labels[mchi], histtype='step');\n",
    "    plt.scatter(genDfs[mchi][ctau].loc[(slice(None), [5,6]), :]['pt'], genDfs[mchi][ctau].loc[(slice(None), [5,6]), :]['eta'], label=labels[mchi])\n",
    "    plt.ylabel('All muons eta (leading+subleading)')\n",
    "    plt.xlabel('All muons pt (GeV)')\n",
    "plt.legend();"
   ]
  },
  {
   "cell_type": "markdown",
   "metadata": {},
   "source": [
    "## Muon vxy and vz plots"
   ]
  },
  {
   "cell_type": "code",
   "execution_count": null,
   "metadata": {},
   "outputs": [],
   "source": [
    "fig, ax = plt.subplots(1,2, figsize=(10,3.5))\n",
    "\n",
    "labels_ctau = {'1':'1       mm', 10:'10     mm', 100:'100   mm', 1000:'1000 mm'}\n",
    "# labels_ctau = {1:'1 mm', 10:'10 mm', 100:'100 mm', 1000:'1000 mm'}\n",
    "genDfs_v = OrderedDict({})\n",
    "genDfs_v[mchi] = OrderedDict({})\n",
    "for ctau in ctaus:\n",
    "    #vxy = genDfs['60p0'][ctau].query('(pid==13|pid==-13)&subentry==5')['vxy']\n",
    "    genDfs_v[mchi][ctau] = genDfs[mchi][ctau]\n",
    "    vxy = genDfs_v[mchi][ctau][(genDfs_v[mchi][ctau]['pid']==13) | (genDfs_v[mchi][ctau]['pid']==-13)]['vxy']\n",
    "    ax[0].hist(vxy, bins=50, range=(0,200), histtype='step', density=False, log=True, label=labels_ctau[ctau]);\n",
    "ax[0].set_ylim([1, 200000])\n",
    "ax[0].set_xlabel('Muon vxy (cm)')\n",
    "ax[0].set_ylabel('Events')\n",
    "ax[0].legend();\n",
    "\n",
    "for ctau in ctaus:\n",
    "    #vz = genDfs['60p0'][ctau].query('(pid==13|pid==-13)&subentry==5')['vz']\n",
    "    vz = genDfs_v['60p0'][ctau][(genDfs_v['60p0'][ctau]['pid']==13) | (genDfs_v['60p0'][ctau]['pid']==-13)]['vz']\n",
    "    ax[1].hist(vz, bins=50, range=(0,400), histtype='step', density=False, log=True, label=labels_ctau[ctau]);\n",
    "ax[1].set_ylim([1, 200000])\n",
    "ax[1].set_xlabel('Muon vz (cm)')\n",
    "ax[1].set_ylabel('Events')\n",
    "ax[1].legend();"
   ]
  },
  {
   "cell_type": "markdown",
   "metadata": {},
   "source": [
    "## Load files with additional data (jet eta and phi, MET phi) to make relevant plots"
   ]
  },
  {
   "cell_type": "code",
   "execution_count": null,
   "metadata": {},
   "outputs": [],
   "source": [
    "masses = [('60','20'),('52p5','5p0'),('6p0','2p0'),('5p25','0p5')]\n",
    "mchis = ['60', '52p5', '6p0', '5p25']\n",
    "ctaus = [10]\n",
    "\n",
    "branchFolder = 'RECO_dsa'\n",
    "baseDir = '../Firefighter/washAOD/GenInfoStudies/'\n",
    "fileName = lambda Mchi, dMchi, ctau: baseDir + f'Mchi-{Mchi}_dMchi-{dMchi}_ctau-{ctau}.root'\n",
    "\n",
    "numParams = len(masses)*len(ctaus)\n",
    "count = 1\n",
    "\n",
    "recoNewDfs = OrderedDict({})\n",
    "genNewDfs = OrderedDict({})\n",
    "for (Mchi, dMchi) in masses:\n",
    "    recoNewDfs[Mchi] = OrderedDict({})\n",
    "    genNewDfs[Mchi] = OrderedDict({})\n",
    "    for ctau in ctaus:\n",
    "        recoNewDfs[Mchi][ctau] = uproot.open(fileName(Mchi, dMchi, ctau))['RECO_dsa' + '/recoEffiForMuTrack'].pandas.df()\n",
    "        genNewDfs[Mchi][ctau] = uproot.open(fileName(Mchi, dMchi, ctau))['GEN' + '/gen'].pandas.df()\n",
    "        print(f'{count} of {numParams}: ' + fileName(Mchi, dMchi, ctau))\n",
    "        count += 1"
   ]
  },
  {
   "cell_type": "markdown",
   "metadata": {},
   "source": [
    "## Plot deltaPhi between jet and MET"
   ]
  },
  {
   "cell_type": "code",
   "execution_count": null,
   "metadata": {},
   "outputs": [],
   "source": [
    "plt.figure(figsize=(5,3.5))\n",
    "\n",
    "for mchi in mchis:\n",
    "    reducedGenDf = genNewDfs[mchi][10].query('pid==13|pid==-13')[['eta','phi']].unstack(level=1)\n",
    "    reducedGenDf.rename({5:'mu1',6:'mu2'}, axis='columns', inplace=True)\n",
    "    phidiff = recoNewDfs[mchi][10]['genJetPhi'].dropna() - recoNewDfs[mchi][10]['genLeadMetPhi'].dropna()\n",
    "    reducedphidiff = phidiff.apply(reducephi)\n",
    "#     phidiff = pd.concat([abs((math.pi - abs(recoNewDfs[mchi][10]['genJetPhi'].dropna())) + (math.pi - abs(recoNewDfs[mchi][10]['genLeadMetPhi'].dropna()))), \\\n",
    "#         abs(recoNewDfs[mchi][10]['genJetPhi'].dropna() - recoNewDfs[mchi][10]['genLeadMetPhi'].dropna())], axis=1).min(axis=1)\n",
    "    plt.hist(reducedphidiff,bins=50, density=True, histtype='step', label=labels[mchi]);\n",
    "\n",
    "plt.xlabel('$\\Delta\\phi$ (jet, MET)')\n",
    "plt.ylabel('A. U.')\n",
    "plt.legend(loc='upper center');"
   ]
  },
  {
   "cell_type": "markdown",
   "metadata": {},
   "source": [
    "## Plot deltaPhi between MET and muon pair and between the 2 chi1 DM particles"
   ]
  },
  {
   "cell_type": "code",
   "execution_count": null,
   "metadata": {
    "scrolled": false
   },
   "outputs": [],
   "source": [
    "mchi='5p25'\n",
    "\n",
    "crit2Mus = recoDfs[mchi][10].query('subentry==1').reset_index()['entry']\n",
    "eventsWith2Mus = recoDfs[mchi][10].reset_index().loc[recoDfs[mchi][10].reset_index()['entry'].isin(crit2Mus) ]\n",
    "phi1 = eventsWith2Mus.query('subentry==0')['phi'].reset_index()['phi']\n",
    "phi2 = eventsWith2Mus.query('subentry==1')['phi'].reset_index()['phi']\n",
    "avgPhi = pd.DataFrame(np.arctan2((np.sin(phi1) + np.sin(phi2)), (np.cos(phi1) + np.cos(phi2))))\n",
    "\n",
    "phichi1_1 = genDfs[mchi][10].query('subentry==3').reset_index()['phi']\n",
    "phichi1_2 = genDfs[mchi][10].query('subentry==4').reset_index()['phi']\n",
    "avgchi1Phi = pd.DataFrame(np.arctan2((np.sin(phichi1_1) + np.sin(phichi1_2)), (np.cos(phichi1_1) + np.cos(phichi1_2))))\n",
    "finalchiavgphi=avgchi1Phi.reset_index().loc[ avgchi1Phi.reset_index()['index'].isin(eventsWith2Mus.query('subentry==1')['entry']) ].reset_index()['phi']\n",
    "phidiff = avgPhi['phi'] - finalchiavgphi\n",
    "reducedphi = phidiff.apply(reducephi)\n",
    "plt.hist(reducedphi,bins=50,histtype='step', density=True, label='All');\n",
    "\n",
    "\n",
    "\n",
    "trigEvents = recoDfs[mchi][10].query('subentry==0&fired==True').reset_index()['entry']\n",
    "\n",
    "crit2Mus = recoDfs[mchi][10].query('subentry==1').reset_index()['entry']\n",
    "eventsWith2MusAndTrig = recoDfs[mchi][10].reset_index().loc[recoDfs[mchi][10].reset_index()['entry'].isin(crit2Mus) \\\n",
    "                                                           & recoDfs[mchi][10].reset_index()['entry'].isin(trigEvents) ]\n",
    "phi1 = eventsWith2MusAndTrig.query('subentry==0')['phi'].reset_index()['phi']\n",
    "phi2 = eventsWith2MusAndTrig.query('subentry==1')['phi'].reset_index()['phi']\n",
    "avgPhi = pd.DataFrame(np.arctan2((np.sin(phi1) + np.sin(phi2)), (np.cos(phi1) + np.cos(phi2))))\n",
    "\n",
    "phichi1_1 = genDfs[mchi][10].query('subentry==3').reset_index()['phi']\n",
    "phichi1_2 = genDfs[mchi][10].query('subentry==4').reset_index()['phi']\n",
    "avgchi1Phi = pd.DataFrame(np.arctan2((np.sin(phichi1_1) + np.sin(phichi1_2)), (np.cos(phichi1_1) + np.cos(phichi1_2))))\n",
    "finalchiavgphi=avgchi1Phi.reset_index().loc[ avgchi1Phi.reset_index()['index'].isin(eventsWith2MusAndTrig.query('subentry==1')['entry']) ].reset_index()['phi']\n",
    "phidiff = avgPhi['phi'] - finalchiavgphi\n",
    "reducedphi = phidiff.apply(reducephi)\n",
    "plt.hist(reducedphi,bins=50,histtype='step', density=True, label='Triggered');\n",
    "\n",
    "plt.xlabel('dPhi between muon pair (avg. phi) and chi1 pair (avg. phi)')\n",
    "plt.ylabel('A. U.')\n",
    "plt.title('5 GeV, Delta = 0.1')\n",
    "plt.legend();"
   ]
  },
  {
   "cell_type": "code",
   "execution_count": null,
   "metadata": {
    "scrolled": true
   },
   "outputs": [],
   "source": [
    "crit2Mus = recoDfs[mchi][10].query('subentry==1').reset_index()['entry']\n",
    "eventsWith2Mus = recoDfs[mchi][10].reset_index().loc[recoDfs[mchi][10].reset_index()['entry'].isin(crit2Mus) ]\n",
    "phi1 = eventsWith2Mus.query('subentry==0')['phi'].reset_index()['phi']\n",
    "phi2 = eventsWith2Mus.query('subentry==1')['phi'].reset_index()['phi']\n",
    "avgPhi = pd.DataFrame(np.arctan2((np.sin(phi1) + np.sin(phi2)), (np.cos(phi1) + np.cos(phi2))))\n",
    "# reducedDf = pd.concat([avgPhi, eventsWith2Mus.query('subentry==0')['genLeadMetPhi']], axis=1)\n",
    "# phidiff = reducedDf['genPhi'] - reducedDf['genLeadMetPhi']\n",
    "# reducedphidiff = phidiff.apply(reducephi)"
   ]
  },
  {
   "cell_type": "code",
   "execution_count": null,
   "metadata": {},
   "outputs": [],
   "source": [
    "phi1 = recoNewDfs[mchi][10].query('subentry==0').reset_index('subentry')['genPhi']\n",
    "phi2 = recoNewDfs[mchi][10].query('subentry==1').reset_index('subentry')['genPhi']\n",
    "avgPhi = pd.DataFrame(np.arctan2((np.sin(phi1) + np.sin(phi2)), (np.cos(phi1) + np.cos(phi2))))\n",
    "reducedDf = pd.concat([avgPhi, recoNewDfs[mchi][10].query('subentry==0').reset_index('subentry')['genLeadMetPhi']], axis=1)\n",
    "phidiff = reducedDf['genPhi'] - reducedDf['genLeadMetPhi']\n",
    "reducedphidiff = phidiff.apply(reducephi)"
   ]
  },
  {
   "cell_type": "code",
   "execution_count": null,
   "metadata": {},
   "outputs": [],
   "source": [
    "# plt.figure(figsize=(5,3.5))\n",
    "fig, ax = plt.subplots(1,2, figsize=(10,3.5))\n",
    "\n",
    "for mchi in mchis:\n",
    "    phidiff = genNewDfs[mchi][10].query('subentry==3').reset_index('subentry')['phi'] - \\\n",
    "                genNewDfs[mchi][10].query('subentry==4').reset_index('subentry')['phi']\n",
    "    reducedphidiff = phidiff.apply(reducephi)\n",
    "    ax[0].hist(reducedphidiff, bins=50, density=True, histtype='step', label=labels[mchi])\n",
    "\n",
    "ax[0].set_xlabel('$\\Delta\\phi$ (light DM 1, light DM 2)')\n",
    "ax[0].set_ylabel('A. U.')\n",
    "ax[0].legend(prop={'size': 9});\n",
    "\n",
    "for mchi in mchis:\n",
    "    phi1 = recoNewDfs[mchi][10].query('subentry==0').reset_index('subentry')['genPhi']\n",
    "    phi2 = recoNewDfs[mchi][10].query('subentry==1').reset_index('subentry')['genPhi']\n",
    "    avgPhi = pd.DataFrame(np.arctan2((np.sin(phi1) + np.sin(phi2)), (np.cos(phi1) + np.cos(phi2))))\n",
    "    reducedDf = pd.concat([avgPhi, recoNewDfs[mchi][10].query('subentry==0').reset_index('subentry')['genLeadMetPhi']], axis=1)\n",
    "    phidiff = reducedDf['genPhi'] - reducedDf['genLeadMetPhi']\n",
    "    reducedphidiff = phidiff.apply(reducephi)\n",
    "    ax[1].hist(reducedphidiff,bins=50, density=True, histtype='step', label=labels[mchi], log=False);\n",
    "\n",
    "ax[1].set_xlabel('$\\Delta\\phi$ (MET, muon pair)')\n",
    "ax[1].set_ylabel('A. U.')\n",
    "ax[1].legend(prop={'size': 9});\n",
    "\n",
    "# phidiff = pd.concat([abs(2*math.pi - abs(genNewDfs['60'][10].query('subentry==3').reset_index('subentry')['phi']) - abs(genNewDfs['60'][10].query('subentry==4').reset_index('subentry')['phi'])), \\\n",
    "#         abs(genNewDfs['60'][10].query('subentry==3').reset_index('subentry')['phi'] - genNewDfs['60'][10].query('subentry==4').reset_index('subentry')['phi'])], axis=1).min(axis=1)"
   ]
  },
  {
   "cell_type": "markdown",
   "metadata": {},
   "source": [
    "## Di-muon invariant mass plot"
   ]
  },
  {
   "cell_type": "code",
   "execution_count": null,
   "metadata": {
    "scrolled": false
   },
   "outputs": [],
   "source": [
    "# M_A'^2 = (e1 + e2)^2 - (px1+px2)^2 + (py1+py2)^2 + (pz1+pz2)^2\n",
    "# Or M_A'^2 = 2 * pT1 * pT2 * (cosh(eta1 - eta2) - cos(phi1 - phi2))\n",
    "\n",
    "for mchi in mchis:\n",
    "    reducedDf = genNewDfs[mchi][10].query('subentry==5|subentry==6')[['pt','eta','phi']]\n",
    "    idx = pd.IndexSlice\n",
    "\n",
    "    invMass = np.sqrt(2 * reducedDf.loc[idx[:,5], 'pt'].reset_index(level=1).drop(columns='subentry')['pt'] * \\\n",
    "    reducedDf.loc[idx[:,6], 'pt'].reset_index(level=1).drop(columns='subentry')['pt'] * \\\n",
    "    (np.cosh(reducedDf.loc[idx[:,5], 'eta'].reset_index(level=1).drop(columns='subentry')['eta'] - \\\n",
    "            reducedDf.loc[idx[:,6], 'eta'].reset_index(level=1).drop(columns='subentry')['eta']) - \\\n",
    "    np.cos(reducedDf.loc[idx[:,5], 'phi'].reset_index(level=1).drop(columns='subentry')['phi'] - \\\n",
    "            reducedDf.loc[idx[:,6], 'phi'].reset_index(level=1).drop(columns='subentry')['phi'])))\n",
    "\n",
    "    plt.hist(invMass, bins=50, density=True, histtype='step', log=True, label=labels[mchi]);\n",
    "\n",
    "plt.ylim([0.001, 10])\n",
    "plt.xlabel('Di-muon invariant mass (GeV)')\n",
    "plt.ylabel('A. U.')\n",
    "plt.legend(loc='upper right');"
   ]
  },
  {
   "cell_type": "markdown",
   "metadata": {},
   "source": [
    "## Test stuff"
   ]
  },
  {
   "cell_type": "code",
   "execution_count": null,
   "metadata": {},
   "outputs": [],
   "source": [
    "test=pd.concat([abs(2*math.pi - abs(reducedGenDf['phi']['mu1']) - abs(reducedGenDf['phi','mu2'])), \\\n",
    "        abs(reducedGenDf['phi']['mu1'] - reducedGenDf['phi']['mu2'])], axis=1)\n",
    "test2=pd.concat([test, reducedGenDf], axis=1)\n",
    "# test2[('phi','mu2')]\n",
    "# test2['avg'] = test2[ test2[0] > test2[1] ][('phi','mu1')]/2 + test2[ test2[0] > test2[1] ][('phi','mu2')]/2\n",
    "# test2['avg2'] = test2[ (test2[0] < test2[1]) & (test2[('phi','mu1')]>test2[('phi','mu2')]) ][('phi','mu1')] + \\\n",
    "#                 test2[ (test2[0] < test2[1]) & (test2[('phi','mu1')]>test2[('phi','mu2')]) ][0]/2\n",
    "# test2['avg2'] = test2[ (test2[0] < test2[1]) & (test2[('phi','mu1')]<test2[('phi','mu2')]) ][('phi','mu2')] + \\\n",
    "#                 test2[ (test2[0] < test2[1]) & (test2[('phi','mu1')]<test2[('phi','mu2')]) ][0]/2\n",
    "# test2['avg3'] = test2[ (test2[0] < test2[1]) & (test2['avg2']>math.pi) ]['avg2'] - 2*math.pi\n",
    "test2['avg0'] = test2[('phi','mu1')]/2 + test2[('phi','mu2')]/2\n",
    "test2['avg1'] = test2[('phi','mu1')] + test2[0]/2\n",
    "test2['avg1.5'] = test2[('phi','mu2')] + test2[0]/2\n",
    "\n",
    "def f(row):\n",
    "    if row[0] > row[1]:\n",
    "        return row['avg0']\n",
    "    if row[('phi','mu1')] > row[('phi','mu2')]:\n",
    "        if row['avg1'] > math.pi:\n",
    "            return row['avg1'] - 2*math.pi\n",
    "        return row['avg1']\n",
    "    if row['avg1.5'] > math.pi:\n",
    "        return row['avg1.5'] - 2*math.pi\n",
    "    return row['avg1.5']\n",
    "\n",
    "test2['final'] = test2.apply(f, axis=1)"
   ]
  },
  {
   "cell_type": "code",
   "execution_count": null,
   "metadata": {},
   "outputs": [],
   "source": []
  }
 ],
 "metadata": {
  "kernelspec": {
   "display_name": "Python 3",
   "language": "python",
   "name": "python3"
  },
  "language_info": {
   "codemirror_mode": {
    "name": "ipython",
    "version": 3
   },
   "file_extension": ".py",
   "mimetype": "text/x-python",
   "name": "python",
   "nbconvert_exporter": "python",
   "pygments_lexer": "ipython3",
   "version": "3.6.4"
  }
 },
 "nbformat": 4,
 "nbformat_minor": 1
}
