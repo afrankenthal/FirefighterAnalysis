{
 "cells": [
  {
   "cell_type": "markdown",
   "metadata": {},
   "source": [
    "Samples\n",
    "----\n",
    "`SIDMmumu_Mps-200_MZp-1p2_ctau-XXX_100k.root`\n",
    "\n",
    "XXX = [1.2e-3, 1.2e-2, 0.12, 0.6, 1.2, 3.6] cm\n",
    "\n",
    "- $M_{pscalar}    = 200 GeV$\n",
    "- $M_{darkphoton} = 1.2 GeV$\n",
    "- decaylength    = [0.1, 1, 10, 50, 100, 300] cm"
   ]
  },
  {
   "cell_type": "code",
   "execution_count": null,
   "metadata": {},
   "outputs": [],
   "source": [
    "import pandas as pd\n",
    "import numpy as np\n",
    "import uproot\n",
    "\n",
    "%matplotlib inline\n",
    "import matplotlib.pyplot as plt\n",
    "plt.style.use('bmh')"
   ]
  },
  {
   "cell_type": "code",
   "execution_count": null,
   "metadata": {},
   "outputs": [],
   "source": [
    "from collections import OrderedDict\n",
    "\n",
    "trees = OrderedDict({\n",
    "    0.1 : uproot.open('../Firefighter/washAOD/test/SIDMmumu_Mps-200_MZp-1p2_ctau-1p20e-03_100k.root')['GEN/gen'],\n",
    "      1 : uproot.open('../Firefighter/washAOD/test/SIDMmumu_Mps-200_MZp-1p2_ctau-0p012_100k.root')['GEN/gen']   ,\n",
    "     10 : uproot.open('../Firefighter/washAOD/test/SIDMmumu_Mps-200_MZp-1p2_ctau-0p12_100k.root')['GEN/gen']    ,\n",
    "     50 : uproot.open('../Firefighter/washAOD/test/SIDMmumu_Mps-200_MZp-1p2_ctau-0p6_100k.root')['GEN/gen']     ,\n",
    "    100 : uproot.open('../Firefighter/washAOD/test/SIDMmumu_Mps-200_MZp-1p2_ctau-1p2_100k.root')['GEN/gen']     ,\n",
    "    300 : uproot.open('../Firefighter/washAOD/test/SIDMmumu_Mps-200_MZp-1p2_ctau-3p6_100k.root')['GEN/gen']     \n",
    "})"
   ]
  },
  {
   "cell_type": "code",
   "execution_count": null,
   "metadata": {},
   "outputs": [],
   "source": [
    "# for k, df in dfs.items():\n",
    "#     df.columns = [x.decode() for x in df.columns]"
   ]
  },
  {
   "cell_type": "code",
   "execution_count": null,
   "metadata": {},
   "outputs": [],
   "source": [
    "trees[1].keys()"
   ]
  },
  {
   "cell_type": "markdown",
   "metadata": {},
   "source": [
    "# muon\n",
    "## 1. pT, eta, phi"
   ]
  },
  {
   "cell_type": "code",
   "execution_count": null,
   "metadata": {},
   "outputs": [],
   "source": [
    "fig, ax = plt.subplots(1, 3, figsize=(15,4))\n",
    "\n",
    "for k, t in trees.items():\n",
    "    muons = np.abs(t.array('pid').content) == 13\n",
    "\n",
    "    pt  = t.array('pt') .content[muons]\n",
    "    eta = t.array('eta').content[muons]\n",
    "    phi = t.array('phi').content[muons]\n",
    "    ax[0].hist(pt,  bins=50, range=(0,120), histtype='step', label='%.1fcm'%k)\n",
    "    ax[1].hist(eta, bins=50, range=(-6,6), histtype='step', label='%.1fcm'%k)\n",
    "    ax[2].hist(phi, bins=50, histtype='step', label='%.1fcm'%k)\n",
    "\n",
    "ax[0].set_xlabel('pT [GeV]')\n",
    "ax[1].set_xlabel('eta')\n",
    "ax[2].set_xlabel('phi')\n",
    "\n",
    "for a in ax: a.legend(loc='best', title='ctau')"
   ]
  },
  {
   "cell_type": "markdown",
   "metadata": {},
   "source": [
    "## 2. vxy, vz"
   ]
  },
  {
   "cell_type": "code",
   "execution_count": null,
   "metadata": {},
   "outputs": [],
   "source": [
    "fig, ax = plt.subplots(1,2, figsize=(10,4))\n",
    "\n",
    "for k, t in trees.items():\n",
    "    mu = np.abs(t.array('pid').content) == 13\n",
    "    \n",
    "    muons = pd.DataFrame({'vxy': t.array('vxy').content[mu],\n",
    "                          'vz' : t.array('vz') .content[mu]})\n",
    "    \n",
    "    muons['vxy'].plot.hist(bins=50, ax=ax[0], histtype='step', label='%.1fcm'%k, range=(0,600), title='mu vxy')\n",
    "    muons['vz'] .plot.hist(bins=50, ax=ax[1], histtype='step', label='%.1fcm'%k, range=(-600,600), title='mu vz')\n",
    "\n",
    "ax[0].set_xlabel('vxy [cm]')\n",
    "ax[1].set_xlabel('vz [cm]')\n",
    "\n",
    "for a in ax: a.legend(loc='best', title='ctau')"
   ]
  },
  {
   "cell_type": "markdown",
   "metadata": {},
   "source": [
    "## 3. mupair invM, deltaR"
   ]
  },
  {
   "cell_type": "code",
   "execution_count": null,
   "metadata": {},
   "outputs": [],
   "source": [
    "fig, ax = plt.subplots(1,2, figsize=(10,4))\n",
    "\n",
    "for k, t in trees.items():\n",
    "    mp = t.array('pairPid').content == 13\n",
    "    mupairs = pd.DataFrame({'pairInvM'  : t.array('pairInvM').content[mp],\n",
    "                            'pairDeltaR': t.array('pairDeltaR').content[mp]})\n",
    "    \n",
    "    mupairs['pairInvM']  .plot.hist(bins=50, ax=ax[0], histtype='step', label='%.1fcm'%k, title='mu pair inv M')\n",
    "    mupairs['pairDeltaR'].plot.hist(bins=50, ax=ax[1], histtype='step', label='%.1fcm'%k, range=(0,0.5), title='mu pair delta R')\n",
    "\n",
    "ax[0].set_xlabel('invM [GeV]')\n",
    "ax[1].set_xlabel('dR')\n",
    "\n",
    "for a in ax: a.legend(loc='best', title='ctau')"
   ]
  },
  {
   "cell_type": "markdown",
   "metadata": {},
   "source": [
    "# dark photon"
   ]
  },
  {
   "cell_type": "markdown",
   "metadata": {},
   "source": [
    "## 1. pT, eta, phi"
   ]
  },
  {
   "cell_type": "code",
   "execution_count": null,
   "metadata": {},
   "outputs": [],
   "source": [
    "fig, ax = plt.subplots(1,3, figsize=(15,4))\n",
    "\n",
    "for k, t in trees.items():\n",
    "    df = t.pandas.df([\"pid\", \"pt\", \"eta\", \"phi\"])\n",
    "    df.columns = [x.decode() for x in df.columns]\n",
    "    dps = df.query('pid==32')\n",
    "    \n",
    "    dps['pt'] .plot.hist(bins=50, ax=ax[0], histtype='step', label='%.1fcm'%k, range=(0,200), title='dark photon pT')\n",
    "    dps['eta'].plot.hist(bins=50, ax=ax[1], histtype='step', label='%.1fcm'%k, range=(-6,6), title='dark photon eta')\n",
    "    dps['phi'].plot.hist(bins=50, ax=ax[2], histtype='step', label='%.1fcm'%k, title='dark photon phi')\n",
    "\n",
    "ax[0].set_xlabel('pT [GeV]')\n",
    "ax[1].set_xlabel('eta')\n",
    "ax[2].set_xlabel('phi')\n",
    "\n",
    "for a in ax: a.legend(loc='best', title='ctau')"
   ]
  }
 ],
 "metadata": {
  "kernelspec": {
   "display_name": "Python 3",
   "language": "python",
   "name": "python3"
  },
  "language_info": {
   "codemirror_mode": {
    "name": "ipython",
    "version": 3
   },
   "file_extension": ".py",
   "mimetype": "text/x-python",
   "name": "python",
   "nbconvert_exporter": "python",
   "pygments_lexer": "ipython3",
   "version": "3.7.0"
  }
 },
 "nbformat": 4,
 "nbformat_minor": 2
}
