{
 "cells": [
  {
   "cell_type": "markdown",
   "metadata": {},
   "source": [
    "## Import modules"
   ]
  },
  {
   "cell_type": "code",
   "execution_count": 1,
   "metadata": {},
   "outputs": [],
   "source": [
    "# import math\n",
    "# import operator\n",
    "import sys\n",
    "import time\n",
    "# from collections import OrderedDict\n",
    "# from functools import reduce\n",
    "import json\n",
    "import pickle\n",
    "\n",
    "%matplotlib inline\n",
    "import matplotlib.pyplot as plt\n",
    "import numpy as np\n",
    "import pandas as pd\n",
    "import uproot\n",
    "# from mpl_toolkits.axes_grid1.inset_locator import inset_axes\n",
    "# from skhep.visual import MplPlotter as skh_plt\n",
    "\n",
    "# import multiprocessing\n",
    "import concurrent.futures\n",
    "\n",
    "from XRootD import client\n",
    "from XRootD.client.flags import DirListFlags, StatInfoFlags, OpenFlags, MkDirFlags, QueryCode\n",
    "# import xrdfs_find"
   ]
  },
  {
   "cell_type": "markdown",
   "metadata": {},
   "source": [
    "Import local classes from utils"
   ]
  },
  {
   "cell_type": "code",
   "execution_count": 2,
   "metadata": {},
   "outputs": [],
   "source": [
    "%load_ext autoreload\n",
    "%autoreload 1\n",
    "%aimport utils.ObjectExtractor\n",
    "%aimport utils.PlotMaker\n",
    "%aimport utils.HistogramContainer\n",
    "%aimport utils.HistogramCalculator\n",
    "OE = utils.ObjectExtractor\n",
    "PM = utils.PlotMaker\n",
    "HCont = utils.HistogramContainer\n",
    "HCalc = utils.HistogramCalculator"
   ]
  },
  {
   "cell_type": "markdown",
   "metadata": {},
   "source": [
    "## Global initialization"
   ]
  },
  {
   "cell_type": "code",
   "execution_count": 138,
   "metadata": {},
   "outputs": [
    {
     "name": "stdout",
     "output_type": "stream",
     "text": [
      "sys.version_info(major=3, minor=6, micro=4, releaselevel='final', serial=0)\n"
     ]
    }
   ],
   "source": [
    "print(sys.version_info)\n",
    "# num_cores = multiprocessing.cpu_count()\n",
    "# print(num_cores)\n",
    "\n",
    "executor = concurrent.futures.ThreadPoolExecutor(48)\n",
    "\n",
    "plt.style.use('default')\n",
    "plt.rcParams['grid.linestyle'] = ':'\n",
    "plt.rcParams.update({'font.size': 10})\n",
    "\n",
    "numCuts = np.arange(0,6)\n",
    "\n",
    "branch_path = 'SREffi_gbm'"
   ]
  },
  {
   "cell_type": "code",
   "execution_count": 4,
   "metadata": {},
   "outputs": [],
   "source": [
    "all_plot_vars = ['metpt', 'jetpt','metjetphi', 'metmuphi', 'leadingmupt', 'subleadingmupt', 'recodr', 'recovertex']\n",
    "plot_vars_metjet = all_plot_vars[0:4] #['metpt', 'jetpt', 'metjetphi', 'metmuphi']\n",
    "plot_vars_muons = all_plot_vars[4:8] #['leadingmupt', 'subleadingmupt', 'recodr', 'recovertex']\n",
    "cutflow_vars = ['cutflow_incl', 'cutflow_excl']\n",
    "all_plot_xlabels = [\n",
    "    'MET [GeV]', 'Leading jet pT [GeV]', '$\\Delta\\Phi$(MET, jet)', '$\\Delta\\Phi$(MET, di-muon)',\n",
    "    'Leading muon pT [GeV]', 'Subleading muon pT [GeV]', 'dR(muons)', 'Di-muon vertex [cm]']"
   ]
  },
  {
   "cell_type": "code",
   "execution_count": 5,
   "metadata": {},
   "outputs": [],
   "source": [
    "histos = {}\n",
    "all_bins = {}\n",
    "for plot_var in all_plot_vars:\n",
    "    histos[plot_var] = {}\n",
    "    all_bins[plot_var] = 60\n",
    "histos['cutflow_incl'] = {}\n",
    "histos['cutflow_excl'] = {}\n",
    "histos['sumgenwgt'] = {}"
   ]
  },
  {
   "cell_type": "markdown",
   "metadata": {},
   "source": [
    "## Process signal"
   ]
  },
  {
   "cell_type": "code",
   "execution_count": 84,
   "metadata": {},
   "outputs": [],
   "source": [
    "masses = [('60p0','20p0'),('6p0','2p0'),('52p5','5p0'),('5p25','0p5')]\n",
    "def print_masses(mass):\n",
    "    return f'({float(mass[0].replace(\"p\",\".\"))-float(mass[1].replace(\"p\",\".\"))/2}, ' + \\\n",
    "           f'{float(mass[0].replace(\"p\",\".\"))+float(mass[1].replace(\"p\",\".\"))/2}) GeV'\n",
    "    \n",
    "mchis = dict([(mass[0], print_masses(mass)) for mass in masses])\n",
    "ctaus = [10]#, 10, 100, 1000]\n",
    "\n",
    "labels = [ f'cut{cut}' for cut in numCuts ]\n",
    "cut_descriptions = [\n",
    "    'cut1: MET/MHT trigger fired (120 GeV)',\n",
    "    'cut2: j1 pT > 120 GeV, <= 2j w/ pT > 30 GeV',\n",
    "    'cut3: mu1 pT > 5 GeV, 0.1 < |dxy| < 700 cm',\n",
    "    'cut4: mu2 pT > 5 GeV, 0.1 < |dxy| < 700 cm',\n",
    "    r'cut5: $|\\Delta\\Phi$(MET, mu pair)| < 0.4',\n",
    "]\n",
    "\n",
    "\n",
    "base_dir = '../Firefighter/washAOD/SROptimization/'\n",
    "def filename(Mchi, dMchi, ctau): \n",
    "    return base_dir + f'Mchi-{Mchi}_dMchi-{dMchi}_ctau-{ctau}.root'"
   ]
  },
  {
   "cell_type": "code",
   "execution_count": 221,
   "metadata": {},
   "outputs": [],
   "source": [
    "trees_gbm = dict()\n",
    "gen_info_gbm = dict()"
   ]
  },
  {
   "cell_type": "code",
   "execution_count": 222,
   "metadata": {},
   "outputs": [
    {
     "name": "stdout",
     "output_type": "stream",
     "text": [
      "1 of 4: ../Firefighter/washAOD/SROptimization/Mchi-60p0_dMchi-20p0_ctau-10.root\n",
      "2 of 4: ../Firefighter/washAOD/SROptimization/Mchi-6p0_dMchi-2p0_ctau-10.root\n",
      "3 of 4: ../Firefighter/washAOD/SROptimization/Mchi-52p5_dMchi-5p0_ctau-10.root\n",
      "4 of 4: ../Firefighter/washAOD/SROptimization/Mchi-5p25_dMchi-0p5_ctau-10.root\n"
     ]
    }
   ],
   "source": [
    "num_params = len(masses)*len(ctaus)\n",
    "count_param = 1\n",
    "\n",
    "for (Mchi, dMchi) in masses:\n",
    "    trees_gbm[Mchi] = dict()\n",
    "    gen_info_gbm[Mchi] = dict()\n",
    "    for ctau in ctaus:\n",
    "        gen_info_gbm[Mchi][ctau] = uproot.open(filename(Mchi, dMchi, ctau))['GEN/gen']#.pandas.df(flatten=False)\n",
    "        trees_gbm[Mchi][ctau] = uproot.open(filename(Mchi, dMchi, ctau))[branch_path + f'/cutsTree']#.pandas.df(flatten=False)\n",
    "        print(f'{count_param} of {num_params}: ' + filename(Mchi, dMchi, ctau))\n",
    "        count_param += 1"
   ]
  },
  {
   "cell_type": "code",
   "execution_count": 230,
   "metadata": {
    "scrolled": false
   },
   "outputs": [
    {
     "name": "stdout",
     "output_type": "stream",
     "text": [
      "Sample \"60p0\" does not have either pileup or weight information\n",
      "Sample \"6p0\" does not have either pileup or weight information\n",
      "Sample \"52p5\" does not have either pileup or weight information\n",
      "Sample \"5p25\" does not have either pileup or weight information\n"
     ]
    }
   ],
   "source": [
    "histos_signal = {}\n",
    "for plot_var in all_plot_vars:\n",
    "    histos_signal[plot_var] = {}\n",
    "for plot_var in cutflow_vars:\n",
    "    histos_signal[plot_var] = {}\n",
    "    \n",
    "for mchi in mchis:\n",
    "    for plot_var in all_plot_vars:\n",
    "        histos_signal[plot_var][mchi] = HCont.HistogramContainer(all_bins[plot_var])\n",
    "    histos_signal['cutflow_incl'][mchi] = np.zeros(len(numCuts))\n",
    "    histos_signal['cutflow_excl'][mchi] = np.zeros(len(numCuts))\n",
    "        \n",
    "    ### Make pandas dataframes and create all objects that will be passed to histo functions\n",
    "    obj_extractor = OE.ObjectExtractor(trees_gbm[mchi][ctau], mchi)\n",
    "    objects = obj_extractor.get_all()\n",
    "\n",
    "    ### Calculate histograms and cutflows\n",
    "    histo_computer = HCalc.HistogramCalculator(objects, mchi)\n",
    "\n",
    "    ### Cutflows\n",
    "    incl, excl = histo_computer.cutflows()\n",
    "    histos_signal['cutflow_incl'][mchi] += incl\n",
    "    histos_signal['cutflow_excl'][mchi] += excl\n",
    "\n",
    "    ### Histograms\n",
    "    for plot_var in all_plot_vars:\n",
    "        new_hist = eval(f'histo_computer.{plot_var}()')\n",
    "        histos_signal[plot_var][mchi] += new_hist"
   ]
  },
  {
   "cell_type": "code",
   "execution_count": 232,
   "metadata": {},
   "outputs": [],
   "source": [
    "with open('histos_signal_objects_gbm.dat', 'wb') as histos_file:\n",
    "    pickle.dump(histos_signal, histos_file)"
   ]
  },
  {
   "cell_type": "markdown",
   "metadata": {},
   "source": [
    "## Process backgrounds"
   ]
  },
  {
   "cell_type": "code",
   "execution_count": null,
   "metadata": {},
   "outputs": [],
   "source": [
    "with open('config/bkgs.json') as bkgs_json_file:\n",
    "    bkgs = json.load(bkgs_json_file)"
   ]
  },
  {
   "cell_type": "code",
   "execution_count": 196,
   "metadata": {},
   "outputs": [],
   "source": [
    "xrdfs = client.FileSystem(\"root://cmseos.fnal.gov/\")\n",
    "\n",
    "redirector = 'root://cmsxrootd.fnal.gov'\n",
    "bkg_base_dir = '/store/group/lpcmetx/iDM/Ntuples/2018/backgrounds'\n",
    "files = {}\n",
    "\n",
    "for bkg, properties in bkgs.items():\n",
    "    files[bkg] = []\n",
    "    status, listing = xrdfs.dirlist(f'{bkg_base_dir}/{properties[\"dir\"]}', DirListFlags.STAT)\n",
    "    for file in listing:\n",
    "        if '.root' in file.name:\n",
    "            files[bkg].append(f'{redirector}/{bkg_base_dir}/{properties[\"dir\"]}/{file.name}')"
   ]
  },
  {
   "cell_type": "code",
   "execution_count": 197,
   "metadata": {},
   "outputs": [
    {
     "name": "stdout",
     "output_type": "stream",
     "text": [
      "1364\n"
     ]
    },
    {
     "data": {
      "text/plain": [
       "[('DYJetsToLL', 490),\n",
       " ('QCD_bEnriched_HT100to200', 82),\n",
       " ('QCD_bEnriched_HT200to300', 63),\n",
       " ('QCD_bEnriched_HT300to500', 13),\n",
       " ('QCD_bEnriched_HT500to700', 24),\n",
       " ('QCD_bEnriched_HT700to1000', 11),\n",
       " ('QCD_bEnriched_HT1000to1500', 1),\n",
       " ('QCD_bEnriched_HT1500to2000', 1),\n",
       " ('QCD_bEnriched_HT2000toINF', 1),\n",
       " ('TTTo2L2Nu', 172),\n",
       " ('TTJets', 30),\n",
       " ('TT_diLept', 5),\n",
       " ('WJetsToLNu_HT-70To100', 168),\n",
       " ('WJetsToLNu_HT-100To200', 66),\n",
       " ('WJetsToLNu_HT-200To400', 37),\n",
       " ('WJetsToLNu_HT-400To600', 7),\n",
       " ('ZJetsToNuNu_HT-100To200', 54),\n",
       " ('ZJetsToNuNu_HT-200To400', 41),\n",
       " ('ZJetsToNuNu_HT-400To600', 36),\n",
       " ('ZJetsToNuNu_HT-600To800', 12),\n",
       " ('ZJetsToNuNu_HT-800To1200', 10),\n",
       " ('ZJetsToNuNu_HT-1200To2500', 1),\n",
       " ('ZJetsToNuNu_HT-2500ToInf', 1),\n",
       " ('WWJJToLNuLNu', 1),\n",
       " ('WWTo2L2Nu', 20),\n",
       " ('WZTo3LNu', 1),\n",
       " ('ZZTo2L2Nu', 16)]"
      ]
     },
     "execution_count": 197,
     "metadata": {},
     "output_type": "execute_result"
    }
   ],
   "source": [
    "num_files_total = np.sum(np.array([len(files[i]) for i in files]))\n",
    "print(num_files_total)\n",
    "[(i, len(files[i])) for i in files]"
   ]
  },
  {
   "cell_type": "code",
   "execution_count": 198,
   "metadata": {},
   "outputs": [
    {
     "name": "stdout",
     "output_type": "stream",
     "text": [
      "Processing background ZJetsToNuNu_HT-100To200 (17/27)\n",
      "Reading file 1 of 54, global 1 of 1364 (0.00%)\n",
      "Reading file 11 of 54, global 11 of 1364 (0.73%)\n",
      "Reading file 21 of 54, global 21 of 1364 (1.47%)\n",
      "Reading file 41 of 54, global 41 of 1364 (2.93%)\n",
      "Reading file 51 of 54, global 51 of 1364 (3.67%)\n",
      "Processing background ZJetsToNuNu_HT-200To400 (18/27)\n",
      "Reading file 1 of 41, global 55 of 1364 (3.96%)\n",
      "Reading file 11 of 41, global 65 of 1364 (4.69%)\n",
      "Reading file 21 of 41, global 75 of 1364 (5.43%)\n",
      "Reading file 31 of 41, global 85 of 1364 (6.16%)\n",
      "Reading file 41 of 41, global 95 of 1364 (6.89%)\n",
      "Processing background ZJetsToNuNu_HT-400To600 (19/27)\n",
      "Reading file 1 of 36, global 96 of 1364 (6.96%)\n",
      "Reading file 11 of 36, global 106 of 1364 (7.70%)\n",
      "Reading file 21 of 36, global 116 of 1364 (8.43%)\n",
      "Reading file 31 of 36, global 126 of 1364 (9.16%)\n",
      "Processing background ZJetsToNuNu_HT-600To800 (20/27)\n",
      "Reading file 1 of 12, global 132 of 1364 (9.60%)\n",
      "Reading file 11 of 12, global 142 of 1364 (10.34%)\n",
      "Processing background ZJetsToNuNu_HT-800To1200 (21/27)\n",
      "Reading file 1 of 10, global 144 of 1364 (10.48%)\n",
      "Processing background ZJetsToNuNu_HT-1200To2500 (22/27)\n",
      "Reading file 1 of 1, global 154 of 1364 (11.22%)\n",
      "Processing background ZJetsToNuNu_HT-2500ToInf (23/27)\n",
      "Reading file 1 of 1, global 155 of 1364 (11.29%)\n",
      "CPU times: user 30min 15s, sys: 3min 27s, total: 33min 42s\n",
      "Wall time: 46min 33s\n"
     ]
    }
   ],
   "source": [
    "%%time\n",
    "\n",
    "MAX_FILES=None # To load all possible files\n",
    "# MAX_FILES=1 # For testing\n",
    "\n",
    "### Initialize empty dicts of histograms \n",
    "# histos = {}\n",
    "# all_bins = {}\n",
    "# for plot_var in all_plot_vars:\n",
    "#     histos[plot_var] = {}\n",
    "#     all_bins[plot_var] = 60\n",
    "# histos['cutflow_incl'] = {}\n",
    "# histos['cutflow_excl'] = {}\n",
    "# histos['sumgenwgt'] = {}\n",
    "\n",
    "global_file_counter = 1\n",
    "\n",
    "for bkg in bkgs:\n",
    "    \n",
    "    print(f'Processing background {bkg} ({(list(bkgs.keys())).index(bkg)+1}/{len(bkgs)})')\n",
    "    \n",
    "    ### Initialize histograms as empty HistogramContainers\n",
    "    for plot_var in all_plot_vars:\n",
    "        histos[plot_var][bkg] = HCont.HistogramContainer(all_bins[plot_var])\n",
    "    histos['cutflow_incl'][bkg] = np.zeros(len(numCuts))\n",
    "    histos['cutflow_excl'][bkg] = np.zeros(len(numCuts))\n",
    "    histos['sumgenwgt'][bkg] = 0.0\n",
    "    \n",
    "    ### Load data\n",
    "    file_counter = 1\n",
    "    for file in files[bkg][slice(0,MAX_FILES)]:\n",
    "        \n",
    "        if file_counter % 10 == 1:\n",
    "            print(f'Reading file {file_counter} of {len(files[bkg])},'\n",
    "                  f' global {global_file_counter} of {num_files_total}'\n",
    "                  f' ({100*(global_file_counter-1)/num_files_total:.2f}%)')\n",
    "            with open('histos_temp.dat', 'wb') as histos_file:\n",
    "                pickle.dump(histos, histos_file)\n",
    "        file_counter += 1\n",
    "        global_file_counter += 1\n",
    "        \n",
    "        ### Open ROOT file and get tree\n",
    "        tree = uproot.open(file)[branch_path + '/cutsTree']\n",
    "        \n",
    "        ### Make pandas dataframes and create all objects that will be passed to histo functions\n",
    "        obj_extractor = OE.ObjectExtractor(tree)\n",
    "        objects = obj_extractor.get_all()\n",
    "            \n",
    "        ## Add to sum of genwgts\n",
    "        histos['sumgenwgt'][bkg] += np.sum(objects['genwgt'])\n",
    "        \n",
    "        ### Calculate histograms and cutflows\n",
    "        histo_maker = HCalc.HistogramCalculator(objects, bkg)\n",
    "            \n",
    "        ### Cutflows\n",
    "        incl, excl = histo_maker.cutflows()\n",
    "        histos['cutflow_incl'][bkg] += incl\n",
    "        histos['cutflow_excl'][bkg] += excl\n",
    "        \n",
    "        ### Histograms\n",
    "        for plot_var in all_plot_vars:\n",
    "            new_hist = eval(f'histo_maker.{plot_var}()')\n",
    "            histos[plot_var][bkg] += new_hist"
   ]
  },
  {
   "cell_type": "code",
   "execution_count": 208,
   "metadata": {},
   "outputs": [],
   "source": [
    "luminosity = 59.97 * 1000 # 1/pb\n",
    "for bkg, properties in bkgs.items():\n",
    "    properties['weight'] = luminosity * properties['xsec'] / histos['sumgenwgt'][bkg]\n",
    "#     except KeyError:\n",
    "#         properties['weight'] = 1"
   ]
  },
  {
   "cell_type": "code",
   "execution_count": 199,
   "metadata": {},
   "outputs": [
    {
     "name": "stdout",
     "output_type": "stream",
     "text": [
      "DYJetsToLL 3.1989342473853943 100108278.33105469\n",
      "QCD_bEnriched_HT100to200 1710.3151354724303 39341486.609375\n",
      "QCD_bEnriched_HT200to300 257.47818781801607 18672629.8671875\n",
      "QCD_bEnriched_HT300to500 83.19688493156073 12030490.09375\n",
      "QCD_bEnriched_HT500to700 8.701149003075141 10200445.9375\n",
      "QCD_bEnriched_HT700to1000 10.09261989076103 1762981.1875\n",
      "QCD_bEnriched_HT1000to1500 5.668163836746107 491976.78125\n",
      "QCD_bEnriched_HT1500to2000 0.5451332217184982 409126.46875\n",
      "QCD_bEnriched_HT2000toINF 0.0979757226515774 396573.375\n",
      "TTTo2L2Nu 0.008885813924168618 4637210204.0\n",
      "TTJets 2.879345680798001 10234706.515625\n",
      "TT_diLept 0.0151966502648976 286025244.0\n",
      "WJetsToLNu_HT-70To100 2.7458663433947224 28130050.8984375\n",
      "WJetsToLNu_HT-100To200 8.740290350128095 9557830.078125\n",
      "WJetsToLNu_HT-200To400 0.9559325101988377 25457682.1484375\n",
      "WJetsToLNu_HT-400To600 0.5860504341753632 5913597.359375\n",
      "ZJetsToNuNu_HT-100To200 0.7514695079011287 24260305.71875\n",
      "ZJetsToNuNu_HT-200To400 0.23164843002810628 23716334.703125\n",
      "ZJetsToNuNu_HT-400To600 0.08269472506976767 9500086.001098633\n",
      "ZJetsToNuNu_HT-600To800 0.03405794130134983 5738521.546875\n",
      "ZJetsToNuNu_HT-800To1200 0.043560433243561854 2059555.2734375\n",
      "ZJetsToNuNu_HT-1200To2500 0.06038058799838905 340171.0\n",
      "ZJetsToNuNu_HT-2500ToInf 0.0009013426397961769 350168.84375\n",
      "WWJJToLNuLNu 0.2627504828990591 493681.71875\n",
      "WWTo2L2Nu 0.054980413785177186 12085532.90625\n",
      "WZTo3LNu 4.7573253800545885 58717.921875\n",
      "ZZTo2L2Nu 0.007125443299320257 5056524.1328125\n"
     ]
    }
   ],
   "source": [
    "for bkg, properties in bkgs.items():\n",
    "    try:\n",
    "        print(bkg, luminosity * properties['xsec'] / histos['sumgenwgt'][bkg], histos['sumgenwgt'][bkg])\n",
    "    except KeyError: pass"
   ]
  },
  {
   "cell_type": "code",
   "execution_count": 227,
   "metadata": {},
   "outputs": [
    {
     "ename": "PicklingError",
     "evalue": "Can't pickle <class 'utils.HistogramContainer.HistogramContainer'>: it's not the same object as utils.HistogramContainer.HistogramContainer",
     "output_type": "error",
     "traceback": [
      "\u001b[0;31m---------------------------------------------------------------------------\u001b[0m",
      "\u001b[0;31mPicklingError\u001b[0m                             Traceback (most recent call last)",
      "\u001b[0;32m<ipython-input-227-8eccab0458ac>\u001b[0m in \u001b[0;36m<module>\u001b[0;34m()\u001b[0m\n\u001b[1;32m      1\u001b[0m \u001b[0;32mwith\u001b[0m \u001b[0mopen\u001b[0m\u001b[0;34m(\u001b[0m\u001b[0;34m'histos_objects_gbm.dat'\u001b[0m\u001b[0;34m,\u001b[0m \u001b[0;34m'wb'\u001b[0m\u001b[0;34m)\u001b[0m \u001b[0;32mas\u001b[0m \u001b[0mhistos_file\u001b[0m\u001b[0;34m:\u001b[0m\u001b[0;34m\u001b[0m\u001b[0m\n\u001b[0;32m----> 2\u001b[0;31m     \u001b[0mpickle\u001b[0m\u001b[0;34m.\u001b[0m\u001b[0mdump\u001b[0m\u001b[0;34m(\u001b[0m\u001b[0mhistos\u001b[0m\u001b[0;34m,\u001b[0m \u001b[0mhistos_file\u001b[0m\u001b[0;34m)\u001b[0m\u001b[0;34m\u001b[0m\u001b[0m\n\u001b[0m",
      "\u001b[0;31mPicklingError\u001b[0m: Can't pickle <class 'utils.HistogramContainer.HistogramContainer'>: it's not the same object as utils.HistogramContainer.HistogramContainer"
     ]
    }
   ],
   "source": [
    "with open('histos_bkgs_objects_gbm.dat', 'wb') as histos_file:\n",
    "    pickle.dump(histos, histos_file)"
   ]
  },
  {
   "cell_type": "code",
   "execution_count": 75,
   "metadata": {
    "scrolled": true
   },
   "outputs": [
    {
     "data": {
      "text/html": [
       "<div>\n",
       "<style scoped>\n",
       "    .dataframe tbody tr th:only-of-type {\n",
       "        vertical-align: middle;\n",
       "    }\n",
       "\n",
       "    .dataframe tbody tr th {\n",
       "        vertical-align: top;\n",
       "    }\n",
       "\n",
       "    .dataframe thead th {\n",
       "        text-align: right;\n",
       "    }\n",
       "</style>\n",
       "<table border=\"1\" class=\"dataframe\">\n",
       "  <thead>\n",
       "    <tr style=\"text-align: right;\">\n",
       "      <th></th>\n",
       "      <th>Di-boson</th>\n",
       "      <th>V+Jets</th>\n",
       "      <th>TTbar</th>\n",
       "      <th>QCD</th>\n",
       "      <th>DY</th>\n",
       "    </tr>\n",
       "  </thead>\n",
       "  <tbody>\n",
       "    <tr>\n",
       "      <th>0</th>\n",
       "      <td>38576300</td>\n",
       "      <td>292182833</td>\n",
       "      <td>105324364</td>\n",
       "      <td>212168469</td>\n",
       "      <td>100194597</td>\n",
       "    </tr>\n",
       "    <tr>\n",
       "      <th>1</th>\n",
       "      <td>1784391</td>\n",
       "      <td>22787706</td>\n",
       "      <td>5905556</td>\n",
       "      <td>574661</td>\n",
       "      <td>42378</td>\n",
       "    </tr>\n",
       "    <tr>\n",
       "      <th>2</th>\n",
       "      <td>346020</td>\n",
       "      <td>6276581</td>\n",
       "      <td>142540</td>\n",
       "      <td>61747</td>\n",
       "      <td>8944</td>\n",
       "    </tr>\n",
       "    <tr>\n",
       "      <th>3</th>\n",
       "      <td>55453</td>\n",
       "      <td>1155522</td>\n",
       "      <td>70082</td>\n",
       "      <td>32028</td>\n",
       "      <td>2992</td>\n",
       "    </tr>\n",
       "    <tr>\n",
       "      <th>4</th>\n",
       "      <td>10672</td>\n",
       "      <td>59317</td>\n",
       "      <td>15914</td>\n",
       "      <td>4300</td>\n",
       "      <td>320</td>\n",
       "    </tr>\n",
       "    <tr>\n",
       "      <th>5</th>\n",
       "      <td>1011</td>\n",
       "      <td>7282</td>\n",
       "      <td>1229</td>\n",
       "      <td>2492</td>\n",
       "      <td>102</td>\n",
       "    </tr>\n",
       "  </tbody>\n",
       "</table>\n",
       "</div>"
      ],
      "text/plain": [
       "   Di-boson     V+Jets      TTbar        QCD         DY\n",
       "0  38576300  292182833  105324364  212168469  100194597\n",
       "1   1784391   22787706    5905556     574661      42378\n",
       "2    346020    6276581     142540      61747       8944\n",
       "3     55453    1155522      70082      32028       2992\n",
       "4     10672      59317      15914       4300        320\n",
       "5      1011       7282       1229       2492        102"
      ]
     },
     "execution_count": 75,
     "metadata": {},
     "output_type": "execute_result"
    }
   ],
   "source": [
    "cutFlowInclGrp = {}\n",
    "for grp in bkg_grps:\n",
    "    if '60p0' in grp or '5p25' in grp or '52p5' in grp or '6p0' in grp: continue\n",
    "    for bkg in bkg_grps[grp]:\n",
    "        if grp in cutFlowInclGrp.keys():\n",
    "            cutFlowInclGrp[grp] += histos['cutflow_incl'][bkg].astype(int)\n",
    "        else:\n",
    "            cutFlowInclGrp[grp] = histos['cutflow_incl'][bkg].astype(int)\n",
    "\n",
    "pd.DataFrame.from_dict(cutFlowInclGrp)"
   ]
  },
  {
   "cell_type": "code",
   "execution_count": 213,
   "metadata": {},
   "outputs": [
    {
     "data": {
      "text/html": [
       "<div>\n",
       "<style scoped>\n",
       "    .dataframe tbody tr th:only-of-type {\n",
       "        vertical-align: middle;\n",
       "    }\n",
       "\n",
       "    .dataframe tbody tr th {\n",
       "        vertical-align: top;\n",
       "    }\n",
       "\n",
       "    .dataframe thead th {\n",
       "        text-align: right;\n",
       "    }\n",
       "</style>\n",
       "<table border=\"1\" class=\"dataframe\">\n",
       "  <thead>\n",
       "    <tr style=\"text-align: right;\">\n",
       "      <th></th>\n",
       "      <th>Di-boson</th>\n",
       "      <th>V+Jets</th>\n",
       "      <th>TTbar</th>\n",
       "      <th>QCD</th>\n",
       "      <th>DY</th>\n",
       "    </tr>\n",
       "  </thead>\n",
       "  <tbody>\n",
       "    <tr>\n",
       "      <th>0</th>\n",
       "      <td>310108</td>\n",
       "      <td>213689064</td>\n",
       "      <td>30080860</td>\n",
       "      <td>73223324490</td>\n",
       "      <td>320515927</td>\n",
       "    </tr>\n",
       "    <tr>\n",
       "      <th>1</th>\n",
       "      <td>22300</td>\n",
       "      <td>7621102</td>\n",
       "      <td>1158423</td>\n",
       "      <td>1685736</td>\n",
       "      <td>135564</td>\n",
       "    </tr>\n",
       "    <tr>\n",
       "      <th>2</th>\n",
       "      <td>1918</td>\n",
       "      <td>2494019</td>\n",
       "      <td>17336</td>\n",
       "      <td>228249</td>\n",
       "      <td>28611</td>\n",
       "    </tr>\n",
       "    <tr>\n",
       "      <th>3</th>\n",
       "      <td>6</td>\n",
       "      <td>6653</td>\n",
       "      <td>201</td>\n",
       "      <td>13629</td>\n",
       "      <td>99</td>\n",
       "    </tr>\n",
       "    <tr>\n",
       "      <th>4</th>\n",
       "      <td>0</td>\n",
       "      <td>16</td>\n",
       "      <td>2</td>\n",
       "      <td>362</td>\n",
       "      <td>0</td>\n",
       "    </tr>\n",
       "    <tr>\n",
       "      <th>5</th>\n",
       "      <td>0</td>\n",
       "      <td>0</td>\n",
       "      <td>0</td>\n",
       "      <td>317</td>\n",
       "      <td>0</td>\n",
       "    </tr>\n",
       "  </tbody>\n",
       "</table>\n",
       "</div>"
      ],
      "text/plain": [
       "   Di-boson     V+Jets     TTbar          QCD         DY\n",
       "0    310108  213689064  30080860  73223324490  320515927\n",
       "1     22300    7621102   1158423      1685736     135564\n",
       "2      1918    2494019     17336       228249      28611\n",
       "3         6       6653       201        13629         99\n",
       "4         0         16         2          362          0\n",
       "5         0          0         0          317          0"
      ]
     },
     "execution_count": 213,
     "metadata": {},
     "output_type": "execute_result"
    }
   ],
   "source": [
    "cutFlowInclGrp2 = {}\n",
    "for grp in bkg_grps:\n",
    "#     if '60p0' in grp or '5p25' in grp or '52p5' in grp or '6p0' in grp: continue\n",
    "    for bkg in bkg_grps[grp]:\n",
    "        if grp in cutFlowInclGrp2.keys():\n",
    "            try:\n",
    "                cutFlowInclGrp2[grp] += (histos['cutflow_incl'][bkg]*bkgs[bkg]['weight']).astype(int)\n",
    "            except KeyError: pass\n",
    "        else:\n",
    "            try:\n",
    "                cutFlowInclGrp2[grp] = (histos['cutflow_incl'][bkg]*bkgs[bkg]['weight']).astype(int)\n",
    "            except KeyError: pass\n",
    "\n",
    "\n",
    "pd.DataFrame.from_dict(cutFlowInclGrp2)"
   ]
  }
 ],
 "metadata": {
  "kernelspec": {
   "display_name": "Python 3",
   "language": "python",
   "name": "python3"
  },
  "language_info": {
   "codemirror_mode": {
    "name": "ipython",
    "version": 3
   },
   "file_extension": ".py",
   "mimetype": "text/x-python",
   "name": "python",
   "nbconvert_exporter": "python",
   "pygments_lexer": "ipython3",
   "version": "3.6.4"
  }
 },
 "nbformat": 4,
 "nbformat_minor": 2
}
