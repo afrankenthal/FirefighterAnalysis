{
 "cells": [
  {
   "cell_type": "markdown",
   "metadata": {},
   "source": [
    "## Import modules"
   ]
  },
  {
   "cell_type": "code",
   "execution_count": 3,
   "metadata": {},
   "outputs": [],
   "source": [
    "import sys\n",
    "%matplotlib inline\n",
    "import matplotlib.pyplot as plt\n",
    "import numpy as np\n",
    "import pandas as pd\n",
    "import uproot"
   ]
  },
  {
   "cell_type": "markdown",
   "metadata": {},
   "source": [
    "## Global initialization"
   ]
  },
  {
   "cell_type": "code",
   "execution_count": 11,
   "metadata": {},
   "outputs": [
    {
     "name": "stdout",
     "output_type": "stream",
     "text": [
      "sys.version_info(major=3, minor=6, micro=4, releaselevel='final', serial=0)\n"
     ]
    }
   ],
   "source": [
    "print(sys.version_info)\n",
    "\n",
    "plt.style.use('default')\n",
    "plt.rcParams['grid.linestyle'] = ':'\n",
    "plt.rcParams.update({'font.size': 10})\n",
    "\n",
    "numCuts = np.arange(0,6)\n",
    "\n",
    "branch_path_gbm = 'SREffi_gbm'\n",
    "branch_path_dsa = 'SREffi_dsa'"
   ]
  },
  {
   "cell_type": "code",
   "execution_count": 5,
   "metadata": {},
   "outputs": [],
   "source": [
    "all_plot_vars = ['metpt', 'jetpt','metjetphi', 'metmuphi', 'leadingmupt', 'subleadingmupt', 'recodr', 'recovertex']\n",
    "plot_vars_metjet = all_plot_vars[0:4] #['metpt', 'jetpt', 'metjetphi', 'metmuphi']\n",
    "plot_vars_muons = all_plot_vars[4:8] #['leadingmupt', 'subleadingmupt', 'recodr', 'recovertex']\n",
    "cutflow_vars = ['cutflow_incl', 'cutflow_excl']\n",
    "all_plot_xlabels = [\n",
    "    'MET [GeV]', 'Leading jet pT [GeV]', '$\\Delta\\Phi$(MET, jet)', '$\\Delta\\Phi$(MET, di-muon)',\n",
    "    'Leading muon pT [GeV]', 'Subleading muon pT [GeV]', 'dR(muons)', 'Di-muon vertex [cm]']"
   ]
  },
  {
   "cell_type": "markdown",
   "metadata": {},
   "source": [
    "## Process signal"
   ]
  },
  {
   "cell_type": "code",
   "execution_count": 6,
   "metadata": {},
   "outputs": [],
   "source": [
    "masses = [('60p0','20p0'),('6p0','2p0'),('52p5','5p0'),('5p25','0p5')]\n",
    "def print_masses(mass):\n",
    "    return f'({float(mass[0].replace(\"p\",\".\"))-float(mass[1].replace(\"p\",\".\"))/2}, ' + \\\n",
    "           f'{float(mass[0].replace(\"p\",\".\"))+float(mass[1].replace(\"p\",\".\"))/2}) GeV'\n",
    "    \n",
    "mchis = dict([(mass[0], print_masses(mass)) for mass in masses])\n",
    "ctaus = [10]#, 10, 100, 1000]\n",
    "\n",
    "labels = [ f'cut{cut}' for cut in numCuts ]\n",
    "cut_descriptions = [\n",
    "    'cut1: MET/MHT trigger fired (120 GeV)',\n",
    "    'cut2: j1 pT > 120 GeV, <= 2j w/ pT > 30 GeV',\n",
    "    'cut3: mu1 pT > 5 GeV, 0.1 < |dxy| < 700 cm',\n",
    "    'cut4: mu2 pT > 5 GeV, 0.1 < |dxy| < 700 cm',\n",
    "    r'cut5: $|\\Delta\\Phi$(MET, mu pair)| < 0.4',\n",
    "]\n",
    "\n",
    "base_dir = '../Firefighter/washAOD/SROptimization/'\n",
    "def filename(Mchi, dMchi, ctau): \n",
    "    return base_dir + f'Mchi-{Mchi}_dMchi-{dMchi}_ctau-{ctau}.root'"
   ]
  },
  {
   "cell_type": "code",
   "execution_count": 13,
   "metadata": {},
   "outputs": [],
   "source": [
    "trees_gbm = dict()\n",
    "trees_dsa = dict()\n",
    "gen_info = dict()"
   ]
  },
  {
   "cell_type": "code",
   "execution_count": 14,
   "metadata": {},
   "outputs": [
    {
     "name": "stdout",
     "output_type": "stream",
     "text": [
      "1 of 8: ../Firefighter/washAOD/SROptimization/Mchi-60p0_dMchi-20p0_ctau-10.root\n",
      "3 of 8: ../Firefighter/washAOD/SROptimization/Mchi-6p0_dMchi-2p0_ctau-10.root\n",
      "5 of 8: ../Firefighter/washAOD/SROptimization/Mchi-52p5_dMchi-5p0_ctau-10.root\n",
      "7 of 8: ../Firefighter/washAOD/SROptimization/Mchi-5p25_dMchi-0p5_ctau-10.root\n"
     ]
    }
   ],
   "source": [
    "num_params = len(masses)*len(ctaus)\n",
    "count_param = 1\n",
    "\n",
    "for (Mchi, dMchi) in masses:\n",
    "    trees_gbm[Mchi] = dict()\n",
    "    trees_dsa[Mchi] = dict()\n",
    "    gen_info[Mchi] = dict()\n",
    "    for ctau in ctaus:\n",
    "        gen_info[Mchi][ctau] = uproot.open(filename(Mchi, dMchi, ctau))['GEN/gen']#.pandas.df(flatten=False)\n",
    "        trees_gbm[Mchi][ctau] = uproot.open(filename(Mchi, dMchi, ctau))[branch_path_gbm + f'/cutsTree']#.pandas.df(flatten=False)\n",
    "        trees_dsa[Mchi][ctau] = uproot.open(filename(Mchi, dMchi, ctau))[branch_path_dsa + f'/cutsTree']#.pandas.df(flatten=False)\n",
    "        print(f'{count_param} of {num_params}: ' + filename(Mchi, dMchi, ctau))\n",
    "        count_param += 1"
   ]
  },
  {
   "cell_type": "code",
   "execution_count": 28,
   "metadata": {
    "scrolled": true
   },
   "outputs": [
    {
     "data": {
      "text/html": [
       "<div>\n",
       "<style scoped>\n",
       "    .dataframe tbody tr th:only-of-type {\n",
       "        vertical-align: middle;\n",
       "    }\n",
       "\n",
       "    .dataframe tbody tr th {\n",
       "        vertical-align: top;\n",
       "    }\n",
       "\n",
       "    .dataframe thead th {\n",
       "        text-align: right;\n",
       "    }\n",
       "</style>\n",
       "<table border=\"1\" class=\"dataframe\">\n",
       "  <thead>\n",
       "    <tr style=\"text-align: right;\">\n",
       "      <th></th>\n",
       "      <th>recoVxy</th>\n",
       "      <th>vxy</th>\n",
       "    </tr>\n",
       "    <tr>\n",
       "      <th>entry</th>\n",
       "      <th></th>\n",
       "      <th></th>\n",
       "    </tr>\n",
       "  </thead>\n",
       "  <tbody>\n",
       "    <tr>\n",
       "      <th>2</th>\n",
       "      <td>26.404278</td>\n",
       "      <td>6.676163</td>\n",
       "    </tr>\n",
       "    <tr>\n",
       "      <th>4</th>\n",
       "      <td>58.652882</td>\n",
       "      <td>56.346612</td>\n",
       "    </tr>\n",
       "    <tr>\n",
       "      <th>8</th>\n",
       "      <td>0.000000</td>\n",
       "      <td>23.678391</td>\n",
       "    </tr>\n",
       "    <tr>\n",
       "      <th>24</th>\n",
       "      <td>90.384911</td>\n",
       "      <td>31.936306</td>\n",
       "    </tr>\n",
       "    <tr>\n",
       "      <th>29</th>\n",
       "      <td>4.528256</td>\n",
       "      <td>8.269389</td>\n",
       "    </tr>\n",
       "    <tr>\n",
       "      <th>36</th>\n",
       "      <td>19.760229</td>\n",
       "      <td>3.876395</td>\n",
       "    </tr>\n",
       "    <tr>\n",
       "      <th>37</th>\n",
       "      <td>0.000000</td>\n",
       "      <td>6.313950</td>\n",
       "    </tr>\n",
       "    <tr>\n",
       "      <th>48</th>\n",
       "      <td>3.996315</td>\n",
       "      <td>61.031816</td>\n",
       "    </tr>\n",
       "    <tr>\n",
       "      <th>54</th>\n",
       "      <td>54.316971</td>\n",
       "      <td>54.412538</td>\n",
       "    </tr>\n",
       "    <tr>\n",
       "      <th>61</th>\n",
       "      <td>136.475845</td>\n",
       "      <td>110.501628</td>\n",
       "    </tr>\n",
       "    <tr>\n",
       "      <th>63</th>\n",
       "      <td>0.000000</td>\n",
       "      <td>13.802750</td>\n",
       "    </tr>\n",
       "    <tr>\n",
       "      <th>64</th>\n",
       "      <td>0.000000</td>\n",
       "      <td>8.705560</td>\n",
       "    </tr>\n",
       "    <tr>\n",
       "      <th>90</th>\n",
       "      <td>0.000000</td>\n",
       "      <td>11.970212</td>\n",
       "    </tr>\n",
       "    <tr>\n",
       "      <th>101</th>\n",
       "      <td>0.000000</td>\n",
       "      <td>13.618492</td>\n",
       "    </tr>\n",
       "    <tr>\n",
       "      <th>102</th>\n",
       "      <td>20.831303</td>\n",
       "      <td>2.090351</td>\n",
       "    </tr>\n",
       "    <tr>\n",
       "      <th>108</th>\n",
       "      <td>0.000000</td>\n",
       "      <td>11.671849</td>\n",
       "    </tr>\n",
       "    <tr>\n",
       "      <th>110</th>\n",
       "      <td>0.000000</td>\n",
       "      <td>7.431946</td>\n",
       "    </tr>\n",
       "    <tr>\n",
       "      <th>117</th>\n",
       "      <td>113.381775</td>\n",
       "      <td>102.536089</td>\n",
       "    </tr>\n",
       "    <tr>\n",
       "      <th>118</th>\n",
       "      <td>0.000000</td>\n",
       "      <td>3.515535</td>\n",
       "    </tr>\n",
       "    <tr>\n",
       "      <th>121</th>\n",
       "      <td>0.000000</td>\n",
       "      <td>14.690839</td>\n",
       "    </tr>\n",
       "    <tr>\n",
       "      <th>124</th>\n",
       "      <td>122.723091</td>\n",
       "      <td>6.108856</td>\n",
       "    </tr>\n",
       "    <tr>\n",
       "      <th>129</th>\n",
       "      <td>36.825275</td>\n",
       "      <td>10.603658</td>\n",
       "    </tr>\n",
       "    <tr>\n",
       "      <th>132</th>\n",
       "      <td>39.523563</td>\n",
       "      <td>36.599388</td>\n",
       "    </tr>\n",
       "    <tr>\n",
       "      <th>137</th>\n",
       "      <td>62.215912</td>\n",
       "      <td>37.401467</td>\n",
       "    </tr>\n",
       "    <tr>\n",
       "      <th>138</th>\n",
       "      <td>71.890411</td>\n",
       "      <td>0.284550</td>\n",
       "    </tr>\n",
       "    <tr>\n",
       "      <th>145</th>\n",
       "      <td>13.458815</td>\n",
       "      <td>11.706514</td>\n",
       "    </tr>\n",
       "    <tr>\n",
       "      <th>146</th>\n",
       "      <td>0.000000</td>\n",
       "      <td>51.569970</td>\n",
       "    </tr>\n",
       "    <tr>\n",
       "      <th>147</th>\n",
       "      <td>0.000000</td>\n",
       "      <td>50.743249</td>\n",
       "    </tr>\n",
       "    <tr>\n",
       "      <th>148</th>\n",
       "      <td>40.372059</td>\n",
       "      <td>5.854990</td>\n",
       "    </tr>\n",
       "    <tr>\n",
       "      <th>158</th>\n",
       "      <td>3.489407</td>\n",
       "      <td>16.926879</td>\n",
       "    </tr>\n",
       "    <tr>\n",
       "      <th>...</th>\n",
       "      <td>...</td>\n",
       "      <td>...</td>\n",
       "    </tr>\n",
       "    <tr>\n",
       "      <th>30493</th>\n",
       "      <td>131.732574</td>\n",
       "      <td>38.731253</td>\n",
       "    </tr>\n",
       "    <tr>\n",
       "      <th>30497</th>\n",
       "      <td>0.000000</td>\n",
       "      <td>18.262238</td>\n",
       "    </tr>\n",
       "    <tr>\n",
       "      <th>30507</th>\n",
       "      <td>77.343544</td>\n",
       "      <td>15.331531</td>\n",
       "    </tr>\n",
       "    <tr>\n",
       "      <th>30510</th>\n",
       "      <td>0.000000</td>\n",
       "      <td>9.824327</td>\n",
       "    </tr>\n",
       "    <tr>\n",
       "      <th>30513</th>\n",
       "      <td>19.863056</td>\n",
       "      <td>10.123859</td>\n",
       "    </tr>\n",
       "    <tr>\n",
       "      <th>30518</th>\n",
       "      <td>60.266998</td>\n",
       "      <td>3.250512</td>\n",
       "    </tr>\n",
       "    <tr>\n",
       "      <th>30535</th>\n",
       "      <td>165.789261</td>\n",
       "      <td>40.012216</td>\n",
       "    </tr>\n",
       "    <tr>\n",
       "      <th>30542</th>\n",
       "      <td>74.667107</td>\n",
       "      <td>35.873116</td>\n",
       "    </tr>\n",
       "    <tr>\n",
       "      <th>30545</th>\n",
       "      <td>69.028671</td>\n",
       "      <td>9.519431</td>\n",
       "    </tr>\n",
       "    <tr>\n",
       "      <th>30548</th>\n",
       "      <td>31.549839</td>\n",
       "      <td>2.798564</td>\n",
       "    </tr>\n",
       "    <tr>\n",
       "      <th>30549</th>\n",
       "      <td>21.593733</td>\n",
       "      <td>0.743187</td>\n",
       "    </tr>\n",
       "    <tr>\n",
       "      <th>30557</th>\n",
       "      <td>69.227440</td>\n",
       "      <td>1.446777</td>\n",
       "    </tr>\n",
       "    <tr>\n",
       "      <th>30574</th>\n",
       "      <td>0.000000</td>\n",
       "      <td>23.280451</td>\n",
       "    </tr>\n",
       "    <tr>\n",
       "      <th>30577</th>\n",
       "      <td>0.000000</td>\n",
       "      <td>6.185829</td>\n",
       "    </tr>\n",
       "    <tr>\n",
       "      <th>30580</th>\n",
       "      <td>0.000000</td>\n",
       "      <td>0.451238</td>\n",
       "    </tr>\n",
       "    <tr>\n",
       "      <th>30581</th>\n",
       "      <td>30.759392</td>\n",
       "      <td>3.849025</td>\n",
       "    </tr>\n",
       "    <tr>\n",
       "      <th>30587</th>\n",
       "      <td>0.000000</td>\n",
       "      <td>0.720628</td>\n",
       "    </tr>\n",
       "    <tr>\n",
       "      <th>30591</th>\n",
       "      <td>0.000000</td>\n",
       "      <td>23.169371</td>\n",
       "    </tr>\n",
       "    <tr>\n",
       "      <th>30593</th>\n",
       "      <td>34.670261</td>\n",
       "      <td>14.243218</td>\n",
       "    </tr>\n",
       "    <tr>\n",
       "      <th>30595</th>\n",
       "      <td>2.782279</td>\n",
       "      <td>1.873746</td>\n",
       "    </tr>\n",
       "    <tr>\n",
       "      <th>30602</th>\n",
       "      <td>0.000000</td>\n",
       "      <td>4.212169</td>\n",
       "    </tr>\n",
       "    <tr>\n",
       "      <th>30603</th>\n",
       "      <td>82.811356</td>\n",
       "      <td>52.343599</td>\n",
       "    </tr>\n",
       "    <tr>\n",
       "      <th>30604</th>\n",
       "      <td>36.791119</td>\n",
       "      <td>14.982064</td>\n",
       "    </tr>\n",
       "    <tr>\n",
       "      <th>30612</th>\n",
       "      <td>107.091026</td>\n",
       "      <td>26.815199</td>\n",
       "    </tr>\n",
       "    <tr>\n",
       "      <th>30614</th>\n",
       "      <td>8.648465</td>\n",
       "      <td>3.749847</td>\n",
       "    </tr>\n",
       "    <tr>\n",
       "      <th>30617</th>\n",
       "      <td>15.057829</td>\n",
       "      <td>1.316954</td>\n",
       "    </tr>\n",
       "    <tr>\n",
       "      <th>30630</th>\n",
       "      <td>5.851627</td>\n",
       "      <td>22.021085</td>\n",
       "    </tr>\n",
       "    <tr>\n",
       "      <th>30635</th>\n",
       "      <td>31.245598</td>\n",
       "      <td>18.757154</td>\n",
       "    </tr>\n",
       "    <tr>\n",
       "      <th>30636</th>\n",
       "      <td>16.227623</td>\n",
       "      <td>5.034853</td>\n",
       "    </tr>\n",
       "    <tr>\n",
       "      <th>30648</th>\n",
       "      <td>0.000000</td>\n",
       "      <td>18.487275</td>\n",
       "    </tr>\n",
       "  </tbody>\n",
       "</table>\n",
       "<p>5598 rows × 2 columns</p>\n",
       "</div>"
      ],
      "text/plain": [
       "          recoVxy         vxy\n",
       "entry                        \n",
       "2       26.404278    6.676163\n",
       "4       58.652882   56.346612\n",
       "8        0.000000   23.678391\n",
       "24      90.384911   31.936306\n",
       "29       4.528256    8.269389\n",
       "36      19.760229    3.876395\n",
       "37       0.000000    6.313950\n",
       "48       3.996315   61.031816\n",
       "54      54.316971   54.412538\n",
       "61     136.475845  110.501628\n",
       "63       0.000000   13.802750\n",
       "64       0.000000    8.705560\n",
       "90       0.000000   11.970212\n",
       "101      0.000000   13.618492\n",
       "102     20.831303    2.090351\n",
       "108      0.000000   11.671849\n",
       "110      0.000000    7.431946\n",
       "117    113.381775  102.536089\n",
       "118      0.000000    3.515535\n",
       "121      0.000000   14.690839\n",
       "124    122.723091    6.108856\n",
       "129     36.825275   10.603658\n",
       "132     39.523563   36.599388\n",
       "137     62.215912   37.401467\n",
       "138     71.890411    0.284550\n",
       "145     13.458815   11.706514\n",
       "146      0.000000   51.569970\n",
       "147      0.000000   50.743249\n",
       "148     40.372059    5.854990\n",
       "158      3.489407   16.926879\n",
       "...           ...         ...\n",
       "30493  131.732574   38.731253\n",
       "30497    0.000000   18.262238\n",
       "30507   77.343544   15.331531\n",
       "30510    0.000000    9.824327\n",
       "30513   19.863056   10.123859\n",
       "30518   60.266998    3.250512\n",
       "30535  165.789261   40.012216\n",
       "30542   74.667107   35.873116\n",
       "30545   69.028671    9.519431\n",
       "30548   31.549839    2.798564\n",
       "30549   21.593733    0.743187\n",
       "30557   69.227440    1.446777\n",
       "30574    0.000000   23.280451\n",
       "30577    0.000000    6.185829\n",
       "30580    0.000000    0.451238\n",
       "30581   30.759392    3.849025\n",
       "30587    0.000000    0.720628\n",
       "30591    0.000000   23.169371\n",
       "30593   34.670261   14.243218\n",
       "30595    2.782279    1.873746\n",
       "30602    0.000000    4.212169\n",
       "30603   82.811356   52.343599\n",
       "30604   36.791119   14.982064\n",
       "30612  107.091026   26.815199\n",
       "30614    8.648465    3.749847\n",
       "30617   15.057829    1.316954\n",
       "30630    5.851627   22.021085\n",
       "30635   31.245598   18.757154\n",
       "30636   16.227623    5.034853\n",
       "30648    0.000000   18.487275\n",
       "\n",
       "[5598 rows x 2 columns]"
      ]
     },
     "execution_count": 28,
     "metadata": {},
     "output_type": "execute_result"
    }
   ],
   "source": [
    "pd.concat([trees_dsa['5p25'][10].pandas.df('recoVxy').groupby('entry').max()['recoVxy'], \n",
    "           gen_info['5p25'][10].pandas.df('vxy').groupby('entry').max()['vxy']], axis=1).dropna()"
   ]
  },
  {
   "cell_type": "code",
   "execution_count": 17,
   "metadata": {},
   "outputs": [
    {
     "data": {
      "text/plain": [
       "Text(0.5,1,'dSA muons')"
      ]
     },
     "execution_count": 17,
     "metadata": {},
     "output_type": "execute_result"
    },
    {
     "data": {
      "image/png": "[encoded data removed]",
      "text/plain": [
       "<Figure size 640x480 with 1 Axes>"
      ]
     },
     "metadata": {},
     "output_type": "display_data"
    }
   ],
   "source": [
    "plt.scatter(pd.concat([trees_dsa['5p25'][10].pandas.df('recoVxy').groupby('entry').max()['recoVxy'],\n",
    "gen_info['5p25'][10].pandas.df('vxy').groupby('entry').max()['vxy']], axis=1).dropna()['vxy'],\n",
    "    ((trees_dsa['5p25'][10].pandas.df('recoVxy').groupby('entry').max()['recoVxy'] - \\\n",
    "gen_info['5p25'][10].pandas.df('vxy').groupby('entry').max()['vxy'])/ \\\n",
    "gen_info['5p25'][10].pandas.df('vxy').groupby('entry').max()['vxy']).dropna(), \n",
    " label='dSA muons');\n",
    "plt.xlabel('genVxy (cm)')\n",
    "plt.ylabel('(recoVxy - genVxy)/genVxy')\n",
    "plt.ylim([0,100])\n",
    "plt.title('dSA muons')"
   ]
  },
  {
   "cell_type": "code",
   "execution_count": 18,
   "metadata": {},
   "outputs": [
    {
     "data": {
      "text/plain": [
       "Text(0.5,1,'global muons')"
      ]
     },
     "execution_count": 18,
     "metadata": {},
     "output_type": "execute_result"
    },
    {
     "data": {
      "image/png": "[encoded data removed]",
      "text/plain": [
       "<Figure size 640x480 with 1 Axes>"
      ]
     },
     "metadata": {},
     "output_type": "display_data"
    }
   ],
   "source": [
    "plt.scatter(pd.concat([trees_gbm['5p25'][10].pandas.df('recoVxy').groupby('entry').max()['recoVxy'],\n",
    "gen_info['5p25'][10].pandas.df('vxy').groupby('entry').max()['vxy']], axis=1).dropna()['vxy'],\n",
    "    ((trees_gbm['5p25'][10].pandas.df('recoVxy').groupby('entry').max()['recoVxy'] - \\\n",
    "gen_info['5p25'][10].pandas.df('vxy').groupby('entry').max()['vxy'])/ \\\n",
    "gen_info['5p25'][10].pandas.df('vxy').groupby('entry').max()['vxy']).dropna(), \n",
    " label='gBM muons');\n",
    "plt.xlabel('genVxy (cm)')\n",
    "plt.ylabel('(recoVxy - genVxy)/genVxy')\n",
    "plt.title('global muons')"
   ]
  },
  {
   "cell_type": "code",
   "execution_count": 19,
   "metadata": {},
   "outputs": [
    {
     "data": {
      "text/plain": [
       "<matplotlib.legend.Legend at 0x7f926aef7b38>"
      ]
     },
     "execution_count": 19,
     "metadata": {},
     "output_type": "execute_result"
    },
    {
     "data": {
      "image/png": "[encoded data removed]",
      "text/plain": [
       "<Figure size 640x480 with 1 Axes>"
      ]
     },
     "metadata": {},
     "output_type": "display_data"
    }
   ],
   "source": [
    "plt.hist(((trees_gbm['5p25'][10].pandas.df('recoVxy').groupby('entry').max()['recoVxy'] - \\\n",
    "gen_info['5p25'][10].pandas.df('vxy').groupby('entry').max()['vxy'])/ \\\n",
    "gen_info['5p25'][10].pandas.df('vxy').groupby('entry').max()['vxy']).dropna(), label='global muons', bins=50, log=True, histtype='step');\n",
    "\n",
    "plt.hist(((trees_dsa['5p25'][10].pandas.df('recoVxy').groupby('entry').max()['recoVxy'] - \\\n",
    "gen_info['5p25'][10].pandas.df('vxy').groupby('entry').max()['vxy'])/ \\\n",
    "gen_info['5p25'][10].pandas.df('vxy').groupby('entry').max()['vxy']).dropna(), label='dSA muons', bins=50, range=(0,600), log=True, histtype='step');\n",
    "\n",
    "plt.xlabel('(recoVxy - genVxy)/genVxy')\n",
    "plt.legend()"
   ]
  },
  {
   "cell_type": "code",
   "execution_count": 21,
   "metadata": {},
   "outputs": [
    {
     "data": {
      "image/png": "[encoded data removed]",
      "text/plain": [
       "<Figure size 640x480 with 1 Axes>"
      ]
     },
     "metadata": {},
     "output_type": "display_data"
    }
   ],
   "source": [
    "plt.hist(((trees_dsa['5p25'][10].pandas.df('recoVxy').groupby('entry').max()['recoVxy'] - \\\n",
    "gen_info['5p25'][10].pandas.df('vxy').groupby('entry').max()['vxy'])/ \\\n",
    "gen_info['5p25'][10].pandas.df('vxy').groupby('entry').max()['vxy']).dropna(), bins=50, range=(0,1000), log=True, histtype='step');"
   ]
  },
  {
   "cell_type": "code",
   "execution_count": 22,
   "metadata": {},
   "outputs": [
    {
     "data": {
      "image/png": "[encoded data removed]",
      "text/plain": [
       "<Figure size 640x480 with 1 Axes>"
      ]
     },
     "metadata": {},
     "output_type": "display_data"
    }
   ],
   "source": [
    "plt.hist(gen_info['5p25'][10].pandas.df('vxy').groupby('entry').max()['vxy'], bins=50, log=True, histtype='step');"
   ]
  }
 ],
 "metadata": {
  "kernelspec": {
   "display_name": "Python 3",
   "language": "python",
   "name": "python3"
  },
  "language_info": {
   "codemirror_mode": {
    "name": "ipython",
    "version": 3
   },
   "file_extension": ".py",
   "mimetype": "text/x-python",
   "name": "python",
   "nbconvert_exporter": "python",
   "pygments_lexer": "ipython3",
   "version": "3.6.4"
  }
 },
 "nbformat": 4,
 "nbformat_minor": 2
}
