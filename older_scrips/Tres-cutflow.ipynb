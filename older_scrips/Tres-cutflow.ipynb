{
 "cells": [
  {
   "cell_type": "markdown",
   "metadata": {},
   "source": [
    "# Import libraries and init"
   ]
  },
  {
   "cell_type": "code",
   "execution_count": 1,
   "metadata": {
    "collapsed": true
   },
   "outputs": [],
   "source": [
    "# import ROOT -- don't need this for now\n",
    "import numpy as np\n",
    "import pandas as pd\n",
    "from collections import OrderedDict\n",
    "import math\n",
    "\n",
    "%matplotlib inline\n",
    "import matplotlib.pyplot as plt\n",
    "from mpl_toolkits.axes_grid1.inset_locator import inset_axes\n",
    "plt.style.use('default')\n",
    "plt.rcParams['grid.linestyle'] = ':'\n",
    "plt.rcParams.update({'font.size': 9})\n",
    "\n",
    "import uproot # uproot needs to be last for some reason"
   ]
  },
  {
   "cell_type": "code",
   "execution_count": 2,
   "metadata": {
    "collapsed": false
   },
   "outputs": [
    {
     "data": {
      "text/plain": [
       "sys.version_info(major=3, minor=6, micro=4, releaselevel='final', serial=0)"
      ]
     },
     "execution_count": 2,
     "metadata": {},
     "output_type": "execute_result"
    }
   ],
   "source": [
    "import sys\n",
    "sys.version\n",
    "sys.version_info"
   ]
  },
  {
   "cell_type": "code",
   "execution_count": 3,
   "metadata": {
    "collapsed": true
   },
   "outputs": [],
   "source": [
    "from functools import reduce\n",
    "import operator"
   ]
  },
  {
   "cell_type": "markdown",
   "metadata": {},
   "source": [
    "# Load ntuples from analyzer"
   ]
  },
  {
   "cell_type": "markdown",
   "metadata": {},
   "source": [
    "Define parameters in separate block so can change them without loading files all over again"
   ]
  },
  {
   "cell_type": "code",
   "execution_count": 10,
   "metadata": {
    "collapsed": true
   },
   "outputs": [],
   "source": [
    "background = ['NoBPTX']\n",
    "cuts = np.arange(0,6)\n",
    "branchPath = 'SREffi_dsa'\n",
    "baseDir = '~/nobackup/signal_region/2018/backgrounds/'\n",
    "#fileName = lambda Mchi, dMchi, ctau: baseDir + f'Mchi-{Mchi}_dMchi-{dMchi}_ctau-{ctau}.root'\n",
    "\n",
    "#tres input\n",
    "#fileName = 'root://cmsxrootd.fnal.gov//store/group/lpcmetx/iDM/Ntuples/2018/backgrounds/WWJJToLNuLNu/WWJJToLNuLNu_EWK_13TeV-madgraph-pythia8/WWJJToLNuLNu/190309_053107/0000/output_1.root'\n",
    "#fileName = baseDir+'WWTo2L2Nu/output_1-5.root'\n",
    "#fileName = 'root://cmsxrootd.fnal.gov//store/group/lpcmetx/iDM/Ntuples/2018/backgrounds/WWTo2L2Nu/WWTo2L2Nu_13TeV-powheg/WWTo2L2Nu_13TeV-powheg/190308_155346/0000/output_1-5.root'\n",
    "fileName = 'root://cmsxrootd.fnal.gov//store/group/lpcmetx/iDM/Ntuples/2018/backgrounds/NoBPTX/crab_noBPTX_v3/190612_154618/0000/output_1-2.root'\n",
    "numParams = len(background)\n",
    "countMasses = 0\n",
    "    \n",
    "\n",
    "#masses = [('60p0','20p0'),('6p0','2p0'),('52p5','5p0'),('5p25','0p5')]\n",
    "masses = [('60p0','20p0')]\n",
    "printMasses = lambda mass: f'({float(mass[0].replace(\"p\",\".\"))-float(mass[1].replace(\"p\",\".\"))/2}, ' + \\\n",
    "                                f'{float(mass[0].replace(\"p\",\".\"))+float(mass[1].replace(\"p\",\".\"))/2}) GeV'\n",
    "mchis = dict([(mass[0], printMasses(mass)) for mass in masses])\n",
    "ctaus = [1]#,10, 100]#, 1000]\n",
    "\n",
    "numCuts = np.arange(0,6)\n",
    "labels = [ f'cut{cut}' for cut in numCuts ]\n",
    "cutDescriptions = ['cut1: MET/MHT trigger fired (120 GeV)', \\\n",
    "                   'cut2: j1 pT > 120 GeV, <= 2j w/ pT > 30 GeV', \\\n",
    "                   'cut3: mu1 pT > 5 GeV, 0.1 < |dxy| < 700 cm', \\\n",
    "                   'cut4: mu2 pT > 5 GeV, 0.1 < |dxy| < 700 cm', \\\n",
    "                   r'cut5: $|\\Delta\\Phi$(MET, mu pair)| < 0.4'\n",
    "                  ]\n",
    "\n",
    "branchPath = 'SREffi_dsa'\n",
    "#baseDir = '/uscms/home/mreid/nobackup/signal_region/2018/pileup/'\n",
    "#baseDir = '../iDM_analysis_skimming/washAOD/'\n",
    "#baseDir = '/uscms/home/mreid/../../a/as2872/nobackup/iDM/AndreAnalysis/CMSSW_10_4_0_pre2/src/Firefighter/washAOD/SROptimization/'\n",
    "#baseDir = '/uscms/home/mreid/nobackup/signal_region/2018/GenFilter_1or2Jets_longname/'\n",
    "#fileName = lambda Mchi, dMchi, ctau: baseDir + f'pileup_trackquality_Mchi-{Mchi}_dMchi-{dMchi}_ctau-{ctau}.root'"
   ]
  },
  {
   "cell_type": "markdown",
   "metadata": {},
   "source": [
    "Load signal files"
   ]
  },
  {
   "cell_type": "code",
   "execution_count": 16,
   "metadata": {
    "collapsed": false,
    "scrolled": false
   },
   "outputs": [
    {
     "name": "stdout",
     "output_type": "stream",
     "text": [
      "1 of 1: root://cmsxrootd.fnal.gov//store/group/lpcmetx/iDM/Ntuples/2018/backgrounds/NoBPTX/crab_noBPTX_v3/190612_154618/0000/output_1-2.root\n"
     ]
    }
   ],
   "source": [
    "numParams = len(masses)*len(ctaus)\n",
    "countParam = 1\n",
    "\n",
    "trees = OrderedDict({})\n",
    "treesglobal = OrderedDict({})\n",
    "genInfo = OrderedDict({})\n",
    "numEvents = OrderedDict({})\n",
    "for (Mchi, dMchi) in masses:\n",
    "#        genInfo[Mchi][ctau] = uproot.open(fileName(Mchi, dMchi, ctau))['GEN/gen']#.pandas.df(flatten=False)\n",
    "    trees[Mchi] = uproot.open(fileName)[branchPath + f'/cutsTree']#.pandas.df(flatten=False)\n",
    "    treesglobal[Mchi] = uproot.open(fileName)['SREffi_gbm' + f'/cutsTree']#.pandas.df(flatten=False)\n",
    "    print(f'{countParam} of {numParams}: ' + fileName)\n",
    "    countParam += 1"
   ]
  },
  {
   "cell_type": "markdown",
   "metadata": {},
   "source": [
    "Create pandas dataframes for different physics objects now that uproot won't flatten them anymore\n",
    "(does make code faster)"
   ]
  },
  {
   "cell_type": "code",
   "execution_count": 17,
   "metadata": {
    "collapsed": false
   },
   "outputs": [],
   "source": [
    "leadingJet = OrderedDict({}); MET = OrderedDict({});\n",
    "muons = OrderedDict({}); vertex = OrderedDict({});\n",
    "cuts = OrderedDict({}); cutsCrit = OrderedDict({});\n",
    "checkmuons = OrderedDict({}); gen = OrderedDict({})\n",
    "checkgmuons = OrderedDict({}); beamhalo = OrderedDict({});\n",
    "for mchi in mchis:\n",
    "    leadingJet[mchi] = trees[mchi].pandas.df(['recoPFJetPt','recoPFJetEta','recoPFJetPhi']).loc[(slice(None),0),slice(None)].reset_index(level=1)\n",
    "    MET[mchi] = trees[mchi].pandas.df(['recoPFMetPt', 'recoPFMetPhi'])#.reset_index(level=1)\n",
    "    muons[mchi] = trees[mchi].pandas.df(['recoPt','recoEta','recoPhi','recoDxy','recoDz']).reset_index(level=1)\n",
    "    vertex[mchi] = trees[mchi].pandas.df(['recoDr','recoVxy','recoVz']).reset_index(level=1)\n",
    "    cuts[mchi]= trees[mchi].pandas.df('cutsVec*')\n",
    "    cutsCrit[mchi] = [ cuts[mchi][f'cutsVec[{cut}]'] == 1 for cut in numCuts ]\n",
    "#        checkmuons[mchi][ctau] = trees[mchi][ctau].pandas.df(['recoPt','recoEta','recoPhi','recoDxy','recoDz','trackHits','trackPlanes','trackChi2','qualityTrack','isGenMatched','GenDR']).reset_index(level=1)\n",
    "#        checkgmuons[mchi][ctau] = treesglobal[mchi][ctau].pandas.df(['recoPt','recoEta','recoPhi','recoDxy','recoDz','trackHits','trackPlanes','trackChi2','qualityTrack','isGenMatched','GenDR']).reset_index(level=1)\n",
    "#        beamhalo[mchi][ctau] = treesglobal[mchi][ctau].pandas.df(['fired','beamHaloHcal','beamHaloEcal','beamHaloCSC','beamHaloGlobal','beamHaloGlobalsuper','beamHaloCSCtight','trackHits','trackPlanes','trackChi2','qualityTrack']).reset_index(level=1)"
   ]
  },
  {
   "cell_type": "markdown",
   "metadata": {},
   "source": [
    "Separately calculate the phi average angle between the two muons -- for use in DeltaPhi(MET, muon pair) -- since it takes a while"
   ]
  },
  {
   "cell_type": "code",
   "execution_count": null,
   "metadata": {
    "collapsed": true
   },
   "outputs": [],
   "source": []
  },
  {
   "cell_type": "code",
   "execution_count": 26,
   "metadata": {
    "collapsed": false
   },
   "outputs": [
    {
     "ename": "NameError",
     "evalue": "name 'dfs' is not defined",
     "output_type": "error",
     "traceback": [
      "\u001b[0;31m---------------------------------------------------------------------------\u001b[0m",
      "\u001b[0;31mNameError\u001b[0m                                 Traceback (most recent call last)",
      "\u001b[0;32m<ipython-input-26-0a753bd8d264>\u001b[0m in \u001b[0;36m<module>\u001b[0;34m()\u001b[0m\n\u001b[1;32m      1\u001b[0m \u001b[0;32mfor\u001b[0m \u001b[0mcut\u001b[0m \u001b[0;32min\u001b[0m \u001b[0mnp\u001b[0m\u001b[0;34m.\u001b[0m\u001b[0marange\u001b[0m\u001b[0;34m(\u001b[0m\u001b[0;36m0\u001b[0m\u001b[0;34m,\u001b[0m\u001b[0;36m6\u001b[0m\u001b[0;34m)\u001b[0m\u001b[0;34m:\u001b[0m\u001b[0;34m\u001b[0m\u001b[0m\n\u001b[1;32m      2\u001b[0m     \u001b[0mcutsToApply\u001b[0m \u001b[0;34m=\u001b[0m \u001b[0mcutsCrit\u001b[0m\u001b[0;34m[\u001b[0m\u001b[0;34m'60p0'\u001b[0m\u001b[0;34m]\u001b[0m\u001b[0;34m[\u001b[0m\u001b[0mcut\u001b[0m\u001b[0;34m]\u001b[0m\u001b[0;34m\u001b[0m\u001b[0m\n\u001b[0;32m----> 3\u001b[0;31m     \u001b[0mcutFlowDict\u001b[0m\u001b[0;34m[\u001b[0m\u001b[0mback\u001b[0m\u001b[0;34m]\u001b[0m\u001b[0;34m.\u001b[0m\u001b[0mappend\u001b[0m\u001b[0;34m(\u001b[0m\u001b[0mlen\u001b[0m\u001b[0;34m(\u001b[0m\u001b[0mdfs\u001b[0m\u001b[0;34m[\u001b[0m\u001b[0mback\u001b[0m\u001b[0;34m]\u001b[0m\u001b[0;34m[\u001b[0m\u001b[0mcutsToApply\u001b[0m\u001b[0;34m]\u001b[0m\u001b[0;34m)\u001b[0m\u001b[0;34m)\u001b[0m\u001b[0;34m\u001b[0m\u001b[0m\n\u001b[0m\u001b[1;32m      4\u001b[0m \u001b[0;34m\u001b[0m\u001b[0m\n\u001b[1;32m      5\u001b[0m \u001b[0mcutFlowDf\u001b[0m \u001b[0;34m=\u001b[0m \u001b[0mpd\u001b[0m\u001b[0;34m.\u001b[0m\u001b[0mDataFrame\u001b[0m\u001b[0;34m.\u001b[0m\u001b[0mfrom_dict\u001b[0m\u001b[0;34m(\u001b[0m\u001b[0mcutFlowDict\u001b[0m\u001b[0;34m)\u001b[0m\u001b[0;34m\u001b[0m\u001b[0m\n",
      "\u001b[0;31mNameError\u001b[0m: name 'dfs' is not defined"
     ]
    }
   ],
   "source": [
    "for cut in np.arange(0,6):\n",
    "    cutsToApply = cutsCrit['60p0'][cut]\n",
    "    cutFlowDict[back].append(len(dfs[back][cutsToApply]))\n",
    "        \n",
    "cutFlowDf = pd.DataFrame.from_dict(cutFlowDict)\n",
    "cutFlowDf"
   ]
  },
  {
   "cell_type": "code",
   "execution_count": null,
   "metadata": {
    "collapsed": true
   },
   "outputs": [],
   "source": []
  },
  {
   "cell_type": "code",
   "execution_count": null,
   "metadata": {
    "collapsed": true
   },
   "outputs": [],
   "source": [
    "# Helper function to calculate average angles\n",
    "# This takes a few seconds to run, since we \n",
    "# are using the apply method\n",
    "def calcAvgAngle(group):\n",
    "    x = np.cos(group['recoPhi'].iloc[0]) + np.cos(group['recoPhi'].iloc[-1])\n",
    "    y = np.sin(group['recoPhi'].iloc[0]) + np.sin(group['recoPhi'].iloc[-1])\n",
    "    return math.atan2(y/2, x/2)\n",
    "avgMuonAngle = OrderedDict({})\n",
    "for mchi in mchis:\n",
    "    avgMuonAngle[mchi] = muons[mchi].groupby('entry').apply(calcAvgAngle)"
   ]
  },
  {
   "cell_type": "markdown",
   "metadata": {},
   "source": [
    "# Plot everything together"
   ]
  },
  {
   "cell_type": "markdown",
   "metadata": {},
   "source": [
    "To plot individual plots separately, copy relevant block of code and replace \"axes[i,j]\" with \"plt\", and take note that some of the functions change name, e.g. axes[i,j].set_xlabel() --> plt.xlabel() and axes[i,j].set_ylim() --> plt.ylim().\n",
    "\n",
    "The other option is to copy the block and add \"fig, ax = plt.subplots(1,1)\" at the top, and then do the replacement axes[i,j] --> ax elsewhere."
   ]
  },
  {
   "cell_type": "markdown",
   "metadata": {},
   "source": [
    "## Helper functions"
   ]
  },
  {
   "cell_type": "code",
   "execution_count": 14,
   "metadata": {
    "collapsed": true
   },
   "outputs": [],
   "source": [
    "insets = True\n",
    "log = False\n",
    "histtype ='step'\n",
    "iheight=\"45%\"\n",
    "iwidth=\"35%\"\n",
    "\n",
    "def plot_inset(data, axis, kwargs={}):\n",
    "    #if 'bins' not in kwargs: kwargs['bins'] = 10\n",
    "    if 'histtype' not in kwargs: kwargs['histtype'] = histtype#build\n",
    "    if insets:\n",
    "        axins = inset_axes(axis, width=iwidth, height=iheight)\n",
    "        for (cut,datum) in enumerate(data):\n",
    "            ret = axins.hist(datum, **kwargs)\n",
    "            if cut == 1:\n",
    "                axins.set_ylim(100,1.1*max(ret[0]))\n",
    "        return axins\n",
    "\n",
    "def plot_full(data, axis, kwargs={}, labels = []):\n",
    "    if 'bins' not in kwargs: kwargs['bins'] = 50\n",
    "    if 'histtype' not in kwargs: kwargs['histtype'] = histtype\n",
    "    if 'log' not in kwargs: kwargs['log'] = log\n",
    "    for (cut,datum) in enumerate(data):\n",
    "        ret = axis.hist(datum, label=(labels[cut] if len(labels) > 0 else ''), **kwargs)\n",
    "        if cut == 0:\n",
    "            axis.set_ylim(1, 1.5*max(ret[0]))\n",
    "            \n",
    "# Helper function to normalize angle differences to [-Pi, Pi]\n",
    "# cond: if abs(phidiff) > Pi => phidiff = phidiff - 2*Pi*sign(phidiff)\n",
    "def reducephi(row):\n",
    "    if abs(row) > math.pi:\n",
    "        return row - 2*math.pi*(row/abs(row))\n",
    "    return row"
   ]
  },
  {
   "cell_type": "markdown",
   "metadata": {},
   "source": [
    "## Plot MET and jet variables"
   ]
  },
  {
   "cell_type": "markdown",
   "metadata": {
    "collapsed": true
   },
   "source": [
    "# Scratch tests and comparisons"
   ]
  },
  {
   "cell_type": "markdown",
   "metadata": {},
   "source": [
    "Comparing results before and after fixing Dxy acceptance (i.e. Dxy is a signed distance and can be < 0)"
   ]
  }
 ],
 "metadata": {
  "kernelspec": {
   "display_name": "Python 3",
   "language": "python",
   "name": "python3"
  },
  "language_info": {
   "codemirror_mode": {
    "name": "ipython",
    "version": 3
   },
   "file_extension": ".py",
   "mimetype": "text/x-python",
   "name": "python",
   "nbconvert_exporter": "python",
   "pygments_lexer": "ipython3",
   "version": "3.6.4"
  }
 },
 "nbformat": 4,
 "nbformat_minor": 1
}
