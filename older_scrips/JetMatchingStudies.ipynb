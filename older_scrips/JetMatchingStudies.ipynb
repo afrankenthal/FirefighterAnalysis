{
 "cells": [
  {
   "cell_type": "markdown",
   "metadata": {},
   "source": [
    "Note to self: sometimes nMatched = 2 even if recoVxy is not properly reconstructed (so shows up as nan in row). Since we don't really need recoVxy, we should't call .dropna() because that will underestimate the efficiency. What we care about is reco nMatched = 2 && trigger fired == True, regardless if vertexing was successful or not."
   ]
  },
  {
   "cell_type": "markdown",
   "metadata": {},
   "source": [
    "# Import libraries and init"
   ]
  },
  {
   "cell_type": "code",
   "execution_count": 1,
   "metadata": {
    "collapsed": false
   },
   "outputs": [
    {
     "name": "stdout",
     "output_type": "stream",
     "text": [
      "Welcome to JupyROOT 6.12/04\n"
     ]
    }
   ],
   "source": [
    "import uproot\n",
    "import ROOT\n",
    "import numpy as np\n",
    "import pandas as pd\n",
    "from collections import OrderedDict\n",
    "import seaborn as sns\n",
    "\n",
    "%matplotlib inline\n",
    "import matplotlib.pyplot as plt\n",
    "from mpl_toolkits.axes_grid1.inset_locator import inset_axes\n",
    "plt.style.use('default')\n",
    "plt.rcParams['grid.linestyle'] = ':'"
   ]
  },
  {
   "cell_type": "code",
   "execution_count": 2,
   "metadata": {
    "collapsed": false
   },
   "outputs": [
    {
     "data": {
      "text/plain": [
       "sys.version_info(major=3, minor=6, micro=3, releaselevel='final', serial=0)"
      ]
     },
     "execution_count": 2,
     "metadata": {},
     "output_type": "execute_result"
    }
   ],
   "source": [
    "import sys\n",
    "sys.version\n",
    "sys.version_info"
   ]
  },
  {
   "cell_type": "markdown",
   "metadata": {},
   "source": [
    "# Cross-section comparison"
   ]
  },
  {
   "cell_type": "markdown",
   "metadata": {},
   "source": [
    "This comes from the genXsec analyzer output."
   ]
  },
  {
   "cell_type": "code",
   "execution_count": 125,
   "metadata": {
    "collapsed": false
   },
   "outputs": [],
   "source": [
    "xsec_beforematching = OrderedDict()\n",
    "\n",
    "xsec_beforematching['1or2jets']['gen']['5p25'] = 9.458e-11\n",
    "xsec_beforematching['1or2jets']['gen']['60p0'] = 2.517e-07\n",
    "\n",
    "xsec_beforematching['1or2jets']['nogen']['5p25'] = 9.478e-11\n",
    "xsec_beforematching['1or2jets']['nogen']['60'] = 2.518e-07\n",
    "\n",
    "xsec_beforematching['1jet']['gen']['5p25'] = 5.169e-11\n",
    "xsec_beforematching['1jet']['gen']['60p0'] = 1.780e-07\n",
    "\n",
    "xsec_beforematching['1jet']['nogen']['5p25'] = 5.167e-11\n",
    "xsec_beforematching['1jet']['nogen']['60'] = 1.782e-07"
   ]
  },
  {
   "cell_type": "markdown",
   "metadata": {},
   "source": [
    "# Trigger efficiency"
   ]
  },
  {
   "cell_type": "markdown",
   "metadata": {},
   "source": [
    "### Load data"
   ]
  },
  {
   "cell_type": "code",
   "execution_count": 121,
   "metadata": {
    "collapsed": false
   },
   "outputs": [
    {
     "name": "stdout",
     "output_type": "stream",
     "text": [
      "1 of 4: ../Firefighter/washAOD/JetsStudies/GenFilter_1or2jets/Trigger_Mchi-60p0_dMchi-20p0_ctau-10.root\n",
      "2 of 4: ../Firefighter/washAOD/JetsStudies/GenFilter_1or2jets/Trigger_Mchi-5p25_dMchi-0p5_ctau-10.root\n",
      "3 of 4: ../Firefighter/washAOD/JetsStudies/NoGenFilter_1or2jets/Trigger_Mchi-60p0_dMchi-20p0_ctau-10.root\n",
      "4 of 4: ../Firefighter/washAOD/JetsStudies/NoGenFilter_1or2jets/Trigger_Mchi-5p25_dMchi-0p5_ctau-10.root\n",
      "5 of 4: ../Firefighter/washAOD/JetsStudies/GenFilter_1jet/Trigger_Mchi-60p0_dMchi-20p0_ctau-10.root\n",
      "6 of 4: ../Firefighter/washAOD/JetsStudies/GenFilter_1jet/Trigger_Mchi-5p25_dMchi-0p5_ctau-10.root\n",
      "7 of 4: ../Firefighter/washAOD/JetsStudies/NoGenFilter_1jet/Trigger_Mchi-60p0_dMchi-20p0_ctau-10.root\n",
      "8 of 4: ../Firefighter/washAOD/JetsStudies/NoGenFilter_1jet/Trigger_Mchi-5p25_dMchi-0p5_ctau-10.root\n"
     ]
    }
   ],
   "source": [
    "masses = [('60p0','20p0'),('5p25','0p5')]\n",
    "ctaus = [10]\n",
    "# triggerPath = 'TRIG_dsa_HLT_DoubleMu3_DCA_PFMET50_PFMHT60'\n",
    "branchPaths = ['RECO_dsa']#, 'RECO_dgm', 'RECO_rsa', 'RECO_gbm']\n",
    "baseDirGenFilter1or2jets = '../Firefighter/washAOD/JetsStudies/GenFilter_1or2jets/'\n",
    "baseDirNoGenFilter1or2jets = '../Firefighter/washAOD/JetsStudies/NoGenFilter_1or2jets/'\n",
    "baseDirGenFilter1jet = '../Firefighter/washAOD/JetsStudies/GenFilter_1jet/'\n",
    "baseDirNoGenFilter1jet = '../Firefighter/washAOD/JetsStudies/NoGenFilter_1jet/'\n",
    "fileName = lambda Mchi, dMchi, ctau, basedir: basedir + f'Trigger_Mchi-{Mchi}_dMchi-{dMchi}_ctau-{ctau}.root'\n",
    "\n",
    "numParams = 4*len(masses)*len(ctaus)*len(branchPaths)\n",
    "overallCounter = 1\n",
    "\n",
    "dfsGenFilter1or2 = OrderedDict({})\n",
    "for (Mchi, dMchi) in masses:\n",
    "    dfsGenFilter1or2[Mchi] = OrderedDict({})\n",
    "    for ctau in ctaus:\n",
    "        dfsGenFilter1or2[Mchi][ctau] = OrderedDict({})\n",
    "        for (k,branchPath) in enumerate(branchPaths):\n",
    "            dfsGenFilter1or2[Mchi][ctau][k] = uproot.open(fileName(Mchi, dMchi, ctau, baseDirGenFilter1or2jets))[branchPath + '/TrigRecoEffi'].pandas.df()\n",
    "            print(f'{overallCounter} of {numParams}: ' + fileName(Mchi, dMchi, ctau, baseDirGenFilter1or2jets))\n",
    "            overallCounter += 1\n",
    "            \n",
    "dfsNoGenFilter1or2 = OrderedDict({})\n",
    "for (Mchi, dMchi) in masses:\n",
    "    dfsNoGenFilter1or2[Mchi] = OrderedDict({})\n",
    "    for ctau in ctaus:\n",
    "        dfsNoGenFilter1or2[Mchi][ctau] = OrderedDict({})\n",
    "        for (k,branchPath) in enumerate(branchPaths):\n",
    "            dfsNoGenFilter1or2[Mchi][ctau][k] = uproot.open(fileName(Mchi, dMchi, ctau, baseDirNoGenFilter1or2jets))[branchPath + '/TrigRecoEffi'].pandas.df()\n",
    "            print(f'{overallCounter} of {numParams}: ' + fileName(Mchi, dMchi, ctau, baseDirNoGenFilter1or2jets))\n",
    "            overallCounter += 1\n",
    "            \n",
    "dfsGenFilter1 = OrderedDict({})\n",
    "for (Mchi, dMchi) in masses:\n",
    "    dfsGenFilter1[Mchi] = OrderedDict({})\n",
    "    for ctau in ctaus:\n",
    "        dfsGenFilter1[Mchi][ctau] = OrderedDict({})\n",
    "        for (k,branchPath) in enumerate(branchPaths):\n",
    "            dfsGenFilter1[Mchi][ctau][k] = uproot.open(fileName(Mchi, dMchi, ctau, baseDirGenFilter1jet))[branchPath + '/TrigRecoEffi'].pandas.df()\n",
    "            print(f'{overallCounter} of {numParams}: ' + fileName(Mchi, dMchi, ctau, baseDirGenFilter1jet))\n",
    "            overallCounter += 1\n",
    "            \n",
    "dfsNoGenFilter1 = OrderedDict({})\n",
    "for (Mchi, dMchi) in masses:\n",
    "    dfsNoGenFilter1[Mchi] = OrderedDict({})\n",
    "    for ctau in ctaus:\n",
    "        dfsNoGenFilter1[Mchi][ctau] = OrderedDict({})\n",
    "        for (k,branchPath) in enumerate(branchPaths):\n",
    "            dfsNoGenFilter1[Mchi][ctau][k] = uproot.open(fileName(Mchi, dMchi, ctau, baseDirNoGenFilter1jet))[branchPath + '/TrigRecoEffi'].pandas.df()\n",
    "            print(f'{overallCounter} of {numParams}: ' + fileName(Mchi, dMchi, ctau, baseDirNoGenFilter1jet))\n",
    "            overallCounter += 1"
   ]
  },
  {
   "cell_type": "markdown",
   "metadata": {},
   "source": [
    "### Compute trigger efficiency"
   ]
  },
  {
   "cell_type": "markdown",
   "metadata": {},
   "source": [
    "WARNING: efficiency cannot be computed with .dropna() method, since this will\n",
    "drop events that have some other column with NAN field despite having trigger\n",
    "information, artificially increasing the efficiency. First select trigger info\n",
    "with .query('subentry==0')"
   ]
  },
  {
   "cell_type": "code",
   "execution_count": 38,
   "metadata": {
    "collapsed": true
   },
   "outputs": [],
   "source": [
    "def calc_trig_eff(trig_series):\n",
    "    return trig_series.value_counts()[1]/trig_series.value_counts().sum()"
   ]
  },
  {
   "cell_type": "code",
   "execution_count": 130,
   "metadata": {
    "collapsed": false
   },
   "outputs": [
    {
     "data": {
      "text/plain": [
       "(0.075324675324675322,\n",
       " 0.052106595206193242,\n",
       " 0.27272727272727271,\n",
       " 0.26470221001373456,\n",
       " 0.091954022988505746,\n",
       " 0.055770891121847271,\n",
       " 0.36407766990291263,\n",
       " 0.26112951442191162)"
      ]
     },
     "execution_count": 130,
     "metadata": {},
     "output_type": "execute_result"
    }
   ],
   "source": [
    "# WRONG! -- SEE ABOVE\n",
    "calc_trig_eff(dfsNoGenFilter1or2['5p25'][10][0].dropna()['fired']), \\\n",
    "calc_trig_eff(dfsNoGenFilter1or2['60p0'][10][0].dropna()['fired']), \\\n",
    "calc_trig_eff(dfsGenFilter1or2['5p25'][10][0].dropna()['fired']), \\\n",
    "calc_trig_eff(dfsGenFilter1or2['60p0'][10][0].dropna()['fired']), \\\n",
    "calc_trig_eff(dfsNoGenFilter1['5p25'][10][0].dropna()['fired']), \\\n",
    "calc_trig_eff(dfsNoGenFilter1['60p0'][10][0].dropna()['fired']), \\\n",
    "calc_trig_eff(dfsGenFilter1['5p25'][10][0].dropna()['fired']), \\\n",
    "calc_trig_eff(dfsGenFilter1['60p0'][10][0].dropna()['fired'])"
   ]
  },
  {
   "cell_type": "code",
   "execution_count": 129,
   "metadata": {
    "collapsed": false
   },
   "outputs": [
    {
     "data": {
      "text/plain": [
       "(0.0045268001492351695,\n",
       " 0.052295940116288984,\n",
       " 0.16867469879518071,\n",
       " 0.26517626827171109,\n",
       " 0.006967994913098771,\n",
       " 0.055964821390212159,\n",
       " 0.18023887079261672,\n",
       " 0.26354666225676643)"
      ]
     },
     "execution_count": 129,
     "metadata": {},
     "output_type": "execute_result"
    }
   ],
   "source": [
    "# RIGHT -- se above\n",
    "calc_trig_eff(dfsNoGenFilter1or2['5p25'][10][0].query('subentry==0')['fired']), \\\n",
    "calc_trig_eff(dfsNoGenFilter1or2['60p0'][10][0].query('subentry==0')['fired']), \\\n",
    "calc_trig_eff(dfsGenFilter1or2['5p25'][10][0].query('subentry==0')['fired']), \\\n",
    "calc_trig_eff(dfsGenFilter1or2['60p0'][10][0].query('subentry==0')['fired']), \\\n",
    "calc_trig_eff(dfsNoGenFilter1['5p25'][10][0].query('subentry==0')['fired']), \\\n",
    "calc_trig_eff(dfsNoGenFilter1['60p0'][10][0].query('subentry==0')['fired']), \\\n",
    "calc_trig_eff(dfsGenFilter1['5p25'][10][0].query('subentry==0')['fired']), \\\n",
    "calc_trig_eff(dfsGenFilter1['60p0'][10][0].query('subentry==0')['fired'])"
   ]
  },
  {
   "cell_type": "markdown",
   "metadata": {},
   "source": [
    "# SR efficiency"
   ]
  },
  {
   "cell_type": "markdown",
   "metadata": {},
   "source": [
    "### Load data"
   ]
  },
  {
   "cell_type": "code",
   "execution_count": null,
   "metadata": {
    "collapsed": true
   },
   "outputs": [],
   "source": [
    "masses = [('60p0','20p0'),('5p25','0p5')]\n",
    "ctaus = [10]\n",
    "# triggerPath = 'TRIG_dsa_HLT_DoubleMu3_DCA_PFMET50_PFMHT60'\n",
    "# branchPaths = ['RECO_dsa']#, 'RECO_dgm', 'RECO_rsa', 'RECO_gbm']\n",
    "branchPaths = ['SREffi_dsa']\n",
    "baseDirGenFilter1or2jets = '../Firefighter/washAOD/JetsStudies/GenFilter_1or2jets/'\n",
    "baseDirNoGenFilter1or2jets = '../Firefighter/washAOD/JetsStudies/NoGenFilter_1or2jets/'\n",
    "baseDirGenFilter1jet = '../Firefighter/washAOD/JetsStudies/GenFilter_1jet/'\n",
    "baseDirNoGenFilter1jet = '../Firefighter/washAOD/JetsStudies/NoGenFilter_1jet/'\n",
    "fileName = lambda Mchi, dMchi, ctau, basedir: basedir + f'SREff_Mchi-{Mchi}_dMchi-{dMchi}_ctau-{ctau}.root'\n",
    "\n",
    "numParams = 2*len(masses)*len(ctaus)*len(branchPaths)\n",
    "overallCounter = 1\n",
    "            \n",
    "dfsNoGenFilter1or2 = OrderedDict({})\n",
    "for (Mchi, dMchi) in masses:\n",
    "    dfsNoGenFilter1or2[Mchi] = OrderedDict({})\n",
    "    for ctau in ctaus:\n",
    "        dfsNoGenFilter1or2[Mchi][ctau] = OrderedDict({})\n",
    "        for (k,branchPath) in enumerate(branchPaths):\n",
    "            dfsNoGenFilter1or2[Mchi][ctau][k] = uproot.open(fileName(Mchi, dMchi, ctau, baseDirNoGenFilter1or2jets))[branchPath + '/cut0'].pandas.df()\n",
    "            print(f'{overallCounter} of {numParams}: ' + fileName(Mchi, dMchi, ctau, baseDirNoGenFilter1or2jets))\n",
    "            overallCounter += 1\n",
    "            \n",
    "dfsNoGenFilter1 = OrderedDict({})\n",
    "for (Mchi, dMchi) in masses:\n",
    "    dfsNoGenFilter1[Mchi] = OrderedDict({})\n",
    "    for ctau in ctaus:\n",
    "        dfsNoGenFilter1[Mchi][ctau] = OrderedDict({})\n",
    "        for (k,branchPath) in enumerate(branchPaths):\n",
    "            dfsNoGenFilter1[Mchi][ctau][k] = uproot.open(fileName(Mchi, dMchi, ctau, baseDirNoGenFilter1jet))[branchPath + '/cut0'].pandas.df()\n",
    "            print(f'{overallCounter} of {numParams}: ' + fileName(Mchi, dMchi, ctau, baseDirNoGenFilter1jet))\n",
    "            overallCounter += 1"
   ]
  },
  {
   "cell_type": "markdown",
   "metadata": {},
   "source": [
    "### Import extra libraries"
   ]
  },
  {
   "cell_type": "code",
   "execution_count": 57,
   "metadata": {
    "collapsed": true
   },
   "outputs": [],
   "source": [
    "from functools import reduce\n",
    "import operator"
   ]
  },
  {
   "cell_type": "code",
   "execution_count": 64,
   "metadata": {
    "collapsed": true
   },
   "outputs": [],
   "source": [
    "from IPython.display import display, HTML"
   ]
  },
  {
   "cell_type": "markdown",
   "metadata": {},
   "source": [
    "### Compute SR efficiency w.r.t cuts"
   ]
  },
  {
   "cell_type": "code",
   "execution_count": 65,
   "metadata": {
    "collapsed": false
   },
   "outputs": [
    {
     "data": {
      "text/html": [
       "<div>\n",
       "<style scoped>\n",
       "    .dataframe tbody tr th:only-of-type {\n",
       "        vertical-align: middle;\n",
       "    }\n",
       "\n",
       "    .dataframe tbody tr th {\n",
       "        vertical-align: top;\n",
       "    }\n",
       "\n",
       "    .dataframe thead th {\n",
       "        text-align: right;\n",
       "    }\n",
       "</style>\n",
       "<table border=\"1\" class=\"dataframe\">\n",
       "  <thead>\n",
       "    <tr style=\"text-align: right;\">\n",
       "      <th></th>\n",
       "      <th>5p25</th>\n",
       "      <th>60p0</th>\n",
       "    </tr>\n",
       "  </thead>\n",
       "  <tbody>\n",
       "    <tr>\n",
       "      <th>0</th>\n",
       "      <td>81570</td>\n",
       "      <td>98556</td>\n",
       "    </tr>\n",
       "    <tr>\n",
       "      <th>1</th>\n",
       "      <td>215</td>\n",
       "      <td>4008</td>\n",
       "    </tr>\n",
       "    <tr>\n",
       "      <th>2</th>\n",
       "      <td>145</td>\n",
       "      <td>2595</td>\n",
       "    </tr>\n",
       "    <tr>\n",
       "      <th>3</th>\n",
       "      <td>24</td>\n",
       "      <td>980</td>\n",
       "    </tr>\n",
       "    <tr>\n",
       "      <th>4</th>\n",
       "      <td>1</td>\n",
       "      <td>238</td>\n",
       "    </tr>\n",
       "    <tr>\n",
       "      <th>5</th>\n",
       "      <td>1</td>\n",
       "      <td>112</td>\n",
       "    </tr>\n",
       "  </tbody>\n",
       "</table>\n",
       "</div>"
      ],
      "text/plain": [
       "    5p25   60p0\n",
       "0  81570  98556\n",
       "1    215   4008\n",
       "2    145   2595\n",
       "3     24    980\n",
       "4      1    238\n",
       "5      1    112"
      ]
     },
     "metadata": {},
     "output_type": "display_data"
    },
    {
     "data": {
      "text/html": [
       "<div>\n",
       "<style scoped>\n",
       "    .dataframe tbody tr th:only-of-type {\n",
       "        vertical-align: middle;\n",
       "    }\n",
       "\n",
       "    .dataframe tbody tr th {\n",
       "        vertical-align: top;\n",
       "    }\n",
       "\n",
       "    .dataframe thead th {\n",
       "        text-align: right;\n",
       "    }\n",
       "</style>\n",
       "<table border=\"1\" class=\"dataframe\">\n",
       "  <thead>\n",
       "    <tr style=\"text-align: right;\">\n",
       "      <th></th>\n",
       "      <th>5p25</th>\n",
       "      <th>60p0</th>\n",
       "    </tr>\n",
       "  </thead>\n",
       "  <tbody>\n",
       "    <tr>\n",
       "      <th>0</th>\n",
       "      <td>90957</td>\n",
       "      <td>132062</td>\n",
       "    </tr>\n",
       "    <tr>\n",
       "      <th>1</th>\n",
       "      <td>365</td>\n",
       "      <td>5805</td>\n",
       "    </tr>\n",
       "    <tr>\n",
       "      <th>2</th>\n",
       "      <td>286</td>\n",
       "      <td>3871</td>\n",
       "    </tr>\n",
       "    <tr>\n",
       "      <th>3</th>\n",
       "      <td>40</td>\n",
       "      <td>1421</td>\n",
       "    </tr>\n",
       "    <tr>\n",
       "      <th>4</th>\n",
       "      <td>9</td>\n",
       "      <td>327</td>\n",
       "    </tr>\n",
       "    <tr>\n",
       "      <th>5</th>\n",
       "      <td>8</td>\n",
       "      <td>147</td>\n",
       "    </tr>\n",
       "  </tbody>\n",
       "</table>\n",
       "</div>"
      ],
      "text/plain": [
       "    5p25    60p0\n",
       "0  90957  132062\n",
       "1    365    5805\n",
       "2    286    3871\n",
       "3     40    1421\n",
       "4      9     327\n",
       "5      8     147"
      ]
     },
     "metadata": {},
     "output_type": "display_data"
    }
   ],
   "source": [
    "cutFlowDict = OrderedDict()\n",
    "for mchi in ['5p25','60p0']:\n",
    "    cutFlowDict[mchi] = []\n",
    "    cutsCrit = [ dfsNoGenFilter1or2[mchi][10][0][f'cutsVec[{cut}]']==1 for cut in np.arange(0,6) ]\n",
    "    for cut in np.arange(0,6):\n",
    "        cutsToApply = reduce(operator.and_, cutsCrit[0:cut+1])\n",
    "        cutFlowDict[mchi].append(len(dfsNoGenFilter1or2[mchi][10][0][cutsToApply]))\n",
    "        \n",
    "cutFlowDf = pd.DataFrame.from_dict(cutFlowDict)\n",
    "display(cutFlowDf)\n",
    "\n",
    "cutFlowDict = OrderedDict()\n",
    "for mchi in ['5p25','60p0']:\n",
    "    cutFlowDict[mchi] = []\n",
    "    cutsCrit = [ dfsNoGenFilter1[mchi][10][0][f'cutsVec[{cut}]']==1 for cut in np.arange(0,6) ]\n",
    "    for cut in np.arange(0,6):\n",
    "        cutsToApply = reduce(operator.and_, cutsCrit[0:cut+1])\n",
    "        cutFlowDict[mchi].append(len(dfsNoGenFilter1[mchi][10][0][cutsToApply]))\n",
    "        \n",
    "cutFlowDf = pd.DataFrame.from_dict(cutFlowDict)\n",
    "display(cutFlowDf)"
   ]
  },
  {
   "cell_type": "markdown",
   "metadata": {},
   "source": [
    "# Testing ickkw = 1, xqcut = 20"
   ]
  },
  {
   "cell_type": "markdown",
   "metadata": {},
   "source": [
    "### Load data"
   ]
  },
  {
   "cell_type": "code",
   "execution_count": 67,
   "metadata": {
    "collapsed": false
   },
   "outputs": [],
   "source": [
    "dfsNoGenFilterIcckw1 = OrderedDict({})\n",
    "dfsNoGenFilterIcckw1['5p25'] = uproot.open( \\\n",
    "        \"../Firefighter/washAOD/JetsStudies/NoGenFilter_1or2jets_ickkw1/Mchi-5p25_dMchi-0p5_ctau-10.root\")\\\n",
    "        [\"RECO_dsa\" + '/TrigRecoEffi'].pandas.df()\n",
    "dfsNoGenFilterIcckw1['60p0'] = uproot.open( \\\n",
    "    \"../Firefighter/washAOD/JetsStudies/NoGenFilter_1or2jets_ickkw1/Mchi-60p0_dMchi-20p0_ctau-10.root\")\\\n",
    "    [\"RECO_dsa\" + '/TrigRecoEffi'].pandas.df()"
   ]
  },
  {
   "cell_type": "code",
   "execution_count": 100,
   "metadata": {
    "collapsed": true
   },
   "outputs": [],
   "source": [
    "dfsNoGenFilterIcckw0 = OrderedDict({})\n",
    "dfsNoGenFilterIcckw0['5p25'] = uproot.open( \\\n",
    "        \"../Firefighter/washAOD/JetsStudies/NoGenFilter_1or2jets/Trigger_Mchi-5p25_dMchi-0p5_ctau-10.root\")\\\n",
    "        [\"RECO_dsa\" + '/TrigRecoEffi'].pandas.df()\n",
    "dfsNoGenFilterIcckw0['60p0'] = uproot.open( \\\n",
    "    \"../Firefighter/washAOD/JetsStudies/NoGenFilter_1or2jets/Trigger_Mchi-60p0_dMchi-20p0_ctau-10.root\")\\\n",
    "    [\"RECO_dsa\" + '/TrigRecoEffi'].pandas.df()"
   ]
  },
  {
   "cell_type": "markdown",
   "metadata": {},
   "source": [
    "### Trigger efficiency"
   ]
  },
  {
   "cell_type": "code",
   "execution_count": 109,
   "metadata": {
    "collapsed": false,
    "scrolled": true
   },
   "outputs": [
    {
     "data": {
      "text/plain": [
       "False    55769\n",
       "True      3115\n",
       "Name: fired, dtype: int64"
      ]
     },
     "execution_count": 109,
     "metadata": {},
     "output_type": "execute_result"
    }
   ],
   "source": [
    "dfsNoGenFilterIcckw1['60p0']['fired'].dropna().value_counts()"
   ]
  },
  {
   "cell_type": "code",
   "execution_count": 135,
   "metadata": {
    "collapsed": false
   },
   "outputs": [
    {
     "name": "stdout",
     "output_type": "stream",
     "text": [
      "0.0052478424155\n",
      "0.00452680014924\n"
     ]
    }
   ],
   "source": [
    "print(calc_trig_eff(dfsNoGenFilterIcckw1['5p25'].query('subentry==0')['fired']))\n",
    "print(calc_trig_eff(dfsNoGenFilterIcckw0['5p25'].query('subentry==0')['fired']))"
   ]
  },
  {
   "cell_type": "code",
   "execution_count": 134,
   "metadata": {
    "collapsed": false
   },
   "outputs": [
    {
     "name": "stdout",
     "output_type": "stream",
     "text": [
      "0.0529006181645\n",
      "0.0522959401163\n"
     ]
    }
   ],
   "source": [
    "print(calc_trig_eff(dfsNoGenFilterIcckw1['60p0'].query('subentry==0')['fired']))\n",
    "print(calc_trig_eff(dfsNoGenFilterIcckw0['60p0'].query('subentry==0')['fired']))"
   ]
  },
  {
   "cell_type": "markdown",
   "metadata": {},
   "source": [
    "No significant difference between icckw = 1 and ickkw = 0 in terms of trigger efficiency."
   ]
  },
  {
   "cell_type": "code",
   "execution_count": 128,
   "metadata": {
    "collapsed": false,
    "scrolled": true
   },
   "outputs": [
    {
     "data": {
      "text/plain": [
       "0.052295940116288984"
      ]
     },
     "execution_count": 128,
     "metadata": {},
     "output_type": "execute_result"
    }
   ],
   "source": [
    "calc_trig_eff(dfsNoGenFilter1or2['60p0'][10][0].query('subentry==0')['fired'])"
   ]
  },
  {
   "cell_type": "markdown",
   "metadata": {},
   "source": [
    "### Cross section comparison"
   ]
  },
  {
   "cell_type": "code",
   "execution_count": null,
   "metadata": {
    "collapsed": true
   },
   "outputs": [],
   "source": [
    "# icckw = 0:\n",
    "\n",
    "xsec_beforematching['1or2jets']['gen']['5p25'] = 9.458e-11\n",
    "xsec_beforematching['1or2jets']['gen']['60p0'] = 2.517e-07\n",
    "\n",
    "xsec_beforematching['1or2jets']['nogen']['5p25'] = 9.478e-11\n",
    "xsec_beforematching['1or2jets']['nogen']['60'] = 2.518e-07\n",
    "\n",
    "# icckw = 1:\n",
    "\n",
    "xsec_beforematching['1or2jets']['nogen']['5p25'] = 9.594e-11\n",
    "xsec_beforematching['1or2jets']['nogen']['60p0'] = 3.150e-07"
   ]
  },
  {
   "cell_type": "markdown",
   "metadata": {},
   "source": [
    "Cross section for 5,5.5 GeV sample changes very little, while for 50,70 GeV more significant: ~ 25%"
   ]
  }
 ],
 "metadata": {
  "kernelspec": {
   "display_name": "Python 3",
   "language": "python",
   "name": "python3"
  },
  "language_info": {
   "codemirror_mode": {
    "name": "ipython",
    "version": 3
   },
   "file_extension": ".py",
   "mimetype": "text/x-python",
   "name": "python",
   "nbconvert_exporter": "python",
   "pygments_lexer": "ipython3",
   "version": "3.6.3"
  }
 },
 "nbformat": 4,
 "nbformat_minor": 0
}
