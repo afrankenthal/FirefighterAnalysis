{
 "cells": [
  {
   "cell_type": "markdown",
   "metadata": {},
   "source": [
    "## Import libraries and init"
   ]
  },
  {
   "cell_type": "code",
   "execution_count": 9,
   "metadata": {
    "collapsed": false
   },
   "outputs": [],
   "source": [
    "import uproot\n",
    "import ROOT\n",
    "import numpy as np\n",
    "import pandas as pd\n",
    "from collections import OrderedDict\n",
    "\n",
    "%matplotlib inline\n",
    "import matplotlib.pyplot as plt\n",
    "from mpl_toolkits.axes_grid1.inset_locator import inset_axes\n",
    "plt.style.use('default')\n",
    "plt.rcParams['grid.linestyle'] = ':'"
   ]
  },
  {
   "cell_type": "code",
   "execution_count": 10,
   "metadata": {
    "collapsed": false
   },
   "outputs": [
    {
     "data": {
      "text/plain": [
       "sys.version_info(major=3, minor=6, micro=3, releaselevel='final', serial=0)"
      ]
     },
     "execution_count": 10,
     "metadata": {},
     "output_type": "execute_result"
    }
   ],
   "source": [
    "import sys\n",
    "sys.version\n",
    "sys.version_info"
   ]
  },
  {
   "cell_type": "markdown",
   "metadata": {},
   "source": [
    "## Load ntuples from analyzer"
   ]
  },
  {
   "cell_type": "code",
   "execution_count": 3,
   "metadata": {
    "collapsed": false,
    "scrolled": true
   },
   "outputs": [
    {
     "ename": "KeyboardInterrupt",
     "evalue": "",
     "output_type": "error",
     "traceback": [
      "\u001b[0;31m---------------------------------------------------------------------------\u001b[0m",
      "\u001b[0;31mKeyboardInterrupt\u001b[0m                         Traceback (most recent call last)",
      "\u001b[0;32m<ipython-input-3-821b22fe5b70>\u001b[0m in \u001b[0;36m<module>\u001b[0;34m()\u001b[0m\n\u001b[1;32m     20\u001b[0m     \u001b[0;32mfor\u001b[0m \u001b[0mctau\u001b[0m \u001b[0;32min\u001b[0m \u001b[0mctaus\u001b[0m\u001b[0;34m:\u001b[0m\u001b[0;34m\u001b[0m\u001b[0m\n\u001b[1;32m     21\u001b[0m         \u001b[0mdfs\u001b[0m\u001b[0;34m[\u001b[0m\u001b[0mMchi\u001b[0m\u001b[0;34m]\u001b[0m\u001b[0;34m[\u001b[0m\u001b[0mctau\u001b[0m\u001b[0;34m]\u001b[0m \u001b[0;34m=\u001b[0m \u001b[0mOrderedDict\u001b[0m\u001b[0;34m(\u001b[0m\u001b[0;34m{\u001b[0m\u001b[0;34m}\u001b[0m\u001b[0;34m)\u001b[0m\u001b[0;34m\u001b[0m\u001b[0m\n\u001b[0;32m---> 22\u001b[0;31m         \u001b[0mgenInfo\u001b[0m\u001b[0;34m[\u001b[0m\u001b[0mMchi\u001b[0m\u001b[0;34m]\u001b[0m\u001b[0;34m[\u001b[0m\u001b[0mctau\u001b[0m\u001b[0;34m]\u001b[0m \u001b[0;34m=\u001b[0m \u001b[0muproot\u001b[0m\u001b[0;34m.\u001b[0m\u001b[0mopen\u001b[0m\u001b[0;34m(\u001b[0m\u001b[0mfileName\u001b[0m\u001b[0;34m(\u001b[0m\u001b[0mMchi\u001b[0m\u001b[0;34m,\u001b[0m \u001b[0mdMchi\u001b[0m\u001b[0;34m,\u001b[0m \u001b[0mctau\u001b[0m\u001b[0;34m)\u001b[0m\u001b[0;34m)\u001b[0m\u001b[0;34m[\u001b[0m\u001b[0;34m'GEN/gen'\u001b[0m\u001b[0;34m]\u001b[0m\u001b[0;34m.\u001b[0m\u001b[0mpandas\u001b[0m\u001b[0;34m.\u001b[0m\u001b[0mdf\u001b[0m\u001b[0;34m(\u001b[0m\u001b[0;34m)\u001b[0m\u001b[0;34m\u001b[0m\u001b[0m\n\u001b[0m\u001b[1;32m     23\u001b[0m         \u001b[0;32mfor\u001b[0m \u001b[0mcut\u001b[0m \u001b[0;32min\u001b[0m \u001b[0mcuts\u001b[0m\u001b[0;34m:\u001b[0m\u001b[0;34m\u001b[0m\u001b[0m\n\u001b[1;32m     24\u001b[0m             \u001b[0mdfs\u001b[0m\u001b[0;34m[\u001b[0m\u001b[0mMchi\u001b[0m\u001b[0;34m]\u001b[0m\u001b[0;34m[\u001b[0m\u001b[0mctau\u001b[0m\u001b[0;34m]\u001b[0m\u001b[0;34m[\u001b[0m\u001b[0mcut\u001b[0m\u001b[0;34m]\u001b[0m \u001b[0;34m=\u001b[0m \u001b[0muproot\u001b[0m\u001b[0;34m.\u001b[0m\u001b[0mopen\u001b[0m\u001b[0;34m(\u001b[0m\u001b[0mfileName\u001b[0m\u001b[0;34m(\u001b[0m\u001b[0mMchi\u001b[0m\u001b[0;34m,\u001b[0m \u001b[0mdMchi\u001b[0m\u001b[0;34m,\u001b[0m \u001b[0mctau\u001b[0m\u001b[0;34m)\u001b[0m\u001b[0;34m)\u001b[0m\u001b[0;34m[\u001b[0m\u001b[0mbranchPath\u001b[0m \u001b[0;34m+\u001b[0m \u001b[0;34mf'/cut{cut}'\u001b[0m\u001b[0;34m]\u001b[0m\u001b[0;34m.\u001b[0m\u001b[0mpandas\u001b[0m\u001b[0;34m.\u001b[0m\u001b[0mdf\u001b[0m\u001b[0;34m(\u001b[0m\u001b[0;34m)\u001b[0m\u001b[0;34m\u001b[0m\u001b[0m\n",
      "\u001b[0;32m/uscms/home/as2872/.local/lib/python3.6/site-packages/uproot/_connect/to_pandas.py\u001b[0m in \u001b[0;36mdf\u001b[0;34m(self, branches, namedecode, entrystart, entrystop, flatten, cache, basketcache, keycache, executor, blocking)\u001b[0m\n\u001b[1;32m     41\u001b[0m     \u001b[0;32mdef\u001b[0m \u001b[0mdf\u001b[0m\u001b[0;34m(\u001b[0m\u001b[0mself\u001b[0m\u001b[0;34m,\u001b[0m \u001b[0mbranches\u001b[0m\u001b[0;34m=\u001b[0m\u001b[0;32mNone\u001b[0m\u001b[0;34m,\u001b[0m \u001b[0mnamedecode\u001b[0m\u001b[0;34m=\u001b[0m\u001b[0;34m\"utf-8\"\u001b[0m\u001b[0;34m,\u001b[0m \u001b[0mentrystart\u001b[0m\u001b[0;34m=\u001b[0m\u001b[0;32mNone\u001b[0m\u001b[0;34m,\u001b[0m \u001b[0mentrystop\u001b[0m\u001b[0;34m=\u001b[0m\u001b[0;32mNone\u001b[0m\u001b[0;34m,\u001b[0m \u001b[0mflatten\u001b[0m\u001b[0;34m=\u001b[0m\u001b[0;32mTrue\u001b[0m\u001b[0;34m,\u001b[0m \u001b[0mcache\u001b[0m\u001b[0;34m=\u001b[0m\u001b[0;32mNone\u001b[0m\u001b[0;34m,\u001b[0m \u001b[0mbasketcache\u001b[0m\u001b[0;34m=\u001b[0m\u001b[0;32mNone\u001b[0m\u001b[0;34m,\u001b[0m \u001b[0mkeycache\u001b[0m\u001b[0;34m=\u001b[0m\u001b[0;32mNone\u001b[0m\u001b[0;34m,\u001b[0m \u001b[0mexecutor\u001b[0m\u001b[0;34m=\u001b[0m\u001b[0;32mNone\u001b[0m\u001b[0;34m,\u001b[0m \u001b[0mblocking\u001b[0m\u001b[0;34m=\u001b[0m\u001b[0;32mTrue\u001b[0m\u001b[0;34m)\u001b[0m\u001b[0;34m:\u001b[0m\u001b[0;34m\u001b[0m\u001b[0m\n\u001b[1;32m     42\u001b[0m         \u001b[0;32mimport\u001b[0m \u001b[0mpandas\u001b[0m\u001b[0;34m\u001b[0m\u001b[0m\n\u001b[0;32m---> 43\u001b[0;31m         \u001b[0;32mreturn\u001b[0m \u001b[0mself\u001b[0m\u001b[0;34m.\u001b[0m\u001b[0m_tree\u001b[0m\u001b[0;34m.\u001b[0m\u001b[0marrays\u001b[0m\u001b[0;34m(\u001b[0m\u001b[0mbranches\u001b[0m\u001b[0;34m=\u001b[0m\u001b[0mbranches\u001b[0m\u001b[0;34m,\u001b[0m \u001b[0moutputtype\u001b[0m\u001b[0;34m=\u001b[0m\u001b[0mpandas\u001b[0m\u001b[0;34m.\u001b[0m\u001b[0mDataFrame\u001b[0m\u001b[0;34m,\u001b[0m \u001b[0mnamedecode\u001b[0m\u001b[0;34m=\u001b[0m\u001b[0mnamedecode\u001b[0m\u001b[0;34m,\u001b[0m \u001b[0mentrystart\u001b[0m\u001b[0;34m=\u001b[0m\u001b[0mentrystart\u001b[0m\u001b[0;34m,\u001b[0m \u001b[0mentrystop\u001b[0m\u001b[0;34m=\u001b[0m\u001b[0mentrystop\u001b[0m\u001b[0;34m,\u001b[0m \u001b[0mflatten\u001b[0m\u001b[0;34m=\u001b[0m\u001b[0mflatten\u001b[0m\u001b[0;34m,\u001b[0m \u001b[0mcache\u001b[0m\u001b[0;34m=\u001b[0m\u001b[0mcache\u001b[0m\u001b[0;34m,\u001b[0m \u001b[0mbasketcache\u001b[0m\u001b[0;34m=\u001b[0m\u001b[0mbasketcache\u001b[0m\u001b[0;34m,\u001b[0m \u001b[0mkeycache\u001b[0m\u001b[0;34m=\u001b[0m\u001b[0mkeycache\u001b[0m\u001b[0;34m,\u001b[0m \u001b[0mexecutor\u001b[0m\u001b[0;34m=\u001b[0m\u001b[0mexecutor\u001b[0m\u001b[0;34m,\u001b[0m \u001b[0mblocking\u001b[0m\u001b[0;34m=\u001b[0m\u001b[0mblocking\u001b[0m\u001b[0;34m)\u001b[0m\u001b[0;34m\u001b[0m\u001b[0m\n\u001b[0m",
      "\u001b[0;32m/uscms/home/as2872/.local/lib/python3.6/site-packages/uproot/tree.py\u001b[0m in \u001b[0;36marrays\u001b[0;34m(self, branches, outputtype, namedecode, entrystart, entrystop, flatten, cache, basketcache, keycache, executor, blocking)\u001b[0m\n\u001b[1;32m    417\u001b[0m \u001b[0;34m\u001b[0m\u001b[0m\n\u001b[1;32m    418\u001b[0m         \u001b[0;31m# start the job of filling the arrays\u001b[0m\u001b[0;34m\u001b[0m\u001b[0;34m\u001b[0m\u001b[0m\n\u001b[0;32m--> 419\u001b[0;31m         \u001b[0mfutures\u001b[0m \u001b[0;34m=\u001b[0m \u001b[0;34m[\u001b[0m\u001b[0;34m(\u001b[0m\u001b[0mbranch\u001b[0m\u001b[0;34m.\u001b[0m\u001b[0mname\u001b[0m \u001b[0;32mif\u001b[0m \u001b[0mnamedecode\u001b[0m \u001b[0;32mis\u001b[0m \u001b[0;32mNone\u001b[0m \u001b[0;32melse\u001b[0m \u001b[0mbranch\u001b[0m\u001b[0;34m.\u001b[0m\u001b[0mname\u001b[0m\u001b[0;34m.\u001b[0m\u001b[0mdecode\u001b[0m\u001b[0;34m(\u001b[0m\u001b[0mnamedecode\u001b[0m\u001b[0;34m)\u001b[0m\u001b[0;34m,\u001b[0m \u001b[0minterpretation\u001b[0m\u001b[0;34m,\u001b[0m \u001b[0mbranch\u001b[0m\u001b[0;34m.\u001b[0m\u001b[0marray\u001b[0m\u001b[0;34m(\u001b[0m\u001b[0minterpretation\u001b[0m\u001b[0;34m=\u001b[0m\u001b[0minterpretation\u001b[0m\u001b[0;34m,\u001b[0m \u001b[0mentrystart\u001b[0m\u001b[0;34m=\u001b[0m\u001b[0mentrystart\u001b[0m\u001b[0;34m,\u001b[0m \u001b[0mentrystop\u001b[0m\u001b[0;34m=\u001b[0m\u001b[0mentrystop\u001b[0m\u001b[0;34m,\u001b[0m \u001b[0mflatten\u001b[0m\u001b[0;34m=\u001b[0m\u001b[0;34m(\u001b[0m\u001b[0mflatten\u001b[0m \u001b[0;32mand\u001b[0m \u001b[0;32mnot\u001b[0m \u001b[0mispandas\u001b[0m\u001b[0;34m)\u001b[0m\u001b[0;34m,\u001b[0m \u001b[0mcache\u001b[0m\u001b[0;34m=\u001b[0m\u001b[0mcache\u001b[0m\u001b[0;34m,\u001b[0m \u001b[0mbasketcache\u001b[0m\u001b[0;34m=\u001b[0m\u001b[0mbasketcache\u001b[0m\u001b[0;34m,\u001b[0m \u001b[0mkeycache\u001b[0m\u001b[0;34m=\u001b[0m\u001b[0mkeycache\u001b[0m\u001b[0;34m,\u001b[0m \u001b[0mexecutor\u001b[0m\u001b[0;34m=\u001b[0m\u001b[0mexecutor\u001b[0m\u001b[0;34m,\u001b[0m \u001b[0mblocking\u001b[0m\u001b[0;34m=\u001b[0m\u001b[0;32mFalse\u001b[0m\u001b[0;34m)\u001b[0m\u001b[0;34m)\u001b[0m \u001b[0;32mfor\u001b[0m \u001b[0mbranch\u001b[0m\u001b[0;34m,\u001b[0m \u001b[0minterpretation\u001b[0m \u001b[0;32min\u001b[0m \u001b[0mbranches\u001b[0m\u001b[0;34m]\u001b[0m\u001b[0;34m\u001b[0m\u001b[0m\n\u001b[0m\u001b[1;32m    420\u001b[0m \u001b[0;34m\u001b[0m\u001b[0m\n\u001b[1;32m    421\u001b[0m         \u001b[0;31m# make functions that wait for the filling job to be done and return the right outputtype\u001b[0m\u001b[0;34m\u001b[0m\u001b[0;34m\u001b[0m\u001b[0m\n",
      "\u001b[0;32m/uscms/home/as2872/.local/lib/python3.6/site-packages/uproot/tree.py\u001b[0m in \u001b[0;36m<listcomp>\u001b[0;34m(.0)\u001b[0m\n\u001b[1;32m    417\u001b[0m \u001b[0;34m\u001b[0m\u001b[0m\n\u001b[1;32m    418\u001b[0m         \u001b[0;31m# start the job of filling the arrays\u001b[0m\u001b[0;34m\u001b[0m\u001b[0;34m\u001b[0m\u001b[0m\n\u001b[0;32m--> 419\u001b[0;31m         \u001b[0mfutures\u001b[0m \u001b[0;34m=\u001b[0m \u001b[0;34m[\u001b[0m\u001b[0;34m(\u001b[0m\u001b[0mbranch\u001b[0m\u001b[0;34m.\u001b[0m\u001b[0mname\u001b[0m \u001b[0;32mif\u001b[0m \u001b[0mnamedecode\u001b[0m \u001b[0;32mis\u001b[0m \u001b[0;32mNone\u001b[0m \u001b[0;32melse\u001b[0m \u001b[0mbranch\u001b[0m\u001b[0;34m.\u001b[0m\u001b[0mname\u001b[0m\u001b[0;34m.\u001b[0m\u001b[0mdecode\u001b[0m\u001b[0;34m(\u001b[0m\u001b[0mnamedecode\u001b[0m\u001b[0;34m)\u001b[0m\u001b[0;34m,\u001b[0m \u001b[0minterpretation\u001b[0m\u001b[0;34m,\u001b[0m \u001b[0mbranch\u001b[0m\u001b[0;34m.\u001b[0m\u001b[0marray\u001b[0m\u001b[0;34m(\u001b[0m\u001b[0minterpretation\u001b[0m\u001b[0;34m=\u001b[0m\u001b[0minterpretation\u001b[0m\u001b[0;34m,\u001b[0m \u001b[0mentrystart\u001b[0m\u001b[0;34m=\u001b[0m\u001b[0mentrystart\u001b[0m\u001b[0;34m,\u001b[0m \u001b[0mentrystop\u001b[0m\u001b[0;34m=\u001b[0m\u001b[0mentrystop\u001b[0m\u001b[0;34m,\u001b[0m \u001b[0mflatten\u001b[0m\u001b[0;34m=\u001b[0m\u001b[0;34m(\u001b[0m\u001b[0mflatten\u001b[0m \u001b[0;32mand\u001b[0m \u001b[0;32mnot\u001b[0m \u001b[0mispandas\u001b[0m\u001b[0;34m)\u001b[0m\u001b[0;34m,\u001b[0m \u001b[0mcache\u001b[0m\u001b[0;34m=\u001b[0m\u001b[0mcache\u001b[0m\u001b[0;34m,\u001b[0m \u001b[0mbasketcache\u001b[0m\u001b[0;34m=\u001b[0m\u001b[0mbasketcache\u001b[0m\u001b[0;34m,\u001b[0m \u001b[0mkeycache\u001b[0m\u001b[0;34m=\u001b[0m\u001b[0mkeycache\u001b[0m\u001b[0;34m,\u001b[0m \u001b[0mexecutor\u001b[0m\u001b[0;34m=\u001b[0m\u001b[0mexecutor\u001b[0m\u001b[0;34m,\u001b[0m \u001b[0mblocking\u001b[0m\u001b[0;34m=\u001b[0m\u001b[0;32mFalse\u001b[0m\u001b[0;34m)\u001b[0m\u001b[0;34m)\u001b[0m \u001b[0;32mfor\u001b[0m \u001b[0mbranch\u001b[0m\u001b[0;34m,\u001b[0m \u001b[0minterpretation\u001b[0m \u001b[0;32min\u001b[0m \u001b[0mbranches\u001b[0m\u001b[0;34m]\u001b[0m\u001b[0;34m\u001b[0m\u001b[0m\n\u001b[0m\u001b[1;32m    420\u001b[0m \u001b[0;34m\u001b[0m\u001b[0m\n\u001b[1;32m    421\u001b[0m         \u001b[0;31m# make functions that wait for the filling job to be done and return the right outputtype\u001b[0m\u001b[0;34m\u001b[0m\u001b[0;34m\u001b[0m\u001b[0m\n",
      "\u001b[0;32m/uscms/home/as2872/.local/lib/python3.6/site-packages/uproot/tree.py\u001b[0m in \u001b[0;36marray\u001b[0;34m(self, interpretation, entrystart, entrystop, flatten, cache, basketcache, keycache, executor, blocking)\u001b[0m\n\u001b[1;32m   1323\u001b[0m         \u001b[0;32mif\u001b[0m \u001b[0mexecutor\u001b[0m \u001b[0;32mis\u001b[0m \u001b[0;32mNone\u001b[0m\u001b[0;34m:\u001b[0m\u001b[0;34m\u001b[0m\u001b[0m\n\u001b[1;32m   1324\u001b[0m             \u001b[0;32mfor\u001b[0m \u001b[0mj\u001b[0m \u001b[0;32min\u001b[0m \u001b[0mrange\u001b[0m\u001b[0;34m(\u001b[0m\u001b[0mbasketstop\u001b[0m \u001b[0;34m-\u001b[0m \u001b[0mbasketstart\u001b[0m\u001b[0;34m)\u001b[0m\u001b[0;34m:\u001b[0m\u001b[0;34m\u001b[0m\u001b[0m\n\u001b[0;32m-> 1325\u001b[0;31m                 \u001b[0m_delayedraise\u001b[0m\u001b[0;34m(\u001b[0m\u001b[0mfill\u001b[0m\u001b[0;34m(\u001b[0m\u001b[0mj\u001b[0m\u001b[0;34m)\u001b[0m\u001b[0;34m)\u001b[0m\u001b[0;34m\u001b[0m\u001b[0m\n\u001b[0m\u001b[1;32m   1326\u001b[0m             \u001b[0mexcinfos\u001b[0m \u001b[0;34m=\u001b[0m \u001b[0;34m(\u001b[0m\u001b[0;34m)\u001b[0m\u001b[0;34m\u001b[0m\u001b[0m\n\u001b[1;32m   1327\u001b[0m         \u001b[0;32melse\u001b[0m\u001b[0;34m:\u001b[0m\u001b[0;34m\u001b[0m\u001b[0m\n",
      "\u001b[0;32m/uscms/home/as2872/.local/lib/python3.6/site-packages/uproot/tree.py\u001b[0m in \u001b[0;36m_delayedraise\u001b[0;34m(excinfo)\u001b[0m\n\u001b[1;32m     97\u001b[0m             \u001b[0mexec\u001b[0m\u001b[0;34m(\u001b[0m\u001b[0;34m\"raise cls, err, trc\"\u001b[0m\u001b[0;34m)\u001b[0m\u001b[0;34m\u001b[0m\u001b[0m\n\u001b[1;32m     98\u001b[0m         \u001b[0;32melse\u001b[0m\u001b[0;34m:\u001b[0m\u001b[0;34m\u001b[0m\u001b[0m\n\u001b[0;32m---> 99\u001b[0;31m             \u001b[0;32mraise\u001b[0m \u001b[0merr\u001b[0m\u001b[0;34m.\u001b[0m\u001b[0mwith_traceback\u001b[0m\u001b[0;34m(\u001b[0m\u001b[0mtrc\u001b[0m\u001b[0;34m)\u001b[0m\u001b[0;34m\u001b[0m\u001b[0m\n\u001b[0m\u001b[1;32m    100\u001b[0m \u001b[0;34m\u001b[0m\u001b[0m\n\u001b[1;32m    101\u001b[0m \u001b[0;32mdef\u001b[0m \u001b[0m_filename_explode\u001b[0m\u001b[0;34m(\u001b[0m\u001b[0mx\u001b[0m\u001b[0;34m)\u001b[0m\u001b[0;34m:\u001b[0m\u001b[0;34m\u001b[0m\u001b[0m\n",
      "\u001b[0;32m/uscms/home/as2872/.local/lib/python3.6/site-packages/uproot/tree.py\u001b[0m in \u001b[0;36mfill\u001b[0;34m(j)\u001b[0m\n\u001b[1;32m   1291\u001b[0m                 \u001b[0mi\u001b[0m \u001b[0;34m=\u001b[0m \u001b[0mj\u001b[0m \u001b[0;34m+\u001b[0m \u001b[0mbasketstart\u001b[0m\u001b[0;34m\u001b[0m\u001b[0m\n\u001b[1;32m   1292\u001b[0m                 \u001b[0mlocal_entrystart\u001b[0m\u001b[0;34m,\u001b[0m \u001b[0mlocal_entrystop\u001b[0m \u001b[0;34m=\u001b[0m \u001b[0mself\u001b[0m\u001b[0;34m.\u001b[0m\u001b[0m_localentries\u001b[0m\u001b[0;34m(\u001b[0m\u001b[0mi\u001b[0m\u001b[0;34m,\u001b[0m \u001b[0mentrystart\u001b[0m\u001b[0;34m,\u001b[0m \u001b[0mentrystop\u001b[0m\u001b[0;34m)\u001b[0m\u001b[0;34m\u001b[0m\u001b[0m\n\u001b[0;32m-> 1293\u001b[0;31m                 \u001b[0msource\u001b[0m \u001b[0;34m=\u001b[0m \u001b[0mself\u001b[0m\u001b[0;34m.\u001b[0m\u001b[0m_basket\u001b[0m\u001b[0;34m(\u001b[0m\u001b[0mi\u001b[0m\u001b[0;34m,\u001b[0m \u001b[0minterpretation\u001b[0m\u001b[0;34m,\u001b[0m \u001b[0mlocal_entrystart\u001b[0m\u001b[0;34m,\u001b[0m \u001b[0mlocal_entrystop\u001b[0m\u001b[0;34m,\u001b[0m \u001b[0mbasketcache\u001b[0m\u001b[0;34m,\u001b[0m \u001b[0mkeycache\u001b[0m\u001b[0;34m)\u001b[0m\u001b[0;34m\u001b[0m\u001b[0m\n\u001b[0m\u001b[1;32m   1294\u001b[0m \u001b[0;34m\u001b[0m\u001b[0m\n\u001b[1;32m   1295\u001b[0m                 \u001b[0mexpecteditems\u001b[0m \u001b[0;34m=\u001b[0m \u001b[0mbasket_itemoffset\u001b[0m\u001b[0;34m[\u001b[0m\u001b[0mj\u001b[0m \u001b[0;34m+\u001b[0m \u001b[0;36m1\u001b[0m\u001b[0;34m]\u001b[0m \u001b[0;34m-\u001b[0m \u001b[0mbasket_itemoffset\u001b[0m\u001b[0;34m[\u001b[0m\u001b[0mj\u001b[0m\u001b[0;34m]\u001b[0m\u001b[0;34m\u001b[0m\u001b[0m\n",
      "\u001b[0;32m/uscms/home/as2872/.local/lib/python3.6/site-packages/uproot/tree.py\u001b[0m in \u001b[0;36m_basket\u001b[0;34m(self, i, interpretation, local_entrystart, local_entrystop, basketcache, keycache)\u001b[0m\n\u001b[1;32m   1114\u001b[0m             \u001b[0mnumpy\u001b[0m\u001b[0;34m.\u001b[0m\u001b[0msubtract\u001b[0m\u001b[0;34m(\u001b[0m\u001b[0moffsets\u001b[0m\u001b[0;34m,\u001b[0m \u001b[0mkey\u001b[0m\u001b[0;34m.\u001b[0m\u001b[0mfKeylen\u001b[0m\u001b[0;34m,\u001b[0m \u001b[0moffsets\u001b[0m\u001b[0;34m)\u001b[0m\u001b[0;34m\u001b[0m\u001b[0m\n\u001b[1;32m   1115\u001b[0m \u001b[0;34m\u001b[0m\u001b[0m\n\u001b[0;32m-> 1116\u001b[0;31m         \u001b[0;32mreturn\u001b[0m \u001b[0minterpretation\u001b[0m\u001b[0;34m.\u001b[0m\u001b[0mfromroot\u001b[0m\u001b[0;34m(\u001b[0m\u001b[0mdata\u001b[0m\u001b[0;34m,\u001b[0m \u001b[0moffsets\u001b[0m\u001b[0;34m,\u001b[0m \u001b[0mlocal_entrystart\u001b[0m\u001b[0;34m,\u001b[0m \u001b[0mlocal_entrystop\u001b[0m\u001b[0;34m)\u001b[0m\u001b[0;34m\u001b[0m\u001b[0m\n\u001b[0m\u001b[1;32m   1117\u001b[0m \u001b[0;34m\u001b[0m\u001b[0m\n\u001b[1;32m   1118\u001b[0m     \u001b[0;32mdef\u001b[0m \u001b[0mbasket\u001b[0m\u001b[0;34m(\u001b[0m\u001b[0mself\u001b[0m\u001b[0;34m,\u001b[0m \u001b[0mi\u001b[0m\u001b[0;34m,\u001b[0m \u001b[0minterpretation\u001b[0m\u001b[0;34m=\u001b[0m\u001b[0;32mNone\u001b[0m\u001b[0;34m,\u001b[0m \u001b[0mentrystart\u001b[0m\u001b[0;34m=\u001b[0m\u001b[0;32mNone\u001b[0m\u001b[0;34m,\u001b[0m \u001b[0mentrystop\u001b[0m\u001b[0;34m=\u001b[0m\u001b[0;32mNone\u001b[0m\u001b[0;34m,\u001b[0m \u001b[0mflatten\u001b[0m\u001b[0;34m=\u001b[0m\u001b[0;32mFalse\u001b[0m\u001b[0;34m,\u001b[0m \u001b[0mcache\u001b[0m\u001b[0;34m=\u001b[0m\u001b[0;32mNone\u001b[0m\u001b[0;34m,\u001b[0m \u001b[0mbasketcache\u001b[0m\u001b[0;34m=\u001b[0m\u001b[0;32mNone\u001b[0m\u001b[0;34m,\u001b[0m \u001b[0mkeycache\u001b[0m\u001b[0;34m=\u001b[0m\u001b[0;32mNone\u001b[0m\u001b[0;34m)\u001b[0m\u001b[0;34m:\u001b[0m\u001b[0;34m\u001b[0m\u001b[0m\n",
      "\u001b[0;32m/uscms/home/as2872/.local/lib/python3.6/site-packages/uproot/interp/jagged.py\u001b[0m in \u001b[0;36mfromroot\u001b[0;34m(self, data, offsets, local_entrystart, local_entrystop)\u001b[0m\n\u001b[1;32m    121\u001b[0m                 \u001b[0mnumpy\u001b[0m\u001b[0;34m.\u001b[0m\u001b[0mcumsum\u001b[0m\u001b[0;34m(\u001b[0m\u001b[0mfromstops\u001b[0m \u001b[0;34m-\u001b[0m \u001b[0mfromstarts\u001b[0m\u001b[0;34m,\u001b[0m \u001b[0mout\u001b[0m\u001b[0;34m=\u001b[0m\u001b[0mnewoffsets\u001b[0m\u001b[0;34m[\u001b[0m\u001b[0;36m1\u001b[0m\u001b[0;34m:\u001b[0m\u001b[0;34m]\u001b[0m\u001b[0;34m)\u001b[0m\u001b[0;34m\u001b[0m\u001b[0m\n\u001b[1;32m    122\u001b[0m                 \u001b[0mnewdata\u001b[0m \u001b[0;34m=\u001b[0m \u001b[0mnumpy\u001b[0m\u001b[0;34m.\u001b[0m\u001b[0mempty\u001b[0m\u001b[0;34m(\u001b[0m\u001b[0mnewoffsets\u001b[0m\u001b[0;34m[\u001b[0m\u001b[0;34m-\u001b[0m\u001b[0;36m1\u001b[0m\u001b[0;34m]\u001b[0m\u001b[0;34m,\u001b[0m \u001b[0mdtype\u001b[0m\u001b[0;34m=\u001b[0m\u001b[0mdata\u001b[0m\u001b[0;34m.\u001b[0m\u001b[0mdtype\u001b[0m\u001b[0;34m)\u001b[0m\u001b[0;34m\u001b[0m\u001b[0m\n\u001b[0;32m--> 123\u001b[0;31m                 \u001b[0m_compactify\u001b[0m\u001b[0;34m(\u001b[0m\u001b[0mdata\u001b[0m\u001b[0;34m,\u001b[0m \u001b[0mfromstarts\u001b[0m\u001b[0;34m,\u001b[0m \u001b[0mfromstops\u001b[0m\u001b[0;34m,\u001b[0m \u001b[0mnewdata\u001b[0m\u001b[0;34m,\u001b[0m \u001b[0mnewoffsets\u001b[0m\u001b[0;34m[\u001b[0m\u001b[0;34m:\u001b[0m\u001b[0;34m-\u001b[0m\u001b[0;36m1\u001b[0m\u001b[0;34m]\u001b[0m\u001b[0;34m,\u001b[0m \u001b[0mnewoffsets\u001b[0m\u001b[0;34m[\u001b[0m\u001b[0;36m1\u001b[0m\u001b[0;34m:\u001b[0m\u001b[0;34m]\u001b[0m\u001b[0;34m)\u001b[0m\u001b[0;34m\u001b[0m\u001b[0m\n\u001b[0m\u001b[1;32m    124\u001b[0m                 \u001b[0mnumpy\u001b[0m\u001b[0;34m.\u001b[0m\u001b[0mfloor_divide\u001b[0m\u001b[0;34m(\u001b[0m\u001b[0mnewoffsets\u001b[0m\u001b[0;34m,\u001b[0m \u001b[0mitemsize\u001b[0m\u001b[0;34m,\u001b[0m \u001b[0mnewoffsets\u001b[0m\u001b[0;34m)\u001b[0m\u001b[0;34m\u001b[0m\u001b[0m\n\u001b[1;32m    125\u001b[0m                 \u001b[0mstarts\u001b[0m \u001b[0;34m=\u001b[0m \u001b[0mnewoffsets\u001b[0m\u001b[0;34m[\u001b[0m\u001b[0;34m:\u001b[0m\u001b[0;34m-\u001b[0m\u001b[0;36m1\u001b[0m\u001b[0;34m]\u001b[0m\u001b[0;34m\u001b[0m\u001b[0m\n",
      "\u001b[0;32m/uscms/home/as2872/.local/lib/python3.6/site-packages/uproot/interp/jagged.py\u001b[0m in \u001b[0;36m_compactify\u001b[0;34m(fromdata, fromstarts, fromstops, todata, tostarts, tostops)\u001b[0m\n\u001b[1;32m     47\u001b[0m \u001b[0;32mdef\u001b[0m \u001b[0m_compactify\u001b[0m\u001b[0;34m(\u001b[0m\u001b[0mfromdata\u001b[0m\u001b[0;34m,\u001b[0m \u001b[0mfromstarts\u001b[0m\u001b[0;34m,\u001b[0m \u001b[0mfromstops\u001b[0m\u001b[0;34m,\u001b[0m \u001b[0mtodata\u001b[0m\u001b[0;34m,\u001b[0m \u001b[0mtostarts\u001b[0m\u001b[0;34m,\u001b[0m \u001b[0mtostops\u001b[0m\u001b[0;34m)\u001b[0m\u001b[0;34m:\u001b[0m\u001b[0;34m\u001b[0m\u001b[0m\n\u001b[1;32m     48\u001b[0m     \u001b[0;32mfor\u001b[0m \u001b[0mi\u001b[0m \u001b[0;32min\u001b[0m \u001b[0mrange\u001b[0m\u001b[0;34m(\u001b[0m\u001b[0mlen\u001b[0m\u001b[0;34m(\u001b[0m\u001b[0mfromstarts\u001b[0m\u001b[0;34m)\u001b[0m\u001b[0;34m)\u001b[0m\u001b[0;34m:\u001b[0m\u001b[0;34m\u001b[0m\u001b[0m\n\u001b[0;32m---> 49\u001b[0;31m         \u001b[0mtodata\u001b[0m\u001b[0;34m[\u001b[0m\u001b[0mtostarts\u001b[0m\u001b[0;34m[\u001b[0m\u001b[0mi\u001b[0m\u001b[0;34m]\u001b[0m\u001b[0;34m:\u001b[0m\u001b[0mtostops\u001b[0m\u001b[0;34m[\u001b[0m\u001b[0mi\u001b[0m\u001b[0;34m]\u001b[0m\u001b[0;34m]\u001b[0m \u001b[0;34m=\u001b[0m \u001b[0mfromdata\u001b[0m\u001b[0;34m[\u001b[0m\u001b[0mfromstarts\u001b[0m\u001b[0;34m[\u001b[0m\u001b[0mi\u001b[0m\u001b[0;34m]\u001b[0m\u001b[0;34m:\u001b[0m\u001b[0mfromstops\u001b[0m\u001b[0;34m[\u001b[0m\u001b[0mi\u001b[0m\u001b[0;34m]\u001b[0m\u001b[0;34m]\u001b[0m\u001b[0;34m\u001b[0m\u001b[0m\n\u001b[0m\u001b[1;32m     50\u001b[0m \u001b[0;34m\u001b[0m\u001b[0m\n\u001b[1;32m     51\u001b[0m \u001b[0;32mtry\u001b[0m\u001b[0;34m:\u001b[0m\u001b[0;34m\u001b[0m\u001b[0m\n",
      "\u001b[0;31mKeyboardInterrupt\u001b[0m: "
     ]
    }
   ],
   "source": [
    "masses = [('60','20'),('6p0','2p0'),('52p5','5p0'),('5p25','0p5')]\n",
    "ctaus = [10]#, 10, 100, 1000]\n",
    "cuts = np.arange(0,6)\n",
    "# triggerPath = 'TRIG_dsa_HLT_DoubleMu3_DCA_PFMET50_PFMHT60'\n",
    "branchPath = 'SREffi_dsa'\n",
    "baseDir = '../Firefighter/washAOD/'\n",
    "fileName = lambda Mchi, dMchi, ctau: baseDir + f'Mchi-{Mchi}_dMchi-{dMchi}_ctau-{ctau}.root'\n",
    "\n",
    "numParams = len(masses)*len(ctaus)\n",
    "countMasses = 0\n",
    "\n",
    "dfs = OrderedDict({})\n",
    "genInfo = OrderedDict({})\n",
    "numEvents = OrderedDict({})\n",
    "for (Mchi, dMchi) in masses:\n",
    "    countCtaus = 1\n",
    "    dfs[Mchi] = OrderedDict({})\n",
    "    numEvents[Mchi] = OrderedDict({})\n",
    "    genInfo[Mchi] = OrderedDict({})\n",
    "    for ctau in ctaus:\n",
    "        dfs[Mchi][ctau] = OrderedDict({})\n",
    "        genInfo[Mchi][ctau] = uproot.open(fileName(Mchi, dMchi, ctau))['GEN/gen'].pandas.df()\n",
    "        for cut in cuts:\n",
    "            dfs[Mchi][ctau][cut] = uproot.open(fileName(Mchi, dMchi, ctau))[branchPath + f'/cut{cut}'].pandas.df()\n",
    "        print(f'{countMasses*len(ctaus)+countCtaus} of {numParams}: ' + fileName(Mchi, dMchi, ctau))\n",
    "        countCtaus += 1\n",
    "    countMasses += 1"
   ]
  },
  {
   "cell_type": "code",
   "execution_count": 10,
   "metadata": {
    "collapsed": false
   },
   "outputs": [
    {
     "name": "stdout",
     "output_type": "stream",
     "text": [
      "1 of 4: ../Firefighter/washAOD/SignalRegionStudies/AfterGenFilter/Mchi-60_dMchi-20_ctau-10.root\n",
      "2 of 4: ../Firefighter/washAOD/SignalRegionStudies/AfterGenFilter/Mchi-5p25_dMchi-0p5_ctau-10.root\n",
      "3 of 4: ../Firefighter/washAOD/SignalRegionStudies/AfterGenFilter/Mchi-6p0_dMchi-2p0_ctau-10.root\n",
      "4 of 4: ../Firefighter/washAOD/SignalRegionStudies/AfterGenFilter/Mchi-52p5_dMchi-5p0_ctau-10.root\n"
     ]
    }
   ],
   "source": [
    "masses = [('60','20'),('5p25','0p5'),('6p0','2p0'),('52p5','5p0')]\n",
    "ctaus = [10]#, 10, 100, 1000]\n",
    "cuts = np.arange(0,1)\n",
    "# triggerPath = 'TRIG_dsa_HLT_DoubleMu3_DCA_PFMET50_PFMHT60'\n",
    "branchPath = 'SREffi_dsa'\n",
    "baseDir = '../Firefighter/washAOD/SignalRegionStudies/AfterGenFilter/'\n",
    "fileName = lambda Mchi, dMchi, ctau: baseDir + f'Mchi-{Mchi}_dMchi-{dMchi}_ctau-{ctau}.root'\n",
    "\n",
    "numParams = len(masses)*len(ctaus)\n",
    "countMasses = 0\n",
    "\n",
    "dfs = OrderedDict({})\n",
    "genInfo = OrderedDict({})\n",
    "numEvents = OrderedDict({})\n",
    "for (Mchi, dMchi) in masses:\n",
    "    countCtaus = 1\n",
    "    dfs[Mchi] = OrderedDict({})\n",
    "    numEvents[Mchi] = OrderedDict({})\n",
    "    genInfo[Mchi] = OrderedDict({})\n",
    "    for ctau in ctaus:\n",
    "        dfs[Mchi][ctau] = OrderedDict({})\n",
    "        genInfo[Mchi][ctau] = uproot.open(fileName(Mchi, dMchi, ctau))['GEN/gen'].pandas.df()\n",
    "        for cut in cuts:\n",
    "            dfs[Mchi][ctau][cut] = uproot.open(fileName(Mchi, dMchi, ctau))[branchPath + f'/cut{cut}'].pandas.df()\n",
    "        print(f'{countMasses*len(ctaus)+countCtaus} of {numParams}: ' + fileName(Mchi, dMchi, ctau))\n",
    "        countCtaus += 1\n",
    "    countMasses += 1"
   ]
  },
  {
   "cell_type": "code",
   "execution_count": 97,
   "metadata": {
    "collapsed": false,
    "scrolled": true
   },
   "outputs": [],
   "source": [
    "testdfs = uproot.open(\"../Firefighter/washAOD/SROptimization/beforeFixingDxy/Mchi-60p0_dMchi-20p0_ctau-10.root\")['SREffi_dsa' + f'/cutsTree'].pandas.df()"
   ]
  },
  {
   "cell_type": "code",
   "execution_count": 98,
   "metadata": {
    "collapsed": true
   },
   "outputs": [],
   "source": [
    "testdf2 = uproot.open(\"../Firefighter/washAOD/SROptimization/Mchi-60p0_dMchi-20p0_ctau-10.root\")['SREffi_dsa' + f'/cutsTree'].pandas.df()"
   ]
  },
  {
   "cell_type": "code",
   "execution_count": 99,
   "metadata": {
    "collapsed": false
   },
   "outputs": [
    {
     "name": "stdout",
     "output_type": "stream",
     "text": [
      "73968\n",
      "65532\n",
      "59393\n",
      "\n",
      "73627\n",
      "44229\n",
      "29825\n",
      "\n",
      "73968\n",
      "44229\n"
     ]
    }
   ],
   "source": [
    "print(len(testdf2.query('subentry==0')['recoPt']))\n",
    "print(len(testdf2.query('subentry==0')['recoPt'].dropna()))\n",
    "print(len(testdf2.query('subentry==0')[['recoPt']].query('recoPt>5')))\n",
    "print()\n",
    "print(len(testdf2.query('subentry==1')[['recoPt']]))\n",
    "print(len(testdf2.query('subentry==1')[['recoPt']].dropna()))\n",
    "print(len(testdf2.query('subentry==1')[['recoPt']].query('recoPt>5')))\n",
    "print()\n",
    "print(len(testdf2.query('subentry==0')[['recoVxy']]))\n",
    "print(len(testdf2.query('subentry==0')[['recoVxy']].dropna()))"
   ]
  },
  {
   "cell_type": "code",
   "execution_count": 100,
   "metadata": {
    "collapsed": false,
    "scrolled": false
   },
   "outputs": [
    {
     "name": "stdout",
     "output_type": "stream",
     "text": [
      "73968\n",
      "65532\n",
      "59393\n",
      "\n",
      "73627\n",
      "44229\n",
      "29825\n",
      "\n",
      "73968\n",
      "44229\n"
     ]
    }
   ],
   "source": [
    "print(len(testdfs.query('subentry==0')['recoPt']))\n",
    "print(len(testdfs.query('subentry==0')['recoPt'].dropna()))\n",
    "print(len(testdfs.query('subentry==0')[['recoPt']].query('recoPt>5')))\n",
    "print()\n",
    "print(len(testdfs.query('subentry==1')[['recoPt']]))\n",
    "print(len(testdfs.query('subentry==1')[['recoPt']].dropna()))\n",
    "print(len(testdfs.query('subentry==1')[['recoPt']].query('recoPt>5')))\n",
    "print()\n",
    "print(len(testdfs.query('subentry==0')[['recoVxy']]))\n",
    "print(len(testdfs.query('subentry==0')[['recoVxy']].dropna()))"
   ]
  },
  {
   "cell_type": "code",
   "execution_count": 101,
   "metadata": {
    "collapsed": false
   },
   "outputs": [
    {
     "name": "stdout",
     "output_type": "stream",
     "text": [
      "73627\n",
      "44229\n",
      "29825\n",
      "29532\n"
     ]
    }
   ],
   "source": [
    "print(len(testdf2.query('subentry==1')[['recoPt','recoDxy']]))\n",
    "print(len(testdf2.query('subentry==1')[['recoPt','recoDxy']].dropna()))\n",
    "print(len(testdf2.query('subentry==1')[['recoPt','recoDxy']].loc[ testdf2.recoPt > 5 ]))\n",
    "print(len(testdf2.query('subentry==1')[['recoPt','recoDxy']].loc[(testdf2.recoPt > 5) & (0.1 < testdf2.recoDxy.abs()) & (700 > testdf2.recoDxy.abs())]))"
   ]
  },
  {
   "cell_type": "code",
   "execution_count": 102,
   "metadata": {
    "collapsed": false
   },
   "outputs": [
    {
     "data": {
      "text/html": [
       "<div>\n",
       "<style scoped>\n",
       "    .dataframe tbody tr th:only-of-type {\n",
       "        vertical-align: middle;\n",
       "    }\n",
       "\n",
       "    .dataframe tbody tr th {\n",
       "        vertical-align: top;\n",
       "    }\n",
       "\n",
       "    .dataframe thead th {\n",
       "        text-align: right;\n",
       "    }\n",
       "</style>\n",
       "<table border=\"1\" class=\"dataframe\">\n",
       "  <thead>\n",
       "    <tr style=\"text-align: right;\">\n",
       "      <th></th>\n",
       "      <th>60p0</th>\n",
       "    </tr>\n",
       "  </thead>\n",
       "  <tbody>\n",
       "    <tr>\n",
       "      <th>0</th>\n",
       "      <td>73968</td>\n",
       "    </tr>\n",
       "    <tr>\n",
       "      <th>1</th>\n",
       "      <td>21571</td>\n",
       "    </tr>\n",
       "    <tr>\n",
       "      <th>2</th>\n",
       "      <td>13698</td>\n",
       "    </tr>\n",
       "    <tr>\n",
       "      <th>3</th>\n",
       "      <td>5186</td>\n",
       "    </tr>\n",
       "    <tr>\n",
       "      <th>4</th>\n",
       "      <td>1262</td>\n",
       "    </tr>\n",
       "    <tr>\n",
       "      <th>5</th>\n",
       "      <td>611</td>\n",
       "    </tr>\n",
       "  </tbody>\n",
       "</table>\n",
       "</div>"
      ],
      "text/plain": [
       "    60p0\n",
       "0  73968\n",
       "1  21571\n",
       "2  13698\n",
       "3   5186\n",
       "4   1262\n",
       "5    611"
      ]
     },
     "execution_count": 102,
     "metadata": {},
     "output_type": "execute_result"
    }
   ],
   "source": [
    "mchi='60p0'\n",
    "cutFlowDict = OrderedDict()\n",
    "# for mchi in ['5p25','6p0','52p5','60']:\n",
    "cutFlowDict[mchi] = []\n",
    "cutsCrit = [ testdfs[f'cutsVec[{cut}]']==1 for cut in np.arange(0,6) ]\n",
    "for cut in np.arange(0,6):\n",
    "    cutsToApply = reduce(operator.and_, cutsCrit[0:cut+1])\n",
    "    cutFlowDict[mchi].append(len(testdfs[cutsToApply]))\n",
    "        \n",
    "cutFlowDf = pd.DataFrame.from_dict(cutFlowDict)\n",
    "cutFlowDf"
   ]
  },
  {
   "cell_type": "code",
   "execution_count": 103,
   "metadata": {
    "collapsed": false
   },
   "outputs": [
    {
     "data": {
      "text/html": [
       "<div>\n",
       "<style scoped>\n",
       "    .dataframe tbody tr th:only-of-type {\n",
       "        vertical-align: middle;\n",
       "    }\n",
       "\n",
       "    .dataframe tbody tr th {\n",
       "        vertical-align: top;\n",
       "    }\n",
       "\n",
       "    .dataframe thead th {\n",
       "        text-align: right;\n",
       "    }\n",
       "</style>\n",
       "<table border=\"1\" class=\"dataframe\">\n",
       "  <thead>\n",
       "    <tr style=\"text-align: right;\">\n",
       "      <th></th>\n",
       "      <th>60p0</th>\n",
       "    </tr>\n",
       "  </thead>\n",
       "  <tbody>\n",
       "    <tr>\n",
       "      <th>0</th>\n",
       "      <td>73968</td>\n",
       "    </tr>\n",
       "    <tr>\n",
       "      <th>1</th>\n",
       "      <td>21571</td>\n",
       "    </tr>\n",
       "    <tr>\n",
       "      <th>2</th>\n",
       "      <td>13698</td>\n",
       "    </tr>\n",
       "    <tr>\n",
       "      <th>3</th>\n",
       "      <td>10688</td>\n",
       "    </tr>\n",
       "    <tr>\n",
       "      <th>4</th>\n",
       "      <td>5165</td>\n",
       "    </tr>\n",
       "    <tr>\n",
       "      <th>5</th>\n",
       "      <td>2463</td>\n",
       "    </tr>\n",
       "  </tbody>\n",
       "</table>\n",
       "</div>"
      ],
      "text/plain": [
       "    60p0\n",
       "0  73968\n",
       "1  21571\n",
       "2  13698\n",
       "3  10688\n",
       "4   5165\n",
       "5   2463"
      ]
     },
     "execution_count": 103,
     "metadata": {},
     "output_type": "execute_result"
    }
   ],
   "source": [
    "mchi='60p0'\n",
    "cutFlowDict = OrderedDict()\n",
    "# for mchi in ['5p25','6p0','52p5','60']:\n",
    "cutFlowDict[mchi] = []\n",
    "cutsCrit = [ testdf2[f'cutsVec[{cut}]']==1 for cut in np.arange(0,6) ]\n",
    "for cut in np.arange(0,6):\n",
    "    cutsToApply = reduce(operator.and_, cutsCrit[0:cut+1])\n",
    "    cutFlowDict[mchi].append(len(testdf2[cutsToApply]))\n",
    "        \n",
    "cutFlowDf = pd.DataFrame.from_dict(cutFlowDict)\n",
    "cutFlowDf"
   ]
  },
  {
   "cell_type": "code",
   "execution_count": 104,
   "metadata": {
    "collapsed": false
   },
   "outputs": [
    {
     "data": {
      "text/html": [
       "<div>\n",
       "<style scoped>\n",
       "    .dataframe tbody tr th:only-of-type {\n",
       "        vertical-align: middle;\n",
       "    }\n",
       "\n",
       "    .dataframe tbody tr th {\n",
       "        vertical-align: top;\n",
       "    }\n",
       "\n",
       "    .dataframe thead th {\n",
       "        text-align: right;\n",
       "    }\n",
       "</style>\n",
       "<table border=\"1\" class=\"dataframe\">\n",
       "  <thead>\n",
       "    <tr style=\"text-align: right;\">\n",
       "      <th></th>\n",
       "      <th>60p0</th>\n",
       "    </tr>\n",
       "  </thead>\n",
       "  <tbody>\n",
       "    <tr>\n",
       "      <th>0</th>\n",
       "      <td>73968</td>\n",
       "    </tr>\n",
       "    <tr>\n",
       "      <th>1</th>\n",
       "      <td>21571</td>\n",
       "    </tr>\n",
       "    <tr>\n",
       "      <th>2</th>\n",
       "      <td>28861</td>\n",
       "    </tr>\n",
       "    <tr>\n",
       "      <th>3</th>\n",
       "      <td>29044</td>\n",
       "    </tr>\n",
       "    <tr>\n",
       "      <th>4</th>\n",
       "      <td>14268</td>\n",
       "    </tr>\n",
       "    <tr>\n",
       "      <th>5</th>\n",
       "      <td>14902</td>\n",
       "    </tr>\n",
       "  </tbody>\n",
       "</table>\n",
       "</div>"
      ],
      "text/plain": [
       "    60p0\n",
       "0  73968\n",
       "1  21571\n",
       "2  28861\n",
       "3  29044\n",
       "4  14268\n",
       "5  14902"
      ]
     },
     "execution_count": 104,
     "metadata": {},
     "output_type": "execute_result"
    }
   ],
   "source": [
    "mchi = '60p0'\n",
    "cutFlowDict = OrderedDict()\n",
    "# for mchi in ['5p25','6p0','52p5','60']:\n",
    "cutFlowDict[mchi] = []\n",
    "cutsCrit = [ testdfs[f'cutsVec[{cut}]']==1 for cut in np.arange(0,6) ]\n",
    "for cut in np.arange(0,6):\n",
    "    cutsToApply = cutsCrit[cut]\n",
    "    cutFlowDict[mchi].append(len(testdfs[cutsToApply]))\n",
    "        \n",
    "cutFlowDf = pd.DataFrame.from_dict(cutFlowDict)\n",
    "cutFlowDf"
   ]
  },
  {
   "cell_type": "code",
   "execution_count": 105,
   "metadata": {
    "collapsed": false
   },
   "outputs": [
    {
     "data": {
      "text/html": [
       "<div>\n",
       "<style scoped>\n",
       "    .dataframe tbody tr th:only-of-type {\n",
       "        vertical-align: middle;\n",
       "    }\n",
       "\n",
       "    .dataframe tbody tr th {\n",
       "        vertical-align: top;\n",
       "    }\n",
       "\n",
       "    .dataframe thead th {\n",
       "        text-align: right;\n",
       "    }\n",
       "</style>\n",
       "<table border=\"1\" class=\"dataframe\">\n",
       "  <thead>\n",
       "    <tr style=\"text-align: right;\">\n",
       "      <th></th>\n",
       "      <th>60p0</th>\n",
       "    </tr>\n",
       "  </thead>\n",
       "  <tbody>\n",
       "    <tr>\n",
       "      <th>0</th>\n",
       "      <td>73968</td>\n",
       "    </tr>\n",
       "    <tr>\n",
       "      <th>1</th>\n",
       "      <td>21571</td>\n",
       "    </tr>\n",
       "    <tr>\n",
       "      <th>2</th>\n",
       "      <td>28861</td>\n",
       "    </tr>\n",
       "    <tr>\n",
       "      <th>3</th>\n",
       "      <td>58544</td>\n",
       "    </tr>\n",
       "    <tr>\n",
       "      <th>4</th>\n",
       "      <td>28538</td>\n",
       "    </tr>\n",
       "    <tr>\n",
       "      <th>5</th>\n",
       "      <td>14902</td>\n",
       "    </tr>\n",
       "  </tbody>\n",
       "</table>\n",
       "</div>"
      ],
      "text/plain": [
       "    60p0\n",
       "0  73968\n",
       "1  21571\n",
       "2  28861\n",
       "3  58544\n",
       "4  28538\n",
       "5  14902"
      ]
     },
     "execution_count": 105,
     "metadata": {},
     "output_type": "execute_result"
    }
   ],
   "source": [
    "mchi = '60p0'\n",
    "cutFlowDict = OrderedDict()\n",
    "# for mchi in ['5p25','6p0','52p5','60']:\n",
    "cutFlowDict[mchi] = []\n",
    "cutsCrit = [ testdf2[f'cutsVec[{cut}]']==1 for cut in np.arange(0,6) ]\n",
    "for cut in np.arange(0,6):\n",
    "    cutsToApply = cutsCrit[cut]\n",
    "    cutFlowDict[mchi].append(len(testdf2[cutsToApply]))\n",
    "        \n",
    "cutFlowDf = pd.DataFrame.from_dict(cutFlowDict)\n",
    "cutFlowDf"
   ]
  },
  {
   "cell_type": "markdown",
   "metadata": {},
   "source": [
    "## Inspect data"
   ]
  },
  {
   "cell_type": "code",
   "execution_count": 95,
   "metadata": {
    "collapsed": false,
    "scrolled": false
   },
   "outputs": [
    {
     "data": {
      "image/png": "[encoded data removed]",
      "text/plain": [
       "<matplotlib.figure.Figure at 0x7f1f6f474e10>"
      ]
     },
     "metadata": {},
     "output_type": "display_data"
    }
   ],
   "source": [
    "plt.hist(dfs['60'][10][0]['recoVxy'].dropna(), bins=50, log=True, histtype='step', density=False);\n",
    "plt.hist(dfs['60'][10][0]['recoDxy'].dropna(), bins=50, log=True, histtype='step', density=False);"
   ]
  },
  {
   "cell_type": "code",
   "execution_count": 12,
   "metadata": {
    "collapsed": true
   },
   "outputs": [],
   "source": [
    "from functools import reduce\n",
    "import operator"
   ]
  },
  {
   "cell_type": "markdown",
   "metadata": {},
   "source": [
    "## Inclusive cuts"
   ]
  },
  {
   "cell_type": "code",
   "execution_count": 57,
   "metadata": {
    "collapsed": false
   },
   "outputs": [
    {
     "data": {
      "text/html": [
       "<div>\n",
       "<style scoped>\n",
       "    .dataframe tbody tr th:only-of-type {\n",
       "        vertical-align: middle;\n",
       "    }\n",
       "\n",
       "    .dataframe tbody tr th {\n",
       "        vertical-align: top;\n",
       "    }\n",
       "\n",
       "    .dataframe thead th {\n",
       "        text-align: right;\n",
       "    }\n",
       "</style>\n",
       "<table border=\"1\" class=\"dataframe\">\n",
       "  <thead>\n",
       "    <tr style=\"text-align: right;\">\n",
       "      <th></th>\n",
       "      <th>5p25</th>\n",
       "      <th>6p0</th>\n",
       "      <th>52p5</th>\n",
       "      <th>60</th>\n",
       "    </tr>\n",
       "  </thead>\n",
       "  <tbody>\n",
       "    <tr>\n",
       "      <th>0</th>\n",
       "      <td>2408</td>\n",
       "      <td>1882</td>\n",
       "      <td>30764</td>\n",
       "      <td>24729</td>\n",
       "    </tr>\n",
       "    <tr>\n",
       "      <th>1</th>\n",
       "      <td>391</td>\n",
       "      <td>298</td>\n",
       "      <td>8497</td>\n",
       "      <td>6295</td>\n",
       "    </tr>\n",
       "    <tr>\n",
       "      <th>2</th>\n",
       "      <td>301</td>\n",
       "      <td>179</td>\n",
       "      <td>6356</td>\n",
       "      <td>4243</td>\n",
       "    </tr>\n",
       "    <tr>\n",
       "      <th>3</th>\n",
       "      <td>44</td>\n",
       "      <td>61</td>\n",
       "      <td>1486</td>\n",
       "      <td>1602</td>\n",
       "    </tr>\n",
       "    <tr>\n",
       "      <th>4</th>\n",
       "      <td>2</td>\n",
       "      <td>16</td>\n",
       "      <td>162</td>\n",
       "      <td>378</td>\n",
       "    </tr>\n",
       "    <tr>\n",
       "      <th>5</th>\n",
       "      <td>2</td>\n",
       "      <td>13</td>\n",
       "      <td>108</td>\n",
       "      <td>154</td>\n",
       "    </tr>\n",
       "  </tbody>\n",
       "</table>\n",
       "</div>"
      ],
      "text/plain": [
       "   5p25   6p0   52p5     60\n",
       "0  2408  1882  30764  24729\n",
       "1   391   298   8497   6295\n",
       "2   301   179   6356   4243\n",
       "3    44    61   1486   1602\n",
       "4     2    16    162    378\n",
       "5     2    13    108    154"
      ]
     },
     "execution_count": 57,
     "metadata": {},
     "output_type": "execute_result"
    }
   ],
   "source": [
    "mchi='5p25'\n",
    "cutFlowDict = OrderedDict()\n",
    "for mchi in ['5p25','6p0','52p5','60']:\n",
    "    cutFlowDict[mchi] = []\n",
    "    cutsCrit = [ dfs[mchi][10][0][f'cutsVec[{cut}]']==1 for cut in np.arange(0,6) ]\n",
    "    for cut in np.arange(0,6):\n",
    "        cutsToApply = reduce(operator.and_, cutsCrit[0:cut+1])\n",
    "        cutFlowDict[mchi].append(len(dfs[mchi][10][0][cutsToApply]))\n",
    "        \n",
    "cutFlowDf = pd.DataFrame.from_dict(cutFlowDict)\n",
    "cutFlowDf"
   ]
  },
  {
   "cell_type": "markdown",
   "metadata": {},
   "source": [
    "## Exclusive cuts"
   ]
  },
  {
   "cell_type": "code",
   "execution_count": 58,
   "metadata": {
    "collapsed": false
   },
   "outputs": [
    {
     "data": {
      "text/html": [
       "<div>\n",
       "<style scoped>\n",
       "    .dataframe tbody tr th:only-of-type {\n",
       "        vertical-align: middle;\n",
       "    }\n",
       "\n",
       "    .dataframe tbody tr th {\n",
       "        vertical-align: top;\n",
       "    }\n",
       "\n",
       "    .dataframe thead th {\n",
       "        text-align: right;\n",
       "    }\n",
       "</style>\n",
       "<table border=\"1\" class=\"dataframe\">\n",
       "  <thead>\n",
       "    <tr style=\"text-align: right;\">\n",
       "      <th></th>\n",
       "      <th>5p25</th>\n",
       "      <th>6p0</th>\n",
       "      <th>52p5</th>\n",
       "      <th>60</th>\n",
       "    </tr>\n",
       "  </thead>\n",
       "  <tbody>\n",
       "    <tr>\n",
       "      <th>0</th>\n",
       "      <td>2408</td>\n",
       "      <td>1882</td>\n",
       "      <td>30764</td>\n",
       "      <td>24729</td>\n",
       "    </tr>\n",
       "    <tr>\n",
       "      <th>1</th>\n",
       "      <td>391</td>\n",
       "      <td>298</td>\n",
       "      <td>8497</td>\n",
       "      <td>6295</td>\n",
       "    </tr>\n",
       "    <tr>\n",
       "      <th>2</th>\n",
       "      <td>661</td>\n",
       "      <td>538</td>\n",
       "      <td>10849</td>\n",
       "      <td>8815</td>\n",
       "    </tr>\n",
       "    <tr>\n",
       "      <th>3</th>\n",
       "      <td>184</td>\n",
       "      <td>526</td>\n",
       "      <td>5267</td>\n",
       "      <td>9410</td>\n",
       "    </tr>\n",
       "    <tr>\n",
       "      <th>4</th>\n",
       "      <td>23</td>\n",
       "      <td>152</td>\n",
       "      <td>954</td>\n",
       "      <td>4357</td>\n",
       "    </tr>\n",
       "    <tr>\n",
       "      <th>5</th>\n",
       "      <td>353</td>\n",
       "      <td>703</td>\n",
       "      <td>3525</td>\n",
       "      <td>4194</td>\n",
       "    </tr>\n",
       "  </tbody>\n",
       "</table>\n",
       "</div>"
      ],
      "text/plain": [
       "   5p25   6p0   52p5     60\n",
       "0  2408  1882  30764  24729\n",
       "1   391   298   8497   6295\n",
       "2   661   538  10849   8815\n",
       "3   184   526   5267   9410\n",
       "4    23   152    954   4357\n",
       "5   353   703   3525   4194"
      ]
     },
     "execution_count": 58,
     "metadata": {},
     "output_type": "execute_result"
    }
   ],
   "source": [
    "cutFlowDict = OrderedDict()\n",
    "for mchi in ['5p25','6p0','52p5','60']:\n",
    "    cutFlowDict[mchi] = []\n",
    "    cutsCrit = [ dfs[mchi][10][0][f'cutsVec[{cut}]']==1 for cut in np.arange(0,6) ]\n",
    "    for cut in np.arange(0,6):\n",
    "        cutsToApply = cutsCrit[cut]\n",
    "        cutFlowDict[mchi].append(len(dfs[mchi][10][0][cutsToApply]))\n",
    "        \n",
    "cutFlowDf = pd.DataFrame.from_dict(cutFlowDict)\n",
    "cutFlowDf"
   ]
  },
  {
   "cell_type": "code",
   "execution_count": 33,
   "metadata": {
    "collapsed": false
   },
   "outputs": [
    {
     "data": {
      "text/plain": [
       "(array([  4.90940000e+04,   4.62070000e+04,   2.01150000e+04,\n",
       "          8.31800000e+03,   3.23000000e+03,   1.18100000e+03,\n",
       "          4.86000000e+02,   2.36000000e+02,   1.20000000e+02,\n",
       "          5.70000000e+01,   3.60000000e+01,   2.10000000e+01,\n",
       "          1.80000000e+01,   1.10000000e+01,   5.00000000e+00,\n",
       "          4.00000000e+00,   1.00000000e+00,   1.00000000e+00,\n",
       "          2.00000000e+00,   2.00000000e+00,   2.00000000e+00,\n",
       "          1.00000000e+00,   0.00000000e+00,   1.00000000e+00,\n",
       "          0.00000000e+00,   1.00000000e+00,   0.00000000e+00,\n",
       "          1.00000000e+00,   0.00000000e+00,   1.00000000e+00,\n",
       "          0.00000000e+00,   0.00000000e+00,   0.00000000e+00,\n",
       "          0.00000000e+00,   0.00000000e+00,   0.00000000e+00,\n",
       "          0.00000000e+00,   0.00000000e+00,   0.00000000e+00,\n",
       "          0.00000000e+00,   0.00000000e+00,   0.00000000e+00,\n",
       "          0.00000000e+00,   0.00000000e+00,   0.00000000e+00,\n",
       "          0.00000000e+00,   0.00000000e+00,   0.00000000e+00,\n",
       "          0.00000000e+00,   0.00000000e+00]),\n",
       " array([  0. ,   1.2,   2.4,   3.6,   4.8,   6. ,   7.2,   8.4,   9.6,\n",
       "         10.8,  12. ,  13.2,  14.4,  15.6,  16.8,  18. ,  19.2,  20.4,\n",
       "         21.6,  22.8,  24. ,  25.2,  26.4,  27.6,  28.8,  30. ,  31.2,\n",
       "         32.4,  33.6,  34.8,  36. ,  37.2,  38.4,  39.6,  40.8,  42. ,\n",
       "         43.2,  44.4,  45.6,  46.8,  48. ,  49.2,  50.4,  51.6,  52.8,\n",
       "         54. ,  55.2,  56.4,  57.6,  58.8,  60. ]),\n",
       " <a list of 1 Patch objects>)"
      ]
     },
     "execution_count": 33,
     "metadata": {},
     "output_type": "execute_result"
    },
    {
     "data": {
      "image/png": "[encoded data removed]",
      "text/plain": [
       "<matplotlib.figure.Figure at 0x7f17d3285278>"
      ]
     },
     "metadata": {},
     "output_type": "display_data"
    }
   ],
   "source": [
    "# plt.hist(genInfo['60'][10].query('subentry==5 | subentry==6')['pt'].groupby(level=0).max(),bins=50,range=(0,60),histtype='step')\n",
    "# plt.hist(genInfo['60'][10].query('subentry==5 | subentry==6')['pt'].groupby(level=0).min(),bins=50,range=(0,60),histtype='step')\n",
    "plt.hist(genInfo['52p5'][10].query('pid==13|pid==-13')['pt'].groupby(level=0).max(),bins=50,range=(0,60),histtype='step')\n",
    "plt.hist(genInfo['52p5'][10].query('pid==13|pid==-13')['pt'].groupby(level=0).min(),bins=50,range=(0,60),histtype='step')"
   ]
  },
  {
   "cell_type": "code",
   "execution_count": 73,
   "metadata": {
    "collapsed": false,
    "scrolled": true
   },
   "outputs": [
    {
     "data": {
      "text/html": [
       "<div>\n",
       "<style scoped>\n",
       "    .dataframe tbody tr th:only-of-type {\n",
       "        vertical-align: middle;\n",
       "    }\n",
       "\n",
       "    .dataframe tbody tr th {\n",
       "        vertical-align: top;\n",
       "    }\n",
       "\n",
       "    .dataframe thead th {\n",
       "        text-align: right;\n",
       "    }\n",
       "</style>\n",
       "<table border=\"1\" class=\"dataframe\">\n",
       "  <thead>\n",
       "    <tr style=\"text-align: right;\">\n",
       "      <th></th>\n",
       "      <th></th>\n",
       "      <th>pt</th>\n",
       "      <th>eta</th>\n",
       "    </tr>\n",
       "    <tr>\n",
       "      <th>entry</th>\n",
       "      <th>subentry</th>\n",
       "      <th></th>\n",
       "      <th></th>\n",
       "    </tr>\n",
       "  </thead>\n",
       "  <tbody>\n",
       "    <tr>\n",
       "      <th rowspan=\"2\" valign=\"top\">0</th>\n",
       "      <th>5</th>\n",
       "      <td>3.480264</td>\n",
       "      <td>-3.487250</td>\n",
       "    </tr>\n",
       "    <tr>\n",
       "      <th>6</th>\n",
       "      <td>3.594287</td>\n",
       "      <td>-2.904247</td>\n",
       "    </tr>\n",
       "    <tr>\n",
       "      <th rowspan=\"2\" valign=\"top\">1</th>\n",
       "      <th>5</th>\n",
       "      <td>3.031765</td>\n",
       "      <td>-0.498938</td>\n",
       "    </tr>\n",
       "    <tr>\n",
       "      <th>6</th>\n",
       "      <td>3.463977</td>\n",
       "      <td>-0.850176</td>\n",
       "    </tr>\n",
       "    <tr>\n",
       "      <th rowspan=\"2\" valign=\"top\">2</th>\n",
       "      <th>5</th>\n",
       "      <td>1.361694</td>\n",
       "      <td>0.519395</td>\n",
       "    </tr>\n",
       "    <tr>\n",
       "      <th>6</th>\n",
       "      <td>2.132331</td>\n",
       "      <td>-0.109887</td>\n",
       "    </tr>\n",
       "    <tr>\n",
       "      <th rowspan=\"2\" valign=\"top\">3</th>\n",
       "      <th>5</th>\n",
       "      <td>3.209465</td>\n",
       "      <td>0.933093</td>\n",
       "    </tr>\n",
       "    <tr>\n",
       "      <th>6</th>\n",
       "      <td>2.025694</td>\n",
       "      <td>2.086698</td>\n",
       "    </tr>\n",
       "    <tr>\n",
       "      <th rowspan=\"2\" valign=\"top\">4</th>\n",
       "      <th>5</th>\n",
       "      <td>2.172541</td>\n",
       "      <td>-3.167156</td>\n",
       "    </tr>\n",
       "    <tr>\n",
       "      <th>6</th>\n",
       "      <td>7.469926</td>\n",
       "      <td>-3.479661</td>\n",
       "    </tr>\n",
       "    <tr>\n",
       "      <th rowspan=\"2\" valign=\"top\">5</th>\n",
       "      <th>5</th>\n",
       "      <td>1.782413</td>\n",
       "      <td>-3.915800</td>\n",
       "    </tr>\n",
       "    <tr>\n",
       "      <th>6</th>\n",
       "      <td>0.436166</td>\n",
       "      <td>-3.376321</td>\n",
       "    </tr>\n",
       "    <tr>\n",
       "      <th rowspan=\"2\" valign=\"top\">6</th>\n",
       "      <th>5</th>\n",
       "      <td>1.101248</td>\n",
       "      <td>-0.767760</td>\n",
       "    </tr>\n",
       "    <tr>\n",
       "      <th>6</th>\n",
       "      <td>1.216274</td>\n",
       "      <td>-0.595606</td>\n",
       "    </tr>\n",
       "    <tr>\n",
       "      <th rowspan=\"2\" valign=\"top\">7</th>\n",
       "      <th>5</th>\n",
       "      <td>4.595019</td>\n",
       "      <td>0.891050</td>\n",
       "    </tr>\n",
       "    <tr>\n",
       "      <th>6</th>\n",
       "      <td>3.554034</td>\n",
       "      <td>1.009672</td>\n",
       "    </tr>\n",
       "    <tr>\n",
       "      <th rowspan=\"2\" valign=\"top\">8</th>\n",
       "      <th>5</th>\n",
       "      <td>0.779575</td>\n",
       "      <td>4.136937</td>\n",
       "    </tr>\n",
       "    <tr>\n",
       "      <th>6</th>\n",
       "      <td>2.260388</td>\n",
       "      <td>4.524320</td>\n",
       "    </tr>\n",
       "    <tr>\n",
       "      <th rowspan=\"2\" valign=\"top\">9</th>\n",
       "      <th>5</th>\n",
       "      <td>1.448473</td>\n",
       "      <td>0.291358</td>\n",
       "    </tr>\n",
       "    <tr>\n",
       "      <th>6</th>\n",
       "      <td>7.375788</td>\n",
       "      <td>1.205871</td>\n",
       "    </tr>\n",
       "    <tr>\n",
       "      <th rowspan=\"2\" valign=\"top\">10</th>\n",
       "      <th>5</th>\n",
       "      <td>0.501092</td>\n",
       "      <td>-0.365388</td>\n",
       "    </tr>\n",
       "    <tr>\n",
       "      <th>6</th>\n",
       "      <td>4.342004</td>\n",
       "      <td>0.802435</td>\n",
       "    </tr>\n",
       "    <tr>\n",
       "      <th rowspan=\"2\" valign=\"top\">11</th>\n",
       "      <th>5</th>\n",
       "      <td>3.919514</td>\n",
       "      <td>0.829016</td>\n",
       "    </tr>\n",
       "    <tr>\n",
       "      <th>6</th>\n",
       "      <td>6.006886</td>\n",
       "      <td>0.954352</td>\n",
       "    </tr>\n",
       "    <tr>\n",
       "      <th rowspan=\"2\" valign=\"top\">12</th>\n",
       "      <th>5</th>\n",
       "      <td>3.204548</td>\n",
       "      <td>-3.617925</td>\n",
       "    </tr>\n",
       "    <tr>\n",
       "      <th>6</th>\n",
       "      <td>0.339909</td>\n",
       "      <td>-4.333295</td>\n",
       "    </tr>\n",
       "    <tr>\n",
       "      <th rowspan=\"2\" valign=\"top\">13</th>\n",
       "      <th>5</th>\n",
       "      <td>0.116598</td>\n",
       "      <td>-1.318159</td>\n",
       "    </tr>\n",
       "    <tr>\n",
       "      <th>6</th>\n",
       "      <td>2.921670</td>\n",
       "      <td>-2.833591</td>\n",
       "    </tr>\n",
       "    <tr>\n",
       "      <th rowspan=\"2\" valign=\"top\">14</th>\n",
       "      <th>5</th>\n",
       "      <td>1.444763</td>\n",
       "      <td>-3.725561</td>\n",
       "    </tr>\n",
       "    <tr>\n",
       "      <th>6</th>\n",
       "      <td>0.476689</td>\n",
       "      <td>-4.250031</td>\n",
       "    </tr>\n",
       "    <tr>\n",
       "      <th>...</th>\n",
       "      <th>...</th>\n",
       "      <td>...</td>\n",
       "      <td>...</td>\n",
       "    </tr>\n",
       "    <tr>\n",
       "      <th rowspan=\"2\" valign=\"top\">129137</th>\n",
       "      <th>5</th>\n",
       "      <td>0.865210</td>\n",
       "      <td>0.915508</td>\n",
       "    </tr>\n",
       "    <tr>\n",
       "      <th>6</th>\n",
       "      <td>3.291777</td>\n",
       "      <td>2.191305</td>\n",
       "    </tr>\n",
       "    <tr>\n",
       "      <th rowspan=\"2\" valign=\"top\">129138</th>\n",
       "      <th>5</th>\n",
       "      <td>4.120025</td>\n",
       "      <td>2.625083</td>\n",
       "    </tr>\n",
       "    <tr>\n",
       "      <th>6</th>\n",
       "      <td>1.440678</td>\n",
       "      <td>2.819223</td>\n",
       "    </tr>\n",
       "    <tr>\n",
       "      <th rowspan=\"2\" valign=\"top\">129139</th>\n",
       "      <th>5</th>\n",
       "      <td>7.941375</td>\n",
       "      <td>0.180853</td>\n",
       "    </tr>\n",
       "    <tr>\n",
       "      <th>6</th>\n",
       "      <td>1.030036</td>\n",
       "      <td>-1.005492</td>\n",
       "    </tr>\n",
       "    <tr>\n",
       "      <th rowspan=\"2\" valign=\"top\">129140</th>\n",
       "      <th>5</th>\n",
       "      <td>2.114573</td>\n",
       "      <td>-2.107916</td>\n",
       "    </tr>\n",
       "    <tr>\n",
       "      <th>6</th>\n",
       "      <td>0.475201</td>\n",
       "      <td>-3.083254</td>\n",
       "    </tr>\n",
       "    <tr>\n",
       "      <th rowspan=\"2\" valign=\"top\">129141</th>\n",
       "      <th>5</th>\n",
       "      <td>2.690896</td>\n",
       "      <td>0.125530</td>\n",
       "    </tr>\n",
       "    <tr>\n",
       "      <th>6</th>\n",
       "      <td>1.925618</td>\n",
       "      <td>-0.757316</td>\n",
       "    </tr>\n",
       "    <tr>\n",
       "      <th rowspan=\"2\" valign=\"top\">129142</th>\n",
       "      <th>5</th>\n",
       "      <td>2.348363</td>\n",
       "      <td>-0.544079</td>\n",
       "    </tr>\n",
       "    <tr>\n",
       "      <th>6</th>\n",
       "      <td>0.845996</td>\n",
       "      <td>-1.154637</td>\n",
       "    </tr>\n",
       "    <tr>\n",
       "      <th rowspan=\"2\" valign=\"top\">129143</th>\n",
       "      <th>5</th>\n",
       "      <td>4.391584</td>\n",
       "      <td>1.940117</td>\n",
       "    </tr>\n",
       "    <tr>\n",
       "      <th>6</th>\n",
       "      <td>1.838553</td>\n",
       "      <td>1.633363</td>\n",
       "    </tr>\n",
       "    <tr>\n",
       "      <th rowspan=\"2\" valign=\"top\">129144</th>\n",
       "      <th>5</th>\n",
       "      <td>1.800572</td>\n",
       "      <td>1.468593</td>\n",
       "    </tr>\n",
       "    <tr>\n",
       "      <th>6</th>\n",
       "      <td>0.523215</td>\n",
       "      <td>1.507753</td>\n",
       "    </tr>\n",
       "    <tr>\n",
       "      <th rowspan=\"2\" valign=\"top\">129145</th>\n",
       "      <th>5</th>\n",
       "      <td>1.683676</td>\n",
       "      <td>-0.422438</td>\n",
       "    </tr>\n",
       "    <tr>\n",
       "      <th>6</th>\n",
       "      <td>0.913787</td>\n",
       "      <td>-2.202840</td>\n",
       "    </tr>\n",
       "    <tr>\n",
       "      <th rowspan=\"2\" valign=\"top\">129146</th>\n",
       "      <th>5</th>\n",
       "      <td>3.188556</td>\n",
       "      <td>1.066845</td>\n",
       "    </tr>\n",
       "    <tr>\n",
       "      <th>6</th>\n",
       "      <td>1.972749</td>\n",
       "      <td>1.380764</td>\n",
       "    </tr>\n",
       "    <tr>\n",
       "      <th rowspan=\"2\" valign=\"top\">129147</th>\n",
       "      <th>5</th>\n",
       "      <td>3.697314</td>\n",
       "      <td>0.020877</td>\n",
       "    </tr>\n",
       "    <tr>\n",
       "      <th>6</th>\n",
       "      <td>0.776062</td>\n",
       "      <td>0.514086</td>\n",
       "    </tr>\n",
       "    <tr>\n",
       "      <th rowspan=\"2\" valign=\"top\">129148</th>\n",
       "      <th>5</th>\n",
       "      <td>2.128146</td>\n",
       "      <td>1.154033</td>\n",
       "    </tr>\n",
       "    <tr>\n",
       "      <th>6</th>\n",
       "      <td>2.436880</td>\n",
       "      <td>0.708314</td>\n",
       "    </tr>\n",
       "    <tr>\n",
       "      <th rowspan=\"2\" valign=\"top\">129149</th>\n",
       "      <th>5</th>\n",
       "      <td>6.974243</td>\n",
       "      <td>-0.542010</td>\n",
       "    </tr>\n",
       "    <tr>\n",
       "      <th>6</th>\n",
       "      <td>18.357252</td>\n",
       "      <td>-0.364883</td>\n",
       "    </tr>\n",
       "    <tr>\n",
       "      <th rowspan=\"2\" valign=\"top\">129150</th>\n",
       "      <th>5</th>\n",
       "      <td>3.818785</td>\n",
       "      <td>2.259579</td>\n",
       "    </tr>\n",
       "    <tr>\n",
       "      <th>6</th>\n",
       "      <td>8.015634</td>\n",
       "      <td>2.259438</td>\n",
       "    </tr>\n",
       "    <tr>\n",
       "      <th rowspan=\"2\" valign=\"top\">129151</th>\n",
       "      <th>5</th>\n",
       "      <td>1.920860</td>\n",
       "      <td>2.430037</td>\n",
       "    </tr>\n",
       "    <tr>\n",
       "      <th>6</th>\n",
       "      <td>1.506024</td>\n",
       "      <td>3.505173</td>\n",
       "    </tr>\n",
       "  </tbody>\n",
       "</table>\n",
       "<p>258304 rows × 2 columns</p>\n",
       "</div>"
      ],
      "text/plain": [
       "                        pt       eta\n",
       "entry  subentry                     \n",
       "0      5          3.480264 -3.487250\n",
       "       6          3.594287 -2.904247\n",
       "1      5          3.031765 -0.498938\n",
       "       6          3.463977 -0.850176\n",
       "2      5          1.361694  0.519395\n",
       "       6          2.132331 -0.109887\n",
       "3      5          3.209465  0.933093\n",
       "       6          2.025694  2.086698\n",
       "4      5          2.172541 -3.167156\n",
       "       6          7.469926 -3.479661\n",
       "5      5          1.782413 -3.915800\n",
       "       6          0.436166 -3.376321\n",
       "6      5          1.101248 -0.767760\n",
       "       6          1.216274 -0.595606\n",
       "7      5          4.595019  0.891050\n",
       "       6          3.554034  1.009672\n",
       "8      5          0.779575  4.136937\n",
       "       6          2.260388  4.524320\n",
       "9      5          1.448473  0.291358\n",
       "       6          7.375788  1.205871\n",
       "10     5          0.501092 -0.365388\n",
       "       6          4.342004  0.802435\n",
       "11     5          3.919514  0.829016\n",
       "       6          6.006886  0.954352\n",
       "12     5          3.204548 -3.617925\n",
       "       6          0.339909 -4.333295\n",
       "13     5          0.116598 -1.318159\n",
       "       6          2.921670 -2.833591\n",
       "14     5          1.444763 -3.725561\n",
       "       6          0.476689 -4.250031\n",
       "...                    ...       ...\n",
       "129137 5          0.865210  0.915508\n",
       "       6          3.291777  2.191305\n",
       "129138 5          4.120025  2.625083\n",
       "       6          1.440678  2.819223\n",
       "129139 5          7.941375  0.180853\n",
       "       6          1.030036 -1.005492\n",
       "129140 5          2.114573 -2.107916\n",
       "       6          0.475201 -3.083254\n",
       "129141 5          2.690896  0.125530\n",
       "       6          1.925618 -0.757316\n",
       "129142 5          2.348363 -0.544079\n",
       "       6          0.845996 -1.154637\n",
       "129143 5          4.391584  1.940117\n",
       "       6          1.838553  1.633363\n",
       "129144 5          1.800572  1.468593\n",
       "       6          0.523215  1.507753\n",
       "129145 5          1.683676 -0.422438\n",
       "       6          0.913787 -2.202840\n",
       "129146 5          3.188556  1.066845\n",
       "       6          1.972749  1.380764\n",
       "129147 5          3.697314  0.020877\n",
       "       6          0.776062  0.514086\n",
       "129148 5          2.128146  1.154033\n",
       "       6          2.436880  0.708314\n",
       "129149 5          6.974243 -0.542010\n",
       "       6         18.357252 -0.364883\n",
       "129150 5          3.818785  2.259579\n",
       "       6          8.015634  2.259438\n",
       "129151 5          1.920860  2.430037\n",
       "       6          1.506024  3.505173\n",
       "\n",
       "[258304 rows x 2 columns]"
      ]
     },
     "execution_count": 73,
     "metadata": {},
     "output_type": "execute_result"
    }
   ],
   "source": [
    "genInfo['52p5'][10].query('pid==13|pid==-13')[['pt','eta']]"
   ]
  },
  {
   "cell_type": "code",
   "execution_count": 140,
   "metadata": {
    "collapsed": false
   },
   "outputs": [
    {
     "data": {
      "text/plain": [
       "(array([    0.,     0.,     4.,    21.,   104.,   342.,   691.,   979.,\n",
       "         1182.,  1385.,  1601.,  1556.,  1531.,  1488.,  1311.,  1108.,\n",
       "          991.,   896.,   788.,   686.,   631.,   529.,   458.,   454.,\n",
       "          452.,   458.,   502.,   562.,   771.,   564.,   508.,   478.,\n",
       "          407.,   347.,   248.,   180.,   103.,    89.,    86.,    75.,\n",
       "           59.,    68.,    45.,    59.,    43.,    35.,    39.,    29.,\n",
       "           24.,    25.]),\n",
       " array([  0. ,   0.4,   0.8,   1.2,   1.6,   2. ,   2.4,   2.8,   3.2,\n",
       "          3.6,   4. ,   4.4,   4.8,   5.2,   5.6,   6. ,   6.4,   6.8,\n",
       "          7.2,   7.6,   8. ,   8.4,   8.8,   9.2,   9.6,  10. ,  10.4,\n",
       "         10.8,  11.2,  11.6,  12. ,  12.4,  12.8,  13.2,  13.6,  14. ,\n",
       "         14.4,  14.8,  15.2,  15.6,  16. ,  16.4,  16.8,  17.2,  17.6,\n",
       "         18. ,  18.4,  18.8,  19.2,  19.6,  20. ]),\n",
       " <a list of 1 Patch objects>)"
      ]
     },
     "execution_count": 140,
     "metadata": {},
     "output_type": "execute_result"
    },
    {
     "data": {
      "image/png": "[encoded data removed]",
      "text/plain": [
       "<matplotlib.figure.Figure at 0x7f17c238b2e8>"
      ]
     },
     "metadata": {},
     "output_type": "display_data"
    }
   ],
   "source": []
  },
  {
   "cell_type": "markdown",
   "metadata": {},
   "source": [
    "## Plot everything together"
   ]
  },
  {
   "cell_type": "markdown",
   "metadata": {},
   "source": [
    "To plot individual plots separately, copy relevant block of code and replace \"axes[i,j]\" with \"plt\", and take note that some of the functions change name, e.g. axes[i,j].set_xlabel() --> plt.xlabel() and axes[i,j].set_ylim() --> plt.ylim().\n",
    "\n",
    "The other option is to copy the block and add \"fig, ax = plt.subplots(1,1)\" at the top, and then do the replacement axes[i,j] --> ax elsewhere."
   ]
  },
  {
   "cell_type": "markdown",
   "metadata": {},
   "source": [
    "### Some plotting helper functions"
   ]
  },
  {
   "cell_type": "code",
   "execution_count": 61,
   "metadata": {
    "collapsed": false
   },
   "outputs": [],
   "source": [
    "insets = True\n",
    "build='stepfilled'\n",
    "iheight=\"65%\"\n",
    "iwidth=\"45%\"\n",
    "\n",
    "def plot_inset(data, axis, kwargs={}):\n",
    "    if 'bins' not in kwargs: kwargs['bins'] = 10\n",
    "    if 'histtype' not in kwargs: kwargs['histtype'] = build\n",
    "    if insets:\n",
    "        axins = inset_axes(axis, width=iwidth, height=iheight)\n",
    "        for (cut,datum) in enumerate(data):\n",
    "            ret = axins.hist(datum, **kwargs)\n",
    "            if cut == 1:\n",
    "                axins.set_ylim(0,1.1*max(ret[0]))\n",
    "        return axins\n",
    "\n",
    "def plot_full(data, axis, kwargs={}, labels = []):\n",
    "    if 'bins' not in kwargs: kwargs['bins'] = 50\n",
    "    if 'histtype' not in kwargs: kwargs['histtype'] = build \n",
    "    for (cut,datum) in enumerate(data):\n",
    "        if len(labels) > 0:\n",
    "            axis.hist(datum, label=labels[cut], **kwargs)\n",
    "        else:\n",
    "            axis.hist(datum, **kwargs)"
   ]
  },
  {
   "cell_type": "markdown",
   "metadata": {},
   "source": [
    "### Plot MET and jet variables, and cut-flow histo"
   ]
  },
  {
   "cell_type": "code",
   "execution_count": 175,
   "metadata": {
    "collapsed": false,
    "scrolled": false
   },
   "outputs": [
    {
     "data": {
      "text/plain": [
       "<matplotlib.legend.Legend at 0x7fc762193080>"
      ]
     },
     "execution_count": 175,
     "metadata": {},
     "output_type": "execute_result"
    },
    {
     "data": {
      "image/png": "[encoded data removed]",
      "text/plain": [
       "<matplotlib.figure.Figure at 0x7fc762c35f98>"
      ]
     },
     "metadata": {},
     "output_type": "display_data"
    }
   ],
   "source": [
    "mchi = '5p25'\n",
    "\n",
    "### Make subplot axes\n",
    "fig, axes = plt.subplots(2,2, figsize=(8,5))\n",
    "for row in axes:\n",
    "    for col in row:\n",
    "        col.set_ylabel('Events')\n",
    "# fig.suptitle(\"Signal region efficiency for m1 = 50 GeV, m2 = 55 GeV\")\n",
    "# fig.subplots_adjust(top=0.92)\n",
    "plt.tight_layout(h_pad=4.0, w_pad=3.0)\n",
    "# axes[1, 1].axis('off')\n",
    "\n",
    "### Histogram cut-flow of passing events \n",
    "counts = []\n",
    "for cut in cuts:\n",
    "    count = len(dfs[mchi][10][cut]['recoPFMetPt'])\n",
    "    norm = len(dfs[mchi][10][0]['recoPFMetPt'])\n",
    "    counts.append(100*count/norm)\n",
    "axlabels = [f'cut{cut}' for cut in cuts[1:]]\n",
    "countseries = pd.Series.from_array(counts[1:])\n",
    "\n",
    "countseries.plot(ax=axes[0,0],kind='bar',color=['C1','C2','C3','C4','C5'])\n",
    "axes[0,0].set_xlabel('Cuts (inclusive)')\n",
    "axes[0,0].set_ylabel('Events passed (%)')\n",
    "axes[0,0].set_xticklabels(axlabels)\n",
    "axes[0,0].set_xticks(np.arange(0,len(cuts)))\n",
    "axes[0,0].set_ylim(0, 1.1*max(counts[1:]))\n",
    "\n",
    "rects = axes[0,0].patches\n",
    "\n",
    "labels = [\"%.2f%%\" % counts[i] for i in np.arange(1,len(rects)+1)]\n",
    "\n",
    "for rect, label in zip(rects, labels):\n",
    "    height = rect.get_height()\n",
    "    axes[0,0].text(rect.get_x() + rect.get_width() / 2, height, label,\n",
    "            ha='center', va='bottom')\n",
    "    \n",
    "### reco MET pT\n",
    "axes[0,1].set_xlabel('reco MET pT (GeV)')\n",
    "data = [dfs[mchi][10][cut]['recoPFMetPt'].dropna() for cut in cuts]\n",
    "labels = [f'cut{cut}' for cut in cuts]\n",
    "plot_full(data, axes[0,1], dict({'range':(0,400)}), labels=labels)\n",
    "plot_inset(data, axes[0,1], dict({'range':(0,400),'bins':20}))\n",
    "\n",
    "### reco leading jet pT\n",
    "axes[1,0].set_xlabel('reco leading jet pT (GeV)')\n",
    "data = [dfs[mchi][10][cut]['recoPFJetPt'].dropna() for cut in cuts]\n",
    "plot_full(data, axes[1,0], dict({'range':(0,400)}))\n",
    "plot_inset(data, axes[1,0], dict({'range':(0,400), 'bins':20}))\n",
    "\n",
    "### DeltaPhi b/w MET and muon pair\n",
    "axes[1,1].set_xlabel(r'$\\Delta\\phi$(MET, muon pair)')\n",
    "data = [abs((dfs[mchi][10][cut]['recoPFMetPhi'].dropna() - \n",
    "            dfs[mchi][10][cut]['recoPhi'].groupby(level=0).mean()).dropna()) for cut in cuts]\n",
    "plot_full(data, axes[1,1])\n",
    "plot_inset(data, axes[1,1], dict({'range':(0,2)}))\n",
    "    \n",
    "### Make and place legend w.r.t. axis[0,1] (upper right)\n",
    "# axes[0,1].legend(loc=(0.3,-1.5), title='Cuts')\n",
    "axes[0,1].legend(loc=(1.1,-0.55), title='Cuts')"
   ]
  },
  {
   "cell_type": "markdown",
   "metadata": {},
   "source": [
    "### Plot muon-related variables"
   ]
  },
  {
   "cell_type": "code",
   "execution_count": 173,
   "metadata": {
    "collapsed": false
   },
   "outputs": [
    {
     "data": {
      "text/plain": [
       "<matplotlib.legend.Legend at 0x7fc762d2cba8>"
      ]
     },
     "execution_count": 173,
     "metadata": {},
     "output_type": "execute_result"
    },
    {
     "data": {
      "image/png": "[encoded data removed]",
      "text/plain": [
       "<matplotlib.figure.Figure at 0x7fc76328c630>"
      ]
     },
     "metadata": {},
     "output_type": "display_data"
    }
   ],
   "source": [
    "mchi = '6p0'\n",
    "\n",
    "fig, axes = plt.subplots(2,2, figsize=(8,5))\n",
    "for row in axes:\n",
    "    for col in row:\n",
    "        col.set_ylabel('Events')\n",
    "plt.tight_layout(h_pad=4.0, w_pad=3.0)\n",
    "\n",
    "### reco dSA leading muon pT\n",
    "axes[0,0].set_xlabel('reco dSA leading mu pT (GeV)')\n",
    "data = [dfs[mchi][10][cut].query('subentry==0')['recoPt'].dropna() for cut in cuts]\n",
    "plot_full(data, axes[0,0], dict({'range':(0,60)}))\n",
    "plot_inset(data, axes[0,0], dict({'bins':10,'range':(0,25)}))\n",
    "\n",
    "### reco dSA subleading muon pT\n",
    "axes[0,1].set_xlabel('reco dSA subleading mu pT (GeV)')\n",
    "data = [dfs[mchi][10][cut].query('subentry==1')['recoPt'].dropna() for cut in cuts]\n",
    "labels = [f'cut{cut}' for cut in cuts]\n",
    "plot_full(data, axes[0,1], dict({'range':(0,60)}), labels=labels)\n",
    "plot_inset(data, axes[0,1], dict({'bins':10,'range':(0,25)}))\n",
    "\n",
    "### muon deltaR\n",
    "axes[1,0].set_xlabel('muon pair dR')\n",
    "data = [dfs[mchi][10][cut]['deltaR'].dropna() for cut in cuts]\n",
    "plot_full(data, axes[1,0], dict({'range':(0,6)}))\n",
    "plot_inset(data, axes[1,0], dict({'bins':10,'range':(0,0.25)}))\n",
    "\n",
    "### muon d0 (leading)\n",
    "axes[1,1].set_xlabel('muons reco d0 (mm)')\n",
    "data = [np.sqrt(dfs[mchi][10][cut].query('subentry==0')['recoDz'].dropna()**2 + \n",
    "                dfs[mchi][10][cut].query('subentry==0')['recoDxy'].dropna()**2) for cut in cuts]\n",
    "plot_full(data, axes[1,1], dict({'range':(0,300)}))\n",
    "# axes[1,1].set_ylim(0,1000)\n",
    "plot_inset(data, axes[1,1], dict({'range':(0,100)}))\n",
    "\n",
    "### Make and place legend w.r.t. axis[0,1] (upper right)\n",
    "axes[0,1].legend(loc=(1.1,-0.55), title='Cuts')"
   ]
  },
  {
   "cell_type": "markdown",
   "metadata": {},
   "source": [
    "\n",
    "## Cut-flow table (old, keep just for comparison, no gen-filter)"
   ]
  },
  {
   "cell_type": "code",
   "execution_count": 176,
   "metadata": {
    "collapsed": false
   },
   "outputs": [
    {
     "data": {
      "text/html": [
       "<div>\n",
       "<style scoped>\n",
       "    .dataframe tbody tr th:only-of-type {\n",
       "        vertical-align: middle;\n",
       "    }\n",
       "\n",
       "    .dataframe tbody tr th {\n",
       "        vertical-align: top;\n",
       "    }\n",
       "\n",
       "    .dataframe thead th {\n",
       "        text-align: right;\n",
       "    }\n",
       "</style>\n",
       "<table border=\"1\" class=\"dataframe\">\n",
       "  <thead>\n",
       "    <tr style=\"text-align: right;\">\n",
       "      <th></th>\n",
       "      <th>5p25</th>\n",
       "      <th>6p0</th>\n",
       "      <th>52p5</th>\n",
       "      <th>60</th>\n",
       "    </tr>\n",
       "  </thead>\n",
       "  <tbody>\n",
       "    <tr>\n",
       "      <th>0</th>\n",
       "      <td>93171</td>\n",
       "      <td>108293</td>\n",
       "      <td>154809</td>\n",
       "      <td>207580</td>\n",
       "    </tr>\n",
       "    <tr>\n",
       "      <th>1</th>\n",
       "      <td>496</td>\n",
       "      <td>453</td>\n",
       "      <td>10120</td>\n",
       "      <td>9578</td>\n",
       "    </tr>\n",
       "    <tr>\n",
       "      <th>2</th>\n",
       "      <td>384</td>\n",
       "      <td>345</td>\n",
       "      <td>7510</td>\n",
       "      <td>6262</td>\n",
       "    </tr>\n",
       "    <tr>\n",
       "      <th>3</th>\n",
       "      <td>78</td>\n",
       "      <td>136</td>\n",
       "      <td>2354</td>\n",
       "      <td>4112</td>\n",
       "    </tr>\n",
       "    <tr>\n",
       "      <th>4</th>\n",
       "      <td>24</td>\n",
       "      <td>86</td>\n",
       "      <td>706</td>\n",
       "      <td>570</td>\n",
       "    </tr>\n",
       "    <tr>\n",
       "      <th>5</th>\n",
       "      <td>24</td>\n",
       "      <td>82</td>\n",
       "      <td>512</td>\n",
       "      <td>364</td>\n",
       "    </tr>\n",
       "  </tbody>\n",
       "</table>\n",
       "</div>"
      ],
      "text/plain": [
       "    5p25     6p0    52p5      60\n",
       "0  93171  108293  154809  207580\n",
       "1    496     453   10120    9578\n",
       "2    384     345    7510    6262\n",
       "3     78     136    2354    4112\n",
       "4     24      86     706     570\n",
       "5     24      82     512     364"
      ]
     },
     "execution_count": 176,
     "metadata": {},
     "output_type": "execute_result"
    }
   ],
   "source": [
    "cutflow = OrderedDict({})\n",
    "for m in ['5p25','6p0','52p5','60']:\n",
    "    counts = []\n",
    "    for cut in cuts:\n",
    "        count = len(dfs[m][10][cut]['recoPFMetPt'])\n",
    "        norm = len(dfs[m][10][0]['recoPFMetPt'])\n",
    "        counts.append(count)\n",
    "        countseries = pd.Series.from_array(counts[1:])\n",
    "        cutflow[m]=counts\n",
    "\n",
    "cutflowdf = pd.DataFrame.from_dict(cutflow)\n",
    "cutflowdf"
   ]
  },
  {
   "cell_type": "code",
   "execution_count": null,
   "metadata": {
    "collapsed": true
   },
   "outputs": [],
   "source": []
  }
 ],
 "metadata": {
  "kernelspec": {
   "display_name": "Python 3",
   "language": "python",
   "name": "python3"
  },
  "language_info": {
   "codemirror_mode": {
    "name": "ipython",
    "version": 3
   },
   "file_extension": ".py",
   "mimetype": "text/x-python",
   "name": "python",
   "nbconvert_exporter": "python",
   "pygments_lexer": "ipython3",
   "version": "3.6.3"
  }
 },
 "nbformat": 4,
 "nbformat_minor": 0
}
